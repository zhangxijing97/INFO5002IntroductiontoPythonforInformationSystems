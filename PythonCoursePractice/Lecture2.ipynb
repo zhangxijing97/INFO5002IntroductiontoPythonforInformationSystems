{
 "cells": [
  {
   "cell_type": "code",
   "execution_count": 15,
   "id": "3f715ba6",
   "metadata": {},
   "outputs": [
    {
     "name": "stdout",
     "output_type": "stream",
     "text": [
      "Hello, world!\n"
     ]
    }
   ],
   "source": [
    "print(\"Hello, world!\")"
   ]
  },
  {
   "cell_type": "code",
   "execution_count": 19,
   "id": "6a39d675",
   "metadata": {},
   "outputs": [
    {
     "name": "stdout",
     "output_type": "stream",
     "text": [
      "test\n"
     ]
    }
   ],
   "source": [
    "if(True):\n",
    "    print(\"test\")"
   ]
  },
  {
   "cell_type": "markdown",
   "id": "52708b24",
   "metadata": {},
   "source": [
    "adasdasd"
   ]
  },
  {
   "cell_type": "code",
   "execution_count": null,
   "id": "f3e7534b",
   "metadata": {},
   "outputs": [],
   "source": []
  }
 ],
 "metadata": {
  "kernelspec": {
   "display_name": "Python 3 (ipykernel)",
   "language": "python",
   "name": "python3"
  },
  "language_info": {
   "codemirror_mode": {
    "name": "ipython",
    "version": 3
   },
   "file_extension": ".py",
   "mimetype": "text/x-python",
   "name": "python",
   "nbconvert_exporter": "python",
   "pygments_lexer": "ipython3",
   "version": "3.11.4"
  }
 },
 "nbformat": 4,
 "nbformat_minor": 5
}

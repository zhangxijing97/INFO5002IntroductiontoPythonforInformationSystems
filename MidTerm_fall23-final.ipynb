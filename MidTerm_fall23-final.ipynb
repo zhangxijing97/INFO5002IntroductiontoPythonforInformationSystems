{
 "cells": [
  {
   "cell_type": "code",
   "execution_count": 291,
   "id": "87db0a66",
   "metadata": {},
   "outputs": [
    {
     "name": "stdout",
     "output_type": "stream",
     "text": [
      "[2, 2, 3, 3, 4, 8]\n"
     ]
    }
   ],
   "source": [
    "'''\n",
    "Q1. Given a list of numbers, sort them based on the frequency of \n",
    "each number. If two numbers have the same frequency, \n",
    "sort them in increasing order.\n",
    "\n",
    "Sample Input: [4, 2, 2, 8, 3, 3]\n",
    "\n",
    "Sample Output1: [4, 8, 2, 2, 3, 3]\n",
    "Sample output2: [2, 2, 3, 3, 4, 8]\n",
    "'''\n",
    "\n",
    "def custom_sort(arr):\n",
    "    # Count the frequency of each number\n",
    "    num_count = {}\n",
    "    \n",
    "    for i in arr:\n",
    "        num_count[i] = 1\n",
    "        \n",
    "    for i in range(len(arr)):\n",
    "        for j in range(i, len(arr)-1):\n",
    "            if i == arr[j]:\n",
    "                num_count[i] = num_count[i] + 1\n",
    "                \n",
    "    # Sort the numbers based on frequency and then increasing order\n",
    "#     def custom_key(item):\n",
    "#         return (num_count[item], item)\n",
    "\n",
    "    sorted_arr = sorted(arr, key=lambda x: (-num_count[x], x))              \n",
    "\n",
    "    return sorted_arr\n",
    "\n",
    "# Sample input\n",
    "input_list = [4, 2, 2, 8, 3, 3]\n",
    "\n",
    "# Get the sorted output\n",
    "output1 = custom_sort(input_list)\n",
    "\n",
    "print(output1)  # Output2\n",
    "\n",
    "# output2 = sorted(output1)\n",
    "# print(output2)"
   ]
  },
  {
   "cell_type": "code",
   "execution_count": 233,
   "id": "ca9dbe57",
   "metadata": {
    "tags": []
   },
   "outputs": [
    {
     "name": "stdout",
     "output_type": "stream",
     "text": [
      "['cheese', 'jalapaneo', 'balsamic vinegar', 'garlic powder', 'dried oregano', 'kosher salt', 'spinach leaves', 'basil leaves']\n"
     ]
    }
   ],
   "source": [
    "\"\"\"\n",
    "Q2. A house maid wanted the following items to cook Pasta\n",
    "Pasta_items=[‘cheese’,”jalapaneo’]\n",
    "•\tShe wanted to add  balsamic vinegar\n",
    "•\t garlic powder\n",
    "•\tdried oregano\n",
    "•\tkosher salt\n",
    "•\tspinach leaves\n",
    "•\t basil leaves\n",
    "to the list how does she achieve it. \n",
    "\"\"\"\n",
    "\n",
    "Pasta_items = ['cheese', 'jalapaneo']\n",
    "Pasta_items.append(\"balsamic vinegar\")\n",
    "Pasta_items.append(\"garlic powder\")\n",
    "Pasta_items.append(\"dried oregano\")\n",
    "Pasta_items.append(\"kosher salt\")\n",
    "Pasta_items.append(\"spinach leaves\")\n",
    "Pasta_items.append(\"basil leaves\")\n",
    "print(Pasta_items)"
   ]
  },
  {
   "cell_type": "code",
   "execution_count": 219,
   "id": "3fb61266",
   "metadata": {
    "tags": []
   },
   "outputs": [
    {
     "name": "stdout",
     "output_type": "stream",
     "text": [
      "Lentils: 2\n",
      "Chilli: 1\n",
      "Cilantro: 1\n",
      "Lemon: 1\n",
      "Lentils: 2\n",
      "Capsicum: 1\n"
     ]
    }
   ],
   "source": [
    "\"\"\"\n",
    "Q3. Iffath’s mom wanted to get some veggies from Market to make Dal Tadka(Indian Dish). She called Iffath and informed as follows:\n",
    "Iffath’s mom: “Hi Iffath!, can you get me the following Items”\n",
    "Iffath:Sure\n",
    "Iffath’s mom: Get me the items ….\n",
    "Iffath noted the items as follows: which can be programmatically represented as\n",
    "\n",
    "Items=[“Lentils”,”Chilli”,”Cilantro”,”Lemon”,”Lentils”,”Capsicum”].\n",
    "Iffath has entered the same item X times. How can she programmatically come to know the item item_name is being entered X times.\n",
    "\"\"\"\n",
    "\n",
    "items=['Lentils', 'Chilli', 'Cilantro', 'Lemon', 'Lentils','Capsicum']\n",
    "\n",
    "items_times = [0, 0, 0, 0, 0, 0]\n",
    "            \n",
    "for i in range(len(items)):\n",
    "    for j in range(len(items)):\n",
    "        if items[i] == items[j]:\n",
    "            items_times[i] = items_times[i] + 1\n",
    "\n",
    "# print(items_times)\n",
    "\n",
    "for i in range(len(items)):\n",
    "    print(items[i], end = \": \")\n",
    "    print(items_times[i])"
   ]
  },
  {
   "cell_type": "code",
   "execution_count": 67,
   "id": "ce46f51f",
   "metadata": {},
   "outputs": [
    {
     "name": "stdout",
     "output_type": "stream",
     "text": [
      "[3, 4]\n"
     ]
    }
   ],
   "source": [
    "'''\n",
    "Q4. Given two lists, return a list of elements that are common in \n",
    "both lists.\n",
    "\n",
    "\n",
    "Sample Input: [1, 2, 3, 4], [3, 4, 5, 6]\n",
    "Sample Output: [3, 4]\n",
    "'''\n",
    "\n",
    "list01 = [1, 2, 3, 4]\n",
    "list02 = [3, 4, 5, 6]\n",
    "common_list = []\n",
    "\n",
    "for i in range(len(list01)):\n",
    "    for j in list02:\n",
    "        if list01[i] == j:\n",
    "            common_list.append(j)\n",
    "        \n",
    "print(common_list)"
   ]
  },
  {
   "cell_type": "code",
   "execution_count": 71,
   "id": "0818626c",
   "metadata": {},
   "outputs": [
    {
     "name": "stdout",
     "output_type": "stream",
     "text": [
      "False\n"
     ]
    }
   ],
   "source": [
    "'''\n",
    "Q5. Check if a string has all unique characters.\n",
    "\n",
    "Sample Input: \"alphabet\"\n",
    "Sample Output: False\n",
    "\n",
    "'''\n",
    "\n",
    "def has_unique_characters(input_string):\n",
    "    seen_characters = set()\n",
    "    for char in input_string:\n",
    "        if char in seen_characters:\n",
    "            return False\n",
    "        seen_characters.add(char)\n",
    "    return True\n",
    "\n",
    "# Sample input\n",
    "input_string = \"alphabet\"\n",
    "\n",
    "# Check if the string has all unique characters\n",
    "is_unique = has_unique_characters(input_string)\n",
    "\n",
    "# Output\n",
    "print(is_unique)"
   ]
  },
  {
   "cell_type": "code",
   "execution_count": 173,
   "id": "cb097c3c",
   "metadata": {},
   "outputs": [
    {
     "name": "stdout",
     "output_type": "stream",
     "text": [
      "20\n"
     ]
    }
   ],
   "source": [
    "'''\n",
    "Q6. Access value 20 from the tuple'''\n",
    "\n",
    "tuple1 = (\"Ron\", [10, 20, 30], (25, 35, 45))\n",
    "print(tuple1[1][1])"
   ]
  },
  {
   "cell_type": "code",
   "execution_count": 174,
   "id": "63ccc6c2",
   "metadata": {},
   "outputs": [
    {
     "name": "stdout",
     "output_type": "stream",
     "text": [
      "(44, 55)\n"
     ]
    }
   ],
   "source": [
    "'''\n",
    "Q7. Write a program to copy elements 44 and 55 from the \n",
    "following tuple into a new tuple.\n",
    "tuple1 = (11, 22, 33, 44, 55, 66)\n",
    "tuple2: (44, 55)\n",
    "'''\n",
    "\n",
    "tuple1 = (11, 22, 33, 44, 55, 66)\n",
    "tuple2 = (tuple1[3], tuple1[4])\n",
    "\n",
    "print(tuple2)"
   ]
  },
  {
   "cell_type": "code",
   "execution_count": 175,
   "id": "f28d9926",
   "metadata": {},
   "outputs": [
    {
     "name": "stdout",
     "output_type": "stream",
     "text": [
      "Result:  True\n"
     ]
    }
   ],
   "source": [
    "'''\n",
    "Q8. Check if all items in the tuple are the same\n",
    "tuple1 = (45, 45, 45, 45)\n",
    "Expected output:\n",
    "\n",
    "True\n",
    "'''\n",
    "\n",
    "def item_same_or_not(input_tuple):\n",
    "    for i in range(len(input_tuple)):\n",
    "        for j in range(len(input_tuple)):\n",
    "            if input_tuple[i] != input_tuple[j]:\n",
    "                return False\n",
    "    return True\n",
    "        \n",
    "tuple1 = (45, 45, 45, 45)\n",
    "print(\"Result: \", item_same_or_not(tuple1))"
   ]
  },
  {
   "cell_type": "code",
   "execution_count": 176,
   "id": "c8e87d80",
   "metadata": {},
   "outputs": [
    {
     "name": "stdout",
     "output_type": "stream",
     "text": [
      "True\n"
     ]
    }
   ],
   "source": [
    "'''\n",
    "Q9. Check if two given words are anagrams of each other.\n",
    "\n",
    "Sample Input: \"listen\", \"silent\"\n",
    "Sample Output: True\n",
    "\n",
    "'''\n",
    "\n",
    "x = \"listen\"\n",
    "y = \"silent\"\n",
    "\n",
    "def check_anagrams(x, y):\n",
    "    for i in x:\n",
    "        if i not in y:\n",
    "            return False\n",
    "\n",
    "    for j in y:\n",
    "        if j not in x:\n",
    "            return False\n",
    "    return True\n",
    "\n",
    "output = check_anagrams(x, y)\n",
    "print(output)"
   ]
  },
  {
   "cell_type": "code",
   "execution_count": 163,
   "id": "9a5ebd05",
   "metadata": {},
   "outputs": [
    {
     "name": "stdout",
     "output_type": "stream",
     "text": [
      "{'apple': 5, 'banana': 6, 'cherry': 6}\n"
     ]
    }
   ],
   "source": [
    "'''\n",
    "Q10. Given a list of strings, create a dictionary where the keys \n",
    "are the strings in the list and the values are the lengths of \n",
    "those strings.\n",
    "\n",
    "Sample Input: [\"apple\", \"banana\", \"cherry\"]\n",
    "Sample Output: {\"apple\": 5, \"banana\": 6, \"cherry\": 6}\n",
    "\n",
    "'''\n",
    "\n",
    "def get_lengths(input_list):\n",
    "    output_dict = {}\n",
    "    \n",
    "    for i in range(len(input_list)):\n",
    "        output_dict[input_list[i]] = 0\n",
    "        \n",
    "    for i in range(len(input_list)):\n",
    "        for j in range(len(input_list[i])):\n",
    "            output_dict[input_list[i]] = output_dict[input_list[i]] + 1\n",
    "    \n",
    "    return output_dict\n",
    "\n",
    "input_list = [\"apple\", \"banana\", \"cherry\"]\n",
    "x = check_anagrams(input_list)\n",
    "print(x)"
   ]
  },
  {
   "cell_type": "code",
   "execution_count": 172,
   "id": "e0ed7dff",
   "metadata": {},
   "outputs": [
    {
     "name": "stdout",
     "output_type": "stream",
     "text": [
      "22\n"
     ]
    }
   ],
   "source": [
    "'''\n",
    "Q11. Given two dictionaries, compute the sum of values from the keys that are present in both dictionaries.\n",
    "\n",
    "Sample Input:\n",
    "\n",
    "dict1 = {\"a\": 5, \"b\": 3, \"c\": 8}\n",
    "\n",
    "dict2 = {\"a\": 7, \"c\": 2, \"d\": 9}\n",
    "\n",
    "Sample Output: 22\n",
    "'''\n",
    "\n",
    "def get_sum(input_dict1, input_dict2):\n",
    "    sum = 0\n",
    "    \n",
    "    for i in input_dict1:\n",
    "        for j in input_dict2:\n",
    "            if i == j:\n",
    "                sum = sum + input_dict1[i] + input_dict2[j]\n",
    "    return sum\n",
    "\n",
    "\n",
    "dict1 = {\"a\": 5, \"b\": 3, \"c\": 8}\n",
    "dict2 = {\"a\": 7, \"c\": 2, \"d\": 9}\n",
    "\n",
    "result = get_sum(dict1, dict2)\n",
    "print(result)"
   ]
  },
  {
   "cell_type": "code",
   "execution_count": 179,
   "id": "af60fbc3",
   "metadata": {},
   "outputs": [
    {
     "name": "stdout",
     "output_type": "stream",
     "text": [
      "{'x': 'a', 'y': 'b', 'z': 'c'}\n"
     ]
    }
   ],
   "source": [
    "'''\n",
    "Q12. Given a dictionary, switch its keys and values. Assume all values are unique.\n",
    "\n",
    "Sample Input:\n",
    "\n",
    "dict_input = {\"a\": \"x\", \"b\": \"y\", \"c\": \"z\"}\n",
    "\n",
    "Sample Output: {\"x\": \"a\", \"y\": \"b\", \"z\": \"c\"}\n",
    "'''\n",
    "\n",
    "def switch_keys_and_values(input_dict):\n",
    "    new_dict = {}\n",
    "    \n",
    "    for i in input_dict:\n",
    "        new_dict[input_dict[i]] = i\n",
    "        \n",
    "    return new_dict\n",
    "\n",
    "\n",
    "dict_input = {\"a\": \"x\", \"b\": \"y\", \"c\": \"z\"}\n",
    "\n",
    "result = switch_keys_and_values(dict_input)\n",
    "print(result)"
   ]
  },
  {
   "cell_type": "code",
   "execution_count": 182,
   "id": "017bbd78",
   "metadata": {},
   "outputs": [
    {
     "name": "stdout",
     "output_type": "stream",
     "text": [
      "{'a': 3, 'b': 12}\n"
     ]
    }
   ],
   "source": [
    "'''\n",
    "Q13. Given a dictionary where values are lists of numbers, \n",
    "return a new dictionary where each key's value is the sum of \n",
    "its list.\n",
    "\n",
    "Sample Input:\n",
    "\n",
    "dict_input = {\"a\": [1, 2], \"b\": [3, 4, 5]}\n",
    "\n",
    "Sample Output: {\"a\": 3, \"b\": 12}\n",
    "'''\n",
    "\n",
    "def get_sum(input_dict):\n",
    "    new_dict = {}\n",
    "    \n",
    "    for i in input_dict:\n",
    "        sum = 0\n",
    "        for j in input_dict[i]:\n",
    "            sum = sum + j\n",
    "        new_dict[i] = sum\n",
    "        \n",
    "    return new_dict\n",
    "\n",
    "dict_input = {\"a\": [1, 2], \"b\": [3, 4, 5]}\n",
    "result = get_sum(dict_input)\n",
    "print(result)"
   ]
  },
  {
   "cell_type": "code",
   "execution_count": 206,
   "id": "c5df6de9",
   "metadata": {},
   "outputs": [
    {
     "name": "stdout",
     "output_type": "stream",
     "text": [
      "{1, 2, 5, 6}\n"
     ]
    }
   ],
   "source": [
    "'''\n",
    "Q14. Given two sets, return a set containing elements that \n",
    "are exclusively found in only one of the sets \n",
    "(i.e., elements that aren't shared between the two sets).\n",
    "\n",
    "Sample Input:\n",
    "\n",
    "set1 = {1, 2, 3, 4}, set2 = {3, 4, 5, 6}\n",
    "\n",
    "Sample Output: {1, 2, 5, 6}\n",
    "'''\n",
    "\n",
    "def get_new_set(set1, set2):\n",
    "    new_set = {}\n",
    "    new_set = set(new_set)\n",
    "    \n",
    "    for i in set1:\n",
    "        if i not in set2:\n",
    "            new_set.add(i)\n",
    "            \n",
    "    for j in set2:\n",
    "        if j not in set1:\n",
    "            new_set.add(j)\n",
    "        \n",
    "    return new_set\n",
    "\n",
    "set1 = {1, 2, 3, 4}\n",
    "set2 = {3, 4, 5, 6}\n",
    "result = get_new_set(set1, set2)\n",
    "print(result)"
   ]
  },
  {
   "cell_type": "code",
   "execution_count": 210,
   "id": "5a0f3b65",
   "metadata": {},
   "outputs": [
    {
     "name": "stdout",
     "output_type": "stream",
     "text": [
      "{'a': 2, 'b': 1, 'c': 1}\n"
     ]
    }
   ],
   "source": [
    "'''\n",
    "Q15. Given a string, count the occurrences of each character in \n",
    "it and return a dictionary.\n",
    "\n",
    "Sample Input: \"abca\"\n",
    "Sample Output: {'a': 2, 'b': 1, 'c': 1}\n",
    "'''\n",
    "\n",
    "def count_characters(input_string):\n",
    "    char_count = {}\n",
    "    for char in input_string:\n",
    "        if char in char_count:\n",
    "            char_count[char] += 1\n",
    "        else:\n",
    "            char_count[char] = 1\n",
    "    return char_count\n",
    "\n",
    "# Sample input\n",
    "input_string = \"abca\"\n",
    "\n",
    "# Count the occurrences of each character\n",
    "char_count = count_characters(input_string)\n",
    "\n",
    "# Output\n",
    "print(char_count)"
   ]
  },
  {
   "cell_type": "code",
   "execution_count": 234,
   "id": "73295c29-3661-4a38-b109-60799f00915b",
   "metadata": {
    "tags": []
   },
   "outputs": [
    {
     "name": "stdout",
     "output_type": "stream",
     "text": [
      "Months with 30 days: ['April', 'June', 'September', 'November']\n",
      "Months with 31 days: ['January', 'March', 'May', 'July', 'August', 'October', 'December']\n",
      "Month with 28 days: ['February']\n"
     ]
    }
   ],
   "source": [
    "\"\"\"  \n",
    "Q16. In a calendar the days in month are as follows \n",
    "Calendar = {\n",
    "    \"January\": 31,\n",
    "    \"February\": 28,  # Assuming a non-leap year\n",
    "    \"March\": 31,\n",
    "    \"April\": 30,\n",
    "    \"May\": 31,\n",
    "    \"June\": 30,\n",
    "    \"July\": 31,\n",
    "    \"August\": 31,\n",
    "    \"September\": 30,\n",
    "    \"October\": 31,\n",
    "    \"November\": 30,\n",
    "    \"December\": 31\n",
    "}\n",
    "1 of the student wanted to store the month which had 30 days in thirty_days variable, months which had 31 days in thirty_one_days variable and \n",
    "only_twenty_eight_days respectively, how to achieve this \n",
    "programmatically provide a solution for the same.\n",
    "\"\"\"\n",
    "\n",
    "Calendar = {\n",
    "    \"January\": 31,\n",
    "    \"February\": 28,  # Assuming a non-leap year\n",
    "    \"March\": 31,\n",
    "    \"April\": 30,\n",
    "    \"May\": 31,\n",
    "    \"June\": 30,\n",
    "    \"July\": 31,\n",
    "    \"August\": 31,\n",
    "    \"September\": 30,\n",
    "    \"October\": 31,\n",
    "    \"November\": 30,\n",
    "    \"December\": 31\n",
    "}\n",
    "\n",
    "thirty_days = []\n",
    "thirty_one_days = []\n",
    "only_twenty_eight_days = []\n",
    "\n",
    "for month, days in Calendar.items():\n",
    "    if days == 30:\n",
    "        thirty_days.append(month)\n",
    "    elif days == 31:\n",
    "        thirty_one_days.append(month)\n",
    "    elif days == 28:\n",
    "        only_twenty_eight_days.append(month)\n",
    "\n",
    "# Output\n",
    "print(\"Months with 30 days:\", thirty_days)\n",
    "print(\"Months with 31 days:\", thirty_one_days)\n",
    "print(\"Month with 28 days:\", only_twenty_eight_days)"
   ]
  },
  {
   "cell_type": "code",
   "execution_count": null,
   "id": "45b93430-7a28-4b12-843f-5ecc7070639e",
   "metadata": {},
   "outputs": [],
   "source": []
  }
 ],
 "metadata": {
  "kernelspec": {
   "display_name": "Python 3 (ipykernel)",
   "language": "python",
   "name": "python3"
  },
  "language_info": {
   "codemirror_mode": {
    "name": "ipython",
    "version": 3
   },
   "file_extension": ".py",
   "mimetype": "text/x-python",
   "name": "python",
   "nbconvert_exporter": "python",
   "pygments_lexer": "ipython3",
   "version": "3.11.4"
  }
 },
 "nbformat": 4,
 "nbformat_minor": 5
}

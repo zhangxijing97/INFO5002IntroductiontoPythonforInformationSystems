{
 "cells": [
  {
   "cell_type": "code",
   "execution_count": 16,
   "id": "fb46dbcb",
   "metadata": {},
   "outputs": [
    {
     "name": "stdout",
     "output_type": "stream",
     "text": [
      "5\n",
      "John\n"
     ]
    }
   ],
   "source": [
    "# Variables\n",
    "x = 5\n",
    "y = \"John\"\n",
    "print(x)\n",
    "print(y)\n",
    "\n",
    "x = str(3)    # x will be '3'\n",
    "y = int(3)    # y will be 3\n",
    "z = float(3)  # z will be 3.0"
   ]
  },
  {
   "cell_type": "code",
   "execution_count": 17,
   "id": "ed262d57",
   "metadata": {},
   "outputs": [],
   "source": [
    "# Casting\n",
    "x = int(1)   # x will be 1\n",
    "y = int(2.8) # y will be 2\n",
    "z = int(\"3\") # z will be 3\n",
    "\n",
    "x = float(1)     # x will be 1.0\n",
    "y = float(2.8)   # y will be 2.8\n",
    "z = float(\"3\")   # z will be 3.0\n",
    "w = float(\"4.2\") # w will be 4.2\n",
    "\n",
    "x = str(\"s1\") # x will be 's1'\n",
    "y = str(2)    # y will be '2'\n",
    "z = str(3.0)  # z will be '3.0'"
   ]
  },
  {
   "cell_type": "code",
   "execution_count": 20,
   "id": "4b0abb3f",
   "metadata": {},
   "outputs": [
    {
     "name": "stdout",
     "output_type": "stream",
     "text": [
      "7.5\n",
      "1\n",
      "225\n",
      "7\n"
     ]
    }
   ],
   "source": [
    "# Operators\n",
    "x = 15\n",
    "y = 2\n",
    "print(x / y)\n",
    "print(x % y)\n",
    "print(x ** y)\n",
    "print(x // y)"
   ]
  },
  {
   "cell_type": "code",
   "execution_count": 64,
   "id": "fada6482",
   "metadata": {},
   "outputs": [
    {
     "name": "stdout",
     "output_type": "stream",
     "text": [
      "['apple', 'banana', 'cherry', 'apple', 'cherry']\n",
      "5\n",
      "34\n",
      "male\n",
      "[True, 40, 'male']\n",
      "['abc', 34, True, 40]\n",
      "[34, True, 40]\n",
      "Yes, 'abc' is in the fruits list\n",
      "['apple', 'blackcurrant', 'watermelon', 'cherry', 'apple', 'cherry']\n",
      "['apple', 'watermelon', 'cherry', 'apple', 'cherry']\n",
      "['apple', 'watermelon', 'watermelon', 'cherry', 'apple', 'cherry']\n",
      "['apple', 'orange', 'watermelon', 'watermelon', 'cherry', 'apple', 'cherry', 'orange']\n",
      "['apple', 'watermelon', 'watermelon', 'cherry', 'apple', 'cherry', 'orange']\n",
      "[]\n"
     ]
    }
   ],
   "source": [
    "# Lists\n",
    "# lists can have items with the same value\n",
    "thislist = [\"apple\", \"banana\", \"cherry\", \"apple\", \"cherry\"]\n",
    "print(thislist)\n",
    "print(len(thislist))\n",
    "\n",
    "list1 = [\"abc\", 34, True, 40, \"male\"]\n",
    "print(list1[1])\n",
    "print(list1[-1])\n",
    "print(list1[2:5])\n",
    "print(list1[:4])\n",
    "print(list1[-4:-1])\n",
    "if \"abc\" in list1:\n",
    "  print(\"Yes, 'abc' is in the fruits list\")\n",
    "\n",
    "thislist[1] = \"blackcurrant\"\n",
    "thislist[1:2] = [\"blackcurrant\", \"watermelon\"]\n",
    "print(thislist)\n",
    "thislist[1:3] = [\"watermelon\"]\n",
    "print(thislist)\n",
    "thislist.insert(2, \"watermelon\")\n",
    "print(thislist)\n",
    "\n",
    "thislist.append(\"orange\")\n",
    "thislist.insert(1, \"orange\")\n",
    "print(thislist)\n",
    "thislist.pop(1) # Remove the second item\n",
    "print(thislist)\n",
    "thislist.pop() # Remove the last item\n",
    "thislist.clear() # Clear the list content:\n",
    "print(thislist)\n",
    "del thislist # Delete the list completely\n",
    "\n"
   ]
  },
  {
   "cell_type": "code",
   "execution_count": null,
   "id": "96046c93",
   "metadata": {},
   "outputs": [],
   "source": []
  }
 ],
 "metadata": {
  "kernelspec": {
   "display_name": "Python 3 (ipykernel)",
   "language": "python",
   "name": "python3"
  },
  "language_info": {
   "codemirror_mode": {
    "name": "ipython",
    "version": 3
   },
   "file_extension": ".py",
   "mimetype": "text/x-python",
   "name": "python",
   "nbconvert_exporter": "python",
   "pygments_lexer": "ipython3",
   "version": "3.11.4"
  }
 },
 "nbformat": 4,
 "nbformat_minor": 5
}

{
 "cells": [
  {
   "cell_type": "code",
   "execution_count": 61,
   "id": "fc31d0de",
   "metadata": {},
   "outputs": [
    {
     "name": "stdout",
     "output_type": "stream",
     "text": [
      "5\n",
      "John\n"
     ]
    }
   ],
   "source": [
    "# Variables\n",
    "x = 5\n",
    "y = \"John\"\n",
    "print(x)\n",
    "print(y)\n",
    "\n",
    "x = str(3)    # x will be '3'\n",
    "y = int(3)    # y will be 3\n",
    "z = float(3)  # z will be 3.0"
   ]
  },
  {
   "cell_type": "markdown",
   "id": "889c894c",
   "metadata": {},
   "source": [
    "List is a collection which is ordered and changeable. Allows duplicate members.\n",
    "\n",
    "Tuple is a collection which is ordered and unchangeable. Allows duplicate members.\n",
    "\n",
    "Dictionary is a collection which is ordered** and changeable. No duplicate members.\n",
    "\n",
    "Set is a collection which is unordered, unchangeable*, and unindexed. No duplicate members."
   ]
  },
  {
   "cell_type": "code",
   "execution_count": 129,
   "id": "8ab5b5d1",
   "metadata": {},
   "outputs": [
    {
     "name": "stdout",
     "output_type": "stream",
     "text": [
      "['apricot', 'banana', 'grapes', 'kiwi', 'orange', 'strawberry']\n",
      "[1, 2, 3, 4]\n",
      "banana\n",
      "strawberry\n",
      "['grapes', 'kiwi', 'orange']\n",
      "['apricot', 'banana', 'grapes', 'kiwi']\n",
      "['grapes', 'kiwi', 'orange']\n",
      "Yes, 'apricot' is in the fruits list\n",
      "['apricot', 'grapes', 'orange']\n",
      "['banana', 'kiwi', 'strawberry']\n"
     ]
    }
   ],
   "source": [
    "# List\n",
    "# Create List way 1\n",
    "list1 = ['apricot', 'banana', 'grapes', 'kiwi', 'orange', 'strawberry']\n",
    "print(Fruits)\n",
    "\n",
    "# Create List way 2\n",
    "list2 = list((1,2,3,4))\n",
    "print(list2)\n",
    "\n",
    "# Access List Items\n",
    "print(list1[1])\n",
    "print(list1[-1])\n",
    "\n",
    "# List Slicing¶\n",
    "print(list1[2:5])\n",
    "print(list1[:4])\n",
    "print(list1[-4:-1])\n",
    "if \"apricot\" in list1:\n",
    "    print(\"Yes, 'apricot' is in the fruits list\")\n",
    "print(list1[::2])  # every element at the even location.\n",
    "print(list1[1::2]) # every element at the odd location.\n",
    "\n",
    "# Change List Items\n",
    "list1[1] = \"blackcurrant\"\n",
    "list1[1:2] = [\"blackcurrant\", \"watermelon\"]"
   ]
  },
  {
   "cell_type": "code",
   "execution_count": 105,
   "id": "f451d79e",
   "metadata": {},
   "outputs": [
    {
     "name": "stdout",
     "output_type": "stream",
     "text": [
      "['apricot', 'blackcurrant', 'watermelon', 'watermelon', 'grapes', 'kiwi', 'orange', 'strawberry', 'orange', 'apple', 'mango']\n"
     ]
    }
   ],
   "source": [
    "# Add List Items\n",
    "list1.append(\"orange\") # Append in the end \n",
    "list1.extend([\"apple\",\"mango\"]) # Extend in the end \n",
    "list1.insert(2, \"watermelon\") # Insert to the postion 2\n",
    "print(list1)"
   ]
  },
  {
   "cell_type": "code",
   "execution_count": 106,
   "id": "7a6af640",
   "metadata": {},
   "outputs": [
    {
     "name": "stdout",
     "output_type": "stream",
     "text": [
      "blackcurrant\n",
      "['apricot', 'watermelon', 'watermelon', 'grapes', 'kiwi', 'orange', 'strawberry', 'orange', 'apple', 'mango']\n",
      "mango\n",
      "['apricot', 'watermelon', 'watermelon', 'grapes', 'kiwi', 'orange', 'strawberry', 'orange', 'apple']\n",
      "['apricot', 'watermelon', 'grapes', 'kiwi', 'orange', 'strawberry', 'orange', 'apple']\n",
      "['watermelon', 'grapes', 'kiwi', 'orange', 'strawberry', 'orange', 'apple']\n",
      "[]\n"
     ]
    }
   ],
   "source": [
    "# Remove List Items\n",
    "popped_element = list1.pop(1) # Removes the element at index 1 and assigns it to popped_element\n",
    "print(popped_element)\n",
    "print(list1)\n",
    "popped_element = list1.pop() # Removes the last element and assigns it to popped_element\n",
    "print(popped_element)\n",
    "print(list1)\n",
    "\n",
    "list1.remove('watermelon') # Remove the first occurrence of the item from the list\n",
    "print(list1)\n",
    "\n",
    "del list1[0:1]\n",
    "print(list1)\n",
    "\n",
    "list1.clear()\n",
    "print(list1)\n",
    "\n",
    "# Delete the list completely\n",
    "# del thislist"
   ]
  },
  {
   "cell_type": "code",
   "execution_count": 89,
   "id": "bf22080e",
   "metadata": {},
   "outputs": [
    {
     "name": "stdout",
     "output_type": "stream",
     "text": [
      "apple\n",
      "banana\n",
      "cherry\n",
      "apple\n",
      "banana\n",
      "cherry\n",
      "apple\n",
      "banana\n",
      "cherry\n",
      "apple\n",
      "banana\n",
      "cherry\n",
      "['apple', 'banana']\n",
      "[23, 50, 65, 82, 100]\n",
      "[100, 82, 65, 50, 23]\n"
     ]
    }
   ],
   "source": [
    "# Loop Lists\n",
    "list1 = [\"apple\", \"banana\", \"cherry\"]\n",
    "\n",
    "for x in list1:\n",
    "    print(x)\n",
    "\n",
    "for i in range(len(list1)):\n",
    "    print(list1[i])\n",
    "\n",
    "for i in range(0, 3): # range(len(list1)) = range(0, 3)\n",
    "    print(list1[i])\n",
    "    \n",
    "for i in range(3): # range(3) = range(0, 3)\n",
    "    print(list1[i])\n",
    "    \n",
    "# List Comprehension\n",
    "newlist = []\n",
    "for x in list1:\n",
    "    if \"a\" in x:\n",
    "        newlist.append(x)\n",
    "print(newlist)\n",
    "\n",
    "# Sort Lists\n",
    "list2 = [100, 50, 65, 82, 23]\n",
    "list2.sort()\n",
    "print(list2)"
   ]
  },
  {
   "cell_type": "code",
   "execution_count": 116,
   "id": "72f83651",
   "metadata": {},
   "outputs": [
    {
     "name": "stdout",
     "output_type": "stream",
     "text": [
      "[49, 4, 9, 25, 36, 0, 1]\n",
      "[1, 0, 36, 25, 9, 4, 49]\n",
      "[49, 36, 25, 9, 4, 1, 0]\n",
      "[0, 1, 4, 9, 25, 36, 49]\n"
     ]
    }
   ],
   "source": [
    "# change value of all items\n",
    "x = [7, 2, 3, 5, 6, 0, 1]\n",
    "\n",
    "for i in range(len(x)):\n",
    "    # calculate square of each number\n",
    "    square = x[i] * x[i]\n",
    "    x[i] = square\n",
    "\n",
    "print(x)\n",
    "\n",
    "# Reverse\n",
    "print(x[::-1])\n",
    "\n",
    "x.sort(reverse = True)\n",
    "print(x)\n",
    "\n",
    "x.reverse()\n",
    "print(x)"
   ]
  },
  {
   "cell_type": "code",
   "execution_count": 117,
   "id": "12857088",
   "metadata": {},
   "outputs": [
    {
     "name": "stdout",
     "output_type": "stream",
     "text": [
      "[('foo', 'one'), ('bar', 'two'), ('baz', 'three'), ('ron', 'four'), ('jack', 'five')]\n"
     ]
    }
   ],
   "source": [
    "# zip\n",
    "x1 = ['foo', 'bar', 'baz', 'ron', 'jack']\n",
    "x2 = ['one', 'two', 'three', 'four', 'five']\n",
    "x1x2 = zip(x1, x2)\n",
    "listx1x2 = list(x1x2)\n",
    "print(listx1x2)\n",
    "# print(tuple(x1x2))"
   ]
  },
  {
   "cell_type": "code",
   "execution_count": 119,
   "id": "c7482da3",
   "metadata": {},
   "outputs": [
    {
     "name": "stdout",
     "output_type": "stream",
     "text": [
      "[81]\n",
      "[81, 4]\n",
      "[81, 4, 25]\n",
      "[81, 4, 25]\n"
     ]
    }
   ],
   "source": [
    "# list comprehension\n",
    "list1 = [-9, 2, 5]     # output [ 81 4 25]\n",
    "list2 = []\n",
    "for x in list1:\n",
    "    list2.append(x*x)\n",
    "    print(list2)\n",
    "    \n",
    "list3 = [x*x for x in list1]\n",
    "print(list3)"
   ]
  },
  {
   "cell_type": "code",
   "execution_count": 120,
   "id": "4bf0f67b",
   "metadata": {},
   "outputs": [
    {
     "name": "stdout",
     "output_type": "stream",
     "text": [
      "<class 'list'>\n",
      "['This', 'is', 'a', 'python', 'for', 'data analysis', 'course']\n",
      "This is a python for data analysis course\n"
     ]
    }
   ],
   "source": [
    "# Convert a list to string\n",
    "listOfwords = [\"This\" , \"is\", \"a\", \"python\", \"for\", \"data analysis\", \"course\"]\n",
    "print(type(listOfwords))\n",
    "print(listOfwords)\n",
    "list_str = ' '.join(listOfwords)\n",
    "print((list_str))"
   ]
  },
  {
   "cell_type": "code",
   "execution_count": 131,
   "id": "29867930",
   "metadata": {},
   "outputs": [
    {
     "name": "stdout",
     "output_type": "stream",
     "text": [
      "banana\n",
      "('UCSC', 20, 'Education')\n",
      "<class 'tuple'>\n",
      "UCSC\n",
      "20\n",
      "Education\n"
     ]
    }
   ],
   "source": [
    "# Tuples\n",
    "thistuple = (\"apple\", \"banana\", \"cherry\")\n",
    "print(thistuple[1])\n",
    "\n",
    "# Packing and Unpacking\n",
    "x = \"UCSC\", 20, \"Education\"\n",
    "print(x)\n",
    "\n",
    "print(type(x))\n",
    "\n",
    "# tuple unpacking\n",
    "(company, emp, profile) = x    # tuple unpacking\n",
    "print(company)\n",
    "print(emp)\n",
    "print(profile)"
   ]
  },
  {
   "cell_type": "code",
   "execution_count": 123,
   "id": "3f42f4e2",
   "metadata": {},
   "outputs": [
    {
     "name": "stdout",
     "output_type": "stream",
     "text": [
      "('apple', 'banana', 'cherry', 'orange')\n"
     ]
    }
   ],
   "source": [
    "# Add Tuple Items\n",
    "y = list(thistuple)\n",
    "y.append(\"orange\")\n",
    "thistuple = tuple(y)\n",
    "print(thistuple)"
   ]
  },
  {
   "cell_type": "code",
   "execution_count": 124,
   "id": "39d47d27",
   "metadata": {},
   "outputs": [
    {
     "name": "stdout",
     "output_type": "stream",
     "text": [
      "('banana', 'cherry')\n"
     ]
    }
   ],
   "source": [
    "# Remove Tuple Items\n",
    "thistuple = (\"apple\", \"banana\", \"cherry\")\n",
    "y = list(thistuple)\n",
    "y.remove(\"apple\")\n",
    "thistuple = tuple(y)\n",
    "print(thistuple)"
   ]
  },
  {
   "cell_type": "code",
   "execution_count": 126,
   "id": "e0d95ad4",
   "metadata": {},
   "outputs": [
    {
     "name": "stdout",
     "output_type": "stream",
     "text": [
      "('a', 'b', 'c', 1, 2, 3)\n"
     ]
    }
   ],
   "source": [
    "tuple1 = (\"a\", \"b\" , \"c\")\n",
    "tuple2 = (1, 2, 3)\n",
    "tuple3 = tuple1 + tuple2\n",
    "print(tuple3)"
   ]
  },
  {
   "cell_type": "code",
   "execution_count": 127,
   "id": "99887e95",
   "metadata": {},
   "outputs": [
    {
     "name": "stdout",
     "output_type": "stream",
     "text": [
      "('apple', 'banana', 'cherry', 'apple', 'banana', 'cherry')\n"
     ]
    }
   ],
   "source": [
    "fruits = (\"apple\", \"banana\", \"cherry\")\n",
    "mytuple = fruits * 2\n",
    "print(mytuple)"
   ]
  },
  {
   "cell_type": "code",
   "execution_count": 133,
   "id": "c8f0107d",
   "metadata": {},
   "outputs": [
    {
     "name": "stdout",
     "output_type": "stream",
     "text": [
      "My name is Alice and I am 30 years old.\n"
     ]
    }
   ],
   "source": [
    "# format()\n",
    "name = \"Alice\"\n",
    "age = 30\n",
    "message = \"My name is {} and I am {} years old.\".format(name, age)\n",
    "print(message)"
   ]
  },
  {
   "cell_type": "code",
   "execution_count": 165,
   "id": "d9adfea7",
   "metadata": {},
   "outputs": [
    {
     "name": "stdout",
     "output_type": "stream",
     "text": [
      "{'brand': 'Ford', 'model': 'Mustang', 'year': 1964}\n",
      "Mustang\n",
      "Ford\n",
      "dict_keys(['brand', 'model', 'year'])\n",
      "dict_values(['Ford', 'Mustang', 1964])\n",
      "dict_items([('brand', 'Ford'), ('model', 'Mustang'), ('year', 1964)])\n"
     ]
    }
   ],
   "source": [
    "# Dictionaries\n",
    "thisdict = {\n",
    "  \"brand\": \"Ford\",\n",
    "  \"model\": \"Mustang\",\n",
    "  \"year\": 1964\n",
    "}\n",
    "print(thisdict)\n",
    "\n",
    "# Access Items way 1\n",
    "x = thisdict.get(\"model\")\n",
    "print(x)\n",
    "\n",
    "# Access Items way 2\n",
    "y = thisdict[\"brand\"]\n",
    "print(y)\n",
    "\n",
    "# Get all key\n",
    "print(thisdict.keys())\n",
    "\n",
    "# Get all values\n",
    "print(thisdict.values())\n",
    "\n",
    "\n",
    "# Get all items\n",
    "print(thisdict.items())"
   ]
  },
  {
   "cell_type": "code",
   "execution_count": 166,
   "id": "578032cc",
   "metadata": {},
   "outputs": [
    {
     "name": "stdout",
     "output_type": "stream",
     "text": [
      "Mustang\n",
      "Yes, 'model' is one of the keys in the thisdict dictionary\n"
     ]
    }
   ],
   "source": [
    "# Add Items\n",
    "thisdict[\"color\"] = \"white\"\n",
    "print(x) #after the change\n",
    "\n",
    "# Check if Key Exists\n",
    "if \"model\" in thisdict:\n",
    "  print(\"Yes, 'model' is one of the keys in the thisdict dictionary\")\n",
    "\n",
    "# Change Dictionary Items"
   ]
  },
  {
   "cell_type": "code",
   "execution_count": 167,
   "id": "1e6a697a",
   "metadata": {},
   "outputs": [
    {
     "name": "stdout",
     "output_type": "stream",
     "text": [
      "{'brand': 'Ford', 'model': 'Mustang', 'year': 1964}\n",
      "{}\n"
     ]
    }
   ],
   "source": [
    "# Removing the item\n",
    "del thisdict['color']\n",
    "print(thisdict)\n",
    "\n",
    "\n",
    "thisdict.clear()\n",
    "print(thisdict)"
   ]
  },
  {
   "cell_type": "code",
   "execution_count": 168,
   "id": "c8ad4965",
   "metadata": {},
   "outputs": [
    {
     "name": "stdout",
     "output_type": "stream",
     "text": [
      "brand\n",
      "Ford\n",
      "model\n",
      "Mustang\n",
      "year\n",
      "1964\n"
     ]
    }
   ],
   "source": [
    "# Loop\n",
    "thisdict = {\n",
    "  \"brand\": \"Ford\",\n",
    "  \"model\": \"Mustang\",\n",
    "  \"year\": 1964\n",
    "}\n",
    "\n",
    "for i in thisdict:\n",
    "    print(i)\n",
    "    print(thisdict[i])"
   ]
  },
  {
   "cell_type": "code",
   "execution_count": 169,
   "id": "c1e69dc0",
   "metadata": {},
   "outputs": [
    {
     "name": "stdout",
     "output_type": "stream",
     "text": [
      "brand: Ford\n",
      "model: Mustang\n",
      "year: 1964\n"
     ]
    }
   ],
   "source": [
    "# Print the values\n",
    "for i in thisdict:\n",
    "    print(i, end='')\n",
    "    print(\":\", thisdict.get(i))"
   ]
  },
  {
   "cell_type": "code",
   "execution_count": 173,
   "id": "9b311b54",
   "metadata": {},
   "outputs": [
    {
     "name": "stdout",
     "output_type": "stream",
     "text": [
      "person: {'name': 'Jessa', 'company': 'Google', 'address': {'state': 'Texas', 'city': 'Houston'}}\n",
      "Person details\n",
      "name : Jessa\n",
      "company : Google\n",
      "\n",
      "Person Address\n",
      "state : Texas\n",
      "city : Houston\n"
     ]
    }
   ],
   "source": [
    "# Nested Dictionaries\n",
    "# address dictionary to store person address\n",
    "address = {\"state\": \"Texas\", 'city': 'Houston'}\n",
    "\n",
    "# dictionary to store person details with address as a nested dictionary\n",
    "person = {'name': 'Jessa', 'company': 'Google', 'address': address}\n",
    "\n",
    "# Display dictionary\n",
    "print(\"person:\", person)\n",
    "\n",
    "# Iterating outer dictionary\n",
    "print(\"Person details\")\n",
    "for key, value in person.items():\n",
    "    if key == 'address':\n",
    "        # Iterating through nested dictionary\n",
    "        print(\"\")\n",
    "        print(\"Person Address\")\n",
    "        for nested_key, nested_value in value.items():\n",
    "            print(nested_key, ':', nested_value)\n",
    "    else:\n",
    "        print(key, ':', value)"
   ]
  },
  {
   "cell_type": "code",
   "execution_count": 174,
   "id": "6c21db3e",
   "metadata": {},
   "outputs": [
    {
     "name": "stdout",
     "output_type": "stream",
     "text": [
      "{True, 2, 'banana', 'apple', 'cherry'}\n",
      "True\n",
      "2\n",
      "banana\n",
      "apple\n",
      "cherry\n"
     ]
    }
   ],
   "source": [
    "# Sets\n",
    "thisset = {\"apple\", \"banana\", \"cherry\", True, 1, 2}\n",
    "print(thisset)\n",
    "\n",
    "# Access Items\n",
    "for x in thisset:\n",
    "  print(x)"
   ]
  },
  {
   "cell_type": "code",
   "execution_count": 175,
   "id": "8c7dc19e",
   "metadata": {},
   "outputs": [
    {
     "name": "stdout",
     "output_type": "stream",
     "text": [
      "{'pineapple', 'banana', 'mango', 'papaya', 'apple', 'cherry'}\n",
      "{'pineapple', 'mango', 'papaya', 'apple', 'cherry'}\n",
      "{'pineapple', 'papaya', 'apple', 'cherry'}\n"
     ]
    }
   ],
   "source": [
    "# Add Items way 1\n",
    "thisset.add(\"orange\")\n",
    "\n",
    "# Add Items way 2\n",
    "thisset = {\"apple\", \"banana\", \"cherry\"}\n",
    "tropical = {\"pineapple\", \"mango\", \"papaya\"}\n",
    "thisset.update(tropical)\n",
    "print(thisset)\n",
    "\n",
    "# Remove Item\n",
    "thisset.remove(\"banana\")\n",
    "print(thisset)\n",
    "thisset.discard(\"mango\")\n",
    "print(thisset)"
   ]
  },
  {
   "cell_type": "code",
   "execution_count": 177,
   "id": "d6a3f4b4",
   "metadata": {},
   "outputs": [
    {
     "name": "stdout",
     "output_type": "stream",
     "text": [
      "{'b', 1, 2, 3, 'c', 'a'}\n"
     ]
    }
   ],
   "source": [
    "# Join Two Sets\n",
    "set1 = {\"a\", \"b\" , \"c\"}\n",
    "set2 = {1, 2, 3}\n",
    "set1.update(set2)\n",
    "print(set1)"
   ]
  },
  {
   "cell_type": "code",
   "execution_count": 181,
   "id": "40f47d2e",
   "metadata": {},
   "outputs": [
    {
     "name": "stdout",
     "output_type": "stream",
     "text": [
      "\n",
      "*\n",
      "**\n",
      "***\n",
      "****\n"
     ]
    }
   ],
   "source": [
    "'''\n",
    "Q3. There was a user who was bored with regular hello world program he wanted design as follows\n",
    "write a program to achieve the objective\n",
    "\n",
    "*\n",
    "**\n",
    "***\n",
    "****\n",
    "\n",
    "'''\n",
    "\n",
    "for i in range(5):\n",
    "    for j in range(i):\n",
    "        print(\"*\", end = \"\")\n",
    "    print(\"\")"
   ]
  },
  {
   "cell_type": "code",
   "execution_count": 186,
   "id": "43728b6e",
   "metadata": {},
   "outputs": [
    {
     "name": "stdout",
     "output_type": "stream",
     "text": [
      "Enter your name: Xijing\n",
      "Enter your age: 2\n",
      "Enter your school name: neu\n",
      "Enter your phone number: 22\n",
      "Enter your GPA: 2\n",
      "\n",
      "Enrollment Successful! Here are your details:\n",
      "Name: Xijing\n",
      "Age: 2\n",
      "School Name: neu\n",
      "Phone Number: 22\n",
      "GPA: 2.0\n"
     ]
    }
   ],
   "source": [
    "'''\n",
    "Q5 In order to enroll for the quiz the following details has to be  filled\n",
    "\n",
    "Name\n",
    "Age\n",
    "School name\n",
    "Phone number\n",
    "GPA float\n",
    "the following are the conditions\n",
    "a) Name has to be string\n",
    "b) Age has to be a number\n",
    "c) School name has to be string\n",
    "d) Phone number has to be number\n",
    "e) GPA has to be float\n",
    "write a program to achieve the same\n",
    "'''\n",
    "\n",
    "def get_name():\n",
    "    name = input(\"Enter your name: \")\n",
    "    return name\n",
    "\n",
    "def get_age():\n",
    "    while True:\n",
    "        age = input(\"Enter your age: \")\n",
    "        if age.isdigit(): # True if all the characters in the string are digits from 0 to 9\n",
    "            return int(age)\n",
    "        else:\n",
    "            print(\"Invalid input. Age must be an integer number. Please enter your age again.\")\n",
    "            \n",
    "def get_school_name():\n",
    "    school_name = input(\"Enter your school name: \")\n",
    "    return school_name\n",
    "\n",
    "def get_phone_number():\n",
    "    while True:\n",
    "        phone_number = input(\"Enter your phone number: \")\n",
    "        if phone_number.isdigit():\n",
    "            return int(phone_number)\n",
    "        else:\n",
    "            print(\"Invalid input. Phone number must be a integer number. Please enter your phone number again.\")\n",
    "\n",
    "def get_gpa():\n",
    "    while True:\n",
    "        gpa = input(\"Enter your GPA: \")\n",
    "        try:\n",
    "            gpa = float(gpa)\n",
    "            return gpa\n",
    "        except ValueError:\n",
    "            print(\"Invalid input. GPA must be a float. Please enter your GPA again.\")\n",
    "\n",
    "name = get_name()\n",
    "age = get_age()\n",
    "school_name = get_school_name()\n",
    "phone_number = get_phone_number()\n",
    "gpa = get_gpa()\n",
    "\n",
    "# Enrollment information\n",
    "print(\"\\nEnrollment Successful! Here are your details:\")\n",
    "print(f\"Name: {name}\")\n",
    "print(f\"Age: {age}\")\n",
    "print(f\"School Name: {school_name}\")\n",
    "print(f\"Phone Number: {phone_number}\")\n",
    "print(f\"GPA: {gpa}\")"
   ]
  },
  {
   "cell_type": "code",
   "execution_count": null,
   "id": "1769be8c",
   "metadata": {},
   "outputs": [],
   "source": []
  }
 ],
 "metadata": {
  "kernelspec": {
   "display_name": "Python 3 (ipykernel)",
   "language": "python",
   "name": "python3"
  },
  "language_info": {
   "codemirror_mode": {
    "name": "ipython",
    "version": 3
   },
   "file_extension": ".py",
   "mimetype": "text/x-python",
   "name": "python",
   "nbconvert_exporter": "python",
   "pygments_lexer": "ipython3",
   "version": "3.11.4"
  }
 },
 "nbformat": 4,
 "nbformat_minor": 5
}

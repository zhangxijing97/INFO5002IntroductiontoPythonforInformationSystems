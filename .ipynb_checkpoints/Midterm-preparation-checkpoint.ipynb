{
 "cells": [
  {
   "cell_type": "code",
   "execution_count": 51,
   "id": "fc31d0de",
   "metadata": {},
   "outputs": [
    {
     "name": "stdout",
     "output_type": "stream",
     "text": [
      "5\n",
      "John\n"
     ]
    }
   ],
   "source": [
    "# Variables\n",
    "x = 5\n",
    "y = \"John\"\n",
    "print(x)\n",
    "print(y)\n",
    "\n",
    "x = str(3)    # x will be '3'\n",
    "y = int(3)    # y will be 3\n",
    "z = float(3)  # z will be 3.0"
   ]
  },
  {
   "cell_type": "markdown",
   "id": "889c894c",
   "metadata": {},
   "source": [
    "List is a collection which is ordered and changeable. Allows duplicate members.\n",
    "\n",
    "Tuple is a collection which is ordered and unchangeable. Allows duplicate members.\n",
    "\n",
    "Dictionary is a collection which is ordered** and changeable. No duplicate members.\n",
    "\n",
    "Set is a collection which is unordered, unchangeable*, and unindexed. No duplicate members."
   ]
  },
  {
   "cell_type": "code",
   "execution_count": 56,
   "id": "8ab5b5d1",
   "metadata": {},
   "outputs": [
    {
     "name": "stdout",
     "output_type": "stream",
     "text": [
      "['apricot', 'banana', 'grapes', 'kiwi', 'orange', 'strawberry']\n",
      "[1, 2, 3, 4]\n",
      "banana\n",
      "strawberry\n",
      "['grapes', 'kiwi', 'orange']\n",
      "['apricot', 'banana', 'grapes', 'kiwi']\n",
      "['grapes', 'kiwi', 'orange']\n",
      "Yes, 'apricot' is in the fruits list\n"
     ]
    }
   ],
   "source": [
    "# List\n",
    "# Create List way 1\n",
    "list1 = ['apricot', 'banana', 'grapes', 'kiwi', 'orange', 'strawberry']\n",
    "print(Fruits)\n",
    "\n",
    "# Create List way 2\n",
    "list2 = list((1,2,3,4))\n",
    "print(list2)\n",
    "\n",
    "# Access List Items\n",
    "print(list1[1])\n",
    "print(list1[-1])\n",
    "print(list1[2:5])\n",
    "print(list1[:4])\n",
    "print(list1[-4:-1])\n",
    "if \"apricot\" in list1:\n",
    "    print(\"Yes, 'apricot' is in the fruits list\")\n",
    "\n",
    "# Change List Items\n",
    "list1[1] = \"blackcurrant\"\n",
    "list1[1:2] = [\"blackcurrant\", \"watermelon\"]"
   ]
  },
  {
   "cell_type": "code",
   "execution_count": 53,
   "id": "f451d79e",
   "metadata": {},
   "outputs": [
    {
     "name": "stdout",
     "output_type": "stream",
     "text": [
      "['apricot', 'blackcurrant', 'watermelon', 'watermelon', 'grapes', 'kiwi', 'orange', 'strawberry', 'orange', 'apple', 'mango']\n"
     ]
    }
   ],
   "source": [
    "# Add List Items\n",
    "list1.append(\"orange\")\n",
    "list1.extend([\"apple\",\"mango\"])\n",
    "list1.insert(2, \"watermelon\")\n",
    "print(list1)"
   ]
  },
  {
   "cell_type": "code",
   "execution_count": 54,
   "id": "ad4e0609",
   "metadata": {},
   "outputs": [
    {
     "name": "stdout",
     "output_type": "stream",
     "text": [
      "blackcurrant\n",
      "['apricot', 'watermelon', 'watermelon', 'grapes', 'kiwi', 'orange', 'strawberry', 'orange', 'apple', 'mango']\n",
      "mango\n",
      "['apricot', 'watermelon', 'watermelon', 'grapes', 'kiwi', 'orange', 'strawberry', 'orange', 'apple']\n",
      "[]\n"
     ]
    }
   ],
   "source": [
    "# Remove List Items\n",
    "popped_element = list1.pop(1) # Removes the element at index 1 and assigns it to popped_element\n",
    "print(popped_element)\n",
    "print(list1)\n",
    "popped_element = list1.pop() # Removes the last element and assigns it to popped_element\n",
    "print(popped_element)\n",
    "print(list1)\n",
    "\n",
    "list1.clear()\n",
    "print(list1)\n",
    "# Delete the list completely\n",
    "# del thislist"
   ]
  },
  {
   "cell_type": "code",
   "execution_count": 59,
   "id": "c757ab3c",
   "metadata": {},
   "outputs": [
    {
     "name": "stdout",
     "output_type": "stream",
     "text": [
      "apple\n",
      "banana\n",
      "cherry\n",
      "apple\n",
      "banana\n",
      "cherry\n",
      "['apple', 'banana']\n",
      "[23, 50, 65, 82, 100]\n",
      "[100, 82, 65, 50, 23]\n"
     ]
    }
   ],
   "source": [
    "# Loop Lists\n",
    "list1 = [\"apple\", \"banana\", \"cherry\"]\n",
    "for x in list1:\n",
    "    print(x)\n",
    "for i in range(len(list1)):\n",
    "    print(list1[i])\n",
    "    \n",
    "# List Comprehension\n",
    "newlist = []\n",
    "for x in list1:\n",
    "    if \"a\" in x:\n",
    "        newlist.append(x)\n",
    "print(newlist)\n",
    "\n",
    "# Sort Lists\n",
    "list2 = [100, 50, 65, 82, 23]\n",
    "list2.sort()\n",
    "print(list2)\n",
    "\n",
    "list2.sort(reverse = True)\n",
    "print(list2)"
   ]
  },
  {
   "cell_type": "code",
   "execution_count": null,
   "id": "8b9a3079",
   "metadata": {},
   "outputs": [],
   "source": []
  },
  {
   "cell_type": "code",
   "execution_count": null,
   "id": "42aa510b",
   "metadata": {},
   "outputs": [],
   "source": []
  }
 ],
 "metadata": {
  "kernelspec": {
   "display_name": "Python 3 (ipykernel)",
   "language": "python",
   "name": "python3"
  },
  "language_info": {
   "codemirror_mode": {
    "name": "ipython",
    "version": 3
   },
   "file_extension": ".py",
   "mimetype": "text/x-python",
   "name": "python",
   "nbconvert_exporter": "python",
   "pygments_lexer": "ipython3",
   "version": "3.11.4"
  }
 },
 "nbformat": 4,
 "nbformat_minor": 5
}

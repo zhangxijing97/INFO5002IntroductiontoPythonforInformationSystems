{
 "cells": [
  {
   "cell_type": "markdown",
   "metadata": {},
   "source": [
    "### Data Structures\n",
    "\n",
    "Data structure is a particular way of organizing data in a computer so that it can be used efficiently. There are many different methods for storing data and they differ based on the arrangement of the individual elements in memory, the speed of access to the individual element, and the indexing technique used to access the individual elements etc. \n",
    "\n",
    "While add-on libraries like pandas and NumPy add advanced computational functionality for larger datasets, they are designed to be used together with Python’s built-in data manipulation tools.\n",
    "We’ll start with Python’s workhorse data structures: tuples, lists, dicts, and sets. \n",
    "\n",
    "In Python, data structures can be classified further into two categories: mutable and immutable.\n",
    "\n",
    "Mutable data structures can be modified, that means, elements can be added to them or elements can be removed. On the other hand, immutable data structures can not be modified, that means, once an immutable data structure is defined, no changes can be performed on it. \n",
    "\n",
    "The built is data structures in Python are \n",
    "\n",
    "1. **List** is an ordered sequence of objects. Elements in the list can be any Python objects. They are mutable.\n",
    "\n",
    "\n",
    "2. **Tuple** is an ordered sequence of objects. Elements in the tuple can be any Python objects. Tuple are immutable\n",
    "\n",
    "\n",
    "3. **Dictionary** is a sequence of key and value pairs. Dictionary is mutable as new key-values can be added and existing key-values can be modified. In a dictionary, the keys have to mutable. \n",
    "\n",
    "4. **Set** is an unordered sequence of unique elements. Sets are mutable but its elements are immutable. \n",
    "\n",
    "\n",
    "5. **String** is an ordered sequence of characters. Strings are immutable. \n",
    "\n",
    "It is necessary to understand the time and space complexity of these data structures, so that code can be written that runs efficiently both in terms of time and memory. It is also a good programming practice that future programmers reading your code would appreciate and understand. \n",
    "\n",
    "Let us discuss them one by one.\n"
   ]
  },
  {
   "cell_type": "markdown",
   "metadata": {},
   "source": [
    "### List\n",
    "\n",
    "A list is a data-structure, or it can be considered a container that can be used to store multiple data at once. List is a collection of items. These items can be of any Python data type. Thus, list can be created from integers, floats, strings, tuples, lists etc. List can have items of different type in the same list. However, it is not recommended. \n",
    "\n",
    "Lists are great if you want to preserve the sequence of the data and then iterate over them later for various purposes.\n",
    "\n",
    "The important characteristics of Python lists are as follows:\n",
    "\n",
    "- Lists are ordered. Each item has a unique index value. The new items will be added at the end of the list.  \n",
    "\n",
    "- Lists can contain any arbitrary objects.,i.e., they can contain elements of string, integer, boolean, or any type.  \n",
    "\n",
    "- List elements can be accessed by index.\n",
    "\n",
    "- Lists can be nested to arbitrary depth.\n",
    "\n",
    "- Lists are mutable. The elements of the list can be modified. We can add or remove items to the list after it has been created.\n",
    "\n",
    "- The list can contain duplicates i.e, lists can have two items with the same values.\n",
    "\n",
    "In this notebook you will come to know how to create python lists and the common paradigms for a python list.\n",
    "\n"
   ]
  },
  {
   "cell_type": "markdown",
   "metadata": {},
   "source": [
    "### Why use a list?\n",
    "\n",
    "- The list data structure is very flexible It has many unique inbuilt functionalities like `pop()`, `append()`, etc which makes it easier, where the data keeps changing.\n",
    "- Also, the list can contain duplicate elements i.e two or more items can have the same values.\n",
    "- Lists are Heterogeneous i.e, different kinds of objects/elements can be added\n",
    "- As Lists are mutable it is used in applications where the values of the items change frequently."
   ]
  },
  {
   "cell_type": "markdown",
   "metadata": {},
   "source": [
    "#### How to create a list\n",
    "\n",
    "The list can be created using either the list constructor or using square brackets [].\n",
    "\n",
    "- Using square bracket ([ ]): In this method, we can create a list simply by enclosing the items inside the square brackets.\n",
    "\n",
    "- Using list() constructor: In general, the constructor of a class has its class name. Similarly, Create a list by passing the comma-separated values inside the list()."
   ]
  },
  {
   "cell_type": "markdown",
   "metadata": {},
   "source": [
    "#### Using square brackest [ ]\n",
    "\n",
    "The syntax for list is\n",
    "\n",
    "x = [elem1, elem2, elem3, ...]\n",
    "\n",
    "Note that list starts with an open square bracket,[ and ends with a closed square bracket] and elements are separated by a comma. "
   ]
  },
  {
   "cell_type": "code",
   "execution_count": 1,
   "metadata": {
    "ExecuteTime": {
     "end_time": "2020-11-18T03:32:29.079065Z",
     "start_time": "2020-11-18T03:32:29.073560Z"
    }
   },
   "outputs": [
    {
     "name": "stdout",
     "output_type": "stream",
     "text": [
      "['apricot', 'banana', 'grapes', 'kiwi', 'orange', 'strawberry']\n"
     ]
    }
   ],
   "source": [
    "Fruits = ['apricot', 'banana', 'grapes', 'kiwi', 'orange', 'strawberry']\n",
    "print(Fruits)"
   ]
  },
  {
   "cell_type": "code",
   "execution_count": 2,
   "metadata": {
    "ExecuteTime": {
     "end_time": "2020-11-18T03:33:23.577302Z",
     "start_time": "2020-11-18T03:33:23.555152Z"
    }
   },
   "outputs": [
    {
     "data": {
      "text/plain": [
       "list"
      ]
     },
     "execution_count": 2,
     "metadata": {},
     "output_type": "execute_result"
    }
   ],
   "source": [
    "type(Fruits)"
   ]
  },
  {
   "cell_type": "code",
   "execution_count": 3,
   "metadata": {},
   "outputs": [
    {
     "data": {
      "text/plain": [
       "'apricot'"
      ]
     },
     "execution_count": 3,
     "metadata": {},
     "output_type": "execute_result"
    }
   ],
   "source": [
    "Fruits[0]"
   ]
  },
  {
   "cell_type": "code",
   "execution_count": null,
   "metadata": {},
   "outputs": [],
   "source": [
    "type(Fruits[0])"
   ]
  },
  {
   "cell_type": "code",
   "execution_count": 4,
   "metadata": {},
   "outputs": [
    {
     "data": {
      "text/plain": [
       "['apricot', 'banana', 'grapes', 'kiwi', 'orange', 'strawberry']"
      ]
     },
     "execution_count": 4,
     "metadata": {},
     "output_type": "execute_result"
    }
   ],
   "source": [
    "Fruits"
   ]
  },
  {
   "cell_type": "markdown",
   "metadata": {},
   "source": [
    "#### Using list constructor\n"
   ]
  },
  {
   "cell_type": "code",
   "execution_count": null,
   "metadata": {},
   "outputs": [],
   "source": [
    "list1 = list((1,2,3,4))\n",
    "print(list1)"
   ]
  },
  {
   "cell_type": "code",
   "execution_count": 5,
   "metadata": {},
   "outputs": [
    {
     "name": "stdout",
     "output_type": "stream",
     "text": [
      "[1.0, 'john', 5]\n"
     ]
    }
   ],
   "source": [
    "# with heterogeneous items\n",
    "\n",
    "list2 = [1.0, 'john', 5]\n",
    "print(list2)"
   ]
  },
  {
   "cell_type": "markdown",
   "metadata": {},
   "source": [
    "#### Length of a List\n",
    "In order to find the number of items present in a list, we can use the `len()` function."
   ]
  },
  {
   "cell_type": "code",
   "execution_count": 6,
   "metadata": {},
   "outputs": [
    {
     "name": "stdout",
     "output_type": "stream",
     "text": [
      "4\n"
     ]
    }
   ],
   "source": [
    "list1 = [1,2,3,4]\n",
    "print(len(list1))"
   ]
  },
  {
   "cell_type": "markdown",
   "metadata": {},
   "source": [
    "###  Access Items in a list\n",
    "\n",
    "The items in a list can be accessed through indexing and slicing. This section will guide you by accessing the list using the following two ways\n",
    "\n",
    "- **Using indexing**, we can access any item from a list using its index number\n",
    "- **Using slicing**, we can access a range of items from a list"
   ]
  },
  {
   "cell_type": "markdown",
   "metadata": {},
   "source": [
    "#### Indexing\n",
    "To access values in lists, use the square brackets for slicing along with the index or indices to obtain value available at that index.\n",
    "\n",
    "The index of the list starts with `zero`. Each element will have a distinct place in the sequence and if the same value occurs multiple times in the sequence, each will be considered separate and distinct element.  \n",
    "\n",
    "lists are of variable-length and their contents can be modified `in-place`.\n",
    "\n",
    "Trying to access an element other that this will raise an `IndexError`. \n",
    "\n",
    "The index must be an integer. We can't use float or other types, this will result into `TypeError`.\n",
    " \n",
    "![index](positive-and-negative-indexing.jpeg)\n"
   ]
  },
  {
   "cell_type": "code",
   "execution_count": 7,
   "metadata": {},
   "outputs": [
    {
     "name": "stdout",
     "output_type": "stream",
     "text": [
      "[1, 2, 3, 4]\n"
     ]
    }
   ],
   "source": [
    "list1 = [1,2,3,4]\n",
    "print(list1)"
   ]
  },
  {
   "cell_type": "code",
   "execution_count": 8,
   "metadata": {},
   "outputs": [
    {
     "name": "stdout",
     "output_type": "stream",
     "text": [
      "3\n"
     ]
    }
   ],
   "source": [
    "print(list1[2])"
   ]
  },
  {
   "cell_type": "markdown",
   "metadata": {},
   "source": [
    "#### Negative Indexing\n",
    "\n",
    "The elements in the list can be accessed from right to left by using **negative indexing**. Negative indices slice the sequence relative to the end, -1 refers to the last item, -2 refere to the second last itenm etc.\n"
   ]
  },
  {
   "cell_type": "code",
   "execution_count": 9,
   "metadata": {
    "ExecuteTime": {
     "end_time": "2020-11-18T03:45:31.723141Z",
     "start_time": "2020-11-18T03:45:31.718146Z"
    }
   },
   "outputs": [
    {
     "name": "stdout",
     "output_type": "stream",
     "text": [
      "3\n"
     ]
    }
   ],
   "source": [
    "# print the last item of the list\n",
    "print(list1[-2])"
   ]
  },
  {
   "cell_type": "markdown",
   "metadata": {},
   "source": [
    "#### List Slicing\n",
    "\n",
    "You can select sections of most sequence types by using slice notation, which in its basic form consists of `start:stop` passed to the indexing operator [ ]:\n",
    "You can specify a range of indexes by specifying where to start and where to end the range.\n",
    "\n",
    "When specifying a range, the return value will be a new list with the specified items.\n",
    "\n",
    "Syntax for the slicing\n",
    "\n",
    "listname[start_index:end_index:step]\n",
    "\n",
    "- The `start_index` denotes the index position from where the slicing should begin and the `end_index` parameter denotes the index positions till which the slicing should be done.\n",
    "- The `step` allows you to take each nth-element within a `start_index:end_index` range. "
   ]
  },
  {
   "cell_type": "code",
   "execution_count": 2,
   "metadata": {
    "ExecuteTime": {
     "end_time": "2020-11-18T03:39:35.735448Z",
     "start_time": "2020-11-18T03:39:35.728437Z"
    }
   },
   "outputs": [
    {
     "name": "stdout",
     "output_type": "stream",
     "text": [
      "[7, 2, 3, 5, 6, 0, 1]\n"
     ]
    }
   ],
   "source": [
    "x = [7,2,3,5,6,0,1]\n",
    "print(x)"
   ]
  },
  {
   "cell_type": "code",
   "execution_count": 14,
   "metadata": {},
   "outputs": [
    {
     "name": "stdout",
     "output_type": "stream",
     "text": [
      "[2, 3, 5, 6]\n"
     ]
    }
   ],
   "source": [
    "# extracting a portion of the list from 2nd till 4th element\n",
    "print(x[1:5])"
   ]
  },
  {
   "cell_type": "markdown",
   "metadata": {},
   "source": [
    "**Note**: While the element at the `start` index is included, the `stop` index is not included, so that the number of elements in the result is `stop - start`.\n",
    "\n",
    "Either the `start` or `stop` can be omitted, in which case they default to the start of the\n",
    "sequence and the end of the sequence, respectively:"
   ]
  },
  {
   "cell_type": "code",
   "execution_count": 16,
   "metadata": {},
   "outputs": [
    {
     "data": {
      "text/plain": [
       "[7, 2, 3, 5, 6, 0, 1]"
      ]
     },
     "execution_count": 16,
     "metadata": {},
     "output_type": "execute_result"
    }
   ],
   "source": [
    "x"
   ]
  },
  {
   "cell_type": "code",
   "execution_count": 15,
   "metadata": {},
   "outputs": [
    {
     "data": {
      "text/plain": [
       "[7, 2, 3, 5]"
      ]
     },
     "execution_count": 15,
     "metadata": {},
     "output_type": "execute_result"
    }
   ],
   "source": [
    "## slice the first four items\n",
    "x[:4]"
   ]
  },
  {
   "cell_type": "code",
   "execution_count": null,
   "metadata": {
    "ExecuteTime": {
     "end_time": "2020-11-18T03:39:35.735448Z",
     "start_time": "2020-11-18T03:39:35.728437Z"
    }
   },
   "outputs": [],
   "source": [
    "# without end value. Starting from 4th item to the last item\n",
    "x[4:]"
   ]
  },
  {
   "cell_type": "code",
   "execution_count": null,
   "metadata": {},
   "outputs": [],
   "source": [
    "x"
   ]
  },
  {
   "cell_type": "code",
   "execution_count": 7,
   "metadata": {
    "ExecuteTime": {
     "end_time": "2020-11-18T03:42:56.184159Z",
     "start_time": "2020-11-18T03:42:56.177063Z"
    }
   },
   "outputs": [
    {
     "data": {
      "text/plain": [
       "[7, 2, 3, 5, 6, 0, 1]"
      ]
     },
     "execution_count": 7,
     "metadata": {},
     "output_type": "execute_result"
    }
   ],
   "source": [
    "x[:len(x)]  # x[:7]"
   ]
  },
  {
   "cell_type": "code",
   "execution_count": 8,
   "metadata": {},
   "outputs": [
    {
     "data": {
      "text/plain": [
       "1"
      ]
     },
     "execution_count": 8,
     "metadata": {},
     "output_type": "execute_result"
    }
   ],
   "source": [
    "x[len(x)-1]"
   ]
  },
  {
   "cell_type": "code",
   "execution_count": 5,
   "metadata": {
    "ExecuteTime": {
     "end_time": "2020-11-18T03:43:55.954743Z",
     "start_time": "2020-11-18T03:43:55.946709Z"
    }
   },
   "outputs": [
    {
     "name": "stdout",
     "output_type": "stream",
     "text": [
      "[7, 3, 6, 1]\n",
      "[2, 5, 0]\n"
     ]
    }
   ],
   "source": [
    "# print every second elemnt with a skip count 2\n",
    "print(x[::2])  # every element at the even location.\n",
    "print(x[1::2]) # every element at the odd location."
   ]
  },
  {
   "cell_type": "markdown",
   "metadata": {},
   "source": [
    "#### Range of Negative Indexes\n",
    "Specify negative indexes if you want to start the search from the end of the list"
   ]
  },
  {
   "cell_type": "code",
   "execution_count": 9,
   "metadata": {},
   "outputs": [
    {
     "data": {
      "text/plain": [
       "[7, 2, 3, 5, 6, 0, 1]"
      ]
     },
     "execution_count": 9,
     "metadata": {},
     "output_type": "execute_result"
    }
   ],
   "source": [
    "x"
   ]
  },
  {
   "cell_type": "code",
   "execution_count": 10,
   "metadata": {
    "ExecuteTime": {
     "end_time": "2020-11-18T03:45:40.583672Z",
     "start_time": "2020-11-18T03:45:40.572395Z"
    }
   },
   "outputs": [
    {
     "data": {
      "text/plain": [
       "[6, 0, 1]"
      ]
     },
     "execution_count": 10,
     "metadata": {},
     "output_type": "execute_result"
    }
   ],
   "source": [
    "x[-3:]"
   ]
  },
  {
   "cell_type": "markdown",
   "metadata": {},
   "source": [
    "A clever use of this is to pass -1, which has the useful effect of reversing a list or tuple:"
   ]
  },
  {
   "cell_type": "code",
   "execution_count": 12,
   "metadata": {},
   "outputs": [],
   "source": [
    "#. [1,0,6,5,9,8,7]  # reversed list"
   ]
  },
  {
   "cell_type": "code",
   "execution_count": 13,
   "metadata": {},
   "outputs": [
    {
     "name": "stdout",
     "output_type": "stream",
     "text": [
      "[2, 3, 5, 6]\n"
     ]
    }
   ],
   "source": [
    "print(x[1:5])"
   ]
  },
  {
   "cell_type": "code",
   "execution_count": 16,
   "metadata": {},
   "outputs": [
    {
     "data": {
      "text/plain": [
       "[1, 0, 6, 5, 3, 2, 7]"
      ]
     },
     "execution_count": 16,
     "metadata": {},
     "output_type": "execute_result"
    }
   ],
   "source": [
    "x[::-1]"
   ]
  },
  {
   "cell_type": "code",
   "execution_count": 20,
   "metadata": {
    "ExecuteTime": {
     "end_time": "2020-06-08T04:24:06.062089Z",
     "start_time": "2020-06-08T04:24:06.049561Z"
    }
   },
   "outputs": [
    {
     "name": "stdout",
     "output_type": "stream",
     "text": [
      "[1, 6, 3, 7]\n",
      "[1, 5, 7]\n"
     ]
    }
   ],
   "source": [
    "print(x[::-2])\n",
    "print(x[::-3])"
   ]
  },
  {
   "cell_type": "code",
   "execution_count": 18,
   "metadata": {},
   "outputs": [
    {
     "data": {
      "text/plain": [
       "[7, 2, 3, 5, 6, 0, 1]"
      ]
     },
     "execution_count": 18,
     "metadata": {},
     "output_type": "execute_result"
    }
   ],
   "source": [
    "x"
   ]
  },
  {
   "cell_type": "code",
   "execution_count": 21,
   "metadata": {
    "ExecuteTime": {
     "end_time": "2020-11-18T03:46:11.439760Z",
     "start_time": "2020-11-18T03:46:11.428192Z"
    }
   },
   "outputs": [
    {
     "name": "stdout",
     "output_type": "stream",
     "text": [
      "We are printing one element at a time: 7\n",
      "We are printing one element at a time: 2\n",
      "We are printing one element at a time: 3\n",
      "We are printing one element at a time: 5\n",
      "We are printing one element at a time: 6\n",
      "We are printing one element at a time: 0\n",
      "We are printing one element at a time: 1\n"
     ]
    }
   ],
   "source": [
    "# looping through the list\n",
    "\n",
    "for i in x:\n",
    "    print('We are printing one element at a time:', i)"
   ]
  },
  {
   "cell_type": "markdown",
   "metadata": {},
   "source": [
    "#### Iterate along with an index number\n",
    "The `index` value starts from `0` to `(length of the list-1)`. Hence using the function `range()` is ideal for this scenario.\n",
    "\n",
    "The `range` function returns a sequence of numbers. By default, it returns starting from 0 to the specified number (increments by 1). The starting and ending values can be passed according to our needs."
   ]
  },
  {
   "cell_type": "code",
   "execution_count": 31,
   "metadata": {},
   "outputs": [
    {
     "name": "stdout",
     "output_type": "stream",
     "text": [
      "range(0, 7)\n",
      "0\n",
      "We are printing one element at a time: 7\n",
      "1\n",
      "We are printing one element at a time: 2\n",
      "2\n",
      "We are printing one element at a time: 3\n",
      "3\n",
      "We are printing one element at a time: 5\n",
      "4\n",
      "We are printing one element at a time: 6\n",
      "5\n",
      "We are printing one element at a time: 0\n",
      "6\n",
      "We are printing one element at a time: 1\n"
     ]
    }
   ],
   "source": [
    "print(range(len(x)))\n",
    "\n",
    "for i in range(len(x)):\n",
    "    print(i)\n",
    "    print('We are printing one element at a time:',x[i])"
   ]
  },
  {
   "cell_type": "markdown",
   "metadata": {},
   "source": [
    "#### Adding elements to the list\n",
    "We can add a new element/list of elements to the list using the list methods such as `append()`, `insert()`, and `extend()`.\n"
   ]
  },
  {
   "cell_type": "code",
   "execution_count": 35,
   "metadata": {},
   "outputs": [],
   "source": [
    "x=[7, 2, 3, 5, 6, 0, 1]"
   ]
  },
  {
   "cell_type": "code",
   "execution_count": 36,
   "metadata": {
    "ExecuteTime": {
     "end_time": "2020-11-18T03:51:52.181279Z",
     "start_time": "2020-11-18T03:51:52.175407Z"
    }
   },
   "outputs": [
    {
     "name": "stdout",
     "output_type": "stream",
     "text": [
      "[7, 2, 3, 5, 6, 0, 1, 3.14]\n"
     ]
    }
   ],
   "source": [
    "x.append(3.14) # 3.14 will get appended to A\n",
    "print(x)"
   ]
  },
  {
   "cell_type": "code",
   "execution_count": 37,
   "metadata": {
    "ExecuteTime": {
     "end_time": "2020-11-18T03:52:15.728347Z",
     "start_time": "2020-11-18T03:52:15.721078Z"
    }
   },
   "outputs": [
    {
     "name": "stdout",
     "output_type": "stream",
     "text": [
      "[4, 7, 5, [-6, [-7, 8]]]\n"
     ]
    }
   ],
   "source": [
    "A = [4, 7, 5]\n",
    "A.append([-6,[-7, 8]]) # list [-6, -7] will be appended to A\n",
    "print(A)"
   ]
  },
  {
   "cell_type": "code",
   "execution_count": 24,
   "metadata": {},
   "outputs": [
    {
     "data": {
      "text/plain": [
       "4"
      ]
     },
     "execution_count": 24,
     "metadata": {},
     "output_type": "execute_result"
    }
   ],
   "source": [
    "len(A)"
   ]
  },
  {
   "cell_type": "code",
   "execution_count": 38,
   "metadata": {},
   "outputs": [
    {
     "data": {
      "text/plain": [
       "list"
      ]
     },
     "execution_count": 38,
     "metadata": {},
     "output_type": "execute_result"
    }
   ],
   "source": [
    "type(A[3])"
   ]
  },
  {
   "cell_type": "code",
   "execution_count": 39,
   "metadata": {},
   "outputs": [
    {
     "data": {
      "text/plain": [
       "[-6, [-7, 8]]"
      ]
     },
     "execution_count": 39,
     "metadata": {},
     "output_type": "execute_result"
    }
   ],
   "source": [
    "A[3]"
   ]
  },
  {
   "cell_type": "code",
   "execution_count": 42,
   "metadata": {},
   "outputs": [
    {
     "name": "stdout",
     "output_type": "stream",
     "text": [
      "-6\n",
      "[-7, 8]\n"
     ]
    }
   ],
   "source": [
    "print(A[3][0])\n",
    "print(A[3][1])"
   ]
  },
  {
   "cell_type": "markdown",
   "metadata": {},
   "source": [
    "#### Using extend()\n",
    "The `extend` method will accept the list of elements and add them at the end of the list. We can even add another list by using this method."
   ]
  },
  {
   "cell_type": "code",
   "execution_count": 46,
   "metadata": {
    "ExecuteTime": {
     "end_time": "2020-11-18T03:52:21.067154Z",
     "start_time": "2020-11-18T03:52:21.056062Z"
    }
   },
   "outputs": [
    {
     "name": "stdout",
     "output_type": "stream",
     "text": [
      "[4, 7, 5, -7, 8]\n"
     ]
    }
   ],
   "source": [
    "A1 = [4, 7, 5]\n",
    "A1.extend([-7,8]) # values -6 and -7 will be appended to A\n",
    "print(A1)\n"
   ]
  },
  {
   "cell_type": "code",
   "execution_count": 45,
   "metadata": {
    "ExecuteTime": {
     "end_time": "2020-06-08T04:51:16.707677Z",
     "start_time": "2020-06-08T04:51:16.696927Z"
    }
   },
   "outputs": [
    {
     "name": "stdout",
     "output_type": "stream",
     "text": [
      "[4, 3.14, [-6, -7], -9, -8]\n",
      "[4, 3.14, [-6, -7], -9, -8, 4]\n"
     ]
    }
   ],
   "source": [
    "A = [4, 3.14, [-6, -7], -9, -8]\n",
    "print(A)\n",
    "A.extend([4])\n",
    "print(A)"
   ]
  },
  {
   "cell_type": "code",
   "execution_count": null,
   "metadata": {
    "ExecuteTime": {
     "end_time": "2020-06-05T01:52:42.186699Z",
     "start_time": "2020-06-05T01:52:42.165997Z"
    }
   },
   "outputs": [],
   "source": [
    "A = [4, 3.14, [-6, -7], -9, -8]\n",
    "A.extend((91,92))\n",
    "print(A)"
   ]
  },
  {
   "cell_type": "markdown",
   "metadata": {},
   "source": [
    "#### Add item at the specified position in the list\n",
    "Use the `insert()` method to add the object/item at the specified position in the list. The insert method accepts two parameters position and object.\n",
    "\n",
    "`insert(index, object)`\n",
    "\n",
    "It will insert the `object` at the specified `index`. "
   ]
  },
  {
   "cell_type": "code",
   "execution_count": 48,
   "metadata": {
    "ExecuteTime": {
     "end_time": "2020-11-18T03:50:15.482059Z",
     "start_time": "2020-11-18T03:50:15.473640Z"
    }
   },
   "outputs": [
    {
     "name": "stdout",
     "output_type": "stream",
     "text": [
      "[4, -3, 7, 5]\n"
     ]
    }
   ],
   "source": [
    "A = [4, 7, 5]\n",
    "# insert -3 at position 1\n",
    "A.insert(1, -3) \n",
    "print(A)"
   ]
  },
  {
   "cell_type": "code",
   "execution_count": null,
   "metadata": {},
   "outputs": [],
   "source": [
    "A"
   ]
  },
  {
   "cell_type": "code",
   "execution_count": 50,
   "metadata": {
    "ExecuteTime": {
     "end_time": "2020-11-18T03:50:15.482059Z",
     "start_time": "2020-11-18T03:50:15.473640Z"
    }
   },
   "outputs": [
    {
     "name": "stdout",
     "output_type": "stream",
     "text": [
      "[4, -3, [20, [30, 40]], [20, [30, 40]], 7, 5]\n"
     ]
    }
   ],
   "source": [
    "# insert nested list at position 2\n",
    "A.insert(2,[20,[30,40]])\n",
    "print(A)"
   ]
  },
  {
   "cell_type": "markdown",
   "metadata": {},
   "source": [
    "#### Modify the items of a List\n",
    "The list is a mutable sequence of iterable objects. It means we can modify the items of a list. Use the index number and assignment operator (`=`) to assign a new value to an item.\n",
    "\n",
    "Let’s see how to perform the following two modification scenarios\n",
    "\n",
    "Modify the individual item.\n",
    "Modify the range of items"
   ]
  },
  {
   "cell_type": "code",
   "execution_count": null,
   "metadata": {
    "ExecuteTime": {
     "end_time": "2020-11-18T03:44:40.425228Z",
     "start_time": "2020-11-18T03:44:40.419128Z"
    }
   },
   "outputs": [],
   "source": [
    "x"
   ]
  },
  {
   "cell_type": "code",
   "execution_count": 51,
   "metadata": {
    "ExecuteTime": {
     "end_time": "2020-11-18T03:44:52.424662Z",
     "start_time": "2020-11-18T03:44:52.419630Z"
    }
   },
   "outputs": [
    {
     "name": "stdout",
     "output_type": "stream",
     "text": [
      "[7, 10, 3, 5, 6, 0, 1, 3.14]\n"
     ]
    }
   ],
   "source": [
    "# Modify a single item \n",
    "x[1] = 10\n",
    "print(x)"
   ]
  },
  {
   "cell_type": "code",
   "execution_count": 52,
   "metadata": {
    "ExecuteTime": {
     "end_time": "2020-11-18T03:45:10.959215Z",
     "start_time": "2020-11-18T03:45:10.951229Z"
    }
   },
   "outputs": [
    {
     "data": {
      "text/plain": [
       "[7, 8, 9, 5, 6, 0, 1, 3.14]"
      ]
     },
     "execution_count": 52,
     "metadata": {},
     "output_type": "execute_result"
    }
   ],
   "source": [
    "# modify range of items\n",
    "#Slices can also be assigned to with a sequence:\n",
    "x[1:3]= [8,9]\n",
    "x"
   ]
  },
  {
   "cell_type": "markdown",
   "metadata": {},
   "source": [
    "#### Modify all items\n",
    "Use for loop to iterate and modify all items at once"
   ]
  },
  {
   "cell_type": "code",
   "execution_count": 53,
   "metadata": {},
   "outputs": [
    {
     "data": {
      "text/plain": [
       "[7, 8, 9, 5, 6, 0, 1, 3.14]"
      ]
     },
     "execution_count": 53,
     "metadata": {},
     "output_type": "execute_result"
    }
   ],
   "source": [
    "x"
   ]
  },
  {
   "cell_type": "code",
   "execution_count": 56,
   "metadata": {},
   "outputs": [
    {
     "name": "stdout",
     "output_type": "stream",
     "text": [
      "[49, 64, 81, 25, 36, 0, 1, 9.8596]\n"
     ]
    }
   ],
   "source": [
    "# change value of all items\n",
    "for i in range(len(x)):\n",
    "    # calculate square of each number\n",
    "    square = x[i] * x[i]\n",
    "    x[i] = square\n",
    "\n",
    "print(x)"
   ]
  },
  {
   "cell_type": "code",
   "execution_count": 57,
   "metadata": {},
   "outputs": [
    {
     "name": "stdout",
     "output_type": "stream",
     "text": [
      "[49, 64, 81, 25, 36, 0, 1, 9.8596]\n"
     ]
    }
   ],
   "source": [
    "# Another way\n",
    "x = [7, 8, 9, 5, 6, 0, 1, 3.14]\n",
    "x1 = []\n",
    "for i in x:\n",
    "    # calculate square of each number\n",
    "    square = i*i\n",
    "    x1.append(square)\n",
    "\n",
    "print(x1)"
   ]
  },
  {
   "cell_type": "code",
   "execution_count": 58,
   "metadata": {},
   "outputs": [
    {
     "name": "stdout",
     "output_type": "stream",
     "text": [
      "[49, 64, 81, 25, 36, 0, 1, 9.8596]\n"
     ]
    }
   ],
   "source": [
    "# change value of all items\n",
    "x2 = []\n",
    "for i in range(len(x)):\n",
    "    # calculate square of each number\n",
    "    square = x[i] * x[i]\n",
    "    x2.append(square)\n",
    "\n",
    "print(x2)"
   ]
  },
  {
   "cell_type": "markdown",
   "metadata": {},
   "source": [
    "#### Removing elements from a List\n",
    "The elements from the list can be removed using the following list methods.\n",
    "\n",
    "|method|Description|\n",
    "|---|---|\n",
    "|remove(item)| To remove the first occurrence of the item from the list| \n",
    "|pop(index)|Removes and returns the item at the given index from the list.|\n",
    "|clear()|\tTo remove all items from the list. The output will be an empty list.|\n",
    "|del list_name|\tDelete the entire list.|\n"
   ]
  },
  {
   "cell_type": "markdown",
   "metadata": {},
   "source": [
    "#### Remove specific item\n",
    "Use the `remove()` method to remove the first occurrence of the item from the list.\n",
    "\n",
    "Note:  It throws a `keyerror` if an item not present in the original list."
   ]
  },
  {
   "cell_type": "code",
   "execution_count": 61,
   "metadata": {},
   "outputs": [
    {
     "name": "stdout",
     "output_type": "stream",
     "text": [
      "[2, 4, 6, 5, 7, 8]\n"
     ]
    }
   ],
   "source": [
    "list1 = [2,4,5,6,5,7,8]\n",
    "\n",
    "# remove 5 \n",
    "#list1.remove(5)\n",
    "list1.remove(list1[4])\n",
    "\n",
    "print(list1)"
   ]
  },
  {
   "cell_type": "code",
   "execution_count": 66,
   "metadata": {},
   "outputs": [
    {
     "name": "stdout",
     "output_type": "stream",
     "text": [
      "[4, 1, 5, 8, 12]\n"
     ]
    }
   ],
   "source": [
    "list1 = list([4, 5, 1, 5, 8, 12])\n",
    "list1.remove(5)\n",
    "print(list1)"
   ]
  },
  {
   "cell_type": "markdown",
   "metadata": {},
   "source": [
    "#### Remove all occurrence of a specific item\n",
    "Use a loop to remove all occurrence of a specific item"
   ]
  },
  {
   "cell_type": "code",
   "execution_count": 67,
   "metadata": {},
   "outputs": [
    {
     "name": "stdout",
     "output_type": "stream",
     "text": [
      "[5, 4, 5, 5, 8, 12]\n",
      "5\n",
      "[4, 5, 5, 8, 12]\n",
      "5\n",
      "[4, 5, 8, 12]\n",
      "8\n",
      "[4, 8, 12]\n",
      "[4, 8, 12]\n"
     ]
    }
   ],
   "source": [
    "list1 = list([5, 4, 5, 5, 8, 12])\n",
    "print(list1)\n",
    "for item in list1:\n",
    "    print(item)\n",
    "    list1.remove(5)\n",
    "    print(list1)\n",
    "\n",
    "print(list1)\n",
    "# Output [4, 8, 12]"
   ]
  },
  {
   "cell_type": "markdown",
   "metadata": {},
   "source": [
    "#### Remove item present at given index\n",
    "Use the `pop()` method to remove the item at the given index. The pop() method removes and returns the item present at the given index.\n",
    "\n",
    "**Note**: It will remove the last time from the list if the index number is not passed.\n"
   ]
  },
  {
   "cell_type": "code",
   "execution_count": 68,
   "metadata": {},
   "outputs": [
    {
     "name": "stdout",
     "output_type": "stream",
     "text": [
      "[3, 4, 5, 8, 12]\n"
     ]
    }
   ],
   "source": [
    "list1 = list([3, 4, 5, 6, 8, 12])\n",
    "list1.pop(3)\n",
    "print(list1)"
   ]
  },
  {
   "cell_type": "code",
   "execution_count": 69,
   "metadata": {},
   "outputs": [
    {
     "name": "stdout",
     "output_type": "stream",
     "text": [
      "[3, 4, 5, 8]\n"
     ]
    }
   ],
   "source": [
    "# remove the item without passing index number\n",
    "list1.pop()\n",
    "print(list1)"
   ]
  },
  {
   "cell_type": "markdown",
   "metadata": {},
   "source": [
    "#### Remove the range of items\n",
    "Use `del` keyword along with list slicing to remove the range of items"
   ]
  },
  {
   "cell_type": "code",
   "execution_count": 70,
   "metadata": {},
   "outputs": [
    {
     "name": "stdout",
     "output_type": "stream",
     "text": [
      "[2, 4, 6, 56, 14]\n"
     ]
    }
   ],
   "source": [
    "list1 = [2, 4, 6, 8, 10, 12,56,14]\n",
    "\n",
    "# remove range of items\n",
    "# remove item from index 3 to 6\n",
    "del list1[3:6]\n",
    "print(list1)"
   ]
  },
  {
   "cell_type": "markdown",
   "metadata": {},
   "source": [
    "#### Remove all items\n",
    "Use the list `clear()` method to remove all items from the list. The `clear()` method truncates the list."
   ]
  },
  {
   "cell_type": "code",
   "execution_count": 75,
   "metadata": {},
   "outputs": [
    {
     "name": "stdout",
     "output_type": "stream",
     "text": [
      "[]\n"
     ]
    }
   ],
   "source": [
    "list1 = [2, 4, 6, 8, 10, 12]\n",
    "#list1.clear()\n",
    "list1 = []\n",
    "print(list1)"
   ]
  },
  {
   "cell_type": "code",
   "execution_count": 76,
   "metadata": {},
   "outputs": [],
   "source": [
    "list1 = [2, 4, 6, 8, 10, 12]\n",
    "del list1\n",
    "# print(list1)"
   ]
  },
  {
   "cell_type": "markdown",
   "metadata": {},
   "source": [
    "#### Finding an element in the list\n",
    "Use the `index()` function to find an index of an item in a list.\n",
    "\n",
    "The `index()` function will accept the value of the element as a parameter and returns the first occurrence of the element or returns `ValueError` if the element does not exist.\n"
   ]
  },
  {
   "cell_type": "code",
   "execution_count": null,
   "metadata": {},
   "outputs": [],
   "source": [
    "list1 = [2, 4, 6, 8, 10, 12]\n",
    "print(list1.index(6))\n",
    "#print(list1[6])"
   ]
  },
  {
   "cell_type": "code",
   "execution_count": null,
   "metadata": {},
   "outputs": [],
   "source": [
    "# returns error since the element does not exist in the list.\n",
    "list1.index(100)"
   ]
  },
  {
   "cell_type": "code",
   "execution_count": null,
   "metadata": {},
   "outputs": [],
   "source": [
    "x"
   ]
  },
  {
   "cell_type": "markdown",
   "metadata": {},
   "source": [
    "#### Check if item exists in the list\n",
    "\n",
    "Check if a list contains a value using the `in` keyword:"
   ]
  },
  {
   "cell_type": "code",
   "execution_count": null,
   "metadata": {
    "ExecuteTime": {
     "end_time": "2020-11-18T03:47:19.920656Z",
     "start_time": "2020-11-18T03:47:19.910887Z"
    }
   },
   "outputs": [],
   "source": [
    "7 in x"
   ]
  },
  {
   "cell_type": "markdown",
   "metadata": {},
   "source": [
    "The keyword not can be used to negate in:"
   ]
  },
  {
   "cell_type": "code",
   "execution_count": null,
   "metadata": {
    "ExecuteTime": {
     "end_time": "2020-11-18T03:47:31.355659Z",
     "start_time": "2020-11-18T03:47:31.345641Z"
    }
   },
   "outputs": [],
   "source": [
    "7 not in x"
   ]
  },
  {
   "cell_type": "markdown",
   "metadata": {},
   "source": [
    "#### List  Methods and functions\n",
    "\n",
    "| Method |   Action   |\n",
    "|:---|:---|\n",
    "|   len(x) | Returns the number of items in x   |\n",
    "|   x.index(i) | Returns the index of items in x   |\n",
    "|   min(x) | Returns the minimum value in x     |\n",
    "|   max(x) | Returns the maximum of items in x   |\n",
    "|   x.append(x1) | will append x1 to the end of x     |\n",
    "|   x.extend(x1) | will extend the list x by appending all the elements i list x1, x1 has to be a list  |\n",
    "|   x.insert(i,x1) | will insert item x1 at index i    |\n",
    "|   x.count(i) | Returns frequency of occurence of i  |\n",
    "|   x.remove(i)| Will remove the first i from x  will raise ValueError ifnthere is no i      |\n",
    "|   x.pop([i]) | will remove and return the item at index i.  |\n",
    "|   del x[a:b] | This method deletes all the elements in range starting from index ‘a’ till ‘b’ mentioned in arguments.    |\n",
    "|   x.sort() | Will sort the items in A in-place   |\n",
    "|   x.reverse() | Reverse the order of the list in place   |\n",
    "|   all(list1) | True if all items in the list have a True value  |\n",
    "|   any(list1) | True if one item in the list have a True value  |\n",
    "\n",
    "\n",
    "*Note: Make sure to understand the difference between append and extend methods.*\n",
    "\n",
    "**Note:** make sure to understand the difference between pop, del and remove \n",
    "\n",
    "Let us consider some examples to illustrate these methods and functions\n"
   ]
  },
  {
   "cell_type": "code",
   "execution_count": null,
   "metadata": {
    "ExecuteTime": {
     "end_time": "2020-06-08T04:39:39.013428Z",
     "start_time": "2020-06-08T04:39:39.005369Z"
    }
   },
   "outputs": [],
   "source": [
    "A = [4,7, 5,3]\n",
    "print('number of elements is:', len(A))"
   ]
  },
  {
   "cell_type": "code",
   "execution_count": null,
   "metadata": {
    "ExecuteTime": {
     "end_time": "2020-06-08T04:39:42.465659Z",
     "start_time": "2020-06-08T04:39:42.457995Z"
    }
   },
   "outputs": [],
   "source": [
    "A.index(7)"
   ]
  },
  {
   "cell_type": "code",
   "execution_count": null,
   "metadata": {
    "ExecuteTime": {
     "end_time": "2020-11-18T03:49:24.177042Z",
     "start_time": "2020-11-18T03:49:24.168484Z"
    }
   },
   "outputs": [],
   "source": [
    "list1 = ['physics', 'Biology', 'chemistry', 'maths']\n",
    "list1.reverse()\n",
    "print (\"list now : \", list1)"
   ]
  },
  {
   "cell_type": "code",
   "execution_count": null,
   "metadata": {
    "ExecuteTime": {
     "end_time": "2020-11-18T03:49:26.978096Z",
     "start_time": "2020-11-18T03:49:26.969818Z"
    }
   },
   "outputs": [],
   "source": [
    "list1 = ['physics', 'Biology', 'chemistry', 'maths']\n",
    "list1[::-1]"
   ]
  },
  {
   "cell_type": "code",
   "execution_count": null,
   "metadata": {
    "ExecuteTime": {
     "end_time": "2020-06-08T04:46:17.405518Z",
     "start_time": "2020-06-08T04:46:17.396273Z"
    }
   },
   "outputs": [],
   "source": [
    "A = [4, 7, 5]\n",
    "print('the max and min are: ', max(A), min(A))"
   ]
  },
  {
   "cell_type": "code",
   "execution_count": null,
   "metadata": {},
   "outputs": [],
   "source": [
    "A.clear()\n",
    "print(A)"
   ]
  },
  {
   "cell_type": "code",
   "execution_count": null,
   "metadata": {
    "ExecuteTime": {
     "end_time": "2020-11-18T03:52:40.386347Z",
     "start_time": "2020-11-18T03:52:40.375258Z"
    }
   },
   "outputs": [],
   "source": [
    "## Sorting: can sort a list in-place (without creating a new object) \n",
    "# by calling its sort function\n",
    "A = [1, 5, 4, 7, 3]\n",
    "#A.sort()\n",
    "A.sort(reverse = True)\n",
    "A"
   ]
  },
  {
   "cell_type": "code",
   "execution_count": null,
   "metadata": {
    "ExecuteTime": {
     "end_time": "2020-11-18T03:53:21.768256Z",
     "start_time": "2020-11-18T03:53:21.761684Z"
    }
   },
   "outputs": [],
   "source": [
    "listx = [[-5, 7], [-8, 9]]\n",
    "#listx = [[-5, 7], -5]\n",
    "listx.sort()\n",
    "print(listx)"
   ]
  },
  {
   "cell_type": "code",
   "execution_count": null,
   "metadata": {
    "ExecuteTime": {
     "end_time": "2020-11-18T03:53:25.738029Z",
     "start_time": "2020-11-18T03:53:25.732897Z"
    }
   },
   "outputs": [],
   "source": [
    "listy = [[5, 7], [5,4]]\n",
    "#listy.sort()\n",
    "listy.sort(reverse = True)\n",
    "print(listy)"
   ]
  },
  {
   "cell_type": "code",
   "execution_count": null,
   "metadata": {},
   "outputs": [],
   "source": [
    "listy[1]"
   ]
  },
  {
   "cell_type": "markdown",
   "metadata": {},
   "source": [
    "sort has a few options that will occasionally come in handy. One is the ability to pass a secondary sort key—that is, a function that produces a value to use to sort the objects. For example, we could sort a collection of strings by their lengths:"
   ]
  },
  {
   "cell_type": "code",
   "execution_count": null,
   "metadata": {},
   "outputs": [],
   "source": [
    "b = ['john', 'jenny', 'mo', 'richard', 'six']\n",
    "b.sort()\n",
    "b"
   ]
  },
  {
   "cell_type": "code",
   "execution_count": null,
   "metadata": {
    "ExecuteTime": {
     "end_time": "2020-06-08T04:54:00.396195Z",
     "start_time": "2020-06-08T04:54:00.378071Z"
    }
   },
   "outputs": [],
   "source": [
    "b = ['john', 'jenny', 'mo', 'richard', 'six']\n",
    "b.sort(key=len)\n",
    "b"
   ]
  },
  {
   "cell_type": "code",
   "execution_count": null,
   "metadata": {},
   "outputs": [],
   "source": [
    "len(b[3])"
   ]
  },
  {
   "cell_type": "markdown",
   "metadata": {},
   "source": [
    "#### Concatenation of two lists\n",
    "\n",
    "The concatenation of two lists means merging of two lists. There are two ways to do that.\n",
    "\n",
    "- Using the `+` operator.\n",
    "\n",
    "- Using the `extend()` method. The `extend()` method appends the new list’s items at the end of the calling list.\n"
   ]
  },
  {
   "cell_type": "code",
   "execution_count": null,
   "metadata": {},
   "outputs": [],
   "source": [
    "list1 = [-10, -9]\n",
    "list2 = [9, 10]\n",
    "\n",
    "# Using + operator\n",
    "list3 = list1 + list2\n",
    "print(list3)\n",
    "\n",
    "# using extend method\n",
    "list1.extend(list2)\n",
    "print(list1)"
   ]
  },
  {
   "cell_type": "markdown",
   "metadata": {},
   "source": [
    "#### Copy a List\n",
    "one cannot copy a list simply by typing list_new = list1, because: list_new will only be a reference to list1, and changes made in list1 will automatically also be made in list_new.\n"
   ]
  },
  {
   "cell_type": "code",
   "execution_count": null,
   "metadata": {},
   "outputs": [],
   "source": [
    "list1 = [1,2,3]\n",
    "list_new = list1\n",
    "print(list_new)\n",
    "\n",
    "# making changes in the original list\n",
    "list1.append(4)\n",
    "\n",
    "# print both lists\n",
    "\n",
    "print(list1)\n",
    "\n",
    "print(list_new)\n"
   ]
  },
  {
   "cell_type": "markdown",
   "metadata": {},
   "source": [
    "As seen in the above example a copy of the list has been created. The changes made to the original list are reflected in the copied list as well.\n",
    "\n",
    "Note: When you set list1 = list2, you are making them refer to the same list object, so when you modify one of them, all references associated with that object reflect the current state of the object. So don’t use the assignment operator to copy the dictionary instead use the copy() method."
   ]
  },
  {
   "cell_type": "code",
   "execution_count": null,
   "metadata": {},
   "outputs": [],
   "source": [
    "list1 = [1,2,3]\n",
    "list_new = list1.copy()\n",
    "print(list_new)\n",
    "\n",
    "# making changes in the original list\n",
    "list1.append(4)\n",
    "\n",
    "# print both lists\n",
    "\n",
    "print(list1)\n",
    "\n",
    "print(list_new)"
   ]
  },
  {
   "cell_type": "markdown",
   "metadata": {},
   "source": [
    "#### zip\n",
    "zip “pairs” up the elements of a number of lists, tuples, or other sequences to create a list of tuples:\n"
   ]
  },
  {
   "cell_type": "code",
   "execution_count": null,
   "metadata": {
    "ExecuteTime": {
     "end_time": "2020-11-18T03:55:13.243190Z",
     "start_time": "2020-11-18T03:55:13.234533Z"
    }
   },
   "outputs": [],
   "source": [
    "x1 = ['foo', 'bar', 'baz', 'ron', 'jack']\n",
    "x2 = ['one', 'two', 'three', 'four', 'five']\n",
    "x1x2 = zip(x1, x2)\n",
    "listx1x2 = list(x1x2)\n",
    "print(listx1x2)\n",
    "#print(tuple(x1x2))"
   ]
  },
  {
   "cell_type": "code",
   "execution_count": null,
   "metadata": {},
   "outputs": [],
   "source": [
    "x1 = ['ron','john','james','johnny']\n",
    "x2 = [300,350,360,400]\n",
    "#x1 = [30,40,50,70]\n",
    "x1x2 = zip(x1, x2)\n",
    "print(list(x1x2))"
   ]
  },
  {
   "cell_type": "markdown",
   "metadata": {},
   "source": [
    "A very common use of zip is simultaneously iterating over multiple sequences, possi‐\n",
    "bly also combined with enumerate:"
   ]
  },
  {
   "cell_type": "code",
   "execution_count": null,
   "metadata": {
    "ExecuteTime": {
     "end_time": "2020-11-18T03:55:29.647110Z",
     "start_time": "2020-11-18T03:55:29.636872Z"
    }
   },
   "outputs": [],
   "source": [
    "for i, (a, b) in enumerate(zip(x1, x2)):\n",
    "    #print('{0}: {1}, {2}'.format(i, a, b))\n",
    "    print(i,a,b)"
   ]
  },
  {
   "cell_type": "code",
   "execution_count": null,
   "metadata": {},
   "outputs": [],
   "source": [
    "for i, (a, b) in enumerate(zip(x1, x2)):\n",
    "    print('{2}: {0}, {1}'.format(i, a, b))"
   ]
  },
  {
   "cell_type": "markdown",
   "metadata": {},
   "source": [
    "### List comprehension\n",
    "\n",
    "In Python, list comprehension provide an efficient and elegant way to create lists from a list or other iterable object. It is faster comparable to looping through each element in the list. It also provides a very succinct syntax making the code more readable. it can also prevent modifying the existing list in the process of creating a new list and hence makes the code \"functional\". \n",
    "\n",
    "List comprehension uses a square bracket with an expression followed by for loop with an optional if statement\n",
    "lst2 = [x for a in iterable if statement]\n",
    "\n",
    "\n"
   ]
  },
  {
   "cell_type": "code",
   "execution_count": null,
   "metadata": {
    "ExecuteTime": {
     "end_time": "2020-06-08T05:00:07.734889Z",
     "start_time": "2020-06-08T05:00:07.724462Z"
    }
   },
   "outputs": [],
   "source": [
    "# square every element in a list and make another list\n",
    "list1 = [-9, 2, 5]     # output [ 81 4 25]\n",
    "list2 = []\n",
    "for x in list1:\n",
    "    #print(x)\n",
    "    #print(list2)\n",
    "    list2.append(x*x)\n",
    "    print(list2)\n",
    "\n",
    "#print(list2)\n"
   ]
  },
  {
   "cell_type": "code",
   "execution_count": null,
   "metadata": {
    "ExecuteTime": {
     "end_time": "2020-06-08T05:00:13.182320Z",
     "start_time": "2020-06-08T05:00:13.173575Z"
    }
   },
   "outputs": [],
   "source": [
    "list1 = [-9, 2, 5]\n",
    "list2 = [x*x for x in list1]\n",
    "print(list2)"
   ]
  },
  {
   "cell_type": "markdown",
   "metadata": {},
   "source": [
    "A list comprehension can optionally contain more for or if statements. An optional if statement can filter out items for the new list. Here are some examples."
   ]
  },
  {
   "cell_type": "code",
   "execution_count": null,
   "metadata": {},
   "outputs": [],
   "source": [
    "list1 = [10, 15, 18, 20]\n",
    "list2 = []\n",
    "for a in list1:\n",
    "    if(a%2 ==0):\n",
    "        list2.append(a)\n",
    "\n",
    "print(list2)"
   ]
  },
  {
   "cell_type": "code",
   "execution_count": null,
   "metadata": {
    "ExecuteTime": {
     "end_time": "2020-06-08T05:01:44.635062Z",
     "start_time": "2020-06-08T05:01:44.625127Z"
    }
   },
   "outputs": [],
   "source": [
    "# list comprehension to filter elements from the input list. \n",
    "list1 = [10, 15, 18, 20]\n",
    "list2 = [a for a in list1 if a %2 == 0]\n",
    "print(list2)"
   ]
  },
  {
   "cell_type": "code",
   "execution_count": null,
   "metadata": {
    "ExecuteTime": {
     "end_time": "2020-06-08T05:02:48.316107Z",
     "start_time": "2020-06-08T05:02:48.303358Z"
    }
   },
   "outputs": [],
   "source": [
    "# Nested list\n",
    "\n",
    "x=[[1,2],[6,7]]\n",
    "print((x[0]))"
   ]
  },
  {
   "cell_type": "code",
   "execution_count": null,
   "metadata": {
    "ExecuteTime": {
     "end_time": "2020-06-08T05:03:57.527603Z",
     "start_time": "2020-06-08T05:03:57.519522Z"
    }
   },
   "outputs": [],
   "source": [
    "# Access 2\n",
    "x[0][1]"
   ]
  },
  {
   "cell_type": "code",
   "execution_count": null,
   "metadata": {
    "ExecuteTime": {
     "end_time": "2020-06-08T05:04:45.914618Z",
     "start_time": "2020-06-08T05:04:45.904276Z"
    }
   },
   "outputs": [],
   "source": [
    "'''\n",
    "Practice Problem\n",
    "\n",
    "Given a list check if all the values are True\n",
    "['','','1']\n",
    "'''\n",
    "\n",
    "\n",
    "all(['','','1'])"
   ]
  },
  {
   "cell_type": "code",
   "execution_count": null,
   "metadata": {},
   "outputs": [],
   "source": [
    "'''\n",
    "Practice Problem\n",
    "\n",
    "Given a list check if any of the  the values are True\n",
    "['','','1']\n",
    "'''\n",
    "any(['','','1'])"
   ]
  },
  {
   "cell_type": "code",
   "execution_count": null,
   "metadata": {},
   "outputs": [],
   "source": [
    "'''\n",
    "Practice exercise\n",
    "\n",
    "extract 3 and 5\n",
    "'''\n",
    "a=[[[1,2],[3,4],5],[6,7]]\n",
    "print(a)\n",
    "print(len(a))\n"
   ]
  },
  {
   "cell_type": "code",
   "execution_count": null,
   "metadata": {},
   "outputs": [],
   "source": [
    "# want to fetch 4"
   ]
  },
  {
   "cell_type": "code",
   "execution_count": null,
   "metadata": {},
   "outputs": [],
   "source": [
    "# Want to fetch 5\n"
   ]
  },
  {
   "cell_type": "code",
   "execution_count": null,
   "metadata": {},
   "outputs": [],
   "source": [
    "# Want to fetch 4\n",
    "a"
   ]
  },
  {
   "cell_type": "markdown",
   "metadata": {},
   "source": [
    "#### How to Convert a list to string\n",
    "\n",
    "use str.join()"
   ]
  },
  {
   "cell_type": "code",
   "execution_count": null,
   "metadata": {
    "ExecuteTime": {
     "end_time": "2020-06-08T05:04:52.468376Z",
     "start_time": "2020-06-08T05:04:52.460421Z"
    }
   },
   "outputs": [],
   "source": [
    "listOfwords = [\"This\" , \"is\", \"a\", \"python\", \"for\", \"data analysis\", \"course\"]\n",
    "print(type(listOfwords))\n",
    "print(listOfwords)"
   ]
  },
  {
   "cell_type": "code",
   "execution_count": null,
   "metadata": {
    "ExecuteTime": {
     "end_time": "2020-06-08T05:05:25.559682Z",
     "start_time": "2020-06-08T05:05:25.551614Z"
    }
   },
   "outputs": [],
   "source": [
    "'''\n",
    "Convert list of string to a string with whitespace as seperator\n",
    "'''\n",
    "# Join all the strings in list\n",
    "list_str = ','.join(listOfwords)\n",
    "print((list_str))"
   ]
  },
  {
   "cell_type": "code",
   "execution_count": null,
   "metadata": {
    "ExecuteTime": {
     "end_time": "2020-06-08T05:05:31.340670Z",
     "start_time": "2020-06-08T05:05:31.326164Z"
    }
   },
   "outputs": [],
   "source": [
    "# Let us try another separator, ':'\n",
    "\n",
    "# Join all the strings in list\n",
    "list_str = '!'.join(listOfwords)\n",
    "print(list_str)"
   ]
  },
  {
   "cell_type": "code",
   "execution_count": null,
   "metadata": {},
   "outputs": [],
   "source": [
    "# list comprehension and mix list \n",
    "listOfwords = [\"This\" , \"is\", \"a\", \"python\", \"for\", \"data analysis\", \"course\", 404, 20]\n",
    "list_str_mix = ','.join([str(elem) for elem in listOfwords ])\n",
    "print(list_str_mix)"
   ]
  },
  {
   "cell_type": "markdown",
   "metadata": {},
   "source": [
    "In this notebook on Python Lists, we investigated various facts related to list. we looked at how to declare and access a list. That included slicing lists in python. Then we looked at how to delete and reassign elements or an entire list. Next, we learned about multidimensional lists and comprehension. We saw how to iterate on python lists, concatenate them, and also the operations that you can perform on them. Lastly, we looked at some built-in functions and methods that you can call on lists. "
   ]
  },
  {
   "cell_type": "markdown",
   "metadata": {},
   "source": [
    "#### Two-dimensional lists"
   ]
  },
  {
   "cell_type": "code",
   "execution_count": null,
   "metadata": {},
   "outputs": [],
   "source": [
    "TwoD_lists = [[0]*5]*3\n",
    "print(TwoD_lists)"
   ]
  },
  {
   "cell_type": "code",
   "execution_count": null,
   "metadata": {},
   "outputs": [],
   "source": [
    "print ([a+b for a in 'mug' for b in 'lid'])\n",
    "\n",
    "#Output: \n",
    "#[‘ml’, ‘mi’, ‘md’, ‘ul’, ‘ui’, ‘ud’, ‘gl’, ‘gi’, ‘gd’]"
   ]
  },
  {
   "cell_type": "code",
   "execution_count": null,
   "metadata": {},
   "outputs": [],
   "source": [
    "list_fruit = [\"Apple\",\"Mango\",\"Banana\",\"Avocado\"]\n",
    "first_letters = [ fruits[0] for fruits in list_fruit ]\n",
    "print(first_letters)\n",
    "# Output: \n",
    "# [‘A’, ‘M’, ‘B’, ‘A’]"
   ]
  },
  {
   "cell_type": "markdown",
   "metadata": {},
   "source": [
    "#### Remove duplicates from lists in python"
   ]
  },
  {
   "cell_type": "code",
   "execution_count": null,
   "metadata": {},
   "outputs": [],
   "source": [
    "mylist = [\"a\", \"b\", \"c\", \"d\", \"c\"]\n",
    "mylist = list(dict.fromkeys(mylist))\n",
    "print(mylist)"
   ]
  },
  {
   "cell_type": "code",
   "execution_count": null,
   "metadata": {},
   "outputs": [],
   "source": [
    "### Sorting in the descending order\n",
    "list1 = [1,4,5,3,2]\n",
    "list1.sort(reverse = True)\n",
    "print(list1)"
   ]
  },
  {
   "cell_type": "markdown",
   "metadata": {},
   "source": [
    "### Tuple\n",
    "\n",
    "Tuple is another sequence. Unlike lists, tuples are immutable. So the elements of a tuple cannot be modified after they have been created. Tuple has the following characteristics \n",
    "\n",
    "- **Ordered**: Tuples are part of sequence data types, which means they hold the order of the data insertion. It maintains the index value for each item.\n",
    "- **Unchangeable**: Tuples are unchangeable, which means that we cannot add or delete items to the tuple after creation.\n",
    "- **Heterogeneous**: Tuples are a sequence of data of different data types (like integer, float, list, string, etc;) and can be accessed through indexing and slicing.\n",
    "- **Contains Duplicates**: Tuples can contain duplicates, which means they can have items with the same value.\n"
   ]
  },
  {
   "cell_type": "markdown",
   "metadata": {},
   "source": [
    "#### Creating a Tuple\n",
    "We can create a tuple using the two ways\n",
    "\n",
    "1. **Using parenthesis ()**: A tuple is created by enclosing comma-separated items inside rounded brackets.\n",
    "2. Using a `tuple()` constructor: Create a tuple by passing the comma-separated items inside the `tuple()`."
   ]
  },
  {
   "cell_type": "markdown",
   "metadata": {},
   "source": [
    "#### Syntax: \n",
    "A tuple starts with an open parenthesis, ( and ends with a closed parenthesis ). Elements in a tuple are separated by comma.\n",
    "\n",
    "**Note:** there is a comma at the end also. It is customary to put a comma after the last element. This will be especially useful when we have only one element in a tuple. Why? In the following example, we follow the tuple syntax and created a tuple with only one element. When we printed the type, notice the type is 'str' and not tuple. \n",
    "\n",
    "By adding a comma at the end, we are indicating to the Python interpreter that we want the object to be treated as a tuple with one element. However it is optional when there is more than one element. Still it is customary to add comma at the end to all tuples. "
   ]
  },
  {
   "cell_type": "code",
   "execution_count": 1,
   "metadata": {
    "ExecuteTime": {
     "end_time": "2020-06-08T05:07:16.323440Z",
     "start_time": "2020-06-08T05:07:16.315028Z"
    }
   },
   "outputs": [
    {
     "name": "stdout",
     "output_type": "stream",
     "text": [
      "(1, 2, 3)\n",
      "<class 'tuple'>\n"
     ]
    }
   ],
   "source": [
    "tuple1 = (1, 2, 3)\n",
    "print(tuple1)\n",
    "print(type(tuple1))"
   ]
  },
  {
   "cell_type": "code",
   "execution_count": 2,
   "metadata": {
    "ExecuteTime": {
     "end_time": "2020-06-08T05:07:16.323440Z",
     "start_time": "2020-06-08T05:07:16.315028Z"
    }
   },
   "outputs": [
    {
     "name": "stdout",
     "output_type": "stream",
     "text": [
      "('John', 30, 45.75, [25, 78])\n"
     ]
    }
   ],
   "source": [
    "# mixed type tuple\n",
    "sample_tuple = ('John', 30, 45.75, [25, 78])\n",
    "print(sample_tuple)"
   ]
  },
  {
   "cell_type": "markdown",
   "metadata": {},
   "source": [
    "#### Create a tuple with a single item\n",
    "A single item tuple is created by enclosing one item inside parentheses followed by a comma. If the tuple time is a string enclosed within parentheses and not followed by a comma, Python treats it as a `str` type. Let us see this with an example."
   ]
  },
  {
   "cell_type": "code",
   "execution_count": 3,
   "metadata": {},
   "outputs": [
    {
     "name": "stdout",
     "output_type": "stream",
     "text": [
      "<class 'int'>\n",
      "<class 'int'>\n"
     ]
    }
   ],
   "source": [
    "tuple1 = 1\n",
    "tuple2 = (1)\n",
    "print(type(tuple1))\n",
    "print(type(tuple2))"
   ]
  },
  {
   "cell_type": "code",
   "execution_count": 4,
   "metadata": {
    "ExecuteTime": {
     "end_time": "2020-06-08T05:07:46.498447Z",
     "start_time": "2020-06-08T05:07:46.492485Z"
    }
   },
   "outputs": [
    {
     "name": "stdout",
     "output_type": "stream",
     "text": [
      "(1,) <class 'tuple'>\n"
     ]
    }
   ],
   "source": [
    "tuple1 = (1,)\n",
    "print(tuple1, type(tuple1))"
   ]
  },
  {
   "cell_type": "markdown",
   "metadata": {},
   "source": [
    "For writing tuple for a single value, you need to include a comma, even though there is a single value. Also at the end you need to write semicolon as shown below."
   ]
  },
  {
   "cell_type": "code",
   "execution_count": 5,
   "metadata": {},
   "outputs": [
    {
     "name": "stdout",
     "output_type": "stream",
     "text": [
      "('one',) <class 'tuple'>\n"
     ]
    }
   ],
   "source": [
    "tuple1 = ('one',)\n",
    "print(tuple1, type(tuple1))"
   ]
  },
  {
   "cell_type": "markdown",
   "metadata": {},
   "source": [
    "To create an empty tuple, you need to write as two parentheses containing nothing:\n",
    "\n",
    "tup = ()"
   ]
  },
  {
   "cell_type": "markdown",
   "metadata": {},
   "source": [
    "You can convert any sequence or iterator to a tuple by invoking tuple:"
   ]
  },
  {
   "cell_type": "code",
   "execution_count": 6,
   "metadata": {
    "ExecuteTime": {
     "end_time": "2020-06-08T05:08:30.734139Z",
     "start_time": "2020-06-08T05:08:30.722175Z"
    }
   },
   "outputs": [
    {
     "name": "stdout",
     "output_type": "stream",
     "text": [
      "<class 'tuple'>\n"
     ]
    }
   ],
   "source": [
    "x = [1,2,3]\n",
    "x1 = tuple(x)\n",
    "print(type(x1))"
   ]
  },
  {
   "cell_type": "code",
   "execution_count": 7,
   "metadata": {},
   "outputs": [
    {
     "name": "stdout",
     "output_type": "stream",
     "text": [
      "[1, 2, 3]\n"
     ]
    }
   ],
   "source": [
    "print(x)"
   ]
  },
  {
   "cell_type": "code",
   "execution_count": 8,
   "metadata": {},
   "outputs": [
    {
     "data": {
      "text/plain": [
       "(1, 2, 3)"
      ]
     },
     "execution_count": 8,
     "metadata": {},
     "output_type": "execute_result"
    }
   ],
   "source": [
    "x1"
   ]
  },
  {
   "cell_type": "markdown",
   "metadata": {},
   "source": [
    "#### The tuple() Constructor\n",
    "It is also possible to use the tuple() constructor to make a tuple."
   ]
  },
  {
   "cell_type": "code",
   "execution_count": null,
   "metadata": {
    "ExecuteTime": {
     "end_time": "2020-06-08T05:08:37.605639Z",
     "start_time": "2020-06-08T05:08:37.594086Z"
    }
   },
   "outputs": [],
   "source": [
    "x = tuple([1,2,3])\n",
    "x"
   ]
  },
  {
   "cell_type": "markdown",
   "metadata": {},
   "source": [
    "#### Packing and Unpacking\n",
    "A tuple can also be created without using a `tuple()` constructor or enclosing the items inside the parentheses. It is called the variable “Packing.”\n",
    "\n",
    "We can create a tuple by packing a group of variables. Packing can be used when we want to collect multiple values in a single variable. Generally, this operation is referred to as tuple packing.\n",
    "\n",
    "Similarly, we can unpack the items by just assigning the tuple items to the same number of variables. This process is called “Unpacking.”"
   ]
  },
  {
   "cell_type": "code",
   "execution_count": 9,
   "metadata": {
    "ExecuteTime": {
     "end_time": "2020-06-08T05:22:42.884760Z",
     "start_time": "2020-06-08T05:22:42.861603Z"
    }
   },
   "outputs": [
    {
     "name": "stdout",
     "output_type": "stream",
     "text": [
      "('UCSC', 20, 'Education')\n",
      "<class 'tuple'>\n"
     ]
    }
   ],
   "source": [
    "x = \"UCSC\", 20, \"Education\"\n",
    "print(x)\n",
    "\n",
    "print(type(x))"
   ]
  },
  {
   "cell_type": "code",
   "execution_count": 10,
   "metadata": {
    "ExecuteTime": {
     "end_time": "2020-06-08T05:22:42.884760Z",
     "start_time": "2020-06-08T05:22:42.861603Z"
    }
   },
   "outputs": [
    {
     "name": "stdout",
     "output_type": "stream",
     "text": [
      "UCSC\n",
      "20\n",
      "Education\n"
     ]
    }
   ],
   "source": [
    "# tuple unpacking\n",
    "(company, emp, profile) = x    # tuple unpacking\n",
    "print(company)\n",
    "print(emp)\n",
    "print(profile)"
   ]
  },
  {
   "cell_type": "code",
   "execution_count": 11,
   "metadata": {},
   "outputs": [
    {
     "name": "stdout",
     "output_type": "stream",
     "text": [
      "(4, 5, (6, 7))\n"
     ]
    },
    {
     "data": {
      "text/plain": [
       "7"
      ]
     },
     "execution_count": 11,
     "metadata": {},
     "output_type": "execute_result"
    }
   ],
   "source": [
    "# Even sequences with nested tuples can be unpacked:\n",
    "tup=4,5,(6,7)\n",
    "print(tup)\n",
    "a,b,(c,d)=tup\n",
    "d\n",
    " "
   ]
  },
  {
   "cell_type": "code",
   "execution_count": 12,
   "metadata": {},
   "outputs": [],
   "source": [
    "# Swap \n",
    "a,b=1,2\n"
   ]
  },
  {
   "cell_type": "code",
   "execution_count": 13,
   "metadata": {},
   "outputs": [
    {
     "data": {
      "text/plain": [
       "2"
      ]
     },
     "execution_count": 13,
     "metadata": {},
     "output_type": "execute_result"
    }
   ],
   "source": [
    "b,a = a,b\n",
    "a"
   ]
  },
  {
   "cell_type": "markdown",
   "metadata": {},
   "source": [
    "A common use of variable unpacking is iterating over sequences of tuples or lists:"
   ]
  },
  {
   "cell_type": "code",
   "execution_count": 14,
   "metadata": {},
   "outputs": [],
   "source": [
    "seq=[(\"UCSC\", 20, \"Education_SC\"),(\"UCB\", 20, \"Education_UCB\"),(\"NOE\", 30, \"Education_NOE\")]"
   ]
  },
  {
   "cell_type": "code",
   "execution_count": 16,
   "metadata": {},
   "outputs": [
    {
     "name": "stdout",
     "output_type": "stream",
     "text": [
      "name=UCSC, profile=Education_SC, employee=20\n",
      "name=UCB, profile=Education_UCB, employee=20\n",
      "name=NOE, profile=Education_NOE, employee=30\n"
     ]
    }
   ],
   "source": [
    "for name,employee,profile in seq:\n",
    "    print('name={0}, profile={2}, employee={1}'.format(name, employee, profile))"
   ]
  },
  {
   "cell_type": "markdown",
   "metadata": {},
   "source": [
    "#### Loop Through a Tuple\n",
    "You can loop through the tuple items by using a for loop."
   ]
  },
  {
   "cell_type": "code",
   "execution_count": 20,
   "metadata": {
    "ExecuteTime": {
     "end_time": "2020-06-08T05:20:23.226961Z",
     "start_time": "2020-06-08T05:20:23.217450Z"
    }
   },
   "outputs": [
    {
     "name": "stdout",
     "output_type": "stream",
     "text": [
      "10 20 30 40 "
     ]
    }
   ],
   "source": [
    "x = (10,20,30,40)\n",
    "for i in x:\n",
    "    #print(i)\n",
    "    print(i, end = ' ')\n",
    " "
   ]
  },
  {
   "cell_type": "code",
   "execution_count": 19,
   "metadata": {},
   "outputs": [],
   "source": [
    "\n",
    "print?"
   ]
  },
  {
   "cell_type": "code",
   "execution_count": null,
   "metadata": {},
   "outputs": [],
   "source": [
    "\"\"\"\n",
    "Practice problem \n",
    "\"\"\"\n",
    "x = (10,20,30,40)\n",
    "for i in x:\n",
    "  print(i, end = \" \")"
   ]
  },
  {
   "cell_type": "markdown",
   "metadata": {},
   "source": [
    "### Accessing/Slicing of Tuple\n",
    "\n",
    "Tuple can be accessed through indexing and slicing. This section will guide you by accessing tuple using the following two ways\n",
    "\n",
    "- **Using indexing**, we can access any item from a tuple using its index number\n",
    "\n",
    "- **Using slicing**, we can access a range of items from a tuple"
   ]
  },
  {
   "cell_type": "markdown",
   "metadata": {
    "ExecuteTime": {
     "end_time": "2020-06-08T05:08:53.114164Z",
     "start_time": "2020-06-08T05:08:53.102554Z"
    }
   },
   "source": [
    "#### Indexing\n",
    "A tuple is an ordered sequence of items, which means they hold the order of the data insertion. It maintains the index value for each item.\n",
    "\n",
    "We can access an item of a tuple by using its index number inside the index operator [ ] and this process is called **“Indexing”**."
   ]
  },
  {
   "cell_type": "code",
   "execution_count": 21,
   "metadata": {},
   "outputs": [
    {
     "name": "stdout",
     "output_type": "stream",
     "text": [
      "P\n",
      "Y\n",
      "T\n",
      "H\n",
      "O\n",
      "N\n"
     ]
    }
   ],
   "source": [
    "tuple1 = ('P', 'Y', 'T', 'H', 'O', 'N')\n",
    "#for i in range(len(tuple1)):\n",
    "for i in tuple1:\n",
    "    print(i)\n",
    "  #  print(tuple1[i])"
   ]
  },
  {
   "cell_type": "markdown",
   "metadata": {},
   "source": [
    "**Note**: If we mention the index value greater than the length of a tuple then it will throw an index error."
   ]
  },
  {
   "cell_type": "code",
   "execution_count": 22,
   "metadata": {},
   "outputs": [
    {
     "ename": "IndexError",
     "evalue": "tuple index out of range",
     "output_type": "error",
     "traceback": [
      "\u001b[0;31m---------------------------------------------------------------------------\u001b[0m",
      "\u001b[0;31mIndexError\u001b[0m                                Traceback (most recent call last)",
      "\u001b[0;32m/var/folders/tp/nnpgxs3d1rl0dlwj25kwmcn00000gn/T/ipykernel_48114/3305435595.py\u001b[0m in \u001b[0;36m<module>\u001b[0;34m\u001b[0m\n\u001b[0;32m----> 1\u001b[0;31m \u001b[0mprint\u001b[0m\u001b[0;34m(\u001b[0m\u001b[0mtuple1\u001b[0m\u001b[0;34m[\u001b[0m\u001b[0;36m8\u001b[0m\u001b[0;34m]\u001b[0m\u001b[0;34m)\u001b[0m\u001b[0;34m\u001b[0m\u001b[0;34m\u001b[0m\u001b[0m\n\u001b[0m",
      "\u001b[0;31mIndexError\u001b[0m: tuple index out of range"
     ]
    }
   ],
   "source": [
    "print(tuple1[8])"
   ]
  },
  {
   "cell_type": "markdown",
   "metadata": {},
   "source": [
    "#### Range of Indexes\n",
    "One can specify a range of indexes by specifying where to start and where to end the range.\n",
    "\n",
    "When specifying a range, the return value will be a new tuple with the specified items.\n",
    "\n",
    "**NOTE** The search wil start at start index and end at stop index (not included)"
   ]
  },
  {
   "cell_type": "code",
   "execution_count": 23,
   "metadata": {},
   "outputs": [
    {
     "name": "stdout",
     "output_type": "stream",
     "text": [
      "(20, 30, 40)\n"
     ]
    }
   ],
   "source": [
    "# Example return the second, third and fourth item\n",
    "\n",
    "tuple1 = (10, 20, 30, 40, 50, 60, 70)\n",
    "print(tuple1[1:4])"
   ]
  },
  {
   "cell_type": "markdown",
   "metadata": {},
   "source": [
    "Also, if you mention any index value other than integer then it will throw Type Error."
   ]
  },
  {
   "cell_type": "code",
   "execution_count": 24,
   "metadata": {
    "scrolled": true
   },
   "outputs": [
    {
     "ename": "TypeError",
     "evalue": "tuple indices must be integers or slices, not float",
     "output_type": "error",
     "traceback": [
      "\u001b[0;31m---------------------------------------------------------------------------\u001b[0m",
      "\u001b[0;31mTypeError\u001b[0m                                 Traceback (most recent call last)",
      "\u001b[0;32m/var/folders/tp/nnpgxs3d1rl0dlwj25kwmcn00000gn/T/ipykernel_48114/830267280.py\u001b[0m in \u001b[0;36m<module>\u001b[0;34m\u001b[0m\n\u001b[0;32m----> 1\u001b[0;31m \u001b[0mtuple1\u001b[0m\u001b[0;34m[\u001b[0m\u001b[0;36m3.0\u001b[0m\u001b[0;34m]\u001b[0m\u001b[0;34m\u001b[0m\u001b[0;34m\u001b[0m\u001b[0m\n\u001b[0m",
      "\u001b[0;31mTypeError\u001b[0m: tuple indices must be integers or slices, not float"
     ]
    }
   ],
   "source": [
    "tuple1[3.0]"
   ]
  },
  {
   "cell_type": "markdown",
   "metadata": {},
   "source": [
    "#### Negative Indexing\n",
    "\n",
    "Negative indexing means beginning from the end, -1 refers to the last item, -2 refers to the second last item etc."
   ]
  },
  {
   "cell_type": "code",
   "execution_count": null,
   "metadata": {
    "ExecuteTime": {
     "end_time": "2020-06-08T05:11:36.176838Z",
     "start_time": "2020-06-08T05:11:36.168833Z"
    }
   },
   "outputs": [],
   "source": [
    "x[-1]"
   ]
  },
  {
   "cell_type": "code",
   "execution_count": 26,
   "metadata": {},
   "outputs": [
    {
     "name": "stdout",
     "output_type": "stream",
     "text": [
      "N\n",
      "O\n"
     ]
    }
   ],
   "source": [
    "tuple1 = ('P', 'Y', 'T', 'H', 'O', 'N')\n",
    "\n",
    "# print last item of a tuple\n",
    "print(tuple1[-1])  # N\n",
    "# print second last\n",
    "print(tuple1[-2])  # O"
   ]
  },
  {
   "cell_type": "code",
   "execution_count": 27,
   "metadata": {},
   "outputs": [
    {
     "name": "stdout",
     "output_type": "stream",
     "text": [
      "P,Y,T,H,O,N,"
     ]
    }
   ],
   "source": [
    "# iterate a tuple using negative indexing\n",
    "for i in range(-6, 0):\n",
    "    print(tuple1[i], end=\",\")  \n",
    "\n",
    "# Output P, Y, T, H, O, N,"
   ]
  },
  {
   "cell_type": "markdown",
   "metadata": {},
   "source": [
    "#### Range of Negative Indexes\n",
    "Specify negative indexes if you want to start the search from the end of the tuple:"
   ]
  },
  {
   "cell_type": "code",
   "execution_count": 28,
   "metadata": {
    "ExecuteTime": {
     "end_time": "2020-06-08T05:20:17.274524Z",
     "start_time": "2020-06-08T05:20:17.267097Z"
    }
   },
   "outputs": [
    {
     "name": "stdout",
     "output_type": "stream",
     "text": [
      "(40, 50, 60)\n"
     ]
    }
   ],
   "source": [
    "tuple1 = (10, 20, 30, 40, 50, 60, 70)\n",
    "print(tuple1[-4:-1])"
   ]
  },
  {
   "cell_type": "markdown",
   "metadata": {},
   "source": [
    "#### Find the index of an element in tuple using index()\n",
    "\n",
    "Sometimes just checking if an element exists in tuple is not sufficient, we want to find it’s position of first occurrence in tuple. Tuple provides a member function `index()` i.e.\n",
    "\n",
    "`tuple.index(x)`\n",
    "\n",
    "It returns the index for first occurrence of x in the tuple"
   ]
  },
  {
   "cell_type": "code",
   "execution_count": 29,
   "metadata": {},
   "outputs": [
    {
     "name": "stdout",
     "output_type": "stream",
     "text": [
      "Element 12 Found at :  0\n"
     ]
    }
   ],
   "source": [
    "tuple1 = (12 , 34, 45, 22, 33 , 67, 34, 56 )\n",
    "\n",
    "indx = tuple1.index(12)\n",
    "print(\"Element 12 Found at : \" , indx)"
   ]
  },
  {
   "cell_type": "markdown",
   "metadata": {},
   "source": [
    "#### Find within a range\n",
    "We can mention the start and end values for the `index()` method so that our search will be limited to those values."
   ]
  },
  {
   "cell_type": "code",
   "execution_count": 31,
   "metadata": {},
   "outputs": [
    {
     "ename": "ValueError",
     "evalue": "tuple.index(x): x not in tuple",
     "output_type": "error",
     "traceback": [
      "\u001b[0;31m---------------------------------------------------------------------------\u001b[0m",
      "\u001b[0;31mValueError\u001b[0m                                Traceback (most recent call last)",
      "\u001b[0;32m/var/folders/tp/nnpgxs3d1rl0dlwj25kwmcn00000gn/T/ipykernel_48114/3129273846.py\u001b[0m in \u001b[0;36m<module>\u001b[0;34m\u001b[0m\n\u001b[1;32m      5\u001b[0m \u001b[0;31m# get index of item 60\u001b[0m\u001b[0;34m\u001b[0m\u001b[0;34m\u001b[0m\u001b[0m\n\u001b[1;32m      6\u001b[0m \u001b[0;31m#position = tuple1.index(60, 4, 6)\u001b[0m\u001b[0;34m\u001b[0m\u001b[0;34m\u001b[0m\u001b[0m\n\u001b[0;32m----> 7\u001b[0;31m \u001b[0mposition\u001b[0m \u001b[0;34m=\u001b[0m \u001b[0mtuple1\u001b[0m\u001b[0;34m.\u001b[0m\u001b[0mindex\u001b[0m\u001b[0;34m(\u001b[0m\u001b[0;36m60\u001b[0m\u001b[0;34m,\u001b[0m \u001b[0;36m1\u001b[0m\u001b[0;34m,\u001b[0m \u001b[0;36m4\u001b[0m\u001b[0;34m)\u001b[0m\u001b[0;34m\u001b[0m\u001b[0;34m\u001b[0m\u001b[0m\n\u001b[0m\u001b[1;32m      8\u001b[0m \u001b[0mprint\u001b[0m\u001b[0;34m(\u001b[0m\u001b[0mposition\u001b[0m\u001b[0;34m)\u001b[0m\u001b[0;34m\u001b[0m\u001b[0;34m\u001b[0m\u001b[0m\n",
      "\u001b[0;31mValueError\u001b[0m: tuple.index(x): x not in tuple"
     ]
    }
   ],
   "source": [
    "tuple1 = (10, 20, 30, 40, 50, 60, 70, 80)\n",
    "# Limit the search locations using start and end\n",
    "# search only from location 4 to 6\n",
    "# start = 4 and end = 6\n",
    "# get index of item 60\n",
    "#position = tuple1.index(60, 4, 6)\n",
    "position = tuple1.index(60, 1, 4)\n",
    "print(position)  "
   ]
  },
  {
   "cell_type": "markdown",
   "metadata": {},
   "source": [
    "#### Checking if an item exists\n",
    "We can check whether an item exists in a tuple by using the in operator. This will return a boolean True if the item exists and False if it doesn’t."
   ]
  },
  {
   "cell_type": "code",
   "execution_count": null,
   "metadata": {},
   "outputs": [],
   "source": [
    "20 in tuple1"
   ]
  },
  {
   "cell_type": "code",
   "execution_count": null,
   "metadata": {},
   "outputs": [],
   "source": [
    "x"
   ]
  },
  {
   "cell_type": "code",
   "execution_count": null,
   "metadata": {},
   "outputs": [],
   "source": [
    "'''\n",
    "Check if 20 is present in the tuple\n",
    "\n",
    "'''\n",
    "x1 = [30,40,50]\n",
    "\n",
    "for i in x1:\n",
    "    if i in x:\n",
    "        print(\"Yes, number is in x\")\n",
    "    else:\n",
    "        print(\"No, number is not present\")"
   ]
  },
  {
   "cell_type": "code",
   "execution_count": null,
   "metadata": {},
   "outputs": [],
   "source": [
    "x2 = [10,30,40]\n",
    "for i in x2:\n",
    "    if i>=20:\n",
    "        print(\"Yes, number is in x\")\n",
    "        break\n",
    "    else:\n",
    "        print(\"No, number is not present\")"
   ]
  },
  {
   "cell_type": "markdown",
   "metadata": {},
   "source": [
    "#### Add Items\n",
    "Once a tuple is created, you cannot add items to it. Tuples are unchangeable.\n",
    "\n",
    "Example"
   ]
  },
  {
   "cell_type": "code",
   "execution_count": 32,
   "metadata": {},
   "outputs": [
    {
     "data": {
      "text/plain": [
       "(10, 20, 30, 40, 50, 60, 70, 80)"
      ]
     },
     "execution_count": 32,
     "metadata": {},
     "output_type": "execute_result"
    }
   ],
   "source": [
    "tuple1"
   ]
  },
  {
   "cell_type": "markdown",
   "metadata": {},
   "source": [
    "But there is a workaround. You can convert the tuple into a list, change the list, and convert the list back into a tuple."
   ]
  },
  {
   "cell_type": "code",
   "execution_count": 33,
   "metadata": {},
   "outputs": [
    {
     "ename": "TypeError",
     "evalue": "'tuple' object does not support item assignment",
     "output_type": "error",
     "traceback": [
      "\u001b[0;31m---------------------------------------------------------------------------\u001b[0m",
      "\u001b[0;31mTypeError\u001b[0m                                 Traceback (most recent call last)",
      "\u001b[0;32m/var/folders/tp/nnpgxs3d1rl0dlwj25kwmcn00000gn/T/ipykernel_48114/1392166021.py\u001b[0m in \u001b[0;36m<module>\u001b[0;34m\u001b[0m\n\u001b[0;32m----> 1\u001b[0;31m \u001b[0mtuple1\u001b[0m\u001b[0;34m[\u001b[0m\u001b[0;36m3\u001b[0m\u001b[0;34m]\u001b[0m \u001b[0;34m=\u001b[0m \u001b[0;36m30\u001b[0m\u001b[0;34m\u001b[0m\u001b[0;34m\u001b[0m\u001b[0m\n\u001b[0m",
      "\u001b[0;31mTypeError\u001b[0m: 'tuple' object does not support item assignment"
     ]
    }
   ],
   "source": [
    "tuple1[3] = 30"
   ]
  },
  {
   "cell_type": "code",
   "execution_count": 34,
   "metadata": {},
   "outputs": [
    {
     "name": "stdout",
     "output_type": "stream",
     "text": [
      "1\n"
     ]
    }
   ],
   "source": [
    "print(tuple2)"
   ]
  },
  {
   "cell_type": "code",
   "execution_count": 36,
   "metadata": {},
   "outputs": [
    {
     "name": "stdout",
     "output_type": "stream",
     "text": [
      "[10, 20, 30, 40, 50, 60, 70, 80]\n",
      "<class 'list'>\n",
      "[10, 20, 30, 40, 50, 60, 70, 80, 30]\n",
      "(10, 20, 11, 30, 40, 50, 60, 70, 80, 30)\n",
      "<class 'tuple'>\n"
     ]
    }
   ],
   "source": [
    "tuple2 = (10, 20, 30, 40, 50, 60, 70, 80)\n",
    "tuple2 = list(tuple2)\n",
    "print(tuple2)\n",
    "print(type(tuple2))\n",
    "tuple2.append(30)\n",
    "print(tuple2)\n",
    "tuple2.insert(2,11)\n",
    "tuple2 = tuple(tuple2)\n",
    "print(tuple2)\n",
    "print(type(tuple2))"
   ]
  },
  {
   "cell_type": "code",
   "execution_count": null,
   "metadata": {},
   "outputs": [],
   "source": []
  },
  {
   "cell_type": "code",
   "execution_count": null,
   "metadata": {},
   "outputs": [],
   "source": []
  },
  {
   "cell_type": "markdown",
   "metadata": {},
   "source": [
    "#### Change Tuple Values\n",
    "\n",
    "Since tuples are immutable, we cannot alter elements in a tuple after the tuple \n",
    "is defined. \n"
   ]
  },
  {
   "cell_type": "code",
   "execution_count": null,
   "metadata": {
    "ExecuteTime": {
     "end_time": "2020-06-08T05:09:11.655310Z",
     "start_time": "2020-06-08T05:09:11.643109Z"
    }
   },
   "outputs": [],
   "source": [
    "tuple2 = (13, 19, 25,) \n",
    "print(tuple2[0]) # accessing the first element in tuple2\n",
    "print(tuple2[1]) # accessing the second element in tuple2\n"
   ]
  },
  {
   "cell_type": "code",
   "execution_count": null,
   "metadata": {
    "ExecuteTime": {
     "end_time": "2020-06-08T05:09:36.649207Z",
     "start_time": "2020-06-08T05:09:36.625879Z"
    }
   },
   "outputs": [],
   "source": [
    "tuple2[1] = 29"
   ]
  },
  {
   "cell_type": "markdown",
   "metadata": {},
   "source": [
    "#### Remove Items\n",
    "Note: You cannot remove items in a tuple.\n",
    "\n",
    " Tuples are unchangeable, so you cannot remove items from it, but you can delete the tuple completely:\n",
    "\n",
    "Example"
   ]
  },
  {
   "cell_type": "code",
   "execution_count": 37,
   "metadata": {
    "ExecuteTime": {
     "end_time": "2020-11-17T04:17:14.358613Z",
     "start_time": "2020-11-17T04:17:14.139358Z"
    }
   },
   "outputs": [
    {
     "ename": "NameError",
     "evalue": "name 'tuple1' is not defined",
     "output_type": "error",
     "traceback": [
      "\u001b[0;31m---------------------------------------------------------------------------\u001b[0m",
      "\u001b[0;31mNameError\u001b[0m                                 Traceback (most recent call last)",
      "\u001b[0;32m/var/folders/tp/nnpgxs3d1rl0dlwj25kwmcn00000gn/T/ipykernel_48114/2007870778.py\u001b[0m in \u001b[0;36m<module>\u001b[0;34m\u001b[0m\n\u001b[1;32m      1\u001b[0m \u001b[0mtuple1\u001b[0m \u001b[0;34m=\u001b[0m \u001b[0;34m(\u001b[0m\u001b[0;36m1\u001b[0m\u001b[0;34m,\u001b[0m\u001b[0;36m2\u001b[0m\u001b[0;34m,\u001b[0m\u001b[0;36m3\u001b[0m\u001b[0;34m,\u001b[0m\u001b[0;36m4\u001b[0m\u001b[0;34m)\u001b[0m\u001b[0;34m\u001b[0m\u001b[0;34m\u001b[0m\u001b[0m\n\u001b[1;32m      2\u001b[0m \u001b[0;32mdel\u001b[0m \u001b[0mtuple1\u001b[0m\u001b[0;34m\u001b[0m\u001b[0;34m\u001b[0m\u001b[0m\n\u001b[0;32m----> 3\u001b[0;31m \u001b[0mprint\u001b[0m\u001b[0;34m(\u001b[0m\u001b[0mtuple1\u001b[0m\u001b[0;34m)\u001b[0m \u001b[0;31m#this will raise an error because the tuple no longer exists\u001b[0m\u001b[0;34m\u001b[0m\u001b[0;34m\u001b[0m\u001b[0m\n\u001b[0m",
      "\u001b[0;31mNameError\u001b[0m: name 'tuple1' is not defined"
     ]
    }
   ],
   "source": [
    "tuple1 = (1,2,3,4)\n",
    "del tuple1\n",
    "print(tuple1) #this will raise an error because the tuple no longer exists"
   ]
  },
  {
   "cell_type": "code",
   "execution_count": 38,
   "metadata": {},
   "outputs": [
    {
     "name": "stdout",
     "output_type": "stream",
     "text": [
      "(10, 60, 30, 40, 50)\n"
     ]
    }
   ],
   "source": [
    "x = (10,20,30,40,50)\n",
    "y = list(x)\n",
    "y[1] = 60\n",
    "x = tuple(y)\n",
    "print(x)"
   ]
  },
  {
   "cell_type": "markdown",
   "metadata": {},
   "source": [
    "#### Tuple : Append , Insert , Modify & delete elements in Tuple\n",
    "\n",
    "tuples are immutable i.e. once created we can not change its contents.  But sometimes we want to modify the existing tuple, in that case we need to create a new tuple with updated elements only from the existing tuple."
   ]
  },
  {
   "cell_type": "code",
   "execution_count": 39,
   "metadata": {
    "ExecuteTime": {
     "end_time": "2020-06-08T05:16:35.198622Z",
     "start_time": "2020-06-08T05:16:35.187605Z"
    }
   },
   "outputs": [
    {
     "data": {
      "text/plain": [
       "(121, 314, 245, 232, 334, 191)"
      ]
     },
     "execution_count": 39,
     "metadata": {},
     "output_type": "execute_result"
    }
   ],
   "source": [
    "# Append an element in Tuple at end\n",
    "\n",
    "# Create a tuple\n",
    "tupleObj = (121, 314, 245, 232, 334 )\n",
    "\n",
    "'''Now to append an element in this tuple, we need to create a copy of\n",
    "existing tuple and then add new element to it using + operator i.e.\n",
    "'''\n",
    "# Append 19 at the end of tuple\n",
    "tupleObj = tupleObj + (191,)\n",
    "tupleObj"
   ]
  },
  {
   "cell_type": "markdown",
   "metadata": {},
   "source": [
    "### Insert an element at specific position in tuple\n",
    "\n",
    "As indexing starts from 0 in tuple, so to insert an element at index n in this tuple, we will create two sliced copies of existing tuple from (0 to n) and (n to end) i.e."
   ]
  },
  {
   "cell_type": "code",
   "execution_count": 40,
   "metadata": {
    "ExecuteTime": {
     "end_time": "2020-06-08T05:16:43.378327Z",
     "start_time": "2020-06-08T05:16:43.366958Z"
    }
   },
   "outputs": [
    {
     "data": {
      "text/plain": [
       "(121, 314, 245, 232, 334, 191)"
      ]
     },
     "execution_count": 40,
     "metadata": {},
     "output_type": "execute_result"
    }
   ],
   "source": [
    "tupleObj"
   ]
  },
  {
   "cell_type": "code",
   "execution_count": 41,
   "metadata": {},
   "outputs": [
    {
     "data": {
      "text/plain": [
       "(121, 314, 245, 191, 232, 334, 191)"
      ]
     },
     "execution_count": 41,
     "metadata": {},
     "output_type": "execute_result"
    }
   ],
   "source": [
    "#### Insert an element at specific position in tuple\n",
    "\n",
    "'''As indexing starts from 0 in tuple, so to insert an element at index n in \n",
    "this tuple, we will create two sliced copies of existing tuple from (0 to n) and \n",
    "(n to end)\n",
    "(121,314,181, 191,245,232,334,191)\n",
    "(121, 314, 245, 232, 334, 191)\n",
    "'''\n",
    "n = 3\n",
    "# Insert 19 in tuple at index 5\n",
    "tupleObj = tupleObj[ : n ] + (191 ,) + tupleObj[n : ]\n",
    "#tupleObj = tupleObj[ : 2 ] + (191 ,) + tupleObj[2 : ]\n",
    "tupleObj"
   ]
  },
  {
   "cell_type": "markdown",
   "metadata": {},
   "source": [
    "#### Add Items\n",
    "Once a tuple is created, you cannot add items to it. Tuples are unchangeable.\n",
    "\n",
    "Example"
   ]
  },
  {
   "cell_type": "code",
   "execution_count": null,
   "metadata": {},
   "outputs": [],
   "source": [
    "tuple1"
   ]
  },
  {
   "cell_type": "markdown",
   "metadata": {},
   "source": [
    "But there is a workaround. You can convert the tuple into a list, change the list, and convert the list back into a tuple."
   ]
  },
  {
   "cell_type": "code",
   "execution_count": null,
   "metadata": {},
   "outputs": [],
   "source": [
    "tuple1[3] = 30"
   ]
  },
  {
   "cell_type": "code",
   "execution_count": null,
   "metadata": {},
   "outputs": [],
   "source": [
    "[13,19,25]; [13,19,25,30];(13,19,11,25,30)"
   ]
  },
  {
   "cell_type": "code",
   "execution_count": null,
   "metadata": {},
   "outputs": [],
   "source": [
    "tuple1 = (13,19,25)\n",
    "tuple1 = list(tuple1)\n",
    "print(tuple1)\n",
    "print(type(tuple1))\n",
    "tuple1.append(30)\n",
    "print(tuple1)\n",
    "tuple1.insert(2,11)\n",
    "tuple1 = tuple(tuple1)\n",
    "print(tuple1)\n",
    "print(type(tuple1))"
   ]
  },
  {
   "cell_type": "code",
   "execution_count": null,
   "metadata": {},
   "outputs": [],
   "source": [
    "#### Insert an element at specific position in tuple\n",
    "\n",
    "'''As indexing starts from 0 in tuple, so to insert an element at index n in \n",
    "this tuple, we will create two sliced copies of existing tuple from (0 to n) and \n",
    "(n to end)\n",
    "\n",
    "\n",
    "Input = (121,314,245, 181,232,334)\n",
    "Output = (121,314,245, 191,181,232,334)\n",
    "'''\n",
    "tupleObj = (121, 314, 245, 181,232, 334 )\n",
    "n = 3\n",
    "# Insert 191 in tuple at index 3\n",
    "tupleObj = tupleObj[ : n ] + (191 ,) + tupleObj[n : ]\n",
    "#tupleObj = tupleObj[ : 2 ] + (191 ,) + tupleObj[2 : ]\n",
    "tupleObj"
   ]
  },
  {
   "cell_type": "markdown",
   "metadata": {},
   "source": [
    "#### Count the occurrence of an item in a tuple\n",
    "As we learned, a tuple can contain duplicate items. To determine how many times a specific item occurred in a tuple, we can use the `count()` method of a tuple object.\n",
    "\n",
    "The `count()` method accepts any value as a parameter and returns the number of times a particular value appears in a tuple."
   ]
  },
  {
   "cell_type": "code",
   "execution_count": 42,
   "metadata": {},
   "outputs": [
    {
     "name": "stdout",
     "output_type": "stream",
     "text": [
      "3\n"
     ]
    }
   ],
   "source": [
    "tuple1 = (10, 20, 60, 30, 60, 40, 60)\n",
    "# Count all occurrences of item 60\n",
    "count = tuple1.count(60)\n",
    "print(count)"
   ]
  },
  {
   "cell_type": "markdown",
   "metadata": {},
   "source": [
    "#### Concatenating two Tuples\n",
    "We can concatenate two or more tuples in different ways. One thing to note here is that tuples allow duplicates, so if two tuples have the same item, it will be repeated twice in the resultant tuple. Let us see each one of them with a small example."
   ]
  },
  {
   "cell_type": "markdown",
   "metadata": {},
   "source": [
    "#### Using the + operator\n",
    "We can add two tuples using the + operator. This is a very and straightforward method and the resultant tuple will have items from both the tuples."
   ]
  },
  {
   "cell_type": "code",
   "execution_count": 43,
   "metadata": {},
   "outputs": [
    {
     "name": "stdout",
     "output_type": "stream",
     "text": [
      "(1, 2, 3, 4, 5, 3, 4, 5, 6, 7)\n"
     ]
    }
   ],
   "source": [
    "tuple1 = (1, 2, 3, 4, 5)\n",
    "tuple2 = (3, 4, 5, 6, 7)\n",
    "\n",
    "# concatenate tuples using + operator\n",
    "tuple3 = tuple1 + tuple2\n",
    "print(tuple3)\n",
    "# Output (1, 2, 3, 4, 5, 3, 4, 5, 6, 7)"
   ]
  },
  {
   "cell_type": "markdown",
   "metadata": {},
   "source": [
    "#### Using the sum() function\n",
    "We can also use the Python built-in function sum to concatenate two tuples. But the sum function of two iterables like tuples always needs to start with Empty Tuple. Let us see this with an example."
   ]
  },
  {
   "cell_type": "code",
   "execution_count": 44,
   "metadata": {},
   "outputs": [
    {
     "name": "stdout",
     "output_type": "stream",
     "text": [
      "(1, 2, 3, 4, 5, 3, 4, 5, 6, 7)\n"
     ]
    }
   ],
   "source": [
    "tuple1 = (1, 2, 3, 4, 5)\n",
    "tuple2 = (3, 4, 5, 6, 7)\n",
    "\n",
    "# using sum function\n",
    "tuple3 = sum((tuple1, tuple2), ())\n",
    "print(tuple3)"
   ]
  },
  {
   "cell_type": "markdown",
   "metadata": {},
   "source": [
    "#### Using the chain() function\n",
    "The `chain()` function is part of the itertools module in python. It makes an iterator, which will return all the first iterable items (a tuple in our case), which will be followed by the second iterable. We can pass any number of tuples to the chain() function."
   ]
  },
  {
   "cell_type": "code",
   "execution_count": 45,
   "metadata": {},
   "outputs": [
    {
     "name": "stdout",
     "output_type": "stream",
     "text": [
      "(1, 2, 3, 4, 5, 3, 4, 5, 6, 7)\n"
     ]
    }
   ],
   "source": [
    "import itertools\n",
    "\n",
    "tuple1 = (1, 2, 3, 4, 5)\n",
    "tuple2 = (3, 4, 5, 6, 7)\n",
    "\n",
    "# using itertools\n",
    "tuple3 = tuple(item for item in itertools.chain(tuple1, tuple2))\n",
    "print(tuple3)"
   ]
  },
  {
   "cell_type": "markdown",
   "metadata": {},
   "source": [
    "#### Nested tuples\n",
    "Nested tuples are tuples within a tuple i.e., when a tuple contains another tuple as its member then it is called a nested tuple.\n",
    "\n",
    "In order to retrieve the items of the inner tuple we need a nested for loop"
   ]
  },
  {
   "cell_type": "code",
   "execution_count": 46,
   "metadata": {},
   "outputs": [
    {
     "name": "stdout",
     "output_type": "stream",
     "text": [
      "P\n",
      "tuple (20, 40, 60) elements\n",
      "20, 40, 60, \n",
      "\n",
      "tuple (10, 30, 50) elements\n",
      "10, 30, 50, \n",
      "\n",
      "tuple Python elements\n",
      "P, y, t, h, o, n, \n",
      "\n"
     ]
    }
   ],
   "source": [
    "nested_tuple = ((20, 40, 60), (10, 30, 50), \"Python\")\n",
    "\n",
    "# access the first item of the third tuple\n",
    "print(nested_tuple[2][0])  # P\n",
    "\n",
    "# iterate a nested tuple\n",
    "for i in nested_tuple:\n",
    "    print(\"tuple\", i, \"elements\")\n",
    "    for j in i:\n",
    "        print(j, end=\", \")\n",
    "    print(\"\\n\")"
   ]
  },
  {
   "cell_type": "markdown",
   "metadata": {},
   "source": [
    "### Comparing tuples\n",
    "A comparison operator in Python can work with tuples.\n",
    "\n",
    "The comparison starts with a first element of each tuple. If they do not compare to =,< or > then it proceed to the second element and so on.\n",
    "\n",
    "It starts with comparing the first element from each of the tuples"
   ]
  },
  {
   "cell_type": "code",
   "execution_count": 47,
   "metadata": {},
   "outputs": [
    {
     "name": "stdout",
     "output_type": "stream",
     "text": [
      "a is bigger\n"
     ]
    }
   ],
   "source": [
    "# Case 1\n",
    "\n",
    "a=(5,6)\n",
    "b=(1,4)\n",
    "if (a>b):print(\"a is bigger\")\n",
    "else: print(\"b is bigger\")"
   ]
  },
  {
   "cell_type": "markdown",
   "metadata": {},
   "source": [
    "Comparison starts with a first element of each tuple. In this case 5>1, so the output a is bigger"
   ]
  },
  {
   "cell_type": "code",
   "execution_count": 48,
   "metadata": {
    "ExecuteTime": {
     "end_time": "2020-06-08T05:22:51.476858Z",
     "start_time": "2020-06-08T05:22:51.465851Z"
    }
   },
   "outputs": [
    {
     "name": "stdout",
     "output_type": "stream",
     "text": [
      "a is bigger\n"
     ]
    }
   ],
   "source": [
    "# Case 2\n",
    "a=(5,6)\n",
    "b=(5,4)\n",
    "if (a>b):print(\"a is bigger\")\n",
    "else: print (\"b is bigger\")"
   ]
  },
  {
   "cell_type": "markdown",
   "metadata": {},
   "source": [
    "Comparison starts with a first element of each tuple. In this case 5>5 which is inconclusive. So it proceeds to the next element. 6>4, so the output a is bigger"
   ]
  },
  {
   "cell_type": "code",
   "execution_count": null,
   "metadata": {
    "ExecuteTime": {
     "end_time": "2020-06-08T05:23:00.704582Z",
     "start_time": "2020-06-08T05:23:00.696870Z"
    }
   },
   "outputs": [],
   "source": [
    "# Case 3\n",
    "a=(5,6)\n",
    "b=(6,4)\n",
    "if (a>b):print(\"a is bigger\")\n",
    "else: print(\"b is bigger\")"
   ]
  },
  {
   "cell_type": "markdown",
   "metadata": {},
   "source": [
    "Comparison starts with a first element of each tuple. In this case 5>6 which is false. So it goes into the else block and prints \"b is bigger."
   ]
  },
  {
   "cell_type": "markdown",
   "metadata": {},
   "source": [
    "### Built-in functions with Tuple\n",
    "To perform different task, tuple allows you to use many built-in functions like all(), any(), enumerate(), max(), min(), sorted(), len(), tuple(), etc."
   ]
  },
  {
   "cell_type": "code",
   "execution_count": null,
   "metadata": {},
   "outputs": [],
   "source": [
    "tuple2 = (1,2,3,4,5,7)"
   ]
  },
  {
   "cell_type": "code",
   "execution_count": null,
   "metadata": {},
   "outputs": [],
   "source": [
    "for t in tuple2:\n",
    "    print(t)"
   ]
  },
  {
   "cell_type": "code",
   "execution_count": null,
   "metadata": {},
   "outputs": [],
   "source": [
    "''' quite a few of list methods and functions can be used for tuple also. '''\n",
    "\n",
    "print(len(tuple2))"
   ]
  },
  {
   "cell_type": "code",
   "execution_count": null,
   "metadata": {},
   "outputs": [],
   "source": [
    "print(min(tuple2))\n",
    "print(max(tuple2))"
   ]
  },
  {
   "cell_type": "code",
   "execution_count": null,
   "metadata": {},
   "outputs": [],
   "source": [
    "t1 = ('the good', 'the bad', 'the ugly',)\n",
    "t2 = ('Clint Eastwood',)\n",
    "t3 = (t1, t2)\n",
    "print(t3)"
   ]
  },
  {
   "cell_type": "code",
   "execution_count": null,
   "metadata": {},
   "outputs": [],
   "source": [
    "t1 = ('the good', 'the bad', 'the ugly')\n",
    "t2 = ('Clint Eastwood',)\n",
    "t5 = t1 + t2\n",
    "print(t5)"
   ]
  },
  {
   "cell_type": "code",
   "execution_count": null,
   "metadata": {
    "ExecuteTime": {
     "end_time": "2020-06-08T05:23:32.782834Z",
     "start_time": "2020-06-08T05:23:32.776519Z"
    }
   },
   "outputs": [],
   "source": [
    "t6 = ('Good morning',)\n",
    "print(t6*3)"
   ]
  },
  {
   "cell_type": "code",
   "execution_count": null,
   "metadata": {},
   "outputs": [],
   "source": [
    "print('there' in t1)"
   ]
  },
  {
   "cell_type": "code",
   "execution_count": null,
   "metadata": {},
   "outputs": [],
   "source": [
    "tuple_to_list = list(t5)\n",
    "print(tuple_to_list, type(tuple_to_list))"
   ]
  },
  {
   "cell_type": "code",
   "execution_count": null,
   "metadata": {},
   "outputs": [],
   "source": [
    "list_ratings = ['bad', 'okay', 'excellent']\n",
    "list_to_tuple = tuple(list_ratings)\n",
    "print(list_to_tuple, type(list_to_tuple))"
   ]
  },
  {
   "cell_type": "code",
   "execution_count": null,
   "metadata": {},
   "outputs": [],
   "source": [
    "t1 = (3, 4, 67)\n",
    "print(id(t1))\n",
    "t1 = 6\n",
    "t2 = (1, 2, 423)\n",
    "print(id(t2))"
   ]
  },
  {
   "cell_type": "markdown",
   "metadata": {},
   "source": [
    "#### Advantages of Tuple over List\n",
    "Since tuples are quite similar to lists, both of them are used in similar situations as well.\n",
    "However, there are certain advantages of implementing a tuple over a list. Below listed are some of the main advantages:\n",
    "\n",
    "- We generally use tuple for heterogeneous (different) datatypes and list for homogeneous (similar) datatypes.\n",
    "\n",
    "- Since tuples are immutable, iterating through tuple is faster than with list. So there is a slight performance boost.\n",
    "\n",
    "- Tuples that contain immutable elements can be used as a key for a dictionary. With lists, this is not possible.\n",
    "\n",
    "- If you have data that doesn't change, implementing it as tuple will guarantee that it remains write-protected.\n",
    "\n",
    "- There is another Python data type that you will discuss shortly called a dictionary, which requires as one of its components a value that is of an immutable type. A tuple can be used for this purpose, whereas a list can’t be."
   ]
  },
  {
   "cell_type": "markdown",
   "metadata": {},
   "source": [
    "#### When to use Tuple?\n",
    "As tuples and lists are similar data structures, and they both allow sequential data storage, tuples are often referred to as immutable lists. So the tuples are used for the following requirements instead of lists.\n",
    "\n",
    "- There are no append() or extend() to add items and similarly no remove() or pop() methods to remove items. This ensures that the data is write-protected. As the tuples are Unchangeable, they can be used to represent read-only or fixed data that does not change.\n",
    "- As they are immutable, they can be used as a key for the dictionaries, while lists cannot be used for this purpose.\n",
    "- As they are immutable, the search operation is much faster than the lists. This is because the id of the items remains constant.\n",
    "- Tuples contain heterogeneous (all types) data that offers huge flexibility in data that contains combinations of data types like alphanumeric characters."
   ]
  },
  {
   "cell_type": "code",
   "execution_count": null,
   "metadata": {},
   "outputs": [],
   "source": []
  }
 ],
 "metadata": {
  "kernelspec": {
   "display_name": "Python 3 (ipykernel)",
   "language": "python",
   "name": "python3"
  },
  "language_info": {
   "codemirror_mode": {
    "name": "ipython",
    "version": 3
   },
   "file_extension": ".py",
   "mimetype": "text/x-python",
   "name": "python",
   "nbconvert_exporter": "python",
   "pygments_lexer": "ipython3",
   "version": "3.11.4"
  },
  "varInspector": {
   "cols": {
    "lenName": 16,
    "lenType": 16,
    "lenVar": 40
   },
   "kernels_config": {
    "python": {
     "delete_cmd_postfix": "",
     "delete_cmd_prefix": "del ",
     "library": "var_list.py",
     "varRefreshCmd": "print(var_dic_list())"
    },
    "r": {
     "delete_cmd_postfix": ") ",
     "delete_cmd_prefix": "rm(",
     "library": "var_list.r",
     "varRefreshCmd": "cat(var_dic_list()) "
    }
   },
   "types_to_exclude": [
    "module",
    "function",
    "builtin_function_or_method",
    "instance",
    "_Feature"
   ],
   "window_display": false
  },
  "widgets": {
   "state": {},
   "version": "1.1.2"
  }
 },
 "nbformat": 4,
 "nbformat_minor": 2
}

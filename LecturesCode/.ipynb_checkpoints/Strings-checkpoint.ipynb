{
 "cells": [
  {
   "cell_type": "markdown",
   "metadata": {},
   "source": [
    "In this notebook, you will learn about working with **strings**, which are objects that contain sequence of character data. You will see how strings are treated in Python, the different ways in which strings are represented in Python, and the ways in which you can use strings in your code.\n",
    "\n",
    "Python provides a rich set of operators, functions, and methods for working with strings. When you’re finished this course, you’ll know how to:\n",
    "\n",
    "- **Use operators** with strings\n",
    "- **Access and extract portions** of strings\n",
    "- **Use built-in Python functions**with characters and strings\n",
    "- **Use methods to manipulate and modify**  string data"
   ]
  },
  {
   "cell_type": "code",
   "execution_count": 4,
   "metadata": {},
   "outputs": [
    {
     "name": "stdout",
     "output_type": "stream",
     "text": [
      "string using single quote:\n",
      "hello\n",
      "check the type of the variable:\n",
      "<class 'str'>\n"
     ]
    }
   ],
   "source": [
    "''' \n",
    "How to create a string and assign it to a variable\n",
    "\n",
    "To create a string, put the sequence of characters inside either single quotes, \n",
    "double quotes, or triple quotes and then assign it to a variable.\n",
    "'''\n",
    "var1 = 'hello'\n",
    "print(\"string using single quote:\" )\n",
    "print(var1)\n",
    "\n",
    "print(\"check the type of the variable:\" )\n",
    "print(type(var1))"
   ]
  },
  {
   "cell_type": "code",
   "execution_count": 2,
   "metadata": {},
   "outputs": [
    {
     "name": "stdout",
     "output_type": "stream",
     "text": [
      "string using double quote:\n",
      "hello\n",
      "check the type of the variable:\n",
      "<class 'str'>\n"
     ]
    }
   ],
   "source": [
    "''' using double quotes'''\n",
    "\n",
    "var2 = \"hello\"\n",
    "print(\"string using double quote:\" )\n",
    "print(var2)\n",
    "\n",
    "print(\"check the type of the variable:\" )\n",
    "print(type(var2))"
   ]
  },
  {
   "cell_type": "code",
   "execution_count": 3,
   "metadata": {},
   "outputs": [
    {
     "name": "stdout",
     "output_type": "stream",
     "text": [
      "string using triple quote:\n",
      "hello\n",
      "check the type of the variable:\n",
      "<class 'str'>\n"
     ]
    }
   ],
   "source": [
    "'''using triple quotes'''\n",
    "\n",
    "var3 = \"\"\"hello\"\"\"\n",
    "print(\"string using triple quote:\" )\n",
    "print(var3)\n",
    "\n",
    "print(\"check the type of the variable:\" )\n",
    "print(type(var3))"
   ]
  },
  {
   "cell_type": "markdown",
   "metadata": {},
   "source": [
    "In the examples above, the function type is used to show the underlying class that the object will belong to. Please note that all the variables that have been initiated with single, double, or triple quotes are taken as string. You can use single and double quotes for a single line of characters. Multiple lines are generally put in triple quotes. "
   ]
  },
  {
   "cell_type": "code",
   "execution_count": null,
   "metadata": {},
   "outputs": [],
   "source": [
    "'''\n",
    "you cannot use a single quote to begin\n",
    "a string and a double quote to end it, and vice-versa.\n",
    "'''\n",
    "\n",
    "x = 'I love pizza\"\n",
    "print(x)"
   ]
  },
  {
   "cell_type": "code",
   "execution_count": null,
   "metadata": {},
   "outputs": [],
   "source": [
    "'''\n",
    "How to Use Quotes inside Python String?\n",
    "\n",
    "'''\n",
    "\n",
    "#x = \"I love \"pizza\"\"\n",
    "\n",
    "\n",
    "'''\n",
    "If you need to use double quotes \n",
    "inside a Python string, delimit the string with single quotes.\n",
    "'''\n",
    "\n",
    "x = 'I love \"pizza\"'\n",
    "print(x)\n",
    "\n",
    "'''You can use as many quotes as you want, '''\n",
    "\n",
    "x = \"I 'love' 'pizza'\"\n",
    "print(x)"
   ]
  },
  {
   "cell_type": "code",
   "execution_count": 7,
   "metadata": {},
   "outputs": [
    {
     "name": "stdout",
     "output_type": "stream",
     "text": [
      "Hello\n",
      "  World\n"
     ]
    }
   ],
   "source": [
    "'''\n",
    "Spanning a String Across Lines\n",
    "\n",
    "When you want to span a Python \n",
    "string across multiple lines, you can use triple quotes.\n",
    "\n",
    "'''\n",
    "\n",
    "x=\"\"\"Hello\n",
    "  World\"\"\"\n",
    "print(x)"
   ]
  },
  {
   "cell_type": "code",
   "execution_count": 9,
   "metadata": {},
   "outputs": [
    {
     "name": "stdout",
     "output_type": "stream",
     "text": [
      "Hello    World\n"
     ]
    }
   ],
   "source": [
    "x=\"Hello\\\n",
    "    World\"\n",
    "\n",
    "\n",
    "print(x)"
   ]
  },
  {
   "cell_type": "markdown",
   "metadata": {},
   "source": [
    "**NOTE:** see the differene between **triple double quote** and **triple single quote**"
   ]
  },
  {
   "cell_type": "markdown",
   "metadata": {},
   "source": [
    "#### Accessing Values in Strings\n",
    "\n",
    "Python does not support a character type; these are treated as strings of length one, thus also considered a substring.\n",
    "\n",
    "To access substrings, use the square brackets for slicing along with the index or indices to obtain your substring. For example "
   ]
  },
  {
   "cell_type": "code",
   "execution_count": 19,
   "metadata": {},
   "outputs": [
    {
     "name": "stdout",
     "output_type": "stream",
     "text": [
      "First character:  H\n",
      "last character:  !\n",
      "var2[1:5]:  ello\n"
     ]
    }
   ],
   "source": [
    "var1 = 'Hello World!'\n",
    "\n",
    "'''First Character'''\n",
    "print (\"First character: \", var1[0])\n",
    "\n",
    "'''Last character'''\n",
    "print(\"last character: \", var1[-1])\n",
    "\n",
    "'''slicing 2nd to 5th character'''\n",
    "print (\"var2[1:5]: \", var1[1:5])\n",
    "\n"
   ]
  },
  {
   "cell_type": "code",
   "execution_count": 20,
   "metadata": {},
   "outputs": [
    {
     "name": "stdout",
     "output_type": "stream",
     "text": [
      "orl\n",
      "var2[5:-2]:   Worl\n"
     ]
    }
   ],
   "source": [
    "'''Negative Indexing'''\n",
    "print(var1[-5:-2])\n",
    "\n",
    "\n",
    "'''slicing 6th to 2nd last character'''\n",
    "print (\"var2[5:-2]: \", var1[5:-2])"
   ]
  },
  {
   "cell_type": "code",
   "execution_count": 21,
   "metadata": {},
   "outputs": [
    {
     "ename": "IndexError",
     "evalue": "string index out of range",
     "output_type": "error",
     "traceback": [
      "\u001b[0;31m---------------------------------------------------------------------------\u001b[0m",
      "\u001b[0;31mIndexError\u001b[0m                                Traceback (most recent call last)",
      "Cell \u001b[0;32mIn[21], line 4\u001b[0m\n\u001b[1;32m      1\u001b[0m \u001b[38;5;124;03m''' If we try to access index out of the range or use decimal number, we will get erros'''\u001b[39;00m\n\u001b[1;32m      3\u001b[0m \u001b[38;5;66;03m# Index must be in range\u001b[39;00m\n\u001b[0;32m----> 4\u001b[0m var1[\u001b[38;5;241m20\u001b[39m]\n",
      "\u001b[0;31mIndexError\u001b[0m: string index out of range"
     ]
    }
   ],
   "source": [
    "''' If we try to access index out of the range or use decimal number, we will get erros'''\n",
    "\n",
    "# Index must be in range\n",
    "var1[20]\n"
   ]
  },
  {
   "cell_type": "code",
   "execution_count": 24,
   "metadata": {},
   "outputs": [
    {
     "ename": "TypeError",
     "evalue": "string indices must be integers, not 'float'",
     "output_type": "error",
     "traceback": [
      "\u001b[0;31m---------------------------------------------------------------------------\u001b[0m",
      "\u001b[0;31mTypeError\u001b[0m                                 Traceback (most recent call last)",
      "Cell \u001b[0;32mIn[24], line 2\u001b[0m\n\u001b[1;32m      1\u001b[0m \u001b[38;5;66;03m# index must be an integer\u001b[39;00m\n\u001b[0;32m----> 2\u001b[0m var1[\u001b[38;5;241m2.5\u001b[39m]\n",
      "\u001b[0;31mTypeError\u001b[0m: string indices must be integers, not 'float'"
     ]
    }
   ],
   "source": [
    "# index must be an integer\n",
    "var1[2.5]"
   ]
  },
  {
   "cell_type": "markdown",
   "metadata": {},
   "source": [
    "#### Updating Strings\n",
    "\n",
    "Strings are immutable. This means that elements of a string cannot be changed once it has been assigned. We can simply reassign different strings to the same name.\n",
    "\n",
    "You can \"update\" an existing string by (re)assigning a variable to another string. The new value can be related to its previous value or to a completely different string altogether. For example −"
   ]
  },
  {
   "cell_type": "code",
   "execution_count": 27,
   "metadata": {},
   "outputs": [
    {
     "name": "stdout",
     "output_type": "stream",
     "text": [
      "Hello PG'\n",
      "Updated String :-  Hello Guys\n"
     ]
    }
   ],
   "source": [
    "var1 = 'Hello World!'\n",
    "\n",
    "var1 = \"Hello PG'\"\n",
    "\n",
    "print(var1)\n",
    "\n",
    "print (\"Updated String :- \", var1[:6] + 'Guys')"
   ]
  },
  {
   "cell_type": "code",
   "execution_count": 28,
   "metadata": {},
   "outputs": [
    {
     "ename": "TypeError",
     "evalue": "'str' object doesn't support item deletion",
     "output_type": "error",
     "traceback": [
      "\u001b[0;31m---------------------------------------------------------------------------\u001b[0m",
      "\u001b[0;31mTypeError\u001b[0m                                 Traceback (most recent call last)",
      "Cell \u001b[0;32mIn[28], line 3\u001b[0m\n\u001b[1;32m      1\u001b[0m \u001b[38;5;124;03m'''We cannot delete or remove characters from a string. But deleting the string entirely is possible using the keyword'''\u001b[39;00m\n\u001b[0;32m----> 3\u001b[0m \u001b[38;5;28;01mdel\u001b[39;00m var1[\u001b[38;5;241m1\u001b[39m]\n",
      "\u001b[0;31mTypeError\u001b[0m: 'str' object doesn't support item deletion"
     ]
    }
   ],
   "source": [
    "'''We cannot delete or remove characters from a string. But deleting the string entirely is possible using the keyword'''\n",
    "\n",
    "del var1[1]"
   ]
  },
  {
   "cell_type": "code",
   "execution_count": 29,
   "metadata": {},
   "outputs": [
    {
     "ename": "NameError",
     "evalue": "name 'var1' is not defined",
     "output_type": "error",
     "traceback": [
      "\u001b[0;31m---------------------------------------------------------------------------\u001b[0m",
      "\u001b[0;31mNameError\u001b[0m                                 Traceback (most recent call last)",
      "Cell \u001b[0;32mIn[29], line 2\u001b[0m\n\u001b[1;32m      1\u001b[0m \u001b[38;5;28;01mdel\u001b[39;00m var1\n\u001b[0;32m----> 2\u001b[0m var1\n",
      "\u001b[0;31mNameError\u001b[0m: name 'var1' is not defined"
     ]
    }
   ],
   "source": [
    "del var1\n",
    "var1"
   ]
  },
  {
   "cell_type": "markdown",
   "metadata": {},
   "source": [
    "#### String Special Operators\n",
    " There are many operations that can be pefromed with string which makes it one of the most used datatypes in Python.\n",
    " \n",
    " \n",
    " Let us say var1 contains \"hello\" and var2 contains World, then -  \n",
    "\n",
    "|Operator|Description|Example|\n",
    "|:--|:--|:--|\n",
    "|+|Concatenation - Adds values on either side of the operator|var1+var2 will give HelloWorld|\n",
    "|*|Repetition - Creates new strings, concatenating multiple copies of the same string|var1*2 will give -HelloHello|\n",
    "| []|Slice - Gives the character from the given index|ver1[1] will give e|\n",
    "| [:]|Range Slice - Gives the characters from the given range|ver1[1:4] will give ell|\n",
    "|in|Membership - Returns true if a character exists in the given string|e in a will give 1|\n",
    "| not in|Membership - Returns true if a character does not exist in the given string|S not in a will gice 1|\n",
    "|%| Format - Performs String formatting will discuss later|"
   ]
  },
  {
   "cell_type": "code",
   "execution_count": null,
   "metadata": {},
   "outputs": [],
   "source": [
    "''' Concatenation of two or more strings\n",
    "\n",
    "Joining of two or more strings into a single one \n",
    "is called concatenation.\n",
    "\n",
    "As discussed above + operator does this. \n",
    "\n",
    "* operator can be used to repeat the string for a given number of times\n",
    "\n",
    "'''"
   ]
  },
  {
   "cell_type": "code",
   "execution_count": 34,
   "metadata": {},
   "outputs": [
    {
     "name": "stdout",
     "output_type": "stream",
     "text": [
      "string concatenation operation:\n",
      "var1 + var22 =  HelloWorld\n",
      "string repeat operation:\n",
      "var1*4 =  HelloHelloHelloHello\n",
      "1010\n"
     ]
    },
    {
     "data": {
      "text/plain": [
       "\"\\nMultiplying 'x' by 2 returned 1010, and not 20, because x is a string,\\nnot a number. \\n\\n\""
      ]
     },
     "execution_count": 34,
     "metadata": {},
     "output_type": "execute_result"
    }
   ],
   "source": [
    "var1 = \"Hello\"\n",
    "var2 = \"World\"\n",
    "\n",
    "# using +\n",
    "\n",
    "print(\"string concatenation operation:\")\n",
    "print('var1 + var22 = ', var1 + var2)\n",
    "\n",
    "\n",
    "print(\"string repeat operation:\")\n",
    "print('var1*4 = ', var1*4)\n",
    "\n",
    "\n",
    "x = \"10\"\n",
    "print(x*2)\n",
    "\n",
    "'''\n",
    "Multiplying 'x' by 2 returned 1010, and not 20, because x is a string,\n",
    "not a number. \n",
    "\n",
    "'''"
   ]
  },
  {
   "cell_type": "code",
   "execution_count": 44,
   "metadata": {},
   "outputs": [
    {
     "name": "stdout",
     "output_type": "stream",
     "text": [
      "Hello World\n",
      "Hello World\n"
     ]
    }
   ],
   "source": [
    "'''\n",
    "Writing two string literals together also \n",
    "concatenates them like + operator.\n",
    "\n",
    "If we want to concatenate strings in different lines,\n",
    "we can use parentheses.\n",
    "\n",
    "'''\n",
    "\n",
    "# Two string literals together\n",
    "str1 = \"Hello \"\"World\"\n",
    "print(str1)\n",
    "\n",
    "# Using parantheses\n",
    "str2 = (\"Hello \"\n",
    "        \"World\")\n",
    "\n",
    "print(str2)"
   ]
  },
  {
   "cell_type": "code",
   "execution_count": null,
   "metadata": {},
   "outputs": [],
   "source": [
    "''' \n",
    "Iterating thorugh string\n",
    "\n",
    "count number of specific letter in a string\n",
    "\n",
    "'''\n",
    "\n",
    "str1 = \"Hello World\"\n",
    "count = 0\n",
    "\n",
    "for i in str1:\n",
    "    if(i == 'l'):\n",
    "      count +=1\n",
    "\n",
    "print(\"There are:\", count, \"ls\")"
   ]
  },
  {
   "cell_type": "code",
   "execution_count": null,
   "metadata": {},
   "outputs": [],
   "source": [
    "'''\n",
    "String memebership \n",
    "'''\n",
    "\n",
    "print('H' in 'Hello')\n",
    "\n",
    "print(\"Q\" in \"Hello\")\n",
    "\n",
    "\n",
    "print(\"H \" not in \"Hello\")"
   ]
  },
  {
   "cell_type": "code",
   "execution_count": null,
   "metadata": {},
   "outputs": [],
   "source": [
    "'''\n",
    "Copmarison\n",
    "\n",
    "Python Strings can compare using the relational operators\n",
    "'''\n",
    "\n",
    "print('Hello'<'World')\n",
    "\n",
    "'''\n",
    "\"Hello\" is lesser than \"World\" lexicographically (because h comes nefore W in the dictionary)\n",
    "'''\n",
    "\n",
    "print(\"Hello\"!=\"World\")"
   ]
  },
  {
   "cell_type": "code",
   "execution_count": null,
   "metadata": {},
   "outputs": [],
   "source": [
    "'''\n",
    "Identity\n",
    "\n",
    "Python’s identity operators ‘is’ and ‘is not’ can be used on strings.\n",
    "'''\n",
    "\n",
    "print(\"Hello\" is \"World\")\n",
    "\n",
    "print(\"Hello\" is not \"World\")"
   ]
  },
  {
   "cell_type": "code",
   "execution_count": null,
   "metadata": {},
   "outputs": [],
   "source": [
    "'''\n",
    "Logical\n",
    "\n",
    "Python’s and, or, and not operators can be \n",
    "applied too. An empty string has a Boolean value of False.\n",
    "\n",
    "'''\n",
    "\n",
    "'''\n",
    "and- If the value on the left is True it returns the value on the right. \n",
    "Otherwise, the value on the left is False, it returns False.\n",
    "'''\n",
    "\n",
    "print('and operation:')\n",
    "print('' and '2')\n",
    "print('2' and '')\n",
    "print('True' and 'False', '\\n')\n",
    "\n",
    "\n",
    "'''\n",
    "or- If the value on the left is True, \n",
    "it returns True. Otherwise, the value on the right is returned.\n",
    "\n",
    "'''\n",
    "\n",
    "print('or operation:')\n",
    "print('2' or '')\n",
    "\n",
    "\n"
   ]
  },
  {
   "cell_type": "code",
   "execution_count": null,
   "metadata": {},
   "outputs": [],
   "source": []
  },
  {
   "cell_type": "markdown",
   "metadata": {},
   "source": [
    "#### Built-in functions to Work with Python\n",
    "\n",
    "https://docs.python.org/2.4/lib/string-methods.html\n",
    "\n",
    "\n",
    "Various built-in functions that work with sequence, works with string as well.\n",
    "\n",
    "Some of the commonly used ones are *enumerate()* and *len()*. The *enumerate()* function returns an enumerate object. It contains the index and value of all the items in the string as pairs. This can be useful for iteration.\n",
    "\n",
    "Similarly, *len()* returns the length (number of characters) of the string."
   ]
  },
  {
   "cell_type": "code",
   "execution_count": null,
   "metadata": {},
   "outputs": [],
   "source": [
    "str1 = \"Hello\"\n",
    "\n",
    "# enumerate()\n",
    "list_enumerate = list(enumerate(str1))\n",
    "print('list(enumerate(str) = ', list_enumerate)\n",
    "\n",
    "#character count\n",
    "print('len(str1) = ', len(str1))"
   ]
  },
  {
   "cell_type": "code",
   "execution_count": null,
   "metadata": {},
   "outputs": [],
   "source": [
    "'''\n",
    "strip() method removes any whitespaces \n",
    "'''\n",
    "\n",
    "str1 = \" Hello world \"\n",
    "\n",
    "print(\"Original string:\",str1)\n",
    "\n",
    "print(str1.strip())"
   ]
  },
  {
   "cell_type": "code",
   "execution_count": null,
   "metadata": {},
   "outputs": [],
   "source": [
    "''' To convert to lower case'''\n",
    "\n",
    "print(str1.lower())"
   ]
  },
  {
   "cell_type": "code",
   "execution_count": null,
   "metadata": {},
   "outputs": [],
   "source": [
    "''' To convert to upper case'''\n",
    "\n",
    "print(str1.upper())"
   ]
  },
  {
   "cell_type": "code",
   "execution_count": null,
   "metadata": {},
   "outputs": [],
   "source": [
    "''' Converts the target string to “title case.”'''\n",
    "str1.title()"
   ]
  },
  {
   "cell_type": "code",
   "execution_count": null,
   "metadata": {},
   "outputs": [],
   "source": [
    "''' swapcase() \n",
    "\n",
    "Swaps case of alphabetic characters.\n",
    "\n",
    "s.swapcase() returns a copy of s with uppercase alphabetic \n",
    "characters converted to lowercase and vice versa:\n",
    "'''\n",
    "str1 = \"Hello World\"\n",
    "str1.swapcase()"
   ]
  },
  {
   "cell_type": "code",
   "execution_count": null,
   "metadata": {},
   "outputs": [],
   "source": [
    "''' replace() method replaces a string with another string'''\n",
    "\n",
    "print(str1.replace(\"world\", \"PG\"))"
   ]
  },
  {
   "cell_type": "code",
   "execution_count": null,
   "metadata": {},
   "outputs": [],
   "source": [
    "''' The split method splits the string into substrings if it finds instances of teh separator'''\n",
    "\n",
    "print(str1.split(\" \")) \n",
    "\n",
    "str2 = \"Hello,World!\"\n",
    "\n",
    "print(str2.split(\",\"))"
   ]
  },
  {
   "cell_type": "code",
   "execution_count": null,
   "metadata": {},
   "outputs": [],
   "source": [
    "'''The find() method finds the first occurrence of the specified value.'''\n",
    "\n",
    "str3 = \" Welcome to Pyton for Data Analysis\"\n",
    "\n",
    "str_find = str3.find(\"Data Analysis\")\n",
    "print(str_find)\n",
    "\n",
    "'''similar to index'''\n",
    "\n",
    "str_indx = str3.index(\"Data Analysis\")\n",
    "print(str_indx)"
   ]
  },
  {
   "cell_type": "code",
   "execution_count": null,
   "metadata": {},
   "outputs": [],
   "source": [
    "'''endwith() method'''\n",
    "str3 = \" Welcome to Pyton for Data Analysis\"\n",
    "\n",
    "str_endswith = str3.endswith(\"s\")\n",
    "print(str_endswith)"
   ]
  },
  {
   "cell_type": "code",
   "execution_count": null,
   "metadata": {},
   "outputs": [],
   "source": [
    "\" Join method\"\n",
    "\n",
    "x = (\"John\", \"Peter\", \"Ron\")\n",
    "\n",
    "x1 = \"!\".join(x)\n",
    "print(x1)"
   ]
  },
  {
   "cell_type": "code",
   "execution_count": null,
   "metadata": {},
   "outputs": [],
   "source": [
    "'''isdigit()\n",
    "Returns True if all characters in a string are digits\n",
    "'''\n",
    "\n",
    "x = '999'\n",
    "x.isdigit()"
   ]
  },
  {
   "cell_type": "code",
   "execution_count": null,
   "metadata": {},
   "outputs": [],
   "source": [
    "''' \n",
    "str.count()\n",
    "\n",
    "Counts occurrences of a substring in the target string.\n",
    "'''\n",
    "\n",
    "str1 = \"Hello World\"\n",
    "print(str1.count(\"o\"))\n",
    "print(str1.count(\"ll\", 0,5))"
   ]
  },
  {
   "cell_type": "markdown",
   "metadata": {},
   "source": [
    "#### String Formatting Operator\n",
    "\n",
    "https://docs.python.org/2.4/lib/typesseq-strings.html\n",
    "\n",
    "One of Python's coolest features is the string format operator %. This operator is unique to strings and makes up for the pack of having functions from C's printf() family. Follwing is the list of set of symbols which can be used along with % - \n",
    "\n",
    "|Symbol|Conversion|\n",
    "|:--|:--|\n",
    "|%c|character|\n",
    "|%s|string conversion via str() to formatting|\n",
    "|%i|signed decimal integr|\n",
    "|%d|signed decimal integer|\n",
    "|%o|octal integer|\n",
    "|%x|hexadecimal inetger|\n",
    "|%X|hexadecimal integer (UPPERcase letters)|\n",
    "|%e|exponentail notation (with lowercase 'e')|\n",
    "|%E|exponentail notation (with Upeercase 'E')|\n",
    "|%f|floating point real number|\n",
    "|%g|the shorter of %f and %e|\n",
    "\n",
    "\n",
    "Following is a simple example −"
   ]
  },
  {
   "cell_type": "code",
   "execution_count": null,
   "metadata": {},
   "outputs": [],
   "source": [
    "print (\"I teach %s and course number is %d!\" % ('Python for Data Analysis', 403))"
   ]
  },
  {
   "cell_type": "markdown",
   "metadata": {},
   "source": [
    "#### The format() Method for Formatting Strings\n",
    "\n",
    "The format() method that is available with the string object is very versatile and powerful in formatting strings. Format strings contains curly braces {} as placeholders or replacement fields which gets replaced.\n",
    "\n",
    "We can use positional arguments or keyword arguments to specify the order.\n",
    "The syntax of *format(0* method is:\n",
    "\n",
    "template.format(p0, p1, ..., k0=v0, k1=v1, ...)\n",
    "\n",
    "Here, p0, p1,... are positional arguments and, k0, k1,... are keyword arguments with values v0, v1,... respectively.\n",
    "\n",
    "And, template is a mixture of format codes with placeholders for the arguments.\n",
    "\n",
    "\n",
    "#### String format() Parameters\n",
    "format() method takes any number of parameters. But, is divided into two types of parameters:\n",
    "\n",
    "- **Positional parameters** - list of parameters that can be accessed with index of parameter inside curly braces {index}\n",
    "- **Keyword parameters** - list of parameters of type key=value, that can be accessed with key of parameter inside curly braces {key}\n",
    "\n",
    "#### Return value from String format()\n",
    "The format() method returns the formatted string"
   ]
  },
  {
   "cell_type": "code",
   "execution_count": null,
   "metadata": {},
   "outputs": [],
   "source": [
    "''' we cannot combine strings and numbers like this'''\n",
    "age = 42\n",
    "str1 = \" My name is John, I am\" + age + \"years old\"\n",
    "\n"
   ]
  },
  {
   "cell_type": "code",
   "execution_count": null,
   "metadata": {},
   "outputs": [],
   "source": [
    "''' But we can combine strings and numbers by using the format() method!'''\n",
    "\n",
    "str2 = \" My name is John, I am {}\"\n",
    "print(str2.format(age))"
   ]
  },
  {
   "cell_type": "code",
   "execution_count": null,
   "metadata": {},
   "outputs": [],
   "source": [
    "# default(implicit) order\n",
    "default_order = \"{}, {} and {}\".format('Jacky','William','Sid')\n",
    "print('\\n--- Default Order ---')\n",
    "print(default_order)\n",
    "\n",
    "# order using positional argument\n",
    "positional_order = \"{1}, {0} and {2}\".format('Jacky','William','Sid')\n",
    "print('\\n--- Positional Order ---')\n",
    "print(positional_order)\n",
    "\n",
    "# order using keyword argument\n",
    "keyword_order = \"{s}, {w} and {j}\".format(j='Jacky',w='William',s='Sid')\n",
    "print('\\n--- Keyword Order ---')\n",
    "print(keyword_order)\n",
    "\n",
    "# mixed argumnets\n",
    "\n",
    "mixed_keyword = \"{0}, {w} and {s}\".format('Jacky',w='William',s='Sid')\n",
    "print('\\n--- Mixed keyworsKeyword Order ---')\n",
    "print(mixed_keyword)"
   ]
  },
  {
   "cell_type": "markdown",
   "metadata": {},
   "source": [
    "#### Simple number formatting"
   ]
  },
  {
   "cell_type": "code",
   "execution_count": null,
   "metadata": {},
   "outputs": [],
   "source": [
    "# integer arguments\n",
    "print(\"The number is:{:d}\".format(245))\n",
    "\n",
    "# float arguments\n",
    "print(\"The float number is:{:f}\".format(245.456))"
   ]
  },
  {
   "cell_type": "markdown",
   "metadata": {},
   "source": [
    "#### Number formatting with padding for int and floats"
   ]
  },
  {
   "cell_type": "code",
   "execution_count": null,
   "metadata": {},
   "outputs": [],
   "source": [
    "# integer numbers with minimum width\n",
    "print(\"{:5d}\".format(123))\n",
    "\n",
    "# width doesn't work for numbers longer than padding\n",
    "print(\"{:2d}\".format(1234))\n",
    "\n",
    "# padding for float numbers\n",
    "print(\"{:8.3f}\".format(34.16171))\n",
    "\n",
    "# integer numbers with minimum width filled with zeros\n",
    "print(\"{:07d}\".format(1234))\n",
    "\n",
    "# padding for float numbers filled with zeros\n",
    "print(\"{:08.3f}\".format(12.4567))"
   ]
  },
  {
   "cell_type": "markdown",
   "metadata": {},
   "source": [
    "#### Number formatting for signed numbers\n"
   ]
  },
  {
   "cell_type": "code",
   "execution_count": null,
   "metadata": {},
   "outputs": [],
   "source": [
    "# show the + sign\n",
    "print(\"{:+f} {:+f}\".format(245.67, -245.67))\n",
    "\n",
    "# show the - sign only\n",
    "print(\"{:-f} {:-f}\".format(245.67, -245.67))\n",
    "\n",
    "# show space for + sign\n",
    "print(\"{: f} {: f}\".format(245.67, -245.67))"
   ]
  },
  {
   "cell_type": "markdown",
   "metadata": {},
   "source": [
    "#### Number formatting with alignment\n",
    "\n",
    "The operators <, ^, > and = are used for alignment when assigned a certain width to the numbers.\n",
    "\n",
    "|Type|Meaning|\n",
    "|:--|:--|\n",
    "|<\t|Left aligned to the remaining space|\n",
    "|^\t|Center aligned to the remaining space|\n",
    "|>\t|Right aligned to the remaining space|\n",
    "|=\t|Forces the signed (+) (-) to the leftmost position|\n"
   ]
  },
  {
   "cell_type": "code",
   "execution_count": null,
   "metadata": {},
   "outputs": [],
   "source": [
    "# integer numbers with right alignment\n",
    "print(\"{:5d}\".format(1234))\n",
    "\n",
    "# float numbers with center alignment\n",
    "print(\"{:^10.3f}\".format(1234.2346))\n",
    "\n",
    "# integer left alignment filled with zeros\n",
    "print(\"{:<05d}\".format(1234))\n",
    "\n",
    "# float numbers with center alignment\n",
    "print(\"{:=8.3f}\".format(-1234.2346))"
   ]
  },
  {
   "cell_type": "markdown",
   "metadata": {},
   "source": [
    "#### String formatting with format()\n",
    "As numbers, string can be formatted in a similar way with format()."
   ]
  },
  {
   "cell_type": "code",
   "execution_count": null,
   "metadata": {},
   "outputs": [],
   "source": [
    "# string padding with left alignment\n",
    "print(\"{:5}\".format(\"Hello\"))\n",
    "\n",
    "# string padding with right alignment\n",
    "print(\"{:>5}\".format(\"Hello\"))\n",
    "\n",
    "# string padding with center alignment\n",
    "print(\"{:^5}\".format(\"Hello\"))\n",
    "\n",
    "# string padding with center alignment\n",
    "# and '*' padding character\n",
    "print(\"{:*^5}\".format(\"Hello\"))"
   ]
  },
  {
   "cell_type": "markdown",
   "metadata": {},
   "source": [
    "#### Truncating strings with format()"
   ]
  },
  {
   "cell_type": "code",
   "execution_count": null,
   "metadata": {},
   "outputs": [],
   "source": [
    "# truncating strings to 3 letters\n",
    "print(\"{:.3}\".format(\"Hello World\"))\n",
    "\n",
    "# truncating strings to 3 letters\n",
    "# and padding\n",
    "print(\"{:5.3}\".format(\"Hello World\"))\n",
    "\n",
    "# truncating strings to 3 letters,\n",
    "# padding and center alignment\n",
    "print(\"{:^5.3}\".format(\"Hello World\"))\n"
   ]
  },
  {
   "cell_type": "markdown",
   "metadata": {},
   "source": [
    "#### Formatting dictionary members using format()"
   ]
  },
  {
   "cell_type": "code",
   "execution_count": null,
   "metadata": {},
   "outputs": [],
   "source": [
    "# define Person dictionary\n",
    "person = {'Salary': 50, 'Name': 'Adam'}\n",
    "\n",
    "# format age\n",
    "print(\"{p[Name]}'s salary is: {p[Salary]}\".format(p=person))\n",
    "\n",
    "'''\n",
    "There's an easier way to format dictionaries \n",
    "in Python using str.format(**mapping).\n",
    "\n",
    "'''\n",
    "\n",
    "# format age\n",
    "print(\"{Name}'s salary is: {Salary}\".format(**person))\n",
    "\n"
   ]
  },
  {
   "cell_type": "markdown",
   "metadata": {},
   "source": [
    "#### Type-specific formatting with format() and overriding __format__() method"
   ]
  },
  {
   "cell_type": "code",
   "execution_count": null,
   "metadata": {},
   "outputs": [],
   "source": [
    "import datetime\n",
    "# datetime formatting\n",
    "date = datetime.datetime.now()\n",
    "print(\"It's now: {:%Y/%m/%d %H:%M:%S}\".format(date))\n",
    "\n",
    "# complex number formatting\n",
    "complexNumber = 1+2j\n",
    "print(\"Real part: {0.real} and Imaginary part: {0.imag}\".format(complexNumber))"
   ]
  },
  {
   "cell_type": "code",
   "execution_count": null,
   "metadata": {},
   "outputs": [],
   "source": []
  },
  {
   "cell_type": "markdown",
   "metadata": {},
   "source": [
    "#### Escape Sequence\n",
    "\n",
    "If we want to print a text like -He asked, \"How's it going?\"- we can neither use single quote or double quotes. This will result into SyntaxError as the text itself contains both single and double quotes."
   ]
  },
  {
   "cell_type": "code",
   "execution_count": null,
   "metadata": {},
   "outputs": [],
   "source": [
    "print(\"He asked, \"How's it going?\"\")"
   ]
  },
  {
   "cell_type": "markdown",
   "metadata": {},
   "source": [
    "One way to get around this problem is to use triple quotes. Alternatively, we can use escape sequences.\n",
    "\n",
    "An escape sequence starts with a backslash and is interpreted differently. If we use single quote to represent a string, all the single quotes inside the string must be escaped. Similar is the case with double quotes. Here is how it can be done to represent the above text."
   ]
  },
  {
   "cell_type": "code",
   "execution_count": null,
   "metadata": {},
   "outputs": [],
   "source": [
    "# using triple quotes\n",
    "print('''He asked, \"How's it going?\"''')\n",
    "\n",
    "# escaping single quotes\n",
    "print('He asked, \"How\\'s it going?\"')\n",
    "\n",
    "# escaping double quotes\n",
    "print(\"He asked, \\\"How's it going?\\\"\")"
   ]
  },
  {
   "cell_type": "markdown",
   "metadata": {},
   "source": [
    "Lits of escape sequence \n",
    "\n",
    "|Escape Sequence|Description|\n",
    "|:--|:--|\n",
    "|\\newline|\tBackslash and newline ignored|\n",
    "|\\\\\t|Backslash|\n",
    "|\\'\t|Single quote|\n",
    "|\\\"\t|Double quote|\n",
    "|\\a\t|ASCII Bell|\n",
    "|\\b|\tASCII Backspace|\n",
    "|\\f\t|ASCII Formfeed|\n",
    "|\\n|\tASCII Linefeed|\n",
    "|\\r\t|ASCII Carriage Return|\n",
    "|\\t\t|ASCII Horizontal Tab|\n",
    "|\\v\t|ASCII Vertical Tab|\n",
    "|\\ooo|\tCharacter with octal value ooo|\n",
    "|\\xHH|\tCharacter with hexadecimal value HH|"
   ]
  },
  {
   "cell_type": "code",
   "execution_count": null,
   "metadata": {},
   "outputs": [],
   "source": [
    "print(\"This is printed\\\\nin two lines\")\n",
    "\n",
    "print(\"This is printed\\nin two lines\")"
   ]
  },
  {
   "cell_type": "code",
   "execution_count": null,
   "metadata": {},
   "outputs": [],
   "source": [
    "'''\n",
    "Raw String to ignore escape sequence\n",
    "\n",
    "Sometimes we may wish to ignore the escape sequences inside a string. To do this \n",
    "we can place r or R in front of the string. \n",
    "This will imply that it is a raw string and any escape sequence inside it will be ignored.\n",
    "\n",
    "'''"
   ]
  },
  {
   "cell_type": "code",
   "execution_count": null,
   "metadata": {},
   "outputs": [],
   "source": [
    "print(\"This is \\x61 \\ngood example\")\n",
    "\n",
    "print(r\"This is \\x61 \\ngood example\")  ## raw string\n"
   ]
  },
  {
   "cell_type": "markdown",
   "metadata": {},
   "source": [
    "In this notebook, we learned about python string with string functions and Operators , and how to declare and access them. Then we learned about python string concatenation and formatters in python. We also learned about Python string functions. Lastly, we looked at operations that we can perform on strings. "
   ]
  },
  {
   "cell_type": "markdown",
   "metadata": {},
   "source": [
    "#### References\n",
    "\n",
    "https://docs.python.org/3/tutorial/\n",
    "\n",
    "https://www.hackerearth.com/practice/python/getting-started/string/tutorial/\n",
    "\n",
    "https://www.tutorialspoint.com/python3/python_strings.htm\n",
    "\n",
    "https://realpython.com/python-strings/#specifying-a-stride-in-a-string-slice\n",
    "\n",
    "https://www.programiz.com/python-programming/methods/string/\n",
    "https://www.guru99.com/python-tutorials.html"
   ]
  },
  {
   "cell_type": "code",
   "execution_count": null,
   "metadata": {},
   "outputs": [],
   "source": []
  },
  {
   "cell_type": "code",
   "execution_count": null,
   "metadata": {},
   "outputs": [],
   "source": []
  },
  {
   "cell_type": "code",
   "execution_count": null,
   "metadata": {},
   "outputs": [],
   "source": []
  }
 ],
 "metadata": {
  "kernelspec": {
   "display_name": "Python 3 (ipykernel)",
   "language": "python",
   "name": "python3"
  },
  "language_info": {
   "codemirror_mode": {
    "name": "ipython",
    "version": 3
   },
   "file_extension": ".py",
   "mimetype": "text/x-python",
   "name": "python",
   "nbconvert_exporter": "python",
   "pygments_lexer": "ipython3",
   "version": "3.11.4"
  }
 },
 "nbformat": 4,
 "nbformat_minor": 2
}

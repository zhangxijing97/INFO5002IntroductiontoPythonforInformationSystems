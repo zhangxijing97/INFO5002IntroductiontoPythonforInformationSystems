{
 "cells": [
  {
   "cell_type": "markdown",
   "metadata": {},
   "source": [
    "This course is designed for programming for people who have absolutely no previous programming experience.  However, you are expected to have high school level knowledge of simple statistics.\n",
    "\n",
    "As I mentioned earlier I want to make this class interactive, so it is your responsibility is to ask questions, even the same question over and over so that everybody is winner at the end.\n",
    "\n",
    "Programming is a lot like any game, you have to practice, practice,\n",
    "practice and will do together. Moreover, it takes time for new concepts to sink in and become\n",
    "natural.  This short class may not be enough.  But hopefully, it will be\n",
    "enough to discover your affinity, and awaken your talent/interest, for\n",
    "programming to analyze data; and the art of data analysis via Python, itself, will motivate you to learn and do more. \n",
    "At the end of the course you will be able to think like a programmer and do some more digging by your self in the are of data analysis using Python. \n"
   ]
  },
  {
   "cell_type": "markdown",
   "metadata": {},
   "source": [
    "#### Libraries\n",
    "\n",
    "The first step to learn Python is by getting acquainted with useful libraries. we need to learn how to import libraries into our environment. There are several ways of doing. "
   ]
  },
  {
   "cell_type": "code",
   "execution_count": 59,
   "metadata": {},
   "outputs": [
    {
     "name": "stdout",
     "output_type": "stream",
     "text": [
      "3.11.4 (main, Jul  5 2023, 08:54:11) [Clang 14.0.6 ]\n"
     ]
    }
   ],
   "source": [
    "## Print the version\n",
    "import sys\n",
    "print(sys.version)"
   ]
  },
  {
   "cell_type": "code",
   "execution_count": 61,
   "metadata": {},
   "outputs": [
    {
     "name": "stdout",
     "output_type": "stream",
     "text": [
      "Python 3.11.4\r\n"
     ]
    }
   ],
   "source": [
    "!python --version"
   ]
  },
  {
   "cell_type": "code",
   "execution_count": 62,
   "metadata": {},
   "outputs": [
    {
     "name": "stdout",
     "output_type": "stream",
     "text": [
      "1.4142135623730951\n",
      "1.4142135623730951\n",
      "1.4142135623730951\n",
      "1.4142135623730951\n"
     ]
    }
   ],
   "source": [
    "# Method 1\n",
    "import math\n",
    "result01 = math.sqrt(2)\n",
    "print(result01)\n",
    "\n",
    "# Method 2\n",
    "import math as m\n",
    "result02 = m.sqrt(2)\n",
    "print(result02)\n",
    "\n",
    "\n",
    "# method 3(naming conflicts)\n",
    "from math import *\n",
    "result03 = sqrt(2)\n",
    "print(result03)\n",
    "\n",
    "# method 4(naming conflicts)\n",
    "from scipy.stats import *\n",
    "result04 = sqrt(2)\n",
    "print(result04)"
   ]
  },
  {
   "cell_type": "markdown",
   "metadata": {},
   "source": [
    "In the first manner, we have defined an alias m to library math. We can now use various functions from math library (e.g. square root) by referencing it using the alias m.sqrt().\n",
    "\n",
    "In the second manner, we have imported the entire name space in math i.e. you can directly use sqrt() without referring to math."
   ]
  },
  {
   "cell_type": "markdown",
   "metadata": {},
   "source": [
    "### `Print` Statement\n",
    "\n",
    "Whenever we learn a new language, it is an age-old tradition to start by displaying the text `Hello World` on the screen.\n",
    "\n",
    "Every language has a different syntax for displaying or printing something on the screen.\n",
    "\n",
    "Whatever we need to print is encapsulated in the parentheses following the print keyword. Let’s try printing `Hello World` on the terminal:\n"
   ]
  },
  {
   "cell_type": "code",
   "execution_count": 63,
   "metadata": {
    "inputHidden": false,
    "outputHidden": false
   },
   "outputs": [
    {
     "name": "stdout",
     "output_type": "stream",
     "text": [
      "Hello World\n"
     ]
    }
   ],
   "source": [
    "print(\"Hello World\")"
   ]
  },
  {
   "cell_type": "code",
   "execution_count": 64,
   "metadata": {},
   "outputs": [
    {
     "name": "stdout",
     "output_type": "stream",
     "text": [
      "## Print the version\n",
      "import sys\n",
      "print(sys.version)\n",
      "!python --version\n",
      "# Method 1\n",
      "import math\n",
      "# result01 = math.sqrt(2)\n",
      "# print(result01)\n",
      "\n",
      "# #  Method 2\n",
      "# import math as m\n",
      "# result02 = m.sqrt(2)\n",
      "# print(result02)\n",
      "\n",
      "\n",
      "# #method 3\n",
      "# from math import *\n",
      "result03 = sqrt(2)\n",
      "print(result03)\n",
      "\n",
      "# #method 4\n",
      "# from scipy.stats import *\n",
      "result04 = sqrt(2)\n",
      "print(result04)\n",
      "# Method 1\n",
      "import math\n",
      "result01 = math.sqrt(2)\n",
      "print(result01)\n",
      "\n",
      "# #  Method 2\n",
      "import math as m\n",
      "result02 = m.sqrt(2)\n",
      "print(result02)\n",
      "\n",
      "\n",
      "# #method 3\n",
      "from math import *\n",
      "result03 = sqrt(2)\n",
      "print(result03)\n",
      "\n",
      "# #method 4\n",
      "from scipy.stats import *\n",
      "result04 = sqrt(2)\n",
      "print(result04)\n",
      "# Method 1\n",
      "import math\n",
      "result01 = math.sqrt(2)\n",
      "print(result01)\n",
      "\n",
      "# Method 2\n",
      "import math as m\n",
      "result02 = m.sqrt(2)\n",
      "print(result02)\n",
      "\n",
      "\n",
      "# method 3\n",
      "from math import *\n",
      "result03 = sqrt(2)\n",
      "print(result03)\n",
      "\n",
      "# method 4\n",
      "from scipy.stats import *\n",
      "result04 = sqrt(2)\n",
      "print(result04)\n",
      "# Method 1\n",
      "import math\n",
      "result01 = math.sqrt(2)\n",
      "print(result01)\n",
      "\n",
      "# Method 2\n",
      "import math as m\n",
      "result02 = m.sqrt(2)\n",
      "print(result02)\n",
      "\n",
      "\n",
      "# method 3(naming conflicts)\n",
      "from math import *\n",
      "result03 = sqrt(2)\n",
      "print(result03)\n",
      "\n",
      "# method 4(naming conflicts)\n",
      "from scipy.stats import *\n",
      "result04 = sqrt(2)\n",
      "print(result04)\n",
      "# Method 1\n",
      "import math\n",
      "result01 = math.sqrt(2)\n",
      "print(result01)\n",
      "\n",
      "# Method 2\n",
      "import math as m\n",
      "result02 = m.sqrt(2)\n",
      "print(result02)\n",
      "\n",
      "\n",
      "# method 3(naming conflicts)\n",
      "from math import *\n",
      "result03 = sqrt(2)\n",
      "print(result03)\n",
      "\n",
      "# method 4(naming conflicts)\n",
      "from scipy.stats import *\n",
      "result04 = sqrt(2)\n",
      "print(result04)\n",
      "print(\"Hello World\")\n",
      "print(\"Hello World\")\n",
      "%history\n",
      "print(40)\n",
      "print(1000)\n",
      "print('Hello World')\n",
      "#print(\"Hello\")\n",
      "print(\"Hello\", end=\" \")\n",
      "print(\"World\")\n",
      "print(40, 100, \"Hello World\")\n",
      "# Method 1\n",
      "import math\n",
      "result01 = math.sqrt(2)\n",
      "print(result01)\n",
      "\n",
      "# Method 2\n",
      "import math as m\n",
      "result02 = m.sqrt(2)\n",
      "print(result02)\n",
      "\n",
      "\n",
      "# method 3(naming conflicts)\n",
      "from math import *\n",
      "result03 = sqrt(2)\n",
      "print(result03)\n",
      "\n",
      "# method 4(naming conflicts)\n",
      "from scipy.stats import *\n",
      "result04 = sqrt(2)\n",
      "print(result04)\n",
      "print(\"Hello World\")\n",
      "print(40)\n",
      "print(1000)\n",
      "print('Hello World')\n",
      "print(40, 100, \"Hello World\")\n",
      "#print(\"Hello\")\n",
      "print(\"Hello\", end=\" \")\n",
      "print(\"World\")\n",
      "print?\n",
      "print?\n",
      "#print(\"Hello\")\n",
      "print(\"Hello\", end=\" \")\n",
      "print(\"World\")\n",
      "print?\n",
      "print(\"Hello\")\n",
      "print(\"World\")\n",
      "print(\"Hello\", end=\" \")\n",
      "print(\"World\")\n",
      "print?\n",
      "print(\"Hello\")\n",
      "print(\"World\")\n",
      "# print(\"Hello\", end=\" \") # change the default value of print function\n",
      "print(\"World\")\n",
      "print?\n",
      "print(\"Hello\")\n",
      "print(\"World\")\n",
      "print(\"Hello\", end=\" \") # change the default value of print function\n",
      "print(\"World\")\n",
      "print(\"Hello\")\n",
      "print(\"World\")\n",
      "print(\"Hello\", end=\" \") # change the default value of print function\n",
      "print(\"World\")\n",
      "print(\"Hello\")\n",
      "print(\"World\")\n",
      "print(\"Hello\", end=\"asdasda\") # change the default value of print function\n",
      "print(\"World\")\n",
      "print?\n",
      "print(\"Hello\")\n",
      "print(\"World\")\n",
      "print(\"Hello\", end=\"\") # change the default value of print function\n",
      "print(\"World\")\n",
      "print(\"Hello\")\n",
      "print(\"World\")\n",
      "print(\"Hello\", end=\" \") # change the default value of print function\n",
      "print(\"World\")\n",
      "print?\n",
      "#this is my first notebook practice\n",
      "# I am getting used to it by practicing and viewing some youtube vidoes\n",
      "\n",
      "a = 40 # This is a single line comment\n",
      "# This is a different single line comment\n",
      "print(a)\n",
      "'''\n",
      "This is a multiple line comment. We are using three single quotes \n",
      "in this example. \n",
      "'''\n",
      "print(3+2)\n",
      "\"\"\"\n",
      "In this multiple line comment, we are using three double quotes at the \n",
      "start and at the end. \n",
      "\"\"\"\n",
      "print(3+2)\n",
      "%history\n",
      "num1 = 50\n",
      "num2 = 100\n",
      "if num1 > num2:\n",
      "    print(num1, 'is greater than', num2)\n",
      "    print(\"I am done\")\n",
      "elif num2 > num1:\n",
      "    print(num2, 'is greater than', num1)\n",
      "else:\n",
      "    print('Both numbers are equal')\n",
      "num1 = 50\n",
      "num2 = 100\n",
      "if num1 > num2:\n",
      "    print(num1, 'is greater than', num2)\n",
      "    print(\"I am done\")\n",
      "elif num2 > num1:\n",
      "    print(num2, 'is greater than', num1)\n",
      "else:\n",
      "    print('Both numbers are equal')\n",
      "num1 = 500\n",
      "if num1 > 100:\n",
      "    if num1 % 2 == 0:\n",
      "        print('Even number is greater than 100')\n",
      "import keyword\n",
      "print(keyword.kwlist)\n",
      "#def = 5\n",
      "\n",
      "Def = 5\n",
      "print(Def)\n",
      "num1 = 50\n",
      "num2 = 100\n",
      "if num1 > num2:\n",
      "    print(num1, 'is greater than', num2)\n",
      "    print(\"I am done\")\n",
      "elif num2 > num1:\n",
      "    print(num2, 'is greater than', num1)\n",
      "else:\n",
      "    print('Both numbers are equal')\n",
      "num1 = 500\n",
      "if num1 > 100:\n",
      "    if num1 % 2 == 0:\n",
      "        print('Even number is greater than 100')\n",
      "import keyword\n",
      "print(keyword.kwlist)\n",
      "#def = 5\n",
      "\n",
      "Def = 5\n",
      "print(Def)\n",
      "import keyword\n",
      "print(keyword.kwlist)\n",
      "Print(asdasdasd\")\n",
      "import keyword\n",
      "print(keyword.kwlist)\n",
      "#def = 5\n",
      "\n",
      "Def = 5\n",
      "print(Def)\n",
      "def = 5\n",
      "\n",
      "Def = 5\n",
      "print(def)\n",
      "#def = 5\n",
      "\n",
      "Def = 5\n",
      "print(Def)\n",
      "#def = 5\n",
      "\n",
      "Def = 5\n",
      "print(Def)\n",
      "print(help(\"def\"))\n",
      "import keyword\n",
      "\n",
      "#print(keyword.iskeyword('hi'))\n",
      "print(keyword.iskeyword('def'))\n",
      "3+2\n",
      "import keyword\n",
      "\n",
      "#print(keyword.iskeyword('hi'))\n",
      "print(keyword.iskeyword('def'))\n",
      "import keyword\n",
      "\n",
      "print(keyword.iskeyword('hi'))\n",
      "print(keyword.iskeyword('def'))\n",
      "test = 3+2\n",
      "## Print the version\n",
      "import sys\n",
      "print(sys.version)\n",
      "!python --version\n",
      "!python --version\n",
      "# Method 1\n",
      "import math\n",
      "result01 = math.sqrt(2)\n",
      "print(result01)\n",
      "\n",
      "# Method 2\n",
      "import math as m\n",
      "result02 = m.sqrt(2)\n",
      "print(result02)\n",
      "\n",
      "\n",
      "# method 3(naming conflicts)\n",
      "from math import *\n",
      "result03 = sqrt(2)\n",
      "print(result03)\n",
      "\n",
      "# method 4(naming conflicts)\n",
      "from scipy.stats import *\n",
      "result04 = sqrt(2)\n",
      "print(result04)\n",
      "print(\"Hello World\")\n",
      "%history\n"
     ]
    }
   ],
   "source": [
    "%history"
   ]
  },
  {
   "cell_type": "markdown",
   "metadata": {},
   "source": [
    "we can give a valid mathematical expressions or string operations to a print function and the evaluated value will be printed in the output."
   ]
  },
  {
   "cell_type": "markdown",
   "metadata": {},
   "source": [
    "Next, we'll print a few numbers. Each call to `print` moves the output to a new line: "
   ]
  },
  {
   "cell_type": "code",
   "execution_count": 65,
   "metadata": {},
   "outputs": [
    {
     "name": "stdout",
     "output_type": "stream",
     "text": [
      "40\n",
      "1000\n",
      "Hello World\n"
     ]
    }
   ],
   "source": [
    "print(40)\n",
    "print(1000)\n",
    "print('Hello World')"
   ]
  },
  {
   "cell_type": "markdown",
   "metadata": {},
   "source": [
    "### Printing Multiple Pieces of Data\n",
    "We can even print multiple things in a single print command; we just have to separate them using commas."
   ]
  },
  {
   "cell_type": "code",
   "execution_count": 66,
   "metadata": {
    "inputHidden": false,
    "outputHidden": false
   },
   "outputs": [
    {
     "name": "stdout",
     "output_type": "stream",
     "text": [
      "40 100 Hello World\n"
     ]
    }
   ],
   "source": [
    "print(40, 100, \"Hello World\")\n"
   ]
  },
  {
   "cell_type": "markdown",
   "metadata": {},
   "source": [
    "By default, each `print` statement prints text in a new line. If we want multiple `print` statements to print in the same line, we can use the following code:"
   ]
  },
  {
   "cell_type": "code",
   "execution_count": 67,
   "metadata": {},
   "outputs": [
    {
     "name": "stdout",
     "output_type": "stream",
     "text": [
      "Hello\n",
      "World\n",
      "Hello World\n"
     ]
    }
   ],
   "source": [
    "print(\"Hello\")\n",
    "print(\"World\")\n",
    "print(\"Hello\", end=\" \") # change the default value of print function\n",
    "print(\"World\")\n"
   ]
  },
  {
   "cell_type": "code",
   "execution_count": 33,
   "metadata": {},
   "outputs": [],
   "source": [
    "print? # open a help or documentation panel that provides information about the print() function"
   ]
  },
  {
   "cell_type": "markdown",
   "metadata": {},
   "source": [
    "The value of end is appended to the output and the next print will continue from here."
   ]
  },
  {
   "cell_type": "markdown",
   "metadata": {},
   "source": [
    "### Comments\n",
    "Comments are used to improve the readability of the code and to communicate the inner working of the code, i.e, what is going on in the code. By looking the comment, we can easily understand the intention of every line that we have written in code. We can also find the error very easily, fix them, and use in other applications.\n",
    "\n",
    "Python had single line comments and multiple line comments. Single line comments start with a hash, `#`. All the text placed after the `#` sign until the end of the line are considered to be part of the comment. Thus, single line comments cannot span multiple lines. \n"
   ]
  },
  {
   "cell_type": "code",
   "execution_count": 68,
   "metadata": {
    "inputHidden": false,
    "outputHidden": false
   },
   "outputs": [
    {
     "name": "stdout",
     "output_type": "stream",
     "text": [
      "40\n"
     ]
    }
   ],
   "source": [
    "#this is my first notebook practice\n",
    "# I am getting used to it by practicing and viewing some youtube vidoes\n",
    "\n",
    "a = 40 # This is a single line comment\n",
    "# This is a different single line comment\n",
    "print(a)"
   ]
  },
  {
   "cell_type": "markdown",
   "metadata": {},
   "source": [
    "Multiple line comments are placed between pair of triple single quotes or multiple double quotes and as the name indicates can span over multiple lines."
   ]
  },
  {
   "cell_type": "code",
   "execution_count": 69,
   "metadata": {
    "inputHidden": false,
    "outputHidden": false
   },
   "outputs": [
    {
     "name": "stdout",
     "output_type": "stream",
     "text": [
      "5\n"
     ]
    }
   ],
   "source": [
    "'''\n",
    "This is a multiple line comment. We are using three single quotes \n",
    "in this example. \n",
    "'''\n",
    "print(3+2)"
   ]
  },
  {
   "cell_type": "code",
   "execution_count": 1,
   "metadata": {
    "inputHidden": false,
    "outputHidden": false
   },
   "outputs": [
    {
     "name": "stdout",
     "output_type": "stream",
     "text": [
      "5\n"
     ]
    }
   ],
   "source": [
    "\"\"\"\n",
    "In this multiple line comment, we are using three double quotes at the \n",
    "start and at the end. \n",
    "\"\"\"\n",
    "print(3+2)"
   ]
  },
  {
   "cell_type": "code",
   "execution_count": 37,
   "metadata": {},
   "outputs": [
    {
     "name": "stdout",
     "output_type": "stream",
     "text": [
      "## Print the version\n",
      "import sys\n",
      "print(sys.version)\n",
      "!python --version\n",
      "# Method 1\n",
      "import math\n",
      "# result01 = math.sqrt(2)\n",
      "# print(result01)\n",
      "\n",
      "# #  Method 2\n",
      "# import math as m\n",
      "# result02 = m.sqrt(2)\n",
      "# print(result02)\n",
      "\n",
      "\n",
      "# #method 3\n",
      "# from math import *\n",
      "result03 = sqrt(2)\n",
      "print(result03)\n",
      "\n",
      "# #method 4\n",
      "# from scipy.stats import *\n",
      "result04 = sqrt(2)\n",
      "print(result04)\n",
      "# Method 1\n",
      "import math\n",
      "result01 = math.sqrt(2)\n",
      "print(result01)\n",
      "\n",
      "# #  Method 2\n",
      "import math as m\n",
      "result02 = m.sqrt(2)\n",
      "print(result02)\n",
      "\n",
      "\n",
      "# #method 3\n",
      "from math import *\n",
      "result03 = sqrt(2)\n",
      "print(result03)\n",
      "\n",
      "# #method 4\n",
      "from scipy.stats import *\n",
      "result04 = sqrt(2)\n",
      "print(result04)\n",
      "# Method 1\n",
      "import math\n",
      "result01 = math.sqrt(2)\n",
      "print(result01)\n",
      "\n",
      "# Method 2\n",
      "import math as m\n",
      "result02 = m.sqrt(2)\n",
      "print(result02)\n",
      "\n",
      "\n",
      "# method 3\n",
      "from math import *\n",
      "result03 = sqrt(2)\n",
      "print(result03)\n",
      "\n",
      "# method 4\n",
      "from scipy.stats import *\n",
      "result04 = sqrt(2)\n",
      "print(result04)\n",
      "# Method 1\n",
      "import math\n",
      "result01 = math.sqrt(2)\n",
      "print(result01)\n",
      "\n",
      "# Method 2\n",
      "import math as m\n",
      "result02 = m.sqrt(2)\n",
      "print(result02)\n",
      "\n",
      "\n",
      "# method 3(naming conflicts)\n",
      "from math import *\n",
      "result03 = sqrt(2)\n",
      "print(result03)\n",
      "\n",
      "# method 4(naming conflicts)\n",
      "from scipy.stats import *\n",
      "result04 = sqrt(2)\n",
      "print(result04)\n",
      "# Method 1\n",
      "import math\n",
      "result01 = math.sqrt(2)\n",
      "print(result01)\n",
      "\n",
      "# Method 2\n",
      "import math as m\n",
      "result02 = m.sqrt(2)\n",
      "print(result02)\n",
      "\n",
      "\n",
      "# method 3(naming conflicts)\n",
      "from math import *\n",
      "result03 = sqrt(2)\n",
      "print(result03)\n",
      "\n",
      "# method 4(naming conflicts)\n",
      "from scipy.stats import *\n",
      "result04 = sqrt(2)\n",
      "print(result04)\n",
      "print(\"Hello World\")\n",
      "print(\"Hello World\")\n",
      "%history\n",
      "print(40)\n",
      "print(1000)\n",
      "print('Hello World')\n",
      "#print(\"Hello\")\n",
      "print(\"Hello\", end=\" \")\n",
      "print(\"World\")\n",
      "print(40, 100, \"Hello World\")\n",
      "# Method 1\n",
      "import math\n",
      "result01 = math.sqrt(2)\n",
      "print(result01)\n",
      "\n",
      "# Method 2\n",
      "import math as m\n",
      "result02 = m.sqrt(2)\n",
      "print(result02)\n",
      "\n",
      "\n",
      "# method 3(naming conflicts)\n",
      "from math import *\n",
      "result03 = sqrt(2)\n",
      "print(result03)\n",
      "\n",
      "# method 4(naming conflicts)\n",
      "from scipy.stats import *\n",
      "result04 = sqrt(2)\n",
      "print(result04)\n",
      "print(\"Hello World\")\n",
      "print(40)\n",
      "print(1000)\n",
      "print('Hello World')\n",
      "print(40, 100, \"Hello World\")\n",
      "#print(\"Hello\")\n",
      "print(\"Hello\", end=\" \")\n",
      "print(\"World\")\n",
      "print?\n",
      "print?\n",
      "#print(\"Hello\")\n",
      "print(\"Hello\", end=\" \")\n",
      "print(\"World\")\n",
      "print?\n",
      "print(\"Hello\")\n",
      "print(\"World\")\n",
      "print(\"Hello\", end=\" \")\n",
      "print(\"World\")\n",
      "print?\n",
      "print(\"Hello\")\n",
      "print(\"World\")\n",
      "# print(\"Hello\", end=\" \") # change the default value of print function\n",
      "print(\"World\")\n",
      "print?\n",
      "print(\"Hello\")\n",
      "print(\"World\")\n",
      "print(\"Hello\", end=\" \") # change the default value of print function\n",
      "print(\"World\")\n",
      "print(\"Hello\")\n",
      "print(\"World\")\n",
      "print(\"Hello\", end=\" \") # change the default value of print function\n",
      "print(\"World\")\n",
      "print(\"Hello\")\n",
      "print(\"World\")\n",
      "print(\"Hello\", end=\"asdasda\") # change the default value of print function\n",
      "print(\"World\")\n",
      "print?\n",
      "print(\"Hello\")\n",
      "print(\"World\")\n",
      "print(\"Hello\", end=\"\") # change the default value of print function\n",
      "print(\"World\")\n",
      "print(\"Hello\")\n",
      "print(\"World\")\n",
      "print(\"Hello\", end=\" \") # change the default value of print function\n",
      "print(\"World\")\n",
      "print?\n",
      "#this is my first notebook practice\n",
      "# I am getting used to it by practicing and viewing some youtube vidoes\n",
      "\n",
      "a = 40 # This is a single line comment\n",
      "# This is a different single line comment\n",
      "print(a)\n",
      "'''\n",
      "This is a multiple line comment. We are using three single quotes \n",
      "in this example. \n",
      "'''\n",
      "print(3+2)\n",
      "\"\"\"\n",
      "In this multiple line comment, we are using three double quotes at the \n",
      "start and at the end. \n",
      "\"\"\"\n",
      "print(3+2)\n",
      "%history\n"
     ]
    }
   ],
   "source": [
    "%history"
   ]
  },
  {
   "cell_type": "markdown",
   "metadata": {},
   "source": [
    "we will learn the built-in data types such as numbers, strings and booleans."
   ]
  },
  {
   "cell_type": "markdown",
   "metadata": {},
   "source": [
    "### Indentation\n",
    "Python indentation tells a Python interpreter that the group of statements belongs to a particular block of code. The indentation makes the code look neat, clean, and more readable.\n",
    "\n",
    "A block is a combination of all multiple statements. Inside a code block, we group multiple statements for a specific purpose.\n",
    "\n",
    "In other programming languages like C or Java, use curly braces `{ }` to define a block of code. Python uses indentation to denote the code block.\n",
    "\n",
    "**Whitespace is used for indentation** in Python to define the indentation level. Ideally, we should use 4 spaces per indentation level. In Python, indented code blocks are always preceded by a colon (:) on the previous line.\n",
    "\n",
    "Take the example of the **if-else statement** in Python."
   ]
  },
  {
   "cell_type": "code",
   "execution_count": 4,
   "metadata": {},
   "outputs": [
    {
     "name": "stdout",
     "output_type": "stream",
     "text": [
      "100 is greater than 50\n"
     ]
    }
   ],
   "source": [
    "num1 = 50\n",
    "num2 = 100\n",
    "if num1 > num2:\n",
    "    print(num1, 'is greater than', num2)\n",
    "    print(\"I am done\")\n",
    "elif num2 > num1:\n",
    "    print(num2, 'is greater than', num1)\n",
    "else:\n",
    "    print('Both numbers are equal')"
   ]
  },
  {
   "cell_type": "markdown",
   "metadata": {},
   "source": [
    "![python Indentation](../python_Indentation.jpeg)"
   ]
  },
  {
   "cell_type": "markdown",
   "metadata": {},
   "source": [
    "If one code block is nested in another block, the child code block should separate by 4 spaces from the parent code block.\n",
    "\n",
    "If a block has to be more deeply nested, it is simply indented further to the right. You can understand it better by looking at the following lines of code.\n"
   ]
  },
  {
   "cell_type": "code",
   "execution_count": 6,
   "metadata": {},
   "outputs": [
    {
     "name": "stdout",
     "output_type": "stream",
     "text": [
      "Even number is greater than 100\n"
     ]
    }
   ],
   "source": [
    "num1 = 500\n",
    "if num1 > 100:\n",
    "    if num1 % 2 == 0:\n",
    "        print('Even number is greater than 100')"
   ]
  },
  {
   "cell_type": "markdown",
   "metadata": {},
   "source": [
    "### Python Keywords\n",
    "\n",
    "Python keywords are **reserved words that have a special meaning** associated with them and can’t be used for anything but those specific purposes. Each keyword is designed to achieve specific functionality.\n",
    "\n",
    "Python keywords are **case-sensitive**.\n",
    "\n",
    "All keywords contain only letters (no special symbols)\n",
    "Except for three keywords (`True, False, None`), all keywords have lower case letters\n",
    "\n",
    "There are 36 keywords available. This number can vary slightly over time.\n",
    "\n",
    "We can use the following two ways to get the list of keywords in Python\n",
    "\n",
    "- **keyword module**: The keyword is the buil-in module to get the list of keywords. Also, this module allows a Python program to determine if a string is a keyword.\n",
    "\n",
    "**help() function** : Apart from a keyword module, we can use the `help()` function to get the list of keywords\n"
   ]
  },
  {
   "cell_type": "code",
   "execution_count": 7,
   "metadata": {},
   "outputs": [
    {
     "name": "stdout",
     "output_type": "stream",
     "text": [
      "['False', 'None', 'True', 'and', 'as', 'assert', 'async', 'await', 'break', 'class', 'continue', 'def', 'del', 'elif', 'else', 'except', 'finally', 'for', 'from', 'global', 'if', 'import', 'in', 'is', 'lambda', 'nonlocal', 'not', 'or', 'pass', 'raise', 'return', 'try', 'while', 'with', 'yield']\n"
     ]
    }
   ],
   "source": [
    "import keyword\n",
    "print(keyword.kwlist)"
   ]
  },
  {
   "cell_type": "markdown",
   "metadata": {},
   "source": [
    "All the keywords except, True, False, and None, must be written in a lowercase alphabet symbol.\n",
    "\n",
    "**Note:**\n",
    "You cannot use any of the above keywords as identifiers in your programs. If you try to do so, you will get an error. An identifier is a name given to an entity, For example, variables name, functions name, or class name."
   ]
  },
  {
   "cell_type": "code",
   "execution_count": 10,
   "metadata": {},
   "outputs": [
    {
     "name": "stdout",
     "output_type": "stream",
     "text": [
      "5\n"
     ]
    }
   ],
   "source": [
    "#def = 5\n",
    "\n",
    "Def = 5\n",
    "print(Def)"
   ]
  },
  {
   "cell_type": "markdown",
   "metadata": {},
   "source": [
    "### Understand Any keyword\n",
    "The python `help()` function is used to display the documentation of modules, functions, classes, keywords.\n",
    "\n",
    "Pass the keyword name to the `help()` function to get to know how to use it. The `help()` function returns the description of a keyword along with an example.\n",
    "\n",
    "Let’s understand how to use the `lambda` keyword."
   ]
  },
  {
   "cell_type": "code",
   "execution_count": 9,
   "metadata": {},
   "outputs": [
    {
     "name": "stdout",
     "output_type": "stream",
     "text": [
      "Function definitions\n",
      "********************\n",
      "\n",
      "A function definition defines a user-defined function object (see\n",
      "section The standard type hierarchy):\n",
      "\n",
      "   funcdef                   ::= [decorators] \"def\" funcname \"(\" [parameter_list] \")\"\n",
      "               [\"->\" expression] \":\" suite\n",
      "   decorators                ::= decorator+\n",
      "   decorator                 ::= \"@\" assignment_expression NEWLINE\n",
      "   parameter_list            ::= defparameter (\",\" defparameter)* \",\" \"/\" [\",\" [parameter_list_no_posonly]]\n",
      "                        | parameter_list_no_posonly\n",
      "   parameter_list_no_posonly ::= defparameter (\",\" defparameter)* [\",\" [parameter_list_starargs]]\n",
      "                                 | parameter_list_starargs\n",
      "   parameter_list_starargs   ::= \"*\" [parameter] (\",\" defparameter)* [\",\" [\"**\" parameter [\",\"]]]\n",
      "                               | \"**\" parameter [\",\"]\n",
      "   parameter                 ::= identifier [\":\" expression]\n",
      "   defparameter              ::= parameter [\"=\" expression]\n",
      "   funcname                  ::= identifier\n",
      "\n",
      "A function definition is an executable statement.  Its execution binds\n",
      "the function name in the current local namespace to a function object\n",
      "(a wrapper around the executable code for the function).  This\n",
      "function object contains a reference to the current global namespace\n",
      "as the global namespace to be used when the function is called.\n",
      "\n",
      "The function definition does not execute the function body; this gets\n",
      "executed only when the function is called. [4]\n",
      "\n",
      "A function definition may be wrapped by one or more *decorator*\n",
      "expressions. Decorator expressions are evaluated when the function is\n",
      "defined, in the scope that contains the function definition.  The\n",
      "result must be a callable, which is invoked with the function object\n",
      "as the only argument. The returned value is bound to the function name\n",
      "instead of the function object.  Multiple decorators are applied in\n",
      "nested fashion. For example, the following code\n",
      "\n",
      "   @f1(arg)\n",
      "   @f2\n",
      "   def func(): pass\n",
      "\n",
      "is roughly equivalent to\n",
      "\n",
      "   def func(): pass\n",
      "   func = f1(arg)(f2(func))\n",
      "\n",
      "except that the original function is not temporarily bound to the name\n",
      "\"func\".\n",
      "\n",
      "Changed in version 3.9: Functions may be decorated with any valid\n",
      "\"assignment_expression\". Previously, the grammar was much more\n",
      "restrictive; see **PEP 614** for details.\n",
      "\n",
      "When one or more *parameters* have the form *parameter* \"=\"\n",
      "*expression*, the function is said to have “default parameter values.”\n",
      "For a parameter with a default value, the corresponding *argument* may\n",
      "be omitted from a call, in which case the parameter’s default value is\n",
      "substituted.  If a parameter has a default value, all following\n",
      "parameters up until the “\"*\"” must also have a default value — this is\n",
      "a syntactic restriction that is not expressed by the grammar.\n",
      "\n",
      "**Default parameter values are evaluated from left to right when the\n",
      "function definition is executed.** This means that the expression is\n",
      "evaluated once, when the function is defined, and that the same “pre-\n",
      "computed” value is used for each call.  This is especially important\n",
      "to understand when a default parameter value is a mutable object, such\n",
      "as a list or a dictionary: if the function modifies the object (e.g.\n",
      "by appending an item to a list), the default parameter value is in\n",
      "effect modified.  This is generally not what was intended.  A way\n",
      "around this is to use \"None\" as the default, and explicitly test for\n",
      "it in the body of the function, e.g.:\n",
      "\n",
      "   def whats_on_the_telly(penguin=None):\n",
      "       if penguin is None:\n",
      "           penguin = []\n",
      "       penguin.append(\"property of the zoo\")\n",
      "       return penguin\n",
      "\n",
      "Function call semantics are described in more detail in section Calls.\n",
      "A function call always assigns values to all parameters mentioned in\n",
      "the parameter list, either from positional arguments, from keyword\n",
      "arguments, or from default values.  If the form “\"*identifier\"” is\n",
      "present, it is initialized to a tuple receiving any excess positional\n",
      "parameters, defaulting to the empty tuple. If the form\n",
      "“\"**identifier\"” is present, it is initialized to a new ordered\n",
      "mapping receiving any excess keyword arguments, defaulting to a new\n",
      "empty mapping of the same type.  Parameters after “\"*\"” or\n",
      "“\"*identifier\"” are keyword-only parameters and may only be passed by\n",
      "keyword arguments.  Parameters before “\"/\"” are positional-only\n",
      "parameters and may only be passed by positional arguments.\n",
      "\n",
      "Changed in version 3.8: The \"/\" function parameter syntax may be used\n",
      "to indicate positional-only parameters. See **PEP 570** for details.\n",
      "\n",
      "Parameters may have an *annotation* of the form “\": expression\"”\n",
      "following the parameter name.  Any parameter may have an annotation,\n",
      "even those of the form \"*identifier\" or \"**identifier\".  Functions may\n",
      "have “return” annotation of the form “\"-> expression\"” after the\n",
      "parameter list.  These annotations can be any valid Python expression.\n",
      "The presence of annotations does not change the semantics of a\n",
      "function.  The annotation values are available as values of a\n",
      "dictionary keyed by the parameters’ names in the \"__annotations__\"\n",
      "attribute of the function object.  If the \"annotations\" import from\n",
      "\"__future__\" is used, annotations are preserved as strings at runtime\n",
      "which enables postponed evaluation.  Otherwise, they are evaluated\n",
      "when the function definition is executed.  In this case annotations\n",
      "may be evaluated in a different order than they appear in the source\n",
      "code.\n",
      "\n",
      "It is also possible to create anonymous functions (functions not bound\n",
      "to a name), for immediate use in expressions.  This uses lambda\n",
      "expressions, described in section Lambdas.  Note that the lambda\n",
      "expression is merely a shorthand for a simplified function definition;\n",
      "a function defined in a “\"def\"” statement can be passed around or\n",
      "assigned to another name just like a function defined by a lambda\n",
      "expression.  The “\"def\"” form is actually more powerful since it\n",
      "allows the execution of multiple statements and annotations.\n",
      "\n",
      "**Programmer’s note:** Functions are first-class objects.  A “\"def\"”\n",
      "statement executed inside a function definition defines a local\n",
      "function that can be returned or passed around.  Free variables used\n",
      "in the nested function can access the local variables of the function\n",
      "containing the def.  See section Naming and binding for details.\n",
      "\n",
      "See also:\n",
      "\n",
      "  **PEP 3107** - Function Annotations\n",
      "     The original specification for function annotations.\n",
      "\n",
      "  **PEP 484** - Type Hints\n",
      "     Definition of a standard meaning for annotations: type hints.\n",
      "\n",
      "  **PEP 526** - Syntax for Variable Annotations\n",
      "     Ability to type hint variable declarations, including class\n",
      "     variables and instance variables\n",
      "\n",
      "  **PEP 563** - Postponed Evaluation of Annotations\n",
      "     Support for forward references within annotations by preserving\n",
      "     annotations in a string form at runtime instead of eager\n",
      "     evaluation.\n",
      "\n",
      "None\n"
     ]
    }
   ],
   "source": [
    "print(help(\"def\"))"
   ]
  },
  {
   "cell_type": "markdown",
   "metadata": {},
   "source": [
    "### How to Identify Python Keywords\n",
    "Keywords are mostly **highlighted in IDE** when you write a code. This will help you identify Python keywords while you’re writing a code so you don’t use them incorrectly.\n",
    "\n",
    "An integrated development environment (IDE) is software or a code editor for building applications that combine standard developer tools into a single graphical user interface (GUI). An IDE typically consists of a source editor, syntax highlighting, debugger, and build tools.\n",
    "\n",
    "**Image**\n",
    "\n",
    "Another way is if you are getting a syntax error for any identifier declaration, then you may be using a keyword as an identifier in your program.\n",
    "\n",
    "### keyword Module\n",
    "Python [keyword module](https://docs.python.org/3/library/keyword.html) allows a Python program to determine if a string is a key word.\n",
    "\n",
    "`iskeyword(s)`: returns `True` if `s` is a keyword."
   ]
  },
  {
   "cell_type": "code",
   "execution_count": 11,
   "metadata": {},
   "outputs": [
    {
     "name": "stdout",
     "output_type": "stream",
     "text": [
      "False\n",
      "True\n"
     ]
    }
   ],
   "source": [
    "import keyword\n",
    "\n",
    "print(keyword.iskeyword('hi'))\n",
    "print(keyword.iskeyword('def'))"
   ]
  },
  {
   "cell_type": "code",
   "execution_count": 13,
   "metadata": {},
   "outputs": [],
   "source": [
    "test = 3+2"
   ]
  },
  {
   "cell_type": "markdown",
   "metadata": {},
   "source": [
    "### Python Variables\n",
    "\n",
    "A **variable is a reserved memory area (memory address) to store value**. For example, we want to store an employee’s salary. In such a case, we can create a variable and store salary using it. Using that variable name, you can read or modify the salary amount.\n",
    "\n",
    "In other words, a variable is a value that varies according to the condition or input pass to the program. Everything in Python is treated as an object so every variable is nothing but an object in Python.\n",
    "\n",
    "A variable can be either **mutable** or **immutable**. If the variable’s value can change, the object is called mutable, while if the value cannot change, the object is called immutable. We will learn the difference between mutable and immutable types in the later section of this article.\n",
    "\n",
    "![Mutable](../Mutbale_Unmutable.png)\n",
    "\n",
    "We will consider these in detail. "
   ]
  },
  {
   "cell_type": "markdown",
   "metadata": {},
   "source": [
    "### Naming variables\n",
    "\n",
    "The hardest part of programming is naming variables appropriately. It makes sense that it is harder to name variables as we have dual responsibility of making code both human readable and computer executable. Donald Knuth put it succinctly when he said, \" Programs are meant to be read by humans and only incidentally for computers to execute.\"\n",
    "\n",
    "Special care has to be taken while naming a variable. Let us say we want to name a variable that will contain a number associated with a user, then it is appropriate to call it as user-number, so that the code is readable. \n",
    "\n",
    "when you name the variable, it is a good idea to follow some standards. The three guidelines are:\n",
    "\n",
    "1. Everything in lowercase such as *usernumber*\n",
    "\n",
    "2. Underscore between words known as snake case such as *user_number*, to improve readability.\n",
    "\n",
    "3. Though not listed in the guidelines, some programmers use mixed case or camel case such as *userName*\n",
    "\n",
    "\n",
    "### Identifier Naming\n",
    "Variables are the example of identifiers. An Identifier is used to identify the literals used in the program. The rules to name an identifier are given below.\n",
    "\n",
    "- The first character of the variable must be an alphabet or underscore ( _ ).\n",
    "- All the characters except the first character may be an alphabet of lower-case(a-z), upper-case (A-Z), underscore, or digit (0-9).\n",
    "- Identifier name must not contain any white-space, or special character (!, @, #, %, ^, &, *).\n",
    "- Identifier name must not be similar to any keyword defined in the language.\n",
    "- Identifier names are case sensitive; for example, my name, and MyName is not the same.\n",
    "- Examples of valid identifiers: a123, _n, n_9, etc.\n",
    "- Examples of invalid identifiers: 1a, n%4, n 9, etc.\n",
    "\n",
    "The multi-word keywords can be created by the following method.\n",
    "\n",
    "- **Camel Case** - In the camel case, each word or abbreviation in the middle of begins with a capital letter. There is no intervention of whitespace. For example - nameOfStudent, valueOfVariable, etc.\n",
    "\n",
    "- **Pascal Case** - It is the same as the Camel Case, but here the first word is also capital. For example - NameOfStudent, etc.\n",
    "\n",
    "- **Snake Case** - In the snake case, Words are separated by the underscore. For example - name_of_student, etc.\n"
   ]
  },
  {
   "cell_type": "markdown",
   "metadata": {},
   "source": [
    "### Creating a Variable\n",
    "\n",
    "Python programming language is dynamically typed, so there is no need to declare a variable before using it or declare the data type of variable like in other programming languages. The declaration happens automatically when we assign a value to the variable.\n",
    "\n",
    "We can assign a value to the variable at that time variable is created. We can use the assignment operator `=` to assign a value to a variable.\n",
    "\n",
    "The operand, which is on the left side of the assignment operator, is a variable name. And the operand, which is the right side of the assignment operator, is the variable’s value."
   ]
  },
  {
   "cell_type": "markdown",
   "metadata": {},
   "source": [
    "variable_name = variable_value"
   ]
  },
  {
   "cell_type": "code",
   "execution_count": 14,
   "metadata": {},
   "outputs": [
    {
     "name": "stdout",
     "output_type": "stream",
     "text": [
      "45\n",
      "68000.5\n"
     ]
    }
   ],
   "source": [
    "age = 45  # integer assignment\n",
    "salary = 68000.50  # float assignment\n",
    "Age = 25\n",
    "\n",
    "print(age)  # 25\n",
    "print(salary)  # 68000.5"
   ]
  },
  {
   "cell_type": "markdown",
   "metadata": {},
   "source": [
    "In the above example, 45, 68000.50 are values that are assigned to age, and salary respectively."
   ]
  },
  {
   "cell_type": "code",
   "execution_count": 15,
   "metadata": {},
   "outputs": [
    {
     "name": "stdout",
     "output_type": "stream",
     "text": [
      "50\n"
     ]
    }
   ],
   "source": [
    "age = 50\n",
    "print(age)"
   ]
  },
  {
   "cell_type": "markdown",
   "metadata": {},
   "source": [
    "### Changing the value of a variable\n",
    "Many programming languages are statically typed languages where the variable is initially declared with a specific type, and during its lifetime, it must always have that type.\n",
    "\n",
    "But in Python, variables are **dynamically typed** and not subject to the **data type** restriction. A variable may be assigned to a value of one type, and then later, we can also re-assigned a value of a **different type**. "
   ]
  },
  {
   "cell_type": "code",
   "execution_count": 16,
   "metadata": {},
   "outputs": [
    {
     "name": "stdout",
     "output_type": "stream",
     "text": [
      "100.5\n",
      "<class 'float'>\n"
     ]
    }
   ],
   "source": [
    "var = 100.50\n",
    "print(var)  \n",
    "# print its type\n",
    "print(type(var))  "
   ]
  },
  {
   "cell_type": "code",
   "execution_count": 18,
   "metadata": {},
   "outputs": [
    {
     "name": "stdout",
     "output_type": "stream",
     "text": [
      "550\n",
      "<class 'int'>\n"
     ]
    }
   ],
   "source": [
    "# assign different integer value to var\n",
    "var = 550\n",
    "print(var)\n",
    "print(type(var))"
   ]
  },
  {
   "cell_type": "code",
   "execution_count": 19,
   "metadata": {},
   "outputs": [
    {
     "name": "stdout",
     "output_type": "stream",
     "text": [
      "Now it's  a string\n",
      "<class 'str'>\n"
     ]
    }
   ],
   "source": [
    "# change var to string\n",
    "var = \"Now it's  a string\"\n",
    "print(var) \n",
    "# print its type\n",
    "print(type(var))  # <class 'str'>"
   ]
  },
  {
   "cell_type": "code",
   "execution_count": 20,
   "metadata": {},
   "outputs": [
    {
     "name": "stdout",
     "output_type": "stream",
     "text": [
      "110.7\n",
      "<class 'float'>\n"
     ]
    }
   ],
   "source": [
    "# change var to float\n",
    "var = 110.7\n",
    "print(var) \n",
    "# print its type\n",
    "print(type(var))  # <class 'float'>"
   ]
  },
  {
   "cell_type": "markdown",
   "metadata": {},
   "source": [
    "### Create Number, String, List variables\n",
    "We can create different types of variables as per our requirements. Let’s see each one by one."
   ]
  },
  {
   "cell_type": "markdown",
   "metadata": {},
   "source": [
    "### Number\n",
    "\n",
    "A number is a data type to store numeric values. The object for the number will be created when we assign a value to the variable. \n",
    "\n",
    "The numbers in Python can be further broken down to \n",
    "\n",
    "- integers \n",
    "- floats, \n",
    "\n",
    "and \n",
    "- complex numbers. \n",
    "\n",
    "![numbers in python](../numbers_in_python.jpeg)"
   ]
  },
  {
   "cell_type": "markdown",
   "metadata": {},
   "source": [
    "### Integer variable\n",
    "The integer data type is comprised of all the positive and negative whole numbers.\n",
    "The `int` is a data type that returns integer type values (signed integers); they are also called **ints** or **integers**. The integer value can be positive or negative without a decimal point."
   ]
  },
  {
   "cell_type": "code",
   "execution_count": 21,
   "metadata": {},
   "outputs": [
    {
     "name": "stdout",
     "output_type": "stream",
     "text": [
      "45\n",
      "<class 'int'>\n"
     ]
    }
   ],
   "source": [
    "# integer\n",
    "int1 = 45\n",
    "print(int1)\n",
    "print(type(int1))"
   ]
  },
  {
   "cell_type": "markdown",
   "metadata": {},
   "source": [
    "**Note:** We used the built-in Python method `type()` to check the variable type"
   ]
  },
  {
   "cell_type": "markdown",
   "metadata": {},
   "source": [
    "### Float variable\n",
    "Floats are the values with the **decimal point** dividing the integer and the fractional parts of the number.  Use float data type to store decimal values."
   ]
  },
  {
   "cell_type": "code",
   "execution_count": 22,
   "metadata": {},
   "outputs": [
    {
     "name": "stdout",
     "output_type": "stream",
     "text": [
      "<class 'float'>\n"
     ]
    }
   ],
   "source": [
    "# float\n",
    "float1 = 6.3\n",
    "print(type(float1))"
   ]
  },
  {
   "cell_type": "markdown",
   "metadata": {},
   "source": [
    "### Complex type\n",
    "The `complex` is the numbers that come with the real and imaginary part. A complex number is in the form of a+bj, where a and b contain integers or floating-point values."
   ]
  },
  {
   "cell_type": "code",
   "execution_count": 28,
   "metadata": {},
   "outputs": [
    {
     "name": "stdout",
     "output_type": "stream",
     "text": [
      "(1+2j)\n"
     ]
    }
   ],
   "source": [
    "# complex\n",
    "c1 = 1 + 2j\n",
    "print(c1) # c1 is a complex number, not 1+j2"
   ]
  },
  {
   "cell_type": "code",
   "execution_count": 24,
   "metadata": {},
   "outputs": [
    {
     "name": "stdout",
     "output_type": "stream",
     "text": [
      "45\n",
      "<class 'str'>\n"
     ]
    }
   ],
   "source": [
    "int1_float = str(int1)\n",
    "print(int1_float)\n",
    "print(type(int1_float))"
   ]
  },
  {
   "cell_type": "markdown",
   "metadata": {},
   "source": [
    "### Multi-line statements\n",
    "\n",
    "sub sub heading\n",
    "It is generally recommended in any program to only have 80 characters in a line. Sometimes a statement might not fit into the 80-character limit. We can break a statement into multiple lines by having a trailing backslash at the end of each line except for the last line.    "
   ]
  },
  {
   "cell_type": "code",
   "execution_count": 36,
   "metadata": {
    "inputHidden": false,
    "outputHidden": false
   },
   "outputs": [
    {
     "name": "stdout",
     "output_type": "stream",
     "text": [
      "17.0\n"
     ]
    }
   ],
   "source": [
    "a = 1 + (10 / 2) + 4 - 3 + 10\n",
    "print(a)"
   ]
  },
  {
   "cell_type": "code",
   "execution_count": 37,
   "metadata": {
    "inputHidden": false,
    "outputHidden": false
   },
   "outputs": [
    {
     "name": "stdout",
     "output_type": "stream",
     "text": [
      "17.0\n"
     ]
    }
   ],
   "source": [
    "a = 1 + 10 / 2 + \\\n",
    "    4 - 3 + \\\n",
    "    10 \n",
    "\n",
    "print(a)"
   ]
  },
  {
   "cell_type": "markdown",
   "metadata": {},
   "source": [
    "### Multiple statements on a single line\n",
    "\n",
    "You can add multiple statements to single line in Python code, by putting a semicolon between the statements\n"
   ]
  },
  {
   "cell_type": "code",
   "execution_count": 34,
   "metadata": {
    "inputHidden": false,
    "outputHidden": false,
    "scrolled": true
   },
   "outputs": [
    {
     "name": "stdout",
     "output_type": "stream",
     "text": [
      "The value of x is: 10\n",
      "The value of y is: 4\n"
     ]
    }
   ],
   "source": [
    "x = 10\n",
    "y = 4\n",
    "# print(\"The value of x is:\",x)\n",
    "# print(\"The value of y is:\",y)\n",
    "#print(x,y)\n",
    "print(\"The value of x is:\",x);print(\"The value of y is:\",y)"
   ]
  },
  {
   "cell_type": "markdown",
   "metadata": {},
   "source": [
    "### String\n",
    "\n",
    "A string in Python is an immutable data type that consists of a contiguous set of characters enclosed in single, double or triple quotation marks. The power of the string does not lie in the fact that it contains zero or more characters but the fact that these characters can be easily manipulated. "
   ]
  },
  {
   "cell_type": "code",
   "execution_count": 35,
   "metadata": {},
   "outputs": [
    {
     "name": "stdout",
     "output_type": "stream",
     "text": [
      "Hello and welcome to the class\n",
      "<class 'str'>\n"
     ]
    }
   ],
   "source": [
    "s1 = 'Hello and welcome to the class'\n",
    "print(s1)\n",
    "print(type(s1))"
   ]
  },
  {
   "cell_type": "code",
   "execution_count": 39,
   "metadata": {},
   "outputs": [
    {
     "name": "stdout",
     "output_type": "stream",
     "text": [
      "Hello and welcome to the class\n",
      "<class 'str'>\n"
     ]
    }
   ],
   "source": [
    "s1 = \"Hello and welcome to the class\" \n",
    "print(s1)\n",
    "print(type(s1))"
   ]
  },
  {
   "cell_type": "code",
   "execution_count": 44,
   "metadata": {},
   "outputs": [
    {
     "name": "stdout",
     "output_type": "stream",
     "text": [
      "Hello and welcome to the class\n",
      "<class 'str'>\n"
     ]
    }
   ],
   "source": [
    "s1 = 'Hello and welcome to the class'''\n",
    "print(s1)\n",
    "print(type(s1))"
   ]
  },
  {
   "cell_type": "code",
   "execution_count": 46,
   "metadata": {},
   "outputs": [
    {
     "name": "stdout",
     "output_type": "stream",
     "text": [
      "<class 'str'>\n"
     ]
    }
   ],
   "source": [
    "type(s1)\n",
    "print(type(s1))"
   ]
  },
  {
   "cell_type": "markdown",
   "metadata": {},
   "source": [
    "### Get the data type of variable\n",
    "No matter what is stored in a variable (object), a variable can be any type like `int`, `float`, `str`, `list`, `tuple`, `dict`, etc. There is a built-in function called `type()` to get the data type of any variable.\n",
    "\n",
    "The `type()` function has a simple and straightforward syntax.\n",
    "\n",
    "**Syntax of** `type()`:\n",
    "\n",
    "type(variable_name)"
   ]
  },
  {
   "cell_type": "code",
   "execution_count": 47,
   "metadata": {},
   "outputs": [
    {
     "name": "stdout",
     "output_type": "stream",
     "text": [
      "<class 'int'>\n"
     ]
    }
   ],
   "source": [
    "int1  = 100\n",
    "print(type(int1))"
   ]
  },
  {
   "cell_type": "markdown",
   "metadata": {},
   "source": [
    "If we want to get the name of the datatype only as output, then we can use the`__name__` attribute along with the `type()` function. "
   ]
  },
  {
   "cell_type": "code",
   "execution_count": 48,
   "metadata": {},
   "outputs": [
    {
     "name": "stdout",
     "output_type": "stream",
     "text": [
      "int\n"
     ]
    }
   ],
   "source": [
    "print(type(int1).__name__)"
   ]
  },
  {
   "cell_type": "code",
   "execution_count": 82,
   "metadata": {
    "scrolled": true
   },
   "outputs": [
    {
     "name": "stdout",
     "output_type": "stream",
     "text": [
      "## Print the version\n",
      "import sys\n",
      "print(sys.version)\n",
      "!python --version\n",
      "# Method 1\n",
      "import math\n",
      "# result01 = math.sqrt(2)\n",
      "# print(result01)\n",
      "\n",
      "# #  Method 2\n",
      "# import math as m\n",
      "# result02 = m.sqrt(2)\n",
      "# print(result02)\n",
      "\n",
      "\n",
      "# #method 3\n",
      "# from math import *\n",
      "result03 = sqrt(2)\n",
      "print(result03)\n",
      "\n",
      "# #method 4\n",
      "# from scipy.stats import *\n",
      "result04 = sqrt(2)\n",
      "print(result04)\n",
      "# Method 1\n",
      "import math\n",
      "result01 = math.sqrt(2)\n",
      "print(result01)\n",
      "\n",
      "# #  Method 2\n",
      "import math as m\n",
      "result02 = m.sqrt(2)\n",
      "print(result02)\n",
      "\n",
      "\n",
      "# #method 3\n",
      "from math import *\n",
      "result03 = sqrt(2)\n",
      "print(result03)\n",
      "\n",
      "# #method 4\n",
      "from scipy.stats import *\n",
      "result04 = sqrt(2)\n",
      "print(result04)\n",
      "# Method 1\n",
      "import math\n",
      "result01 = math.sqrt(2)\n",
      "print(result01)\n",
      "\n",
      "# Method 2\n",
      "import math as m\n",
      "result02 = m.sqrt(2)\n",
      "print(result02)\n",
      "\n",
      "\n",
      "# method 3\n",
      "from math import *\n",
      "result03 = sqrt(2)\n",
      "print(result03)\n",
      "\n",
      "# method 4\n",
      "from scipy.stats import *\n",
      "result04 = sqrt(2)\n",
      "print(result04)\n",
      "# Method 1\n",
      "import math\n",
      "result01 = math.sqrt(2)\n",
      "print(result01)\n",
      "\n",
      "# Method 2\n",
      "import math as m\n",
      "result02 = m.sqrt(2)\n",
      "print(result02)\n",
      "\n",
      "\n",
      "# method 3(naming conflicts)\n",
      "from math import *\n",
      "result03 = sqrt(2)\n",
      "print(result03)\n",
      "\n",
      "# method 4(naming conflicts)\n",
      "from scipy.stats import *\n",
      "result04 = sqrt(2)\n",
      "print(result04)\n",
      "# Method 1\n",
      "import math\n",
      "result01 = math.sqrt(2)\n",
      "print(result01)\n",
      "\n",
      "# Method 2\n",
      "import math as m\n",
      "result02 = m.sqrt(2)\n",
      "print(result02)\n",
      "\n",
      "\n",
      "# method 3(naming conflicts)\n",
      "from math import *\n",
      "result03 = sqrt(2)\n",
      "print(result03)\n",
      "\n",
      "# method 4(naming conflicts)\n",
      "from scipy.stats import *\n",
      "result04 = sqrt(2)\n",
      "print(result04)\n",
      "print(\"Hello World\")\n",
      "print(\"Hello World\")\n",
      "%history\n",
      "print(40)\n",
      "print(1000)\n",
      "print('Hello World')\n",
      "#print(\"Hello\")\n",
      "print(\"Hello\", end=\" \")\n",
      "print(\"World\")\n",
      "print(40, 100, \"Hello World\")\n",
      "# Method 1\n",
      "import math\n",
      "result01 = math.sqrt(2)\n",
      "print(result01)\n",
      "\n",
      "# Method 2\n",
      "import math as m\n",
      "result02 = m.sqrt(2)\n",
      "print(result02)\n",
      "\n",
      "\n",
      "# method 3(naming conflicts)\n",
      "from math import *\n",
      "result03 = sqrt(2)\n",
      "print(result03)\n",
      "\n",
      "# method 4(naming conflicts)\n",
      "from scipy.stats import *\n",
      "result04 = sqrt(2)\n",
      "print(result04)\n",
      "print(\"Hello World\")\n",
      "print(40)\n",
      "print(1000)\n",
      "print('Hello World')\n",
      "print(40, 100, \"Hello World\")\n",
      "#print(\"Hello\")\n",
      "print(\"Hello\", end=\" \")\n",
      "print(\"World\")\n",
      "print?\n",
      "print?\n",
      "#print(\"Hello\")\n",
      "print(\"Hello\", end=\" \")\n",
      "print(\"World\")\n",
      "print?\n",
      "print(\"Hello\")\n",
      "print(\"World\")\n",
      "print(\"Hello\", end=\" \")\n",
      "print(\"World\")\n",
      "print?\n",
      "print(\"Hello\")\n",
      "print(\"World\")\n",
      "# print(\"Hello\", end=\" \") # change the default value of print function\n",
      "print(\"World\")\n",
      "print?\n",
      "print(\"Hello\")\n",
      "print(\"World\")\n",
      "print(\"Hello\", end=\" \") # change the default value of print function\n",
      "print(\"World\")\n",
      "print(\"Hello\")\n",
      "print(\"World\")\n",
      "print(\"Hello\", end=\" \") # change the default value of print function\n",
      "print(\"World\")\n",
      "print(\"Hello\")\n",
      "print(\"World\")\n",
      "print(\"Hello\", end=\"asdasda\") # change the default value of print function\n",
      "print(\"World\")\n",
      "print?\n",
      "print(\"Hello\")\n",
      "print(\"World\")\n",
      "print(\"Hello\", end=\"\") # change the default value of print function\n",
      "print(\"World\")\n",
      "print(\"Hello\")\n",
      "print(\"World\")\n",
      "print(\"Hello\", end=\" \") # change the default value of print function\n",
      "print(\"World\")\n",
      "print?\n",
      "#this is my first notebook practice\n",
      "# I am getting used to it by practicing and viewing some youtube vidoes\n",
      "\n",
      "a = 40 # This is a single line comment\n",
      "# This is a different single line comment\n",
      "print(a)\n",
      "'''\n",
      "This is a multiple line comment. We are using three single quotes \n",
      "in this example. \n",
      "'''\n",
      "print(3+2)\n",
      "\"\"\"\n",
      "In this multiple line comment, we are using three double quotes at the \n",
      "start and at the end. \n",
      "\"\"\"\n",
      "print(3+2)\n",
      "%history\n",
      "num1 = 50\n",
      "num2 = 100\n",
      "if num1 > num2:\n",
      "    print(num1, 'is greater than', num2)\n",
      "    print(\"I am done\")\n",
      "elif num2 > num1:\n",
      "    print(num2, 'is greater than', num1)\n",
      "else:\n",
      "    print('Both numbers are equal')\n",
      "num1 = 50\n",
      "num2 = 100\n",
      "if num1 > num2:\n",
      "    print(num1, 'is greater than', num2)\n",
      "    print(\"I am done\")\n",
      "elif num2 > num1:\n",
      "    print(num2, 'is greater than', num1)\n",
      "else:\n",
      "    print('Both numbers are equal')\n",
      "num1 = 500\n",
      "if num1 > 100:\n",
      "    if num1 % 2 == 0:\n",
      "        print('Even number is greater than 100')\n",
      "import keyword\n",
      "print(keyword.kwlist)\n",
      "#def = 5\n",
      "\n",
      "Def = 5\n",
      "print(Def)\n",
      "num1 = 50\n",
      "num2 = 100\n",
      "if num1 > num2:\n",
      "    print(num1, 'is greater than', num2)\n",
      "    print(\"I am done\")\n",
      "elif num2 > num1:\n",
      "    print(num2, 'is greater than', num1)\n",
      "else:\n",
      "    print('Both numbers are equal')\n",
      "num1 = 500\n",
      "if num1 > 100:\n",
      "    if num1 % 2 == 0:\n",
      "        print('Even number is greater than 100')\n",
      "import keyword\n",
      "print(keyword.kwlist)\n",
      "#def = 5\n",
      "\n",
      "Def = 5\n",
      "print(Def)\n",
      "import keyword\n",
      "print(keyword.kwlist)\n",
      "Print(asdasdasd\")\n",
      "import keyword\n",
      "print(keyword.kwlist)\n",
      "#def = 5\n",
      "\n",
      "Def = 5\n",
      "print(Def)\n",
      "def = 5\n",
      "\n",
      "Def = 5\n",
      "print(def)\n",
      "#def = 5\n",
      "\n",
      "Def = 5\n",
      "print(Def)\n",
      "#def = 5\n",
      "\n",
      "Def = 5\n",
      "print(Def)\n",
      "print(help(\"def\"))\n",
      "import keyword\n",
      "\n",
      "#print(keyword.iskeyword('hi'))\n",
      "print(keyword.iskeyword('def'))\n",
      "3+2\n",
      "import keyword\n",
      "\n",
      "#print(keyword.iskeyword('hi'))\n",
      "print(keyword.iskeyword('def'))\n",
      "import keyword\n",
      "\n",
      "print(keyword.iskeyword('hi'))\n",
      "print(keyword.iskeyword('def'))\n",
      "test = 3+2\n",
      "## Print the version\n",
      "import sys\n",
      "print(sys.version)\n",
      "!python --version\n",
      "!python --version\n",
      "# Method 1\n",
      "import math\n",
      "result01 = math.sqrt(2)\n",
      "print(result01)\n",
      "\n",
      "# Method 2\n",
      "import math as m\n",
      "result02 = m.sqrt(2)\n",
      "print(result02)\n",
      "\n",
      "\n",
      "# method 3(naming conflicts)\n",
      "from math import *\n",
      "result03 = sqrt(2)\n",
      "print(result03)\n",
      "\n",
      "# method 4(naming conflicts)\n",
      "from scipy.stats import *\n",
      "result04 = sqrt(2)\n",
      "print(result04)\n",
      "print(\"Hello World\")\n",
      "%history\n",
      "print(40)\n",
      "print(1000)\n",
      "print('Hello World')\n",
      "print(40, 100, \"Hello World\")\n",
      "print(\"Hello\")\n",
      "print(\"World\")\n",
      "print(\"Hello\", end=\" \") # change the default value of print function\n",
      "print(\"World\")\n",
      "#this is my first notebook practice\n",
      "# I am getting used to it by practicing and viewing some youtube vidoes\n",
      "\n",
      "a = 40 # This is a single line comment\n",
      "# This is a different single line comment\n",
      "print(a)\n",
      "'''\n",
      "This is a multiple line comment. We are using three single quotes \n",
      "in this example. \n",
      "'''\n",
      "print(3+2)\n",
      "\"\"\"\n",
      "In this multiple line comment, we are using three double quotes at the \n",
      "start and at the end. \n",
      "\"\"\"\n",
      "print(3+2)\n",
      "num1 = 50\n",
      "num2 = 100\n",
      "if num1 > num2:\n",
      "    print(num1, 'is greater than', num2)\n",
      "    print(\"I am done\")\n",
      "elif num2 > num1:\n",
      "    print(num2, 'is greater than', num1)\n",
      "else:\n",
      "    print('Both numbers are equal')\n",
      "num1 = 500\n",
      "if num1 > 100:\n",
      "    if num1 % 2 == 0:\n",
      "        print('Even number is greater than 100')\n",
      "import keyword\n",
      "print(keyword.kwlist)\n",
      "#def = 5\n",
      "\n",
      "Def = 5\n",
      "print(Def)\n",
      "print(help(\"def\"))\n",
      "import keyword\n",
      "\n",
      "print(keyword.iskeyword('hi'))\n",
      "print(keyword.iskeyword('def'))\n",
      "test = 3+2\n",
      "age = 45  # integer assignment\n",
      "salary = 68000.50  # float assignment\n",
      "Age = 25\n",
      "\n",
      "print(age)  # 25\n",
      "print(salary)  # 68000.5\n",
      "age = 50\n",
      "print(age)\n",
      "var = 100.50\n",
      "print(var)  \n",
      "# print its type\n",
      "print(type(var))\n",
      "print(int1)\n",
      "del int1\n",
      "%history\n"
     ]
    }
   ],
   "source": [
    "%history"
   ]
  },
  {
   "cell_type": "markdown",
   "metadata": {},
   "source": [
    "### Delete a variable\n",
    "Use the `del` keyword to delete the variable. Once we delete the variable, it will not be longer accessible and eligible for the garbage collector."
   ]
  },
  {
   "cell_type": "code",
   "execution_count": 49,
   "metadata": {},
   "outputs": [
    {
     "name": "stdout",
     "output_type": "stream",
     "text": [
      "1\n"
     ]
    }
   ],
   "source": [
    "int1 = 1\n",
    "print(int1)\n",
    "del int1"
   ]
  },
  {
   "cell_type": "markdown",
   "metadata": {},
   "source": [
    "### Variable’s case-sensitive\n",
    "Python is a case-sensitive language. If we define a variable with names x = 10 and X =20 then, Python differentiates between x and X. These variables are treated as two different variables (or objects)."
   ]
  },
  {
   "cell_type": "code",
   "execution_count": 51,
   "metadata": {},
   "outputs": [
    {
     "name": "stdout",
     "output_type": "stream",
     "text": [
      "10\n",
      "20.5\n"
     ]
    }
   ],
   "source": [
    "tim = 10\n",
    "Tim = 20.5\n",
    "\n",
    "# value of tim\n",
    "print(tim)  \n",
    "# Value of Tim\n",
    "print(Tim) \n"
   ]
  },
  {
   "cell_type": "markdown",
   "metadata": {},
   "source": [
    "### Constants\n",
    "Constant is a variable or value that does not change, which means it remains the same and cannot be modified.\n",
    "Conventionally in Python, constants are declared in capital case. Below, we are indicating that PI is a constant by using all capital case. Here radius is a variable and its value is float 5.0. We will use both the constant and the variable together to compute the circumference of the circle and assign it to c."
   ]
  },
  {
   "cell_type": "code",
   "execution_count": 57,
   "metadata": {},
   "outputs": [
    {
     "name": "stdout",
     "output_type": "stream",
     "text": [
      "3.1415\n",
      "The circumference of a circle of radius 5.00 is: 31.42\n"
     ]
    }
   ],
   "source": [
    "PI = 3.1415\n",
    "print(PI)\n",
    "radius = 5.0\n",
    "c = 2*PI*radius\n",
    "print('The circumference of a circle of radius %0.2f is: %0.2f' %(radius, c))"
   ]
  },
  {
   "cell_type": "markdown",
   "metadata": {},
   "source": [
    "### Multiple assignments\n",
    "In Python, there is no restriction to declare a variable before using it in the program. Python allows us to create a variable as and when required.\n",
    "\n",
    "We can do multiple assignments in two ways, either by assigning a **single value to multiple variables** or assigning **multiple values to multiple variables**."
   ]
  },
  {
   "cell_type": "markdown",
   "metadata": {},
   "source": [
    "### Assigning a single value to multiple variables\n",
    "we can assign a single value to multiple variables simultaneously using the assignment operator `=`."
   ]
  },
  {
   "cell_type": "code",
   "execution_count": 61,
   "metadata": {},
   "outputs": [
    {
     "name": "stdout",
     "output_type": "stream",
     "text": [
      "x: 50\n",
      "y: 50\n",
      "z: 50\n"
     ]
    }
   ],
   "source": [
    "x=y=z = 50\n",
    "print(\"x:\",x)\n",
    "print(\"y:\",y)\n",
    "print(\"z:\", z)"
   ]
  },
  {
   "cell_type": "markdown",
   "metadata": {},
   "source": [
    "### Assigning multiple values to multiple variables"
   ]
  },
  {
   "cell_type": "code",
   "execution_count": 62,
   "metadata": {},
   "outputs": [
    {
     "name": "stdout",
     "output_type": "stream",
     "text": [
      "x: 11\n",
      "y: 22.7\n",
      "z: John\n"
     ]
    }
   ],
   "source": [
    "x,y,z = 10,20,30\n",
    "\n",
    "x,y,z = 11,22.7,\"John\"\n",
    "print(\"x:\",x)\n",
    "print(\"y:\",y)\n",
    "print(\"z:\", z)"
   ]
  },
  {
   "cell_type": "markdown",
   "metadata": {},
   "source": [
    "### Variable scope\n",
    "\n",
    "**Scope**: The scope of a variable refers to the places where we can access a variable.\n",
    "\n",
    "Depending on the scope, the variable can categorize into two types local variable and the global variable.\n",
    "\n",
    "**Local variable**\n",
    "A local variable is a variable that is accessible inside a block of code only where it is declared. That means, If we declare a variable inside a method, the scope of the local variable is limited to the method only. So it is not accessible from outside of the method. If we try to access it, we will get an error."
   ]
  },
  {
   "cell_type": "code",
   "execution_count": 64,
   "metadata": {},
   "outputs": [
    {
     "name": "stdout",
     "output_type": "stream",
     "text": [
      "Value of price in test1 function : 500\n",
      "Value price in test2 function: 600\n"
     ]
    }
   ],
   "source": [
    "def fun1():  # defining 1st function\n",
    "    var1 = 500  # local variable\n",
    "    print(\"Value of price in test1 function :\", var1)\n",
    "\n",
    "def fun2():  # defining 2nd function\n",
    "    # NameError: name 'var1' is not defined\n",
    "    var1 = 600\n",
    "    print(\"Value price in test2 function:\", var1)\n",
    "\n",
    "# call functions\n",
    "fun1()\n",
    "fun2()"
   ]
  },
  {
   "cell_type": "markdown",
   "metadata": {},
   "source": [
    "### Global variable\n",
    "A Global variable is a variable that is defined outside of the method (block of code). That is accessible anywhere in the code file."
   ]
  },
  {
   "cell_type": "code",
   "execution_count": 65,
   "metadata": {},
   "outputs": [
    {
     "name": "stdout",
     "output_type": "stream",
     "text": [
      "price in 1st function : 500\n",
      "price in 2nd function : 500\n"
     ]
    }
   ],
   "source": [
    "var1 = 500  # Global variable\n",
    "\n",
    "def fun1():  # defining 1st function\n",
    "    print(\"price in 1st function :\", var1)  \n",
    "\n",
    "def fun22():  # defining 2nd function\n",
    "    print(\"price in 2nd function :\", var1)  \n",
    "\n",
    "# call functions\n",
    "fun1()\n",
    "fun22()"
   ]
  },
  {
   "cell_type": "markdown",
   "metadata": {},
   "source": [
    "### Standard data types\n",
    "A variable can hold different types of values. For example, a person's name must be stored as a string whereas its id must be stored as an integer.\n",
    "\n",
    "Python provides various standard data types that define the storage method on each of them. The data types defined in Python are given below.\n",
    "\n",
    "1. Numbers\n",
    "2. Sequence Type\n",
    "3. Boolean\n",
    "4. Set\n",
    "5. Dictionary\n",
    "\n",
    "![data type](../python-data-types.png)"
   ]
  },
  {
   "cell_type": "markdown",
   "metadata": {},
   "source": [
    "### Operators in Python\n",
    "\n",
    "The operator can be defined as a symbol which is responsible for a particular operation between two operands. Operators are the pillars of a program on which the logic is built in a specific programming language. Python provides a variety of operators, which are described as follows.\n",
    "\n",
    "- Arithmetic operators\n",
    "- Comparison operators\n",
    "- Assignment Operators\n",
    "- Logical Operators\n",
    "- Bitwise Operators\n",
    "- Membership Operators\n",
    "- Identity Operators"
   ]
  },
  {
   "cell_type": "markdown",
   "metadata": {},
   "source": [
    "### Arithmatic operators\n",
    "\n",
    "| Operator | Meaning | Example |\n",
    "| --- | --- | --- |\n",
    "| + | Add two operators or unary plus | x+y |\n",
    "|-\t|Subtract right operand from the left or unary minus|\tx-y|\n",
    "|* |\tMultiply two operands| x*y |\n",
    "|/\t|Divide left operand by the right one (always results into float)|\tx/y|\n",
    "|%|\tModulus - remainder of the division of left operand by the right|\tx % y (remainder of x/y)|\n",
    "|//\t|Floor division - division that results into whole number adjusted to the left in the number line|\tx // y|\n",
    "|**\t|Exponent - left operand raised to the power of right |\tx**y  (x to the power y) |"
   ]
  },
  {
   "cell_type": "code",
   "execution_count": 66,
   "metadata": {},
   "outputs": [],
   "source": [
    "x = 14\n",
    "y = 4"
   ]
  },
  {
   "cell_type": "code",
   "execution_count": 67,
   "metadata": {},
   "outputs": [
    {
     "name": "stdout",
     "output_type": "stream",
     "text": [
      "x + y = 18\n"
     ]
    }
   ],
   "source": [
    "# Output: x + y = 18\n",
    "print('x + y =',x+y)"
   ]
  },
  {
   "cell_type": "code",
   "execution_count": 60,
   "metadata": {},
   "outputs": [
    {
     "name": "stdout",
     "output_type": "stream",
     "text": [
      "x - y = 10\n"
     ]
    }
   ],
   "source": [
    "# Output: x - y = 11\n",
    "print('x - y =',x-y)"
   ]
  },
  {
   "cell_type": "code",
   "execution_count": 61,
   "metadata": {},
   "outputs": [
    {
     "name": "stdout",
     "output_type": "stream",
     "text": [
      "x * y = 56\n"
     ]
    }
   ],
   "source": [
    "# Output: x * y = 56\n",
    "print('x * y =',x*y)"
   ]
  },
  {
   "cell_type": "code",
   "execution_count": 62,
   "metadata": {
    "scrolled": true
   },
   "outputs": [
    {
     "name": "stdout",
     "output_type": "stream",
     "text": [
      "x / y = 3.5\n"
     ]
    }
   ],
   "source": [
    "# Output: x / y = 3.5\n",
    "print('x / y =',x/y)"
   ]
  },
  {
   "cell_type": "code",
   "execution_count": 75,
   "metadata": {},
   "outputs": [
    {
     "name": "stdout",
     "output_type": "stream",
     "text": [
      "x // y = 3\n"
     ]
    }
   ],
   "source": [
    "# Output: x // y = 3.5\n",
    "print('x // y =',x//y)"
   ]
  },
  {
   "cell_type": "code",
   "execution_count": 76,
   "metadata": {},
   "outputs": [
    {
     "data": {
      "text/plain": [
       "2"
      ]
     },
     "execution_count": 76,
     "metadata": {},
     "output_type": "execute_result"
    }
   ],
   "source": [
    "x%y"
   ]
  },
  {
   "cell_type": "code",
   "execution_count": 74,
   "metadata": {},
   "outputs": [
    {
     "name": "stdout",
     "output_type": "stream",
     "text": [
      "y ** 2 = 16\n",
      "x ** y = 38416\n"
     ]
    }
   ],
   "source": [
    "# Output: x ** y = 38416\n",
    "print('y ** 2 =',x**2)\n",
    "print('x ** y =',x**y)"
   ]
  },
  {
   "cell_type": "markdown",
   "metadata": {},
   "source": [
    "### Comparison operators\n",
    "Comparison operators are used to compare values. It returns either `True` or `False` according to the condition.\n",
    "\n",
    "| Operator | Meaning | Example |\n",
    "| --- | --- | --- |\n",
    "|>|Greater than - True if left operand is greater than the right|x > y|\n",
    "|<|\tLess than - True if left operand is less than the right|x < y|\n",
    "|==|\tEqual to - True if both operands are equal|\tx == y|\n",
    "|!=\t|Not equal to - True if operands are not equal\t|x != y|\n",
    "|>=\t|Greater than or equal to - True if left operand is greater than or equal to the right|\tx >= y|\n",
    "|<=\t|Less than or equal to - True if left operand is less than or equal to the right\t|x <= y|"
   ]
  },
  {
   "cell_type": "code",
   "execution_count": 77,
   "metadata": {},
   "outputs": [],
   "source": [
    "x = 10\n",
    "y = 12"
   ]
  },
  {
   "cell_type": "code",
   "execution_count": 88,
   "metadata": {},
   "outputs": [
    {
     "name": "stdout",
     "output_type": "stream",
     "text": [
      "x > y is False\n"
     ]
    }
   ],
   "source": [
    "# Output: x > y is False\n",
    "print('x > y is',x>y)"
   ]
  },
  {
   "cell_type": "code",
   "execution_count": 79,
   "metadata": {},
   "outputs": [
    {
     "name": "stdout",
     "output_type": "stream",
     "text": [
      "x < y is True\n"
     ]
    }
   ],
   "source": [
    "# Output: x < y is True\n",
    "print('x < y is',x<y)"
   ]
  },
  {
   "cell_type": "code",
   "execution_count": 80,
   "metadata": {},
   "outputs": [
    {
     "name": "stdout",
     "output_type": "stream",
     "text": [
      "10\n",
      "12\n"
     ]
    }
   ],
   "source": [
    "print(x)\n",
    "print(y)"
   ]
  },
  {
   "cell_type": "code",
   "execution_count": 89,
   "metadata": {},
   "outputs": [
    {
     "name": "stdout",
     "output_type": "stream",
     "text": [
      "x == y is True\n"
     ]
    }
   ],
   "source": [
    "# Output: x == y is False\n",
    "print('x == y is',x==y)"
   ]
  },
  {
   "cell_type": "code",
   "execution_count": 91,
   "metadata": {},
   "outputs": [
    {
     "name": "stdout",
     "output_type": "stream",
     "text": [
      "12\n",
      "12\n",
      "12\n"
     ]
    }
   ],
   "source": [
    "print(x)\n",
    "x=y\n",
    "print(x)\n",
    "print(y)"
   ]
  },
  {
   "cell_type": "code",
   "execution_count": 92,
   "metadata": {},
   "outputs": [
    {
     "name": "stdout",
     "output_type": "stream",
     "text": [
      "x == y is True\n"
     ]
    }
   ],
   "source": [
    "# Output: x == y is True\n",
    "print('x == y is',x==y)"
   ]
  },
  {
   "cell_type": "code",
   "execution_count": 93,
   "metadata": {},
   "outputs": [
    {
     "name": "stdout",
     "output_type": "stream",
     "text": [
      "x != y is False\n"
     ]
    }
   ],
   "source": [
    "# Output: x != y is False\n",
    "print('x != y is',x!=y)"
   ]
  },
  {
   "cell_type": "code",
   "execution_count": 97,
   "metadata": {},
   "outputs": [
    {
     "name": "stdout",
     "output_type": "stream",
     "text": [
      "x >= y is True\n"
     ]
    }
   ],
   "source": [
    "# Output: x >= y is True\n",
    "print('x >= y is',x>=y)"
   ]
  },
  {
   "cell_type": "code",
   "execution_count": 98,
   "metadata": {},
   "outputs": [
    {
     "name": "stdout",
     "output_type": "stream",
     "text": [
      "x <= y is True\n"
     ]
    }
   ],
   "source": [
    "# Output: x <= y is True\n",
    "print('x <= y is',x<=y)"
   ]
  },
  {
   "cell_type": "markdown",
   "metadata": {},
   "source": [
    "### Assignment operators\n",
    "Assignment operators are used in Python to assign values to variables.\n",
    "\n",
    "`a = 5` is a simple assignment operator that assigns the value 5 on the right to the variable `a` on the left.\n",
    "\n",
    "There are various compound operators in Python like `a += 5` that adds to the variable and later assigns the same. It is equivalent to `a = a + 5`.\n",
    "\n",
    "\n",
    "| Operator | Example | Equivalent |\n",
    "| --- | --- | --- |\n",
    "|=|\tx = 5|\tx = 5|\n",
    "|+=\t|x += 5\t|x = x + 5|\n",
    "|-=\t|x -= 5\t|x = x - 5|\n",
    "|*=\t|x *= 5\t|x = x * 5|\n",
    "|/=\t|x /= 5\t|x = x / 5|\n",
    "|%=\t|x %= 5\t|x = x % 5|\n",
    "|//=\t|x //= 5\t|x = x // 5|\n",
    "|**=\t|x **= 5\t|x = x ** 5|\n",
    "|&=\t|x &= 5\t|x = x & 5|\n",
    "|^=\t|x ^= 5\t|x = x ^ 5|\n",
    "|>>=\t|x >>= 5|\tx = x >> 5|\n",
    "|<<=\t|x <<= 5\t|x = x << 5|"
   ]
  },
  {
   "cell_type": "markdown",
   "metadata": {},
   "source": [
    "### Logical Operator\n",
    "\n",
    "Logical operators are the ``and`, `or`, `not` operators.\n",
    "\n",
    "| Operator | Meaning | Example |\n",
    "| --- | --- | --- |\n",
    "|and|\tTrue if both the operands are true|\tx and y|\n",
    "|or|\tTrue if either of the operands is true|\tx or y|"
   ]
  },
  {
   "cell_type": "code",
   "execution_count": 99,
   "metadata": {},
   "outputs": [
    {
     "name": "stdout",
     "output_type": "stream",
     "text": [
      "x and y is False\n"
     ]
    }
   ],
   "source": [
    "x = True\n",
    "y = False\n",
    "\n",
    "print('x and y is',x and y)"
   ]
  },
  {
   "cell_type": "code",
   "execution_count": 100,
   "metadata": {},
   "outputs": [
    {
     "name": "stdout",
     "output_type": "stream",
     "text": [
      "x or y is True\n"
     ]
    }
   ],
   "source": [
    "print('x or y is',x or y)"
   ]
  },
  {
   "cell_type": "code",
   "execution_count": 101,
   "metadata": {},
   "outputs": [
    {
     "name": "stdout",
     "output_type": "stream",
     "text": [
      "not x is False\n"
     ]
    }
   ],
   "source": [
    "print('not x is',not x)"
   ]
  },
  {
   "cell_type": "code",
   "execution_count": 102,
   "metadata": {},
   "outputs": [
    {
     "data": {
      "text/plain": [
       "True"
      ]
     },
     "execution_count": 102,
     "metadata": {},
     "output_type": "execute_result"
    }
   ],
   "source": [
    "x = 10\n",
    "y = -10\n",
    "(x>0 and y <0)"
   ]
  },
  {
   "cell_type": "markdown",
   "metadata": {},
   "source": [
    "### Bitwise operators\n",
    "Bitwise operators act on operands as if they were strings of binary digits. They operate bit by bit, hence the name.\n",
    "\n",
    "For example, `2` is `10` in binary and `7` is `111`.\n",
    "\n",
    "| Operator | Meaning | Example |\n",
    "| --- | --- | --- |\n",
    "|&\t|Bitwise AND|\tx & y = 0 (0000 0000)|\n",
    "| | | Bitwise OR| x|y =14(`0000 1110`)|  (CHECK IT)\n",
    "|~ | Bitwise NOT | ~x = -11(`1111 0101`)|\n",
    "|^| Bitwise XOR | x^y = 14 (`0000 1110`)|\n",
    "|>>| Bitwise right shift | x>>2 = 2 (`0000 0010`)|\n",
    "|<<| Bitwise left shift | x<<2 = 40 (`0010 1000`)|"
   ]
  },
  {
   "cell_type": "code",
   "execution_count": 103,
   "metadata": {},
   "outputs": [
    {
     "name": "stdout",
     "output_type": "stream",
     "text": [
      "4\n",
      "5\n",
      "4\n"
     ]
    }
   ],
   "source": [
    "## https://pynative.com/python-operators/\n",
    "\n",
    "## Bitwise and &\n",
    "\n",
    "a = 7\n",
    "b = 4\n",
    "c = 5\n",
    "print(a & b)\n",
    "print(a & c)\n",
    "print(b & c)"
   ]
  },
  {
   "attachments": {
    "image.png": {
     "image/png": "[encoded data removed]"
    }
   },
   "cell_type": "markdown",
   "metadata": {},
   "source": [
    "Here, every integer value is converted into a binary value. For example, a =7, its binary value is 0111, and b=4, its binary value is 0100. Next we performed logical AND, and got 0100 as a result, similarly for a and c, b and c\n",
    "\n",
    "![image.png](attachment:image.png)"
   ]
  },
  {
   "cell_type": "code",
   "execution_count": 104,
   "metadata": {},
   "outputs": [
    {
     "name": "stdout",
     "output_type": "stream",
     "text": [
      "7\n",
      "7\n",
      "5\n"
     ]
    }
   ],
   "source": [
    "## Bitwise or |\n",
    "a = 7\n",
    "b = 4\n",
    "c = 5\n",
    "print(a | b)\n",
    "print(a | c)\n",
    "print(b | c)"
   ]
  },
  {
   "attachments": {
    "image.png": {
     "image/png": "[encoded data removed]"
    }
   },
   "cell_type": "markdown",
   "metadata": {},
   "source": [
    "Here, every integer value is converted into binary. For example, a =7 its binary value is 0111, and b=4, its binary value is 0100, after logical OR, we got 0111 as a result. Similarly for a and c, b and c.\n",
    "\n",
    "![image.png](attachment:image.png)"
   ]
  },
  {
   "cell_type": "markdown",
   "metadata": {},
   "source": [
    "### Identity operators\n",
    "`is` and `is not` are the identity operators in Python. They are used to check if two values (or variables) are located on the same part of the memory. Two variables that are equal does not imply that they are identical.\n",
    "\n",
    "|Operator|\tMeaning|\tExample|\n",
    "| --- | --- | --- |\n",
    "|is\t|True if the operands are identical (refer to the same object)|\tx is True|\n",
    "|is not|\tTrue if the operands are not identical (do not refer to the same object)|\tx is not True|"
   ]
  },
  {
   "cell_type": "code",
   "execution_count": 2,
   "metadata": {},
   "outputs": [
    {
     "name": "stdout",
     "output_type": "stream",
     "text": [
      "False\n",
      "True\n",
      "False\n"
     ]
    }
   ],
   "source": [
    "x1 = 5\n",
    "y1 = 5\n",
    "x2 = 'Hello'\n",
    "y2 = 'Hello'\n",
    "x3 = [1,2,3]\n",
    "y3 = [1,2,3]\n",
    "\n",
    "# Output: False\n",
    "print(x1 is not y1)\n",
    "\n",
    "# Output: True\n",
    "print(x2 is y2)\n",
    "\n",
    "# Output: False\n",
    "print(x3 is y3)"
   ]
  },
  {
   "cell_type": "markdown",
   "metadata": {},
   "source": [
    "### Membership operators\n",
    "`in` and `not` in are the membership operators in Python. They are used to test whether a value or variable is found in a sequence (`string`, `list`, `tuple`, `set` and `dictionary`).\n",
    "\n",
    "In a dictionary we can only test for presence of key, not the value.\n",
    "\n",
    "|Operator|\tMeaning|\tExample|\n",
    "| --- | --- | --- |\n",
    "|in|\tTrue if value/variable is found in the sequence|\t5 in x|\n",
    "|not| in\tTrue if value/variable is not found in the sequence\t|5 not in x|"
   ]
  },
  {
   "cell_type": "code",
   "execution_count": 112,
   "metadata": {},
   "outputs": [
    {
     "name": "stdout",
     "output_type": "stream",
     "text": [
      "True\n",
      "True\n",
      "True\n",
      "False\n"
     ]
    }
   ],
   "source": [
    "x = 'Hello world'\n",
    "y = {1:'a',2:'b'}\n",
    "\n",
    "# Output: True\n",
    "print('H' in x)\n",
    "\n",
    "# Output: True\n",
    "print('hello' not in x)\n",
    "\n",
    "# Output: True\n",
    "print(1 in y)\n",
    "\n",
    "# Output: False\n",
    "print('a' in y)"
   ]
  },
  {
   "cell_type": "markdown",
   "metadata": {},
   "source": [
    "### Operator Precedence\n",
    "The precedence of the operators is essential to find out since it enables us to know which operator should be evaluated first. The precedence table of the operators in Python is given below.\n",
    "\n",
    "|Operator|\tDescription|\n",
    "|---|---|\n",
    "|**\t|The exponent operator is given priority over all the others used in the expression.|\n",
    "~ + -|\tThe negation, unary plus, and minus.|\n",
    "|* / % //|\tThe multiplication, divide, modules, reminder, and floor division.|\n",
    "|+ -|\tBinary plus, and minus|\n",
    "|>> <<\t|Left shift. and right shift|\n",
    "|&|\tBinary and.|\n",
    "|^ |\t|Binary xor, and or|\n",
    "|<= < > >=\t|Comparison operators (less than, less than equal to, greater than, greater then equal to).|\n",
    "|<> == !=\t|Equality operators.|\n",
    "|= %= /= //= -= +=\n",
    "*= **=\t|Assignment operators|\n",
    "|is is not\t|Identity operators|\n",
    "|in not in\t|Membership operators|\n",
    "|not or and\t|Logical operators|\n"
   ]
  },
  {
   "cell_type": "markdown",
   "metadata": {},
   "source": [
    "### Python Casting: Type Conversion and Type Casting\n",
    "\n",
    "In Python, we can convert one type of variable to another type. This conversion is called type casting or type conversion.\n",
    "\n",
    "In casting, we convert variables declared in specific data types to the different data types.\n",
    "\n",
    "Python performs the following two types of casting.\n",
    "\n",
    "- **Implicit casting**: The Python interpreter automatically performs an implicit Type conversion, which avoids loss of data.\n",
    "- **Explicit casting**: The explicit type conversion is performed by the user using built-in functions."
   ]
  },
  {
   "cell_type": "markdown",
   "metadata": {},
   "source": [
    "### Implicit Type Conversion\n",
    "In Implicit type conversion, Python automatically converts one data type to another data type. This process doesn't need any user involvement.\n",
    "\n",
    "Let's see an example where Python promotes the conversion of the lower data type (integer) to the higher data type (float) to avoid data loss."
   ]
  },
  {
   "cell_type": "code",
   "execution_count": 113,
   "metadata": {},
   "outputs": [
    {
     "name": "stdout",
     "output_type": "stream",
     "text": [
      "datatype of num_int: <class 'int'>\n",
      "datatype of num_flo: <class 'float'>\n",
      "Value of num_new: 124.23\n",
      "datatype of num_new: <class 'float'>\n"
     ]
    }
   ],
   "source": [
    "# Converting integer to float\n",
    "\n",
    "num_int = 123\n",
    "num_flo = 1.23\n",
    "\n",
    "num_new = num_int + num_flo\n",
    "\n",
    "print(\"datatype of num_int:\",type(num_int))\n",
    "print(\"datatype of num_flo:\",type(num_flo))\n",
    "\n",
    "print(\"Value of num_new:\",num_new)\n",
    "print(\"datatype of num_new:\",type(num_new))"
   ]
  },
  {
   "cell_type": "markdown",
   "metadata": {},
   "source": [
    "In the above program,\n",
    "\n",
    "- We add two variables `num_int` and `num_flo`, storing the value in `num_new`.\n",
    "- We will look at the data type of all three objects respectively.\n",
    "- In the output, we can see the data type of `num_int` is an integer while the data type of `num_flo` is a `float`.\n",
    "- Also, we can see the `num_new` has a float data type because Python always converts smaller data types to larger data types to avoid the loss of data.\n"
   ]
  },
  {
   "cell_type": "code",
   "execution_count": 124,
   "metadata": {},
   "outputs": [
    {
     "name": "stdout",
     "output_type": "stream",
     "text": [
      "Data type of num_int: <class 'int'>\n",
      "Data type of num_str: <class 'str'>\n"
     ]
    },
    {
     "ename": "TypeError",
     "evalue": "unsupported operand type(s) for +: 'int' and 'str'",
     "output_type": "error",
     "traceback": [
      "\u001b[0;31m---------------------------------------------------------------------------\u001b[0m",
      "\u001b[0;31mTypeError\u001b[0m                                 Traceback (most recent call last)",
      "Cell \u001b[0;32mIn[124], line 9\u001b[0m\n\u001b[1;32m      6\u001b[0m \u001b[38;5;28mprint\u001b[39m(\u001b[38;5;124m\"\u001b[39m\u001b[38;5;124mData type of num_int:\u001b[39m\u001b[38;5;124m\"\u001b[39m,\u001b[38;5;28mtype\u001b[39m(num_int))\n\u001b[1;32m      7\u001b[0m \u001b[38;5;28mprint\u001b[39m(\u001b[38;5;124m\"\u001b[39m\u001b[38;5;124mData type of num_str:\u001b[39m\u001b[38;5;124m\"\u001b[39m,\u001b[38;5;28mtype\u001b[39m(num_str))\n\u001b[0;32m----> 9\u001b[0m \u001b[38;5;28mprint\u001b[39m(num_int\u001b[38;5;241m+\u001b[39mnum_str)\n",
      "\u001b[0;31mTypeError\u001b[0m: unsupported operand type(s) for +: 'int' and 'str'"
     ]
    }
   ],
   "source": [
    "# Addition of string(higher) data type and integer(lower) datatype\n",
    "\n",
    "num_int = 123\n",
    "num_str = \"456\"\n",
    "\n",
    "print(\"Data type of num_int:\",type(num_int))\n",
    "print(\"Data type of num_str:\",type(num_str))\n",
    "\n",
    "print(num_int+num_str)"
   ]
  },
  {
   "cell_type": "markdown",
   "metadata": {},
   "source": [
    "In the above program,\n",
    "\n",
    "- We add two variables `num_int` and `num_str`.\n",
    "- As we can see from the output, we got `TypeError`. Python is not able to use Implicit Conversion in such conditions.\n",
    "- However, Python has a solution for these types of situations which is known as **Explicit Conversion**."
   ]
  },
  {
   "cell_type": "markdown",
   "metadata": {},
   "source": [
    "### Explicit Type Conversion\n",
    "In Explicit Type Conversion, users convert the data type of an object to required data type. We use the predefined functions like `int()`, `float()`, `str()`, etc to perform explicit type conversion.\n",
    "\n",
    "This type of conversion is also called typecasting because the user casts (changes) the data type of the objects.\n",
    "\n",
    "Syntax :\n",
    "\n",
    "(required_datatype)(expression)\n",
    "\n",
    "Typecasting can be done by assigning the required data type function to the expression.\n",
    "\n",
    "\n",
    "\n",
    "|Function|Description|\n",
    "|----|----|\n",
    "|int(y [base])|\tIt converts y to an integer, and Base specifies the number base. For example, if you want to convert the string in decimal numbers then you’ll use 10 as base.|\n",
    "|float(y)|\tIt converts y to a floating-point number.|\n",
    "|complex(real [imag])|\tIt creates a complex number.|\n",
    "|str(y)\t|It converts y to a string.|\n",
    "|tuple(y)|\tIt converts y to a tuple.|\n",
    "|list(y)|\tIt converts y to a list.|\n",
    "|set(y)|\tIt converts y to a set.|\n",
    "|dict(y)|\tIt creates a dictionary and y should be a sequence of (key, value) tuples.|\n",
    "|ord(y)\t|It converts a character into an integer.|\n",
    "|hex(y)\t|It converts an integer to a hexadecimal string.|\n",
    "|oct(y)\t|It converts an integer to an octal string|"
   ]
  },
  {
   "cell_type": "code",
   "execution_count": 122,
   "metadata": {},
   "outputs": [
    {
     "name": "stdout",
     "output_type": "stream",
     "text": [
      "Data type of num_int: <class 'int'>\n",
      "Data type of num_str before Type Casting: <class 'str'>\n",
      "Data type of num_str after Type Casting: <class 'int'>\n",
      "Sum of num_int and num_str: 579\n",
      "Data type of the sum: <class 'int'>\n"
     ]
    }
   ],
   "source": [
    "# Addition of string and integer using explicit conversion\n",
    "\n",
    "num_int = 123\n",
    "num_str = \"456\"\n",
    "# num_test = int(num_str)\n",
    "\n",
    "print(\"Data type of num_int:\",type(num_int))\n",
    "print(\"Data type of num_str before Type Casting:\",type(num_str))\n",
    "\n",
    "num_str = int(num_str)\n",
    "print(\"Data type of num_str after Type Casting:\",type(num_str))\n",
    "\n",
    "num_sum = num_int + num_str\n",
    "\n",
    "print(\"Sum of num_int and num_str:\",num_sum)\n",
    "print(\"Data type of the sum:\",type(num_sum))"
   ]
  },
  {
   "cell_type": "markdown",
   "metadata": {},
   "source": [
    "In the above program,\n",
    "\n",
    "- We add `num_str` and `num_int` variable.\n",
    "- We converted `num_str` from string(higher) to integer(lower) type using `int()` function to perform the addition.\n",
    "- After converting num_str to an integer value, Python is able to add these two variables.\n",
    "- We got the `num_sum` value and data type to be an integer.\n",
    "\n",
    "\n",
    "### Key Points to Remember\n",
    "- Type Conversion is the conversion of object from one data type to another data type.\n",
    "- Implicit Type Conversion is automatically performed by the Python interpreter.\n",
    "- Python avoids the loss of data in Implicit Type Conversion.\n",
    "- Explicit Type Conversion is also called Type Casting, the data types of objects are converted using predefined functions by the user.\n",
    "- In Type Casting, loss of data may occur as we enforce the object to a specific data type."
   ]
  },
  {
   "cell_type": "code",
   "execution_count": null,
   "metadata": {},
   "outputs": [],
   "source": []
  },
  {
   "cell_type": "code",
   "execution_count": 125,
   "metadata": {},
   "outputs": [
    {
     "name": "stdout",
     "output_type": "stream",
     "text": [
      "PROGRAMMING\n"
     ]
    }
   ],
   "source": [
    "string1 = \"programming\"\n",
    "print(string1.upper())\n"
   ]
  },
  {
   "cell_type": "code",
   "execution_count": 120,
   "metadata": {},
   "outputs": [
    {
     "name": "stdout",
     "output_type": "stream",
     "text": [
      "Programming language i am learning is python\n"
     ]
    }
   ],
   "source": [
    "string1 = \"programming language I am learning is Python\"\n",
    "print(string1.capitalize())"
   ]
  },
  {
   "cell_type": "code",
   "execution_count": null,
   "metadata": {},
   "outputs": [],
   "source": [
    "string2 = \"POWERFUL\"\n",
    "print(string2.lower())"
   ]
  },
  {
   "cell_type": "code",
   "execution_count": null,
   "metadata": {},
   "outputs": [],
   "source": [
    "stringA = \"the life of pi\"\n",
    "print(stringA.title())"
   ]
  },
  {
   "cell_type": "code",
   "execution_count": null,
   "metadata": {},
   "outputs": [],
   "source": [
    "string3 = '34'\n",
    "string4 = 'abc'\n",
    "string5 = '123abc'\n",
    "#print(type(string3))\n",
    "#print(string3.isdigit())\n",
    "\n",
    "#print(string4.isdigit())\n",
    "\n",
    "print(string5.isalnum()) "
   ]
  },
  {
   "cell_type": "code",
   "execution_count": null,
   "metadata": {},
   "outputs": [],
   "source": [
    "string5 = \"pamphlet\"\n",
    "print(string5.find(\"ph\"))"
   ]
  },
  {
   "cell_type": "code",
   "execution_count": null,
   "metadata": {},
   "outputs": [],
   "source": [
    "string5 = \"pamphlet\"\n",
    "print(string5.replace(\"ph\", \"PH\"))"
   ]
  },
  {
   "cell_type": "code",
   "execution_count": null,
   "metadata": {},
   "outputs": [],
   "source": [
    "# Original string : pamphlet\n",
    "# Output: PamPHlet\n",
    "\n",
    "print(string5.capitalize().replace(\"ph\", \"PH\"))"
   ]
  },
  {
   "cell_type": "markdown",
   "metadata": {},
   "source": [
    "### String Functions\n",
    "Earlier we saw string methods, which are functions associated with a string. These methods are called by referencing the string followed by the name of the method. Here, we will consider string functions that take string as an input.\n",
    "\n",
    "- max(string): returns the maximum alphabetical character from the string\n",
    "- min(string): returns the minimum alphabetical character from the string\n",
    "- len(string): returns the number of characters in the string\n"
   ]
  },
  {
   "cell_type": "code",
   "execution_count": null,
   "metadata": {},
   "outputs": [],
   "source": [
    "string8 = \"xylo phone\"\n",
    "print(len(string8))"
   ]
  },
  {
   "cell_type": "code",
   "execution_count": null,
   "metadata": {},
   "outputs": [],
   "source": [
    "string8 = \"xylophone\"\n",
    "print(max(string8))"
   ]
  },
  {
   "cell_type": "code",
   "execution_count": null,
   "metadata": {},
   "outputs": [],
   "source": [
    "string8 = \"xylophone\"\n",
    "print(min(string8))"
   ]
  },
  {
   "cell_type": "markdown",
   "metadata": {},
   "source": [
    "### String concatenation"
   ]
  },
  {
   "cell_type": "code",
   "execution_count": null,
   "metadata": {
    "inputHidden": false,
    "outputHidden": false
   },
   "outputs": [],
   "source": [
    "a = \"It is\"\n",
    "b = \"me\"\n",
    "#print(len(b))\n",
    "print(\"first string:\",a)\n",
    "print(\"second string:\",b)\n",
    "print('\\n')\n",
    "print(a + b) # string concatenation"
   ]
  },
  {
   "cell_type": "code",
   "execution_count": null,
   "metadata": {},
   "outputs": [],
   "source": [
    "# Print with space between is and me\n",
    "print(a + ':' +b)\n",
    "print(a + ': ' +b)"
   ]
  },
  {
   "cell_type": "markdown",
   "metadata": {},
   "source": [
    "Want to print the following \n",
    "\n",
    "-----Printing Output-----"
   ]
  },
  {
   "cell_type": "code",
   "execution_count": null,
   "metadata": {},
   "outputs": [],
   "source": [
    "print('-'*5+'Printing Output'+'-'*5)"
   ]
  },
  {
   "cell_type": "markdown",
   "metadata": {},
   "source": [
    "Want to print the following \n",
    "\n",
    "-----Printing Output*****"
   ]
  },
  {
   "cell_type": "code",
   "execution_count": null,
   "metadata": {},
   "outputs": [],
   "source": [
    "print('-'*5+'Printing Output'+'*'*5)"
   ]
  },
  {
   "cell_type": "markdown",
   "metadata": {},
   "source": [
    "### Fetching user input from the command line\n",
    "\n",
    "The input() function is used to get information from the user. This is also known as standard input function. The function takes the prompt as an argument and returns the value entered by the user as **string** type.  "
   ]
  },
  {
   "cell_type": "code",
   "execution_count": 131,
   "metadata": {
    "inputHidden": false,
    "outputHidden": false
   },
   "outputs": [
    {
     "name": "stdout",
     "output_type": "stream",
     "text": [
      "Please enter the number: 2\n",
      "2\n",
      "<class 'str'>\n",
      "12\n"
     ]
    }
   ],
   "source": [
    "s1 = input(\"Please enter the number: \")\n",
    "print(s1)\n",
    "print(type(s1))\n",
    "\n",
    "#print(s1+10)\n",
    "\n",
    "print(int(s1)+(10))"
   ]
  },
  {
   "cell_type": "markdown",
   "metadata": {
    "inputHidden": false,
    "outputHidden": false
   },
   "source": [
    "#### Introspection\n",
    "\n",
    "Using a question mark (?) before or after a variable will display some general information about the object"
   ]
  },
  {
   "cell_type": "code",
   "execution_count": 132,
   "metadata": {},
   "outputs": [],
   "source": [
    "x = [1,2,3]\n",
    "x?"
   ]
  },
  {
   "cell_type": "markdown",
   "metadata": {},
   "source": [
    "###### This is referred to as object introspection. If the object is a function or instance method, the docstring, if defined, will also be shown. Suppose we'd written the following function"
   ]
  },
  {
   "cell_type": "code",
   "execution_count": null,
   "metadata": {},
   "outputs": [],
   "source": [
    "def add_numbers(a, b):\n",
    "    \"\"\"\n",
    "    Add two numbers together\n",
    "\n",
    "    Returns\n",
    "    -------\n",
    "    the_sum : type of arguments\n",
    "    \"\"\"\n",
    "    \n",
    "    return (a + b)"
   ]
  },
  {
   "cell_type": "code",
   "execution_count": null,
   "metadata": {},
   "outputs": [],
   "source": [
    "add_numbers?"
   ]
  },
  {
   "cell_type": "markdown",
   "metadata": {},
   "source": [
    "?? will also show the functions source code if possible "
   ]
  },
  {
   "cell_type": "code",
   "execution_count": null,
   "metadata": {},
   "outputs": [],
   "source": [
    "add_numbers??"
   ]
  },
  {
   "cell_type": "markdown",
   "metadata": {},
   "source": [
    "? has a final usage, which is for searching the IPython namespace in a manner similar to the standard Unix or Windows command line. A number of characters combined with the wildcard (*) will show all names matching the wildcard expression. For example, we could get a list of all functions in the top-level NumPy namespace con‐ taining load:"
   ]
  },
  {
   "cell_type": "code",
   "execution_count": null,
   "metadata": {},
   "outputs": [],
   "source": [
    "import numpy as np\n",
    "np.*load*?"
   ]
  },
  {
   "cell_type": "markdown",
   "metadata": {},
   "source": [
    "### The %run command\n",
    "\n",
    "You can run any file as a Python program inside the environment of your IPython session using the %run command. Suppose you had the following simple script stored in script_test.py:\n",
    "\n",
    "The script is run in an empty namespace (with no imports or other variables defined) so that the behavior should be identical to running the program on the command line using python script.py. All of the variables (imports, functions, and globals) defined in the file (up until an exception, if any, is raised) "
   ]
  },
  {
   "cell_type": "code",
   "execution_count": null,
   "metadata": {},
   "outputs": [],
   "source": [
    "%run test.py"
   ]
  },
  {
   "cell_type": "markdown",
   "metadata": {},
   "source": [
    "In the Jupyter notebook, you may also use the related %load magic function\n",
    "\n",
    "%load script_test.py"
   ]
  },
  {
   "cell_type": "markdown",
   "metadata": {},
   "source": [
    "### Interrupting running code\n",
    "Pressing Ctrl-C while any code is running, whether a script through %run or a long- running command, will cause a KeyboardInterrupt to be raised. This will cause nearly all Python programs to stop immediately except in certain unusual cases."
   ]
  },
  {
   "cell_type": "code",
   "execution_count": 140,
   "metadata": {},
   "outputs": [
    {
     "name": "stdout",
     "output_type": "stream",
     "text": [
      "2\n",
      "3\n",
      "4\n",
      "5\n",
      "6\n",
      "7\n",
      "8\n",
      "9\n",
      "10\n",
      "11\n",
      "12\n",
      "13\n",
      "14\n",
      "15\n",
      "16\n",
      "17\n",
      "18\n",
      "19\n",
      "20\n",
      "21\n",
      "22\n",
      "23\n",
      "24\n",
      "25\n",
      "26\n",
      "27\n",
      "28\n",
      "29\n",
      "30\n",
      "31\n",
      "32\n",
      "33\n",
      "34\n",
      "35\n",
      "36\n",
      "37\n",
      "38\n",
      "39\n",
      "40\n",
      "41\n",
      "42\n",
      "43\n",
      "44\n",
      "45\n",
      "46\n",
      "47\n",
      "48\n",
      "49\n",
      "50\n",
      "51\n",
      "52\n",
      "53\n",
      "54\n",
      "55\n",
      "56\n",
      "57\n",
      "58\n",
      "59\n",
      "60\n",
      "61\n",
      "62\n",
      "63\n",
      "64\n",
      "65\n",
      "66\n",
      "67\n",
      "68\n",
      "69\n",
      "70\n",
      "71\n",
      "72\n",
      "73\n",
      "74\n",
      "75\n",
      "76\n",
      "77\n",
      "78\n",
      "79\n",
      "80\n",
      "81\n",
      "82\n",
      "83\n",
      "84\n",
      "85\n",
      "86\n",
      "87\n",
      "88\n",
      "89\n",
      "90\n",
      "91\n",
      "92\n",
      "93\n",
      "94\n",
      "95\n",
      "96\n",
      "97\n",
      "98\n",
      "99\n",
      "100\n",
      "101\n"
     ]
    },
    {
     "ename": "KeyboardInterrupt",
     "evalue": "",
     "output_type": "error",
     "traceback": [
      "\u001b[0;31m---------------------------------------------------------------------------\u001b[0m",
      "\u001b[0;31mKeyboardInterrupt\u001b[0m                         Traceback (most recent call last)",
      "Cell \u001b[0;32mIn[140], line 2\u001b[0m\n\u001b[1;32m      1\u001b[0m i \u001b[38;5;241m=\u001b[39m \u001b[38;5;241m1\u001b[39m\n\u001b[0;32m----> 2\u001b[0m \u001b[38;5;28;01mwhile\u001b[39;00m(\u001b[38;5;28;01mTrue\u001b[39;00m):\n\u001b[1;32m      3\u001b[0m     \u001b[38;5;28;01mwhile\u001b[39;00m i \u001b[38;5;241m<\u001b[39m\u001b[38;5;241m=\u001b[39m \u001b[38;5;241m100\u001b[39m:\n\u001b[1;32m      4\u001b[0m         i \u001b[38;5;241m=\u001b[39m i \u001b[38;5;241m+\u001b[39m \u001b[38;5;241m1\u001b[39m\n",
      "\u001b[0;31mKeyboardInterrupt\u001b[0m: "
     ]
    }
   ],
   "source": [
    "i = 1\n",
    "while(True):\n",
    "    while i <= 100:\n",
    "        i = i + 1\n",
    "        print(i)"
   ]
  },
  {
   "cell_type": "markdown",
   "metadata": {},
   "source": [
    "### About Magic Commands\n",
    "IPython’s special commands (which are not built into Python itself) are known as “magic” commands. These are designed to facilitate common tasks and enable you to easily control the behavior of the IPython system. A magic command is any com‐ mand prefixed by the percent symbol %. For example, you can check the execution time of any Python statement, such as a matrix multiplication, using the %timeit magic\n"
   ]
  },
  {
   "cell_type": "code",
   "execution_count": 143,
   "metadata": {},
   "outputs": [],
   "source": [
    "import numpy as np\n",
    "x = np.random.randn(100, 100)"
   ]
  },
  {
   "cell_type": "code",
   "execution_count": 144,
   "metadata": {},
   "outputs": [
    {
     "name": "stdout",
     "output_type": "stream",
     "text": [
      "The slowest run took 4.54 times longer than the fastest. This could mean that an intermediate result is being cached.\n",
      "111 µs ± 69.6 µs per loop (mean ± std. dev. of 7 runs, 1,000 loops each)\n"
     ]
    }
   ],
   "source": [
    "%timeit np.dot(x, x)"
   ]
  },
  {
   "cell_type": "code",
   "execution_count": null,
   "metadata": {},
   "outputs": [],
   "source": []
  },
  {
   "cell_type": "code",
   "execution_count": null,
   "metadata": {},
   "outputs": [],
   "source": []
  },
  {
   "cell_type": "code",
   "execution_count": null,
   "metadata": {},
   "outputs": [],
   "source": []
  },
  {
   "cell_type": "code",
   "execution_count": 158,
   "metadata": {},
   "outputs": [
    {
     "name": "stdout",
     "output_type": "stream",
     "text": [
      "how many pizzas: 50\n",
      "cost per pizza:100\n",
      "6000.0\n"
     ]
    }
   ],
   "source": [
    "# Number of Pizzas\n",
    "Num_Pizzas = input(\"how many pizzas: \")\n",
    "\n",
    "# Cost per pizza\n",
    "cost_per_pizza = input(\"cost per pizza:\")\n",
    "\n",
    "# sub_total\n",
    "sub_total = int(Num_Pizzas) * int(cost_per_pizza)\n",
    "\n",
    "# tip\n",
    "tip = 0.10*sub_total\n",
    "\n",
    "# sales tax\n",
    "sales_tax = 0.10*sub_total\n",
    "\n",
    "# Delivery charges\n",
    "Del_charges = 0\n",
    "\n",
    "# Total\n",
    "Total = sub_total+sales_tax+Del_charges+tip\n",
    "print(Total)"
   ]
  },
  {
   "cell_type": "markdown",
   "metadata": {},
   "source": [
    "https://pynative.com/\n",
    "\n",
    "https://www.javatpoint.com/python-tutorial\n",
    "\n",
    "https://www.programiz.com/python-programming/\n",
    "\n",
    "https://intellipaat.com/blog/tutorial/python-tutorial/\n"
   ]
  }
 ],
 "metadata": {
  "kernel_info": {
   "name": "python3"
  },
  "kernelspec": {
   "display_name": "Python 3 (ipykernel)",
   "language": "python",
   "name": "python3"
  },
  "language_info": {
   "codemirror_mode": {
    "name": "ipython",
    "version": 3
   },
   "file_extension": ".py",
   "mimetype": "text/x-python",
   "name": "python",
   "nbconvert_exporter": "python",
   "pygments_lexer": "ipython3",
   "version": "3.11.4"
  },
  "nteract": {
   "version": "0.12.2"
  },
  "widgets": {
   "state": {},
   "version": "1.1.2"
  }
 },
 "nbformat": 4,
 "nbformat_minor": 4
}

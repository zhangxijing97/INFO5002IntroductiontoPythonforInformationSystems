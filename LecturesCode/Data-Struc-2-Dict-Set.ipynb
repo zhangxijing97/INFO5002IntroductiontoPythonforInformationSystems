{
 "cells": [
  {
   "cell_type": "markdown",
   "metadata": {},
   "source": [
    "### Data Structures\n",
    " \n",
    " In the last class we have discussed about the basic characteristics of lists and tuples,, In this notebook we will continue our journey thorugh data structures in python and we will discuss other types including **Dictionaries**, **Set** and **String**\n",
    "\n",
    "By the end of this notebook, you should have good understanding of when a dictionary or set are the appropriate data structures to use, and how to do so.\n",
    "\n",
    "\n",
    "- **Dictionary** is a sequence of key and value pairs. Dictionary is mutable as new key-values can be added and existing key-values can be modified. In a dictionary, the keys have to mutable. \n",
    "\n",
    "- **Set** is an unordered sequence of unique elements. Sets are mutable but its elements are immutable. \n",
    "\n",
    "- **String** is an ordered sequence of characters. Strings are immutable. \n",
    "\n",
    "\n",
    "\n",
    "Dictionaries and lists share the following characteristics:\n",
    "\n",
    "- Both are mutable.\n",
    "\n",
    "- Both are dynamic. They can grow and shrink as needed.\n",
    "\n",
    "- Both can be nested. A list can contain another list. A dictionary can contain another dictionary. A dictionary can also contain a list, and vice versa.\n",
    "\n",
    "\n",
    "Dictionaries differ from lists primarily in how elements are accessed:\n",
    "\n",
    "- List elements are accessed by their position in the list, via indexing.\n",
    "\n",
    "- Dictionary elements are accessed via keys.\n"
   ]
  },
  {
   "cell_type": "markdown",
   "metadata": {},
   "source": [
    "### Dictionary\n",
    "\n",
    "Dictionary is likely the most important built-in Python data structure. A more common name for it is *hash map* or *associative array*. Dictionary is a key-value pair. \n",
    "Dictionary represents a mapping between a key and a value. In simple terms, dictionary can store pairs of keys and values. Each key is linked to a specific value. Once stored in a dictionary, you can later obtain the value using just the key.\n",
    "\n",
    "These are mutable and they start with curly braces and end with curly braces. The keys and values are separated by a : (colon). \n",
    "\n",
    "As a dictionary, keeps the elements in key-value mapping format and internally uses hashing for it; therefore, we can get a value from the dictionary by its key very quickly. In best cases, its complexity is O(1), whereas, in the worst case, its complexity can be O(n)."
   ]
  },
  {
   "cell_type": "markdown",
   "metadata": {},
   "source": [
    "#### Creating a dictionary\n",
    "There are following three ways to create a dictionary.\n",
    "\n",
    "- **Using curly brackets**: The dictionaries are created by enclosing the comma-separated Key: Value pairs inside the {} curly brackets. The colon ‘:‘ is used to separate the key and value in a pair.\n",
    "- **Using dict() constructor**:  Create a dictionary by passing the comma-separated key: value pairs inside the dict().\n",
    "- **Using sequence** having each item as a pair (key-value)"
   ]
  },
  {
   "cell_type": "markdown",
   "metadata": {},
   "source": [
    "#### syntax\n",
    "\n",
    "dict1 = {\n",
    "    key1:val1, \n",
    "    key2:val2\n",
    "    }\n",
    "\n",
    "keys have to be unique and should be immutable type such as integer, string, tuple etc. The values can be any Python object. \n",
    "\n",
    "**Note** – Dictionary keys are case sensitive, same name but different cases of Key will be treated distinctly.\n",
    "\n",
    "The dictionary in Python 3.5 and below do not maintain the order of the entries while dictionary in Python 3.6 and above maintain the order.   \n",
    "\n",
    "\n",
    "Elements in a dictionary are generally accessed either by looping through all key-value pairs or by accessing a single value given in key. In both cases, the order is not critical and hence the unordered dictionary prior to Python 3.6 is not a big concern for a typical programming case.  \n",
    "\n",
    "#### Restrictions on Dictionary Keys\n",
    "Although any type of value can be used as a dictionary key in Python. However, there are a couple restrictions that dictionary keys must abide by.\n",
    "\n",
    "First, a given key can appear in a dictionary only once. Duplicate keys are not allowed. A dictionary maps each key to a corresponding value, so it doesn’t make sense to map a particular key more than once.\n",
    "\n",
    "when you assign a value to an already existing dictionary key, it does not add the key a second time, but replaces the existing value\n",
    "\n",
    "Similarly, if you specify a key a second time during the initial creation of a dictionary, the second occurrence will override the first\n",
    "\n",
    "Secondly, a dictionary key must be of a type that is immutable. You have already seen examples where several of the immutable types you are familiar with—integer, float, string, and Boolean—have served as dictionary keys.\n",
    "\n",
    "A tuple can also be a dictionary key, because tuples are immutable\n",
    "\n",
    "However, neither a list nor another dictionary can serve as a dictionary key, because lists and dictionaries are mutable\n",
    "\n",
    "#### Restrictions on Dictionary Values\n",
    "By contrast, there are no restrictions on dictionary values. Literally none at all. A dictionary value can be any type of object Python supports, including mutable types like lists and dictionaries, and user-defined objects,There is also no restriction against a particular value appearing in a dictionary multiple times"
   ]
  },
  {
   "cell_type": "code",
   "execution_count": 6,
   "metadata": {},
   "outputs": [
    {
     "name": "stdout",
     "output_type": "stream",
     "text": [
      "{}\n",
      "<class 'dict'>\n"
     ]
    }
   ],
   "source": [
    "empty_dict = {}\n",
    "print(empty_dict)\n",
    "print(type(empty_dict))\n",
    "#print(empty_dict.keys())"
   ]
  },
  {
   "cell_type": "code",
   "execution_count": 3,
   "metadata": {
    "ExecuteTime": {
     "end_time": "2020-06-11T05:10:43.973099Z",
     "start_time": "2020-06-11T05:10:43.951623Z"
    }
   },
   "outputs": [
    {
     "name": "stdout",
     "output_type": "stream",
     "text": [
      "{'a': ['ice', 1, 1.5], 'b': 'steam', 'c': 100}\n",
      "<class 'dict'>\n"
     ]
    }
   ],
   "source": [
    "# x = {'a': 'ice', 'b': 'steam', 'c': 'water'}\n",
    "\n",
    "x = {'a': ['ice', 1, 1.5], 'b': 'steam', 'c': 100}\n",
    "print(x)\n",
    "print(type(x))"
   ]
  },
  {
   "cell_type": "code",
   "execution_count": 2,
   "metadata": {},
   "outputs": [
    {
     "data": {
      "text/plain": [
       "dict_values"
      ]
     },
     "execution_count": 2,
     "metadata": {},
     "output_type": "execute_result"
    }
   ],
   "source": [
    "type(x.values())"
   ]
  },
  {
   "cell_type": "code",
   "execution_count": 4,
   "metadata": {},
   "outputs": [
    {
     "data": {
      "text/plain": [
       "dict_keys(['a', 'b', 'c'])"
      ]
     },
     "execution_count": 4,
     "metadata": {},
     "output_type": "execute_result"
    }
   ],
   "source": [
    "x.keys()"
   ]
  },
  {
   "cell_type": "markdown",
   "metadata": {},
   "source": [
    "Another way to define a dictionary using dict() constructor. Note that the keys 'a' and 'b'  are  not supplied as string but as a variable name to this function. "
   ]
  },
  {
   "cell_type": "code",
   "execution_count": 5,
   "metadata": {
    "ExecuteTime": {
     "end_time": "2020-06-11T05:11:48.772444Z",
     "start_time": "2020-06-11T05:11:48.760809Z"
    }
   },
   "outputs": [
    {
     "ename": "SyntaxError",
     "evalue": "incomplete input (591172393.py, line 5)",
     "output_type": "error",
     "traceback": [
      "\u001b[0;36m  Cell \u001b[0;32mIn[5], line 5\u001b[0;36m\u001b[0m\n\u001b[0;31m    print(type(fruit2.keys())\u001b[0m\n\u001b[0m                             ^\u001b[0m\n\u001b[0;31mSyntaxError\u001b[0m\u001b[0;31m:\u001b[0m incomplete input\n"
     ]
    }
   ],
   "source": [
    "fruit = {'a':'mango', 'b':'pear'}\n",
    "print(fruit.keys())\n",
    "fruit2 = dict(a='mango', b='pear')\n",
    "print(fruit2.keys())\n",
    "print(type(fruit2.keys())"
   ]
  },
  {
   "cell_type": "code",
   "execution_count": 8,
   "metadata": {
    "ExecuteTime": {
     "end_time": "2020-06-11T02:34:04.796680Z",
     "start_time": "2020-06-11T02:34:04.778389Z"
    }
   },
   "outputs": [
    {
     "data": {
      "text/plain": [
       "dict"
      ]
     },
     "execution_count": 8,
     "metadata": {},
     "output_type": "execute_result"
    }
   ],
   "source": [
    "type(fruit)"
   ]
  },
  {
   "cell_type": "code",
   "execution_count": 9,
   "metadata": {},
   "outputs": [
    {
     "name": "stdout",
     "output_type": "stream",
     "text": [
      "{'a': 'mango', 'b': 'pear'}\n"
     ]
    }
   ],
   "source": [
    "print(fruit)"
   ]
  },
  {
   "cell_type": "code",
   "execution_count": null,
   "metadata": {},
   "outputs": [],
   "source": [
    "(fruit.keys())"
   ]
  },
  {
   "cell_type": "code",
   "execution_count": null,
   "metadata": {},
   "outputs": [],
   "source": [
    "fruit.values()"
   ]
  },
  {
   "cell_type": "markdown",
   "metadata": {},
   "source": [
    "#### Accessing Items\n",
    "You can access the items of a dictionary by referring to its key name, inside square brackets:"
   ]
  },
  {
   "cell_type": "code",
   "execution_count": 71,
   "metadata": {
    "ExecuteTime": {
     "end_time": "2020-06-08T05:31:54.208006Z",
     "start_time": "2020-06-08T05:31:54.196300Z"
    }
   },
   "outputs": [
    {
     "data": {
      "text/plain": [
       "'mango'"
      ]
     },
     "execution_count": 71,
     "metadata": {},
     "output_type": "execute_result"
    }
   ],
   "source": [
    "#You can access, insert, or set elements using the same syntax as \n",
    "#for accessing elements of a list or tuple:\n",
    "fruit['a']"
   ]
  },
  {
   "cell_type": "markdown",
   "metadata": {},
   "source": [
    "There is also a method called *get()* that will get the same result\n"
   ]
  },
  {
   "cell_type": "code",
   "execution_count": 31,
   "metadata": {
    "ExecuteTime": {
     "end_time": "2020-06-08T05:32:17.254651Z",
     "start_time": "2020-06-08T05:32:17.245043Z"
    }
   },
   "outputs": [
    {
     "name": "stdout",
     "output_type": "stream",
     "text": [
      "mango\n"
     ]
    }
   ],
   "source": [
    "x = fruit.get('a')\n",
    "print(x)"
   ]
  },
  {
   "cell_type": "code",
   "execution_count": 16,
   "metadata": {
    "ExecuteTime": {
     "end_time": "2020-06-08T05:32:17.254651Z",
     "start_time": "2020-06-08T05:32:17.245043Z"
    }
   },
   "outputs": [
    {
     "name": "stdout",
     "output_type": "stream",
     "text": [
      "pear\n"
     ]
    }
   ],
   "source": [
    "x = fruit.get('b')\n",
    "print(x)"
   ]
  },
  {
   "cell_type": "markdown",
   "metadata": {},
   "source": [
    "If you refer to a key that is not in the dictionary, Python raises an exception"
   ]
  },
  {
   "cell_type": "code",
   "execution_count": 32,
   "metadata": {
    "ExecuteTime": {
     "end_time": "2020-06-08T05:32:35.335671Z",
     "start_time": "2020-06-08T05:32:34.915850Z"
    }
   },
   "outputs": [
    {
     "ename": "KeyError",
     "evalue": "'e'",
     "output_type": "error",
     "traceback": [
      "\u001b[0;31m---------------------------------------------------------------------------\u001b[0m",
      "\u001b[0;31mKeyError\u001b[0m                                  Traceback (most recent call last)",
      "Cell \u001b[0;32mIn[32], line 3\u001b[0m\n\u001b[1;32m      1\u001b[0m \u001b[38;5;66;03m# print(\"learning dictionary structure\")\u001b[39;00m\n\u001b[1;32m      2\u001b[0m \u001b[38;5;66;03m# print(\"it is important to learn \")\u001b[39;00m\n\u001b[0;32m----> 3\u001b[0m fruit[\u001b[38;5;124m'\u001b[39m\u001b[38;5;124me\u001b[39m\u001b[38;5;124m'\u001b[39m]\n",
      "\u001b[0;31mKeyError\u001b[0m: 'e'"
     ]
    }
   ],
   "source": [
    "# print(\"learning dictionary structure\")\n",
    "# print(\"it is important to learn \")\n",
    "fruit['e']"
   ]
  },
  {
   "cell_type": "markdown",
   "metadata": {},
   "source": [
    "#### Change Values\n",
    "You can change the value of a specific item by referring to its key name:"
   ]
  },
  {
   "cell_type": "code",
   "execution_count": 60,
   "metadata": {
    "ExecuteTime": {
     "end_time": "2020-06-11T05:17:02.591203Z",
     "start_time": "2020-06-11T05:17:02.578500Z"
    }
   },
   "outputs": [
    {
     "data": {
      "text/plain": [
       "dict_values(['mango', 'apple', 'banana', 'pear'])"
      ]
     },
     "execution_count": 60,
     "metadata": {},
     "output_type": "execute_result"
    }
   ],
   "source": [
    "fruit = dict(a='mango', b='apple', c = 'banana', d = 'pear')\n",
    "fruit.values()"
   ]
  },
  {
   "cell_type": "code",
   "execution_count": 61,
   "metadata": {
    "ExecuteTime": {
     "end_time": "2020-06-11T05:18:19.560532Z",
     "start_time": "2020-06-11T05:18:19.554449Z"
    }
   },
   "outputs": [],
   "source": [
    "fruit['d'] = 'orange'"
   ]
  },
  {
   "cell_type": "code",
   "execution_count": 62,
   "metadata": {
    "ExecuteTime": {
     "end_time": "2020-06-11T05:17:23.060726Z",
     "start_time": "2020-06-11T05:17:23.053333Z"
    }
   },
   "outputs": [
    {
     "data": {
      "text/plain": [
       "{'a': 'mango', 'b': 'apple', 'c': 'banana', 'd': 'orange'}"
      ]
     },
     "execution_count": 62,
     "metadata": {},
     "output_type": "execute_result"
    }
   ],
   "source": [
    "fruit"
   ]
  },
  {
   "cell_type": "code",
   "execution_count": 63,
   "metadata": {},
   "outputs": [],
   "source": [
    "fruit['z'] = \"Kiwi\""
   ]
  },
  {
   "cell_type": "code",
   "execution_count": 64,
   "metadata": {},
   "outputs": [
    {
     "data": {
      "text/plain": [
       "{'a': 'mango', 'b': 'apple', 'c': 'banana', 'd': 'orange', 'z': 'Kiwi'}"
      ]
     },
     "execution_count": 64,
     "metadata": {},
     "output_type": "execute_result"
    }
   ],
   "source": [
    "fruit"
   ]
  },
  {
   "cell_type": "markdown",
   "metadata": {},
   "source": [
    "#### Loop Through a Dictionary\n",
    "You can loop through a dictionary by using a for loop.\n",
    "\n",
    "When looping through a dictionary, the return value are the keys of the dictionary, but there are methods to return the values as well."
   ]
  },
  {
   "cell_type": "code",
   "execution_count": 65,
   "metadata": {},
   "outputs": [
    {
     "data": {
      "text/plain": [
       "{'a': 'mango', 'b': 'apple', 'c': 'banana', 'd': 'orange', 'z': 'Kiwi'}"
      ]
     },
     "execution_count": 65,
     "metadata": {},
     "output_type": "execute_result"
    }
   ],
   "source": [
    "fruit"
   ]
  },
  {
   "cell_type": "code",
   "execution_count": 75,
   "metadata": {
    "ExecuteTime": {
     "end_time": "2020-06-11T05:19:59.102788Z",
     "start_time": "2020-06-11T05:19:59.095965Z"
    }
   },
   "outputs": [
    {
     "name": "stdout",
     "output_type": "stream",
     "text": [
      "a\n",
      "mango\n",
      "b\n",
      "apple\n",
      "c\n",
      "banana\n",
      "d\n",
      "orange\n",
      "z\n",
      "Kiwi\n"
     ]
    }
   ],
   "source": [
    "for i in fruit:\n",
    "    print(i)\n",
    "    print(fruit[i])"
   ]
  },
  {
   "cell_type": "code",
   "execution_count": 101,
   "metadata": {},
   "outputs": [
    {
     "name": "stdout",
     "output_type": "stream",
     "text": [
      "a: mango\n",
      "b: apple\n",
      "c: banana\n",
      "d: orange\n",
      "z: Kiwi\n"
     ]
    }
   ],
   "source": [
    "# Print the values\n",
    "for i in fruit:\n",
    "    print(i, end='')\n",
    "    print(\":\", fruit.get(i))\n",
    "#     print(i, \": \", fruit.get(i), sep='')"
   ]
  },
  {
   "cell_type": "code",
   "execution_count": 100,
   "metadata": {},
   "outputs": [
    {
     "name": "stderr",
     "output_type": "stream",
     "text": [
      "Hello***World!"
     ]
    }
   ],
   "source": [
    "import sys\n",
    "print(\"Hello\", \"World\", end='!', sep='***', file=sys.stderr, flush=True)"
   ]
  },
  {
   "cell_type": "code",
   "execution_count": 104,
   "metadata": {
    "ExecuteTime": {
     "end_time": "2020-06-11T05:20:46.342103Z",
     "start_time": "2020-06-11T05:20:46.324349Z"
    }
   },
   "outputs": [
    {
     "name": "stdout",
     "output_type": "stream",
     "text": [
      "mango\n",
      "apple\n",
      "banana\n",
      "orange\n",
      "Kiwi\n"
     ]
    }
   ],
   "source": [
    "# Another way to extract the values using value() method\n",
    "\n",
    "for i in fruit.values():\n",
    "    print(i)"
   ]
  },
  {
   "cell_type": "code",
   "execution_count": 111,
   "metadata": {
    "ExecuteTime": {
     "end_time": "2020-06-11T05:21:33.021006Z",
     "start_time": "2020-06-11T05:21:33.014142Z"
    }
   },
   "outputs": [
    {
     "name": "stdout",
     "output_type": "stream",
     "text": [
      "keys:  a\n",
      "values:  mango\n",
      "keys:  b\n",
      "values:  apple\n",
      "keys:  c\n",
      "values:  banana\n",
      "keys:  d\n",
      "values:  orange\n",
      "keys:  z\n",
      "values:  Kiwi\n"
     ]
    }
   ],
   "source": [
    "# Loop through both keys and values, by using the items() function\n",
    "\n",
    "for i,j in fruit.items():\n",
    "    #print(i,j)\n",
    "    print(\"keys: \",i)\n",
    "    print(\"values: \",j)\n"
   ]
  },
  {
   "cell_type": "code",
   "execution_count": 106,
   "metadata": {},
   "outputs": [
    {
     "data": {
      "text/plain": [
       "dict_items([('a', 'mango'), ('b', 'apple'), ('c', 'banana'), ('d', 'orange'), ('z', 'Kiwi')])"
      ]
     },
     "execution_count": 106,
     "metadata": {},
     "output_type": "execute_result"
    }
   ],
   "source": [
    "fruit.items()"
   ]
  },
  {
   "cell_type": "markdown",
   "metadata": {},
   "source": [
    "#### Check if Key Exists\n",
    "To determine if a specified key is present in a dictionary use the *in* keyword:"
   ]
  },
  {
   "cell_type": "code",
   "execution_count": 120,
   "metadata": {
    "ExecuteTime": {
     "end_time": "2020-06-11T05:23:38.920609Z",
     "start_time": "2020-06-11T05:23:38.916200Z"
    }
   },
   "outputs": [
    {
     "name": "stdout",
     "output_type": "stream",
     "text": [
      "key is not found\n",
      "yes, mango is one of the values\n"
     ]
    }
   ],
   "source": [
    "if \"e\" in fruit:\n",
    "    print(\"yes, key is one of the keys\")\n",
    "else:\n",
    "    print(\"key is not found\")\n",
    "    \n",
    "if \"mango\" in fruit.values():\n",
    "    print(\"yes, mango is one of the values\")\n",
    "else:\n",
    "    print(\"value is not found\")"
   ]
  },
  {
   "cell_type": "code",
   "execution_count": 121,
   "metadata": {},
   "outputs": [
    {
     "data": {
      "text/plain": [
       "False"
      ]
     },
     "execution_count": 121,
     "metadata": {},
     "output_type": "execute_result"
    }
   ],
   "source": [
    "\"e\" in fruit"
   ]
  },
  {
   "cell_type": "code",
   "execution_count": 125,
   "metadata": {},
   "outputs": [
    {
     "data": {
      "text/plain": [
       "True"
      ]
     },
     "execution_count": 125,
     "metadata": {},
     "output_type": "execute_result"
    }
   ],
   "source": [
    "\"mango\" in fruit.values()"
   ]
  },
  {
   "cell_type": "markdown",
   "metadata": {},
   "source": [
    "#### Dictionary Length\n",
    "To determine how many items (key-value pairs) a dictionary has, use the *len()* method."
   ]
  },
  {
   "cell_type": "code",
   "execution_count": 118,
   "metadata": {},
   "outputs": [
    {
     "data": {
      "text/plain": [
       "{'a': 'mango', 'b': 'apple', 'c': 'banana', 'd': 'orange', 'z': 'Kiwi'}"
      ]
     },
     "execution_count": 118,
     "metadata": {},
     "output_type": "execute_result"
    }
   ],
   "source": [
    "fruit"
   ]
  },
  {
   "cell_type": "code",
   "execution_count": 119,
   "metadata": {
    "ExecuteTime": {
     "end_time": "2020-06-11T05:23:54.972113Z",
     "start_time": "2020-06-11T05:23:54.964413Z"
    }
   },
   "outputs": [
    {
     "name": "stdout",
     "output_type": "stream",
     "text": [
      "5\n"
     ]
    }
   ],
   "source": [
    "print(len(fruit))"
   ]
  },
  {
   "cell_type": "markdown",
   "metadata": {},
   "source": [
    "#### Adding Items\n",
    "Adding an item to the dictionary is done by using a new index key and assigning a value to it:"
   ]
  },
  {
   "cell_type": "code",
   "execution_count": 126,
   "metadata": {
    "ExecuteTime": {
     "end_time": "2020-06-11T05:24:27.881473Z",
     "start_time": "2020-06-11T05:24:27.868410Z"
    }
   },
   "outputs": [
    {
     "name": "stdout",
     "output_type": "stream",
     "text": [
      "{'San Francisco': 72, 'New York': 51}\n"
     ]
    }
   ],
   "source": [
    "city_temp = {'San Francisco': 72, 'New York': 51}\n",
    "print(city_temp)"
   ]
  },
  {
   "cell_type": "code",
   "execution_count": 128,
   "metadata": {},
   "outputs": [
    {
     "data": {
      "text/plain": [
       "{'San Francisco': 72, 'New York': 51, 'Austin': 70}"
      ]
     },
     "execution_count": 128,
     "metadata": {},
     "output_type": "execute_result"
    }
   ],
   "source": [
    "city_temp['Austin'] = 70\n",
    "city_temp"
   ]
  },
  {
   "cell_type": "code",
   "execution_count": 129,
   "metadata": {},
   "outputs": [
    {
     "name": "stdout",
     "output_type": "stream",
     "text": [
      "{'San Francisco': 72, 'New York': 51, 'Austin': 70, 'Mundra': ' '}\n"
     ]
    }
   ],
   "source": [
    "city_temp['Mundra'] = ' '\n",
    "print(city_temp)"
   ]
  },
  {
   "cell_type": "code",
   "execution_count": 130,
   "metadata": {},
   "outputs": [
    {
     "name": "stdout",
     "output_type": "stream",
     "text": [
      "{'San Francisco': 72, 'New York': 51, 'Austin': 70, 'Mundra': ' '}\n",
      "4\n"
     ]
    }
   ],
   "source": [
    "print(city_temp)\n",
    "print(len(city_temp))"
   ]
  },
  {
   "cell_type": "code",
   "execution_count": 39,
   "metadata": {},
   "outputs": [
    {
     "data": {
      "text/plain": [
       "str"
      ]
     },
     "execution_count": 39,
     "metadata": {},
     "output_type": "execute_result"
    }
   ],
   "source": [
    "type(city_temp['Mundra'])"
   ]
  },
  {
   "cell_type": "code",
   "execution_count": 40,
   "metadata": {},
   "outputs": [
    {
     "name": "stdout",
     "output_type": "stream",
     "text": [
      "{'San Francisco': 72, 'New York': 51, 'Austin': 70, 'Mundra': 79}\n"
     ]
    }
   ],
   "source": [
    "city_temp['Mundra'] = 79 \n",
    "print(city_temp)"
   ]
  },
  {
   "cell_type": "code",
   "execution_count": 131,
   "metadata": {},
   "outputs": [
    {
     "name": "stdout",
     "output_type": "stream",
     "text": [
      "San Francisco 72\n",
      "New York 51\n",
      "Austin 70\n",
      "Mundra  \n"
     ]
    }
   ],
   "source": [
    "for i,j in city_temp.items():\n",
    "    print(i,j)"
   ]
  },
  {
   "cell_type": "code",
   "execution_count": 132,
   "metadata": {
    "ExecuteTime": {
     "end_time": "2020-06-11T05:24:55.969356Z",
     "start_time": "2020-06-11T05:24:55.961753Z"
    }
   },
   "outputs": [
    {
     "name": "stdout",
     "output_type": "stream",
     "text": [
      "{'San Francisco': 80, 'New York': 51, 'Austin': 70, 'Mundra': ' '}\n"
     ]
    }
   ],
   "source": [
    "city_temp['San Francisco'] = 80\n",
    "print(city_temp)\n"
   ]
  },
  {
   "cell_type": "code",
   "execution_count": 133,
   "metadata": {
    "ExecuteTime": {
     "end_time": "2020-06-11T05:25:51.682187Z",
     "start_time": "2020-06-11T05:25:51.669344Z"
    }
   },
   "outputs": [
    {
     "data": {
      "text/plain": [
       "{'San Francisco': 90, 'New York': 51, 'Austin': 70, 'Mundra': ' '}"
      ]
     },
     "execution_count": 133,
     "metadata": {},
     "output_type": "execute_result"
    }
   ],
   "source": [
    "#city_temp['Austin'] = 80\n",
    "city_temp.update({'San Francisco':90})\n",
    "city_temp"
   ]
  },
  {
   "cell_type": "markdown",
   "metadata": {},
   "source": [
    "**Note**: We can also add more than one key using the update() method."
   ]
  },
  {
   "cell_type": "code",
   "execution_count": 134,
   "metadata": {},
   "outputs": [
    {
     "name": "stdout",
     "output_type": "stream",
     "text": [
      "{'name': 'Jessa', 'country': 'USA', 'weight': 50, 'height': 6}\n"
     ]
    }
   ],
   "source": [
    "person = {\"name\": \"Jessa\", 'country': \"USA\"}\n",
    "\n",
    "# Adding 2 new keys at once\n",
    "# pass new keys as dict\n",
    "person.update({\"weight\": 50, \"height\": 6})\n",
    "# print the updated dictionary\n",
    "print(person)\n",
    "# output {'name': 'Jessa', 'country': 'USA', 'weight': 50, 'height': 6}"
   ]
  },
  {
   "cell_type": "code",
   "execution_count": 180,
   "metadata": {},
   "outputs": [
    {
     "name": "stdout",
     "output_type": "stream",
     "text": [
      "{'name': 'Jessa', 'country': 'USA', 'weight': 50, 'height': 6, 'city': 'Texas', 'company': 'Google'}\n"
     ]
    }
   ],
   "source": [
    "# pass new keys as as list of tuple\n",
    "person.update([(\"city\", \"Texas\"), (\"company\", \"Google\",)])\n",
    "# print the updated dictionary\n",
    "print(person)\n",
    "# output {'name': 'Jessa', 'country': 'USA', 'weight': 50, 'height': 6, 'city': 'Texas', 'company': 'Google'}"
   ]
  },
  {
   "cell_type": "code",
   "execution_count": 6,
   "metadata": {},
   "outputs": [
    {
     "name": "stdout",
     "output_type": "stream",
     "text": [
      "{'a': 1, 'b': 3, 'c': 4}\n"
     ]
    }
   ],
   "source": [
    "dict1 = {'a': 1, 'b': 2}\n",
    "dict2 = {'b': 3, 'c': 4}\n",
    "\n",
    "# Use the .update() method to combine dict2 into dict1\n",
    "dict1.update(dict2)\n",
    "\n",
    "# Now, dict1 contains the combined key-value pairs\n",
    "print(dict1)"
   ]
  },
  {
   "cell_type": "markdown",
   "metadata": {},
   "source": [
    "#### Removing the item\n",
    "You can delete values either using the del keyword or the pop method (which simultaneously returns the value and deletes the key):\n"
   ]
  },
  {
   "cell_type": "code",
   "execution_count": 146,
   "metadata": {},
   "outputs": [
    {
     "data": {
      "text/plain": [
       "{'San Francisco': 80, 'New York': 51, 'Mundra': 79}"
      ]
     },
     "execution_count": 146,
     "metadata": {},
     "output_type": "execute_result"
    }
   ],
   "source": [
    "city_temp"
   ]
  },
  {
   "cell_type": "code",
   "execution_count": 148,
   "metadata": {},
   "outputs": [
    {
     "data": {
      "text/plain": [
       "3"
      ]
     },
     "execution_count": 148,
     "metadata": {},
     "output_type": "execute_result"
    }
   ],
   "source": [
    "len(city_temp)"
   ]
  },
  {
   "cell_type": "code",
   "execution_count": 144,
   "metadata": {},
   "outputs": [
    {
     "data": {
      "text/plain": [
       "{'San Francisco': 80, 'New York': 51, 'Mundra': 79}"
      ]
     },
     "execution_count": 144,
     "metadata": {},
     "output_type": "execute_result"
    }
   ],
   "source": [
    "city_temp"
   ]
  },
  {
   "cell_type": "code",
   "execution_count": 185,
   "metadata": {},
   "outputs": [
    {
     "ename": "KeyError",
     "evalue": "'Austin'",
     "output_type": "error",
     "traceback": [
      "\u001b[0;31m---------------------------------------------------------------------------\u001b[0m",
      "\u001b[0;31mKeyError\u001b[0m                                  Traceback (most recent call last)",
      "Cell \u001b[0;32mIn[185], line 1\u001b[0m\n\u001b[0;32m----> 1\u001b[0m \u001b[38;5;28;01mdel\u001b[39;00m city_temp[\u001b[38;5;124m'\u001b[39m\u001b[38;5;124mAustin\u001b[39m\u001b[38;5;124m'\u001b[39m]\n\u001b[1;32m      2\u001b[0m \u001b[38;5;28mprint\u001b[39m(city_temp)\n\u001b[1;32m      3\u001b[0m \u001b[38;5;28mprint\u001b[39m(\u001b[38;5;28mlen\u001b[39m(city_temp))\n",
      "\u001b[0;31mKeyError\u001b[0m: 'Austin'"
     ]
    }
   ],
   "source": [
    "del city_temp['Austin']\n",
    "print(city_temp)\n",
    "print(len(city_temp))"
   ]
  },
  {
   "cell_type": "code",
   "execution_count": 186,
   "metadata": {},
   "outputs": [],
   "source": [
    "city_temp = {'San Francisco': 80, 'New York': 51, 'Austin': 50, 'Mundra': 79}"
   ]
  },
  {
   "cell_type": "code",
   "execution_count": 187,
   "metadata": {},
   "outputs": [
    {
     "data": {
      "text/plain": [
       "{'San Francisco': 80, 'New York': 51, 'Austin': 50, 'Mundra': 79}"
      ]
     },
     "execution_count": 187,
     "metadata": {},
     "output_type": "execute_result"
    }
   ],
   "source": [
    "city_temp"
   ]
  },
  {
   "cell_type": "code",
   "execution_count": 188,
   "metadata": {},
   "outputs": [
    {
     "data": {
      "text/plain": [
       "80"
      ]
     },
     "execution_count": 188,
     "metadata": {},
     "output_type": "execute_result"
    }
   ],
   "source": [
    "city_temp['San Francisco']"
   ]
  },
  {
   "cell_type": "code",
   "execution_count": 189,
   "metadata": {
    "ExecuteTime": {
     "end_time": "2020-06-11T05:26:38.410681Z",
     "start_time": "2020-06-11T05:26:38.386376Z"
    }
   },
   "outputs": [
    {
     "data": {
      "text/plain": [
       "50"
      ]
     },
     "execution_count": 189,
     "metadata": {},
     "output_type": "execute_result"
    }
   ],
   "source": [
    "city_temp1 = city_temp.pop('Austin')\n",
    "city_temp1"
   ]
  },
  {
   "cell_type": "code",
   "execution_count": 190,
   "metadata": {},
   "outputs": [
    {
     "data": {
      "text/plain": [
       "{'San Francisco': 80, 'New York': 51, 'Mundra': 79}"
      ]
     },
     "execution_count": 190,
     "metadata": {},
     "output_type": "execute_result"
    }
   ],
   "source": [
    "city_temp"
   ]
  },
  {
   "cell_type": "markdown",
   "metadata": {},
   "source": [
    "The *popitem()* removes the last inserted items."
   ]
  },
  {
   "cell_type": "code",
   "execution_count": 191,
   "metadata": {
    "ExecuteTime": {
     "end_time": "2020-06-11T05:26:41.712742Z",
     "start_time": "2020-06-11T05:26:41.703708Z"
    }
   },
   "outputs": [
    {
     "name": "stdout",
     "output_type": "stream",
     "text": [
      "{'San Francisco': 80, 'New York': 51}\n"
     ]
    }
   ],
   "source": [
    "city_temp.popitem()\n",
    "print(city_temp)"
   ]
  },
  {
   "cell_type": "markdown",
   "metadata": {},
   "source": [
    "The *del* keyword can also delete the dcitionary completely\n"
   ]
  },
  {
   "cell_type": "code",
   "execution_count": 55,
   "metadata": {},
   "outputs": [
    {
     "ename": "NameError",
     "evalue": "name 'city_temp' is not defined",
     "output_type": "error",
     "traceback": [
      "\u001b[0;31m---------------------------------------------------------------------------\u001b[0m",
      "\u001b[0;31mNameError\u001b[0m                                 Traceback (most recent call last)",
      "\u001b[0;32m/var/folders/tp/nnpgxs3d1rl0dlwj25kwmcn00000gn/T/ipykernel_6997/520784870.py\u001b[0m in \u001b[0;36m<module>\u001b[0;34m\u001b[0m\n\u001b[1;32m      1\u001b[0m \u001b[0;32mdel\u001b[0m \u001b[0mcity_temp\u001b[0m\u001b[0;34m\u001b[0m\u001b[0;34m\u001b[0m\u001b[0m\n\u001b[0;32m----> 2\u001b[0;31m \u001b[0mprint\u001b[0m\u001b[0;34m(\u001b[0m\u001b[0mcity_temp\u001b[0m\u001b[0;34m)\u001b[0m   \u001b[0;31m# this will cause an error because \"city_temp\" no longer exists.\u001b[0m\u001b[0;34m\u001b[0m\u001b[0;34m\u001b[0m\u001b[0m\n\u001b[0m",
      "\u001b[0;31mNameError\u001b[0m: name 'city_temp' is not defined"
     ]
    }
   ],
   "source": [
    "del city_temp\n",
    "print(city_temp)   # this will cause an error because \"city_temp\" no longer exists."
   ]
  },
  {
   "cell_type": "markdown",
   "metadata": {},
   "source": [
    "The *clear()* method empties the dictionary "
   ]
  },
  {
   "cell_type": "code",
   "execution_count": 193,
   "metadata": {},
   "outputs": [
    {
     "name": "stdout",
     "output_type": "stream",
     "text": [
      "{}\n"
     ]
    }
   ],
   "source": [
    "city_temp = {'San Francisco': 72, 'New York': 51}\n",
    "city_temp.clear()\n",
    "print(city_temp)"
   ]
  },
  {
   "cell_type": "code",
   "execution_count": 219,
   "metadata": {
    "ExecuteTime": {
     "end_time": "2020-06-11T05:29:45.158561Z",
     "start_time": "2020-06-11T05:29:45.137993Z"
    }
   },
   "outputs": [],
   "source": [
    "'''Use dictionaries as a simple way to represent structured data:'''\n",
    "tweet = {\n",
    "\"user\" : \"joelgrus\",\n",
    "\"text\" : \"Data Science is Awesome\",\n",
    "\"retweet_count\" : 100,\n",
    "\"hashtags\" : [\"#data\", \"#science\", \"#datascience\", \"#awesome\", \"#yolo\"]\n",
    "}\n",
    "\n"
   ]
  },
  {
   "cell_type": "code",
   "execution_count": 197,
   "metadata": {
    "ExecuteTime": {
     "end_time": "2020-06-11T05:29:45.158561Z",
     "start_time": "2020-06-11T05:29:45.137993Z"
    }
   },
   "outputs": [
    {
     "name": "stdout",
     "output_type": "stream",
     "text": [
      "Keys: dict_keys(['user', 'text', 'retweet_count', 'hashtags'])\n"
     ]
    }
   ],
   "source": [
    "'''Besides looking for specific keys we can look at all of them:'''\n",
    "\n",
    "tweet_keys =tweet.keys()       # list of keys\n",
    "\n",
    "print(\"Keys:\", tweet_keys)\n"
   ]
  },
  {
   "cell_type": "code",
   "execution_count": 198,
   "metadata": {},
   "outputs": [
    {
     "data": {
      "text/plain": [
       "dict_values(['joelgrus', 'Data Science is Awesome', 100, ['#data', '#science', '#datascience', '#awesome', '#yolo']])"
      ]
     },
     "execution_count": 198,
     "metadata": {},
     "output_type": "execute_result"
    }
   ],
   "source": [
    "tweet.values()"
   ]
  },
  {
   "cell_type": "code",
   "execution_count": 216,
   "metadata": {},
   "outputs": [
    {
     "data": {
      "text/plain": [
       "['#data', '#science', '#datascience', '#awesome', '#yolo']"
      ]
     },
     "execution_count": 216,
     "metadata": {},
     "output_type": "execute_result"
    }
   ],
   "source": [
    "(tweet['hashtags'])"
   ]
  },
  {
   "cell_type": "code",
   "execution_count": 224,
   "metadata": {},
   "outputs": [
    {
     "data": {
      "text/plain": [
       "{'user': 'joelgrus',\n",
       " 'text': 'Data Science is Awesome',\n",
       " 'retweet_count': 100,\n",
       " 'hashtags': ['#data',\n",
       "  '#science',\n",
       "  '#datascience',\n",
       "  '#awesome',\n",
       "  '#yolo',\n",
       "  '#test1',\n",
       "  '#test1',\n",
       "  '#test2'],\n",
       " 'haha': 10}"
      ]
     },
     "execution_count": 224,
     "metadata": {},
     "output_type": "execute_result"
    }
   ],
   "source": [
    "tweet['hashtags'][3]\n",
    "\n",
    "dict1 = {'haha': 10}\n",
    "\n",
    "# tweet = {'Haha': 10}\n",
    "\n",
    "# Use the .update() method to combine dict2 into dict1\n",
    "tweet.update(dict1)\n",
    "tweet\n",
    "\n",
    "tweet['hashtags'].extend([\"#test1\", \"#test2\"])\n",
    "tweet"
   ]
  },
  {
   "cell_type": "code",
   "execution_count": 62,
   "metadata": {},
   "outputs": [
    {
     "data": {
      "text/plain": [
       "['#data', '#science', '#datascience', '#awesome', '#yolo', '#haha']"
      ]
     },
     "execution_count": 62,
     "metadata": {},
     "output_type": "execute_result"
    }
   ],
   "source": [
    "l1 = ((tweet['hashtags']))\n",
    "l1.append('#haha')\n",
    "l1"
   ]
  },
  {
   "cell_type": "code",
   "execution_count": 63,
   "metadata": {},
   "outputs": [
    {
     "data": {
      "text/plain": [
       "['#data', '#science', '#datascience', '#awesome', '#yolo', '#haha']"
      ]
     },
     "execution_count": 63,
     "metadata": {},
     "output_type": "execute_result"
    }
   ],
   "source": [
    "#print((tweet['hashtags']))\n",
    "#print(tweet['hashtags'][3])\n",
    "\n",
    "list(tweet['hashtags']).append(\"haha\")\n",
    "tweet['hashtags']"
   ]
  },
  {
   "cell_type": "code",
   "execution_count": null,
   "metadata": {},
   "outputs": [],
   "source": [
    "tweet['retweet_count']"
   ]
  },
  {
   "cell_type": "code",
   "execution_count": null,
   "metadata": {
    "ExecuteTime": {
     "end_time": "2020-06-11T05:30:47.397702Z",
     "start_time": "2020-06-11T05:30:47.381082Z"
    }
   },
   "outputs": [],
   "source": [
    "tweet"
   ]
  },
  {
   "cell_type": "code",
   "execution_count": null,
   "metadata": {
    "ExecuteTime": {
     "end_time": "2020-06-11T05:31:25.575954Z",
     "start_time": "2020-06-11T05:31:25.563863Z"
    }
   },
   "outputs": [],
   "source": [
    "tweet_items = tweet.items()    # list of (key, value) tuples\n",
    "\n",
    "print(\"Keys and Values:\", tweet_items)\n"
   ]
  },
  {
   "cell_type": "markdown",
   "metadata": {},
   "source": [
    "#### Nested Dictionaries\n",
    "A dictionary can also contain many dictionaries, this is called nested dictionaries."
   ]
  },
  {
   "cell_type": "code",
   "execution_count": null,
   "metadata": {},
   "outputs": [],
   "source": [
    "employee1 = 'John Jr. '\n",
    "employee2 = 'JohnJr.'\n"
   ]
  },
  {
   "cell_type": "code",
   "execution_count": 225,
   "metadata": {
    "ExecuteTime": {
     "end_time": "2020-06-11T05:33:20.052188Z",
     "start_time": "2020-06-11T05:33:20.037704Z"
    }
   },
   "outputs": [
    {
     "data": {
      "text/plain": [
       "{'employee1': {'Firstname': 'John', 'Salary': 100000},\n",
       " 'employee2': {'Firstname': 'Ron', 'Salary': 150000},\n",
       " 'employee3': {'Firstname': 'Jammy', 'Salary': 90000}}"
      ]
     },
     "execution_count": 225,
     "metadata": {},
     "output_type": "execute_result"
    }
   ],
   "source": [
    "Employees = {\n",
    "  \"employee1\" : {\n",
    "    \"Firstname\" : \"John\",\n",
    "    \"Salary\" : 100000\n",
    "  },\n",
    "  \"employee2\" : {\n",
    "    \"Firstname\" : \"Ron\",\n",
    "    \"Salary\" : 150000\n",
    "  },\n",
    "  \"employee3\" : {\n",
    "    \"Firstname\" : \"Jammy\",\n",
    "    \"Salary\" : 90000\n",
    "  }\n",
    "}\n",
    "\n",
    "Employees"
   ]
  },
  {
   "cell_type": "code",
   "execution_count": 65,
   "metadata": {},
   "outputs": [
    {
     "data": {
      "text/plain": [
       "dict_keys(['employee1', 'employee2', 'employee3'])"
      ]
     },
     "execution_count": 65,
     "metadata": {},
     "output_type": "execute_result"
    }
   ],
   "source": [
    "Employees.keys()"
   ]
  },
  {
   "cell_type": "code",
   "execution_count": 68,
   "metadata": {},
   "outputs": [
    {
     "data": {
      "text/plain": [
       "dict_keys(['Firstname', 'Salary'])"
      ]
     },
     "execution_count": 68,
     "metadata": {},
     "output_type": "execute_result"
    }
   ],
   "source": [
    "#type(Employees[\"employee1\"])\n",
    "(Employees[\"employee1\"])"
   ]
  },
  {
   "cell_type": "code",
   "execution_count": 69,
   "metadata": {},
   "outputs": [
    {
     "data": {
      "text/plain": [
       "dict_values(['John', 100000])"
      ]
     },
     "execution_count": 69,
     "metadata": {},
     "output_type": "execute_result"
    }
   ],
   "source": [
    "#Employees['employee1'].keys()\n",
    "Employees['employee1'].values()"
   ]
  },
  {
   "cell_type": "code",
   "execution_count": 229,
   "metadata": {},
   "outputs": [
    {
     "name": "stdout",
     "output_type": "stream",
     "text": [
      "<class 'dict'>\n",
      "{'Firstname': 'John', 'Salary': 100000}\n"
     ]
    }
   ],
   "source": [
    "print(type(Employees['employee1']))\n",
    "print(Employees['employee1'])"
   ]
  },
  {
   "cell_type": "code",
   "execution_count": 71,
   "metadata": {},
   "outputs": [
    {
     "data": {
      "text/plain": [
       "'John'"
      ]
     },
     "execution_count": 71,
     "metadata": {},
     "output_type": "execute_result"
    }
   ],
   "source": [
    "Employees['employee1']['Firstname']"
   ]
  },
  {
   "cell_type": "code",
   "execution_count": 72,
   "metadata": {},
   "outputs": [
    {
     "data": {
      "text/plain": [
       "'Salary'"
      ]
     },
     "execution_count": 72,
     "metadata": {},
     "output_type": "execute_result"
    }
   ],
   "source": [
    "(list(Employees['employee1'].keys()))[1]"
   ]
  },
  {
   "cell_type": "code",
   "execution_count": 232,
   "metadata": {},
   "outputs": [
    {
     "name": "stdout",
     "output_type": "stream",
     "text": [
      "person: {'name': 'Jessa', 'company': 'Google', 'address': {'state': 'Texas', 'city': 'Houston'}}\n"
     ]
    }
   ],
   "source": [
    "# address dictionary to store person address\n",
    "address = {\"state\": \"Texas\", 'city': 'Houston'}\n",
    "\n",
    "# dictionary to store person details with address as a nested dictionary\n",
    "person = {'name': 'Jessa', 'company': 'Google', 'address': address}\n",
    "\n",
    "# Display dictionary\n",
    "print(\"person:\", person)"
   ]
  },
  {
   "cell_type": "code",
   "execution_count": 233,
   "metadata": {},
   "outputs": [
    {
     "name": "stdout",
     "output_type": "stream",
     "text": [
      "City: Houston\n"
     ]
    }
   ],
   "source": [
    "# Get nested dictionary key 'city'\n",
    "print(\"City:\", person['address']['city'])"
   ]
  },
  {
   "cell_type": "code",
   "execution_count": 236,
   "metadata": {},
   "outputs": [
    {
     "name": "stdout",
     "output_type": "stream",
     "text": [
      "Person details\n",
      "name : Jessa\n",
      "company : Google\n",
      "\n",
      "Person Address\n",
      "state : Texas\n",
      "city : Houston\n"
     ]
    }
   ],
   "source": [
    "# Iterating outer dictionary\n",
    "print(\"Person details\")\n",
    "for key, value in person.items():\n",
    "    if key == 'address':\n",
    "        # Iterating through nested dictionary\n",
    "        print(\"\")\n",
    "        print(\"Person Address\")\n",
    "        for nested_key, nested_value in value.items():\n",
    "            print(nested_key, ':', nested_value)\n",
    "    else:\n",
    "        print(key, ':', value)"
   ]
  },
  {
   "cell_type": "markdown",
   "metadata": {},
   "source": [
    "#### Add multiple dictionaries inside a single dictionary\n",
    "Let us see an example of creating multiple nested dictionaries inside a single dictionary.\n",
    "\n",
    "In this example, we will create a separate dictionary for each student and in the end, we will add each student to the ‘class_six’ dictionary. So each student is nothing but a key in a ‘class_six’ dictionary.\n",
    "\n",
    "In order to access the nested dictionary values, we have to pass the outer dictionary key, followed by the individual dictionary key."
   ]
  },
  {
   "cell_type": "code",
   "execution_count": 240,
   "metadata": {},
   "outputs": [],
   "source": [
    "# each dictionary will store data of a single student\n",
    "jessa = {'name': 'Jessa', 'state': 'Texas', 'city': 'Houston', 'marks': 75}\n",
    "emma = {'name': 'Emma', 'state': 'Texas', 'city': 'Dallas', 'marks': 60}\n",
    "kelly = {'name': 'Kelly', 'state': 'Texas', 'city': 'Austin', 'marks': 85}\n",
    "\n",
    "# Outer dictionary to store all student dictionaries (nested dictionaries)\n",
    "class_six = {'student1': jessa, 'student2': emma, 'student3': kelly}"
   ]
  },
  {
   "cell_type": "code",
   "execution_count": 241,
   "metadata": {},
   "outputs": [
    {
     "name": "stdout",
     "output_type": "stream",
     "text": [
      "Student 3 name: Kelly\n",
      "Student 3 marks: 85\n"
     ]
    }
   ],
   "source": [
    "# Get student3's name and mark\n",
    "print(\"Student 3 name:\", class_six['student3']['name'])\n",
    "print(\"Student 3 marks:\", class_six['student3']['marks'])"
   ]
  },
  {
   "cell_type": "code",
   "execution_count": 242,
   "metadata": {},
   "outputs": [
    {
     "data": {
      "text/plain": [
       "{'student1': {'name': 'Jessa',\n",
       "  'state': 'Texas',\n",
       "  'city': 'Houston',\n",
       "  'marks': 75},\n",
       " 'student2': {'name': 'Emma', 'state': 'Texas', 'city': 'Dallas', 'marks': 60},\n",
       " 'student3': {'name': 'Kelly',\n",
       "  'state': 'Texas',\n",
       "  'city': 'Austin',\n",
       "  'marks': 85}}"
      ]
     },
     "execution_count": 242,
     "metadata": {},
     "output_type": "execute_result"
    }
   ],
   "source": [
    "class_six"
   ]
  },
  {
   "cell_type": "code",
   "execution_count": 80,
   "metadata": {},
   "outputs": [
    {
     "name": "stdout",
     "output_type": "stream",
     "text": [
      "\n",
      "Class details\n",
      "\n",
      "student1\n",
      "name : Jessa\n",
      "state : Texas\n",
      "city : Houston\n",
      "marks : 75\n",
      "\n",
      "\n",
      "student2\n",
      "name : Emma\n",
      "state : Texas\n",
      "city : Dallas\n",
      "marks : 60\n",
      "\n",
      "\n",
      "student3\n",
      "name : Kelly\n",
      "state : Texas\n",
      "city : Austin\n",
      "marks : 85\n",
      "\n",
      "\n"
     ]
    }
   ],
   "source": [
    "# Iterating outer dictionary\n",
    "print(\"\\nClass details\\n\")\n",
    "#print(\"Class details\\n\")\n",
    "for key, value in class_six.items():\n",
    "    # Iterating through nested dictionary\n",
    "    # Display each student data\n",
    "    print(key)\n",
    "    for nested_key, nested_value in value.items():\n",
    "        print(nested_key, ':', nested_value)\n",
    "    print('\\n')"
   ]
  },
  {
   "cell_type": "markdown",
   "metadata": {},
   "source": [
    "#### Join two dictionaries having few items in common\n",
    "\n",
    "**Note**: One thing to note here is that if both the dictionaries have a common key then the first dictionary value will be overridden with the second dictionary value.\n",
    "\n"
   ]
  },
  {
   "cell_type": "code",
   "execution_count": 243,
   "metadata": {},
   "outputs": [
    {
     "name": "stdout",
     "output_type": "stream",
     "text": [
      "{'Jessa': 70, 'Arul': 80, 'Emma': 66, 'Kelly': 68, 'Harry': 50}\n",
      "66\n"
     ]
    }
   ],
   "source": [
    "dict1 = {'Jessa': 70, 'Arul': 80, 'Emma': 55}\n",
    "dict2 = {'Kelly': 68, 'Harry': 50, 'Emma': 66}\n",
    "\n",
    "# join two dictionaries with some common items\n",
    "dict1.update(dict2)\n",
    "print(dict1)\n",
    "# printing the updated dictionary\n",
    "print(dict1['Emma'])\n",
    "# Output 66"
   ]
  },
  {
   "cell_type": "code",
   "execution_count": 244,
   "metadata": {},
   "outputs": [
    {
     "name": "stdout",
     "output_type": "stream",
     "text": [
      "{'Kelly': 68, 'Harry': 50, 'Emma': 55, 'Jessa': 70, 'Arul': 80}\n",
      "55\n"
     ]
    }
   ],
   "source": [
    "dict1 = {'Jessa': 70, 'Arul': 80, 'Emma': 55}\n",
    "dict2 = {'Kelly': 68, 'Harry': 50, 'Emma': 66}\n",
    "\n",
    "# join two dictionaries with some common items\n",
    "dict2.update(dict1)\n",
    "print(dict2)\n",
    "# printing the updated dictionary\n",
    "print(dict2['Emma'])\n",
    "# Output 55"
   ]
  },
  {
   "cell_type": "markdown",
   "metadata": {},
   "source": [
    "#### Sort dictionary\n",
    "The built-in method `sorted()` will sort the keys in the dictionary and returns a sorted list. In case we want to sort the values we can first get the values using the `values()` and then sort them."
   ]
  },
  {
   "cell_type": "code",
   "execution_count": 245,
   "metadata": {},
   "outputs": [
    {
     "name": "stdout",
     "output_type": "stream",
     "text": [
      "[('a', 35), ('b', 95), ('c', 45)]\n",
      "['a', 'b', 'c']\n",
      "[35, 45, 95]\n"
     ]
    }
   ],
   "source": [
    "dict1 = {'c': 45, 'b': 95, 'a': 35}\n",
    "\n",
    "# sorting dictionary by keys\n",
    "print(sorted(dict1.items()))\n",
    "# Output [('a', 35), ('b', 95), ('c', 45)]\n",
    "\n",
    "# sort dict eys\n",
    "print(sorted(dict1))\n",
    "# output ['a', 'b', 'c']\n",
    "\n",
    "# sort dictionary values\n",
    "print(sorted(dict1.values()))\n",
    "# output [35, 45, 95]"
   ]
  },
  {
   "cell_type": "code",
   "execution_count": 84,
   "metadata": {},
   "outputs": [
    {
     "name": "stdout",
     "output_type": "stream",
     "text": [
      "croissants 83\n",
      "tea 67\n",
      "biscuit 51\n",
      "coffee 43\n"
     ]
    },
    {
     "data": {
      "text/plain": [
       "'\\nThe output will be\\ncroissants 83\\ntea 67\\nbiscuit 51\\ncoffee 43\\n'"
      ]
     },
     "execution_count": 84,
     "metadata": {},
     "output_type": "execute_result"
    }
   ],
   "source": [
    "order  = {'coffee':43,'tea': 67,'biscuit': 51,'croissants':83}\n",
    "s_order = sorted(order.items(),key=lambda x:x[1], reverse=True)\n",
    "\n",
    "for i in s_order:\n",
    "    print(i[0],i[1])\n",
    "\n",
    "    \n",
    "'''\n",
    "The output will be\n",
    "croissants 83\n",
    "tea 67\n",
    "biscuit 51\n",
    "coffee 43\n",
    "'''"
   ]
  },
  {
   "cell_type": "markdown",
   "metadata": {},
   "source": [
    "#### Dictionary comprehension\n",
    "Dictionary comprehension is similar in idea to list comprehension. It is fast and efficient way to create a dictionary from any iterable object. Dictionary comprehension uses curly brackets with an expression followed by for-loop with optional if statements.\n",
    "\n",
    "dict2 = {x:x*x for a in list1 if statement}\n",
    " \n",
    "Dictionary comprehension provides the ability to filter elements that satisfy certain requirement. "
   ]
  },
  {
   "cell_type": "code",
   "execution_count": 246,
   "metadata": {},
   "outputs": [
    {
     "data": {
      "text/plain": [
       "{2: 8, 3: 27, 4: 64}"
      ]
     },
     "execution_count": 246,
     "metadata": {},
     "output_type": "execute_result"
    }
   ],
   "source": [
    "dict1 = {2:8,3:27,4:64}\n",
    "dict1"
   ]
  },
  {
   "cell_type": "code",
   "execution_count": 254,
   "metadata": {},
   "outputs": [
    {
     "name": "stdout",
     "output_type": "stream",
     "text": [
      "{2: 8, 3: 27, 4: 64}\n",
      "{2: 1.4142135623730951, 3: 1.7320508075688772, 4: 2.0}\n"
     ]
    }
   ],
   "source": [
    "import math as m\n",
    "list1 = [2,3,4]\n",
    "dict1 ={}\n",
    "for i in list1:\n",
    "    dict1[i] = i**3\n",
    "    #dict1[i] = m.sqrt(i)\n",
    "\n",
    "print(dict1)\n",
    "\n",
    "list2 = list(dict1.keys())\n",
    "dict1 = {}\n",
    "for i in list2:\n",
    "    dict1[i] = m.sqrt(i)\n",
    "print(dict1)"
   ]
  },
  {
   "cell_type": "code",
   "execution_count": 256,
   "metadata": {
    "ExecuteTime": {
     "end_time": "2020-06-11T05:37:57.457614Z",
     "start_time": "2020-06-11T05:37:57.439288Z"
    }
   },
   "outputs": [
    {
     "name": "stdout",
     "output_type": "stream",
     "text": [
      "{2: 8, 3: 27, 4: 64}\n"
     ]
    }
   ],
   "source": [
    "list1 = [2,3,4]\n",
    "cubed = {x: x**3 for x in list1}\n",
    "print(cubed)"
   ]
  },
  {
   "cell_type": "code",
   "execution_count": null,
   "metadata": {},
   "outputs": [],
   "source": [
    "list1 = [2, 3,4,6, 9, 8, 7]"
   ]
  },
  {
   "cell_type": "code",
   "execution_count": 88,
   "metadata": {},
   "outputs": [
    {
     "name": "stdout",
     "output_type": "stream",
     "text": [
      "{0: 0, 1: 1, 2: 4, 3: 9, 4: 16, 5: 25, 6: 36, 7: 49, 8: 64, 9: 81}\n"
     ]
    }
   ],
   "source": [
    "i = 0\n",
    "dict2 = {}\n",
    "while i<10:\n",
    "    dict2[i] = i**2\n",
    "    i +=1\n",
    "\n",
    "print(dict2)"
   ]
  },
  {
   "cell_type": "code",
   "execution_count": 91,
   "metadata": {
    "ExecuteTime": {
     "end_time": "2020-06-11T05:38:49.576671Z",
     "start_time": "2020-06-11T05:38:49.561695Z"
    }
   },
   "outputs": [
    {
     "name": "stdout",
     "output_type": "stream",
     "text": [
      "{0: 0, 1: 1, 2: 4, 3: 9, 4: 16, 5: 25, 6: 36, 7: 49, 8: 64, 9: 81}\n"
     ]
    }
   ],
   "source": [
    "cubed = {x: x**2 for x in range(10)}\n",
    "print(cubed)"
   ]
  },
  {
   "cell_type": "code",
   "execution_count": 90,
   "metadata": {},
   "outputs": [
    {
     "data": {
      "text/plain": [
       "{0: 0, 2: 8, 4: 64, 6: 216, 8: 512}"
      ]
     },
     "execution_count": 90,
     "metadata": {},
     "output_type": "execute_result"
    }
   ],
   "source": [
    "rangeiter = range(10)\n",
    "dict2 = {}\n",
    "for i in (rangeiter):\n",
    "    #print(\"original number:\", i)\n",
    "    if i%2 == 0:\n",
    "        dict2[i] = i**3\n",
    "       # print(i)\n",
    "\n",
    "dict2"
   ]
  },
  {
   "cell_type": "code",
   "execution_count": 92,
   "metadata": {
    "ExecuteTime": {
     "end_time": "2020-06-11T05:40:00.214462Z",
     "start_time": "2020-06-11T05:40:00.207634Z"
    }
   },
   "outputs": [
    {
     "name": "stdout",
     "output_type": "stream",
     "text": [
      "{0: 0, 2: 8, 4: 64, 6: 216, 8: 512}\n"
     ]
    }
   ],
   "source": [
    "rangeiter = range(10)\n",
    "cubed = {x: x**3 for x in rangeiter if x%2==0}\n",
    "print(cubed)"
   ]
  },
  {
   "cell_type": "markdown",
   "metadata": {},
   "source": [
    "#### Dictionary Methods\n",
    "\n",
    "| Method |   Description   |\n",
    "|:---|:---|\n",
    "|copy()\t| They copy() method returns a shallow copy of the dictionary.|\n",
    "|clear()|\tThe clear() method removes all items from the dictionary.|\n",
    "|pop()\t |Removes and returns an element from a dictionary having the given key.|\n",
    "|popitem()|\tRemoves the arbitrary key-value pair from the dictionary and returns it as tuple.|\n",
    "|get() |\tIt is a conventional method to access a value for a key.)\n",
    "|dictionary_name.values() |\treturns a list of all the values available in a given dictionary.|\n",
    "|str() |\tProduces a printable string representation of a dictionary.|\n",
    "|update()\t|Adds dictionary dict2’s key-values pairs to dict|\n",
    "|setdefault()|\tSet dict[key]=default if key is not already in dict|\n",
    "|keys()|\tReturns list of dictionary dict’s keys|\n",
    "|items()|\tReturns a list of dict’s (key, value) tuple pairs|\n",
    "|has_key()|\tReturns true if key in dictionary dict, false otherwise|\n",
    "|fromkeys()|\tCreate a new dictionary with keys from seq and values set to value.|\n",
    "|type()\t|Returns the type of the passed variable.|\n",
    "|cmp()\t|Compares elements of both dict.|"
   ]
  },
  {
   "cell_type": "markdown",
   "metadata": {},
   "source": [
    "We have covered the basic properties of the Python dictionary and learned how to access and manipulate dictionary data."
   ]
  },
  {
   "cell_type": "markdown",
   "metadata": {},
   "source": [
    "#### When to use dictionaries?\n",
    "Dictionaries are items stored in Key-Value pairs that actually use the mapping format to actually store the values. It uses hashing internally for this. For retrieving a value with its key, the time taken will be very less as O(1).\n",
    "\n",
    "For example, consider the phone lookup where it is very easy and fast to find the phone number (value) when we know the name (key) associated with it.\n",
    "\n",
    "So to associate values with keys in a more optimized format and to retrieve them efficiently using that key, later on, dictionaries could be used."
   ]
  },
  {
   "cell_type": "markdown",
   "metadata": {},
   "source": [
    "### Sets\n",
    "\n",
    "A set is an unordered collection of unique items. Set has the following characteristics:\n",
    "\n",
    "1. Set is a collection and hence can contain one or more elements and hence it is like a list\n",
    "\n",
    "2. A set in unordered. hence, the order in which the elements are added to the set will not be maintained. Since the order is not maintained, operations that require maintenance of order such as indexing (setx[0]), which are possible in list are not allowed in set. The correct usage of set does not require order of items anyway.\n",
    "\n",
    "3. it contains unique items. the correct usage of set does not require duplicate items.\n",
    "\n",
    "4. Sets are mutable which means we can modify it after its creation. \n",
    "\n",
    "Unlike other collections in Python, there is no index attached to the elements of the set, i.e., we cannot directly access any element of the set by the index. However, we can print them all together, or we can get the list of elements by looping through the set.\n",
    " "
   ]
  },
  {
   "cell_type": "markdown",
   "metadata": {},
   "source": [
    "#### Characteristics of a Set\n",
    "\n",
    "A set is a built-in data structure in Python with the following three characteristics.\n",
    "\n",
    "1. **Unordered**: The items in the set are unordered, unlike lists, i.e., it will not maintain the order in which the items are inserted. The items will be in a different order each time when we access the Set object. There will not be any index value assigned to each item in the set.\n",
    "2. **Unchangeable**: Set items must be immutable. We cannot change the set items, i.e., We cannot modify the items’ value. But we can add or remove items to the Set. A set itself may be modified, but the elements contained in the set must be of an immutable type.\n",
    "3. **Unique**: There cannot be two items with the same value in the set.  "
   ]
  },
  {
   "cell_type": "markdown",
   "metadata": {},
   "source": [
    "#### Creating a Set\n",
    "There are following two ways to create a set in Python.\n",
    "\n",
    "- **Using curly brackets**: The easiest and straightforward way of creating a Set is by just enclosing all the data items inside the curly brackets {}. The individual values are comma-separated.\n",
    "- **Using set() constructor**: The set object is of type class 'set'. So we can create a set by calling the constructor of class ‘set’. The items we pass while calling are of the type iterable. We can pass items to the set constructor inside double-rounded brackets."
   ]
  },
  {
   "cell_type": "code",
   "execution_count": null,
   "metadata": {
    "ExecuteTime": {
     "end_time": "2020-06-11T05:42:54.041328Z",
     "start_time": "2020-06-11T05:42:54.033585Z"
    }
   },
   "outputs": [],
   "source": [
    "B = set()\n",
    "print(type(B))"
   ]
  },
  {
   "cell_type": "code",
   "execution_count": null,
   "metadata": {
    "ExecuteTime": {
     "end_time": "2020-06-11T05:42:56.273741Z",
     "start_time": "2020-06-11T05:42:56.259725Z"
    }
   },
   "outputs": [],
   "source": [
    "s2 = {'CPython', 'Python', 'Julia', 'R', 'Java'}\n",
    "print(type(s2))\n",
    "print(s2)"
   ]
  },
  {
   "cell_type": "code",
   "execution_count": null,
   "metadata": {
    "ExecuteTime": {
     "end_time": "2020-06-11T05:42:56.273741Z",
     "start_time": "2020-06-11T05:42:56.259725Z"
    }
   },
   "outputs": [],
   "source": [
    "print(\"looping through the set elements ... \")    \n",
    "for i in s2:    \n",
    "    print(i)    "
   ]
  },
  {
   "cell_type": "code",
   "execution_count": null,
   "metadata": {},
   "outputs": [],
   "source": [
    "fruits = {'mango', 'apple',  'banana',  'orange'}\n",
    "fruits"
   ]
  },
  {
   "cell_type": "code",
   "execution_count": null,
   "metadata": {},
   "outputs": [],
   "source": [
    "x1 = {1,2,3,4,5,1,3}\n",
    "print(type(x1))\n",
    "\n",
    "print(x1)"
   ]
  },
  {
   "cell_type": "markdown",
   "metadata": {},
   "source": [
    "It can contain any type of element such as integer, float, tuple etc. But mutable elements `(list, dictionary, set)` can't be a member of set."
   ]
  },
  {
   "cell_type": "code",
   "execution_count": null,
   "metadata": {},
   "outputs": [],
   "source": [
    "# Creating a set which have immutable elements  \n",
    "set1 = {1,2,3, \"Python\", 20.5, 14}  \n",
    "print(type(set1)) \n",
    "print(set1)"
   ]
  },
  {
   "cell_type": "code",
   "execution_count": null,
   "metadata": {},
   "outputs": [],
   "source": [
    " \n",
    "#Creating a set which have mutable element  \n",
    "#set2 = {1,2,3,[\"Python\",4]} \n",
    "set3 = {1,2,3,(\"Python\",4)} \n",
    "print(type(set3))  \n",
    "print(set3)"
   ]
  },
  {
   "cell_type": "markdown",
   "metadata": {},
   "source": [
    "In the above code, we have created two sets, the set set1 have immutable elements and set2 have one mutable element as a list. While checking the type of set2, it raised an error, which means set can contain only immutable elements."
   ]
  },
  {
   "cell_type": "markdown",
   "metadata": {},
   "source": [
    "#### Access Items\n",
    "You cannot access items in a set by referring to an index, since sets are unordered the items has no index.\n",
    "\n",
    "But you can loop through the set items using a for loop, or ask if a specified value is present in a set, by using the in keyword."
   ]
  },
  {
   "cell_type": "code",
   "execution_count": null,
   "metadata": {
    "ExecuteTime": {
     "end_time": "2020-06-11T05:43:38.514451Z",
     "start_time": "2020-06-11T05:43:38.500873Z"
    }
   },
   "outputs": [],
   "source": [
    "for i in s2:\n",
    "    print(i)"
   ]
  },
  {
   "cell_type": "markdown",
   "metadata": {},
   "source": [
    "#### Add Items\n",
    "To add one item to a set use the `add()` method.\n",
    "\n",
    "To add more than one item to a set use the `update()` method."
   ]
  },
  {
   "cell_type": "code",
   "execution_count": null,
   "metadata": {},
   "outputs": [],
   "source": [
    "s2"
   ]
  },
  {
   "cell_type": "code",
   "execution_count": null,
   "metadata": {
    "ExecuteTime": {
     "end_time": "2020-06-11T05:44:14.518961Z",
     "start_time": "2020-06-11T05:44:14.495139Z"
    }
   },
   "outputs": [],
   "source": [
    "s2.add(\"C++\")\n",
    "print(s2)\n"
   ]
  },
  {
   "cell_type": "code",
   "execution_count": null,
   "metadata": {},
   "outputs": [],
   "source": [
    "s2.add(\"C#\")   # Extend and append are not there. They are list methods.\n",
    "print(s2)"
   ]
  },
  {
   "cell_type": "markdown",
   "metadata": {},
   "source": [
    "Add multiple items to a set, using the update() method:"
   ]
  },
  {
   "cell_type": "code",
   "execution_count": null,
   "metadata": {
    "ExecuteTime": {
     "end_time": "2020-06-11T05:44:25.444757Z",
     "start_time": "2020-06-11T05:44:25.432183Z"
    }
   },
   "outputs": [],
   "source": [
    "s2.update([\"C#\", \"Perl\", \"PHP\"])\n",
    "s2"
   ]
  },
  {
   "cell_type": "markdown",
   "metadata": {},
   "source": [
    "#### Remove Item\n",
    "To remove an item in a set, use the `remove()`, or the `discard()` method. The difference between these function, using discard() function if the item does not exist in the set then the set remain unchanged whereas remove() method will throw an error."
   ]
  },
  {
   "cell_type": "code",
   "execution_count": null,
   "metadata": {},
   "outputs": [],
   "source": [
    "s2"
   ]
  },
  {
   "cell_type": "code",
   "execution_count": null,
   "metadata": {},
   "outputs": [],
   "source": [
    "s2.remove(\"C++\")\n",
    "s2"
   ]
  },
  {
   "cell_type": "code",
   "execution_count": null,
   "metadata": {},
   "outputs": [],
   "source": [
    "s2.remove(\"C\")\n",
    "s2"
   ]
  },
  {
   "cell_type": "code",
   "execution_count": null,
   "metadata": {},
   "outputs": [],
   "source": [
    "s2.discard(\"C\")\n",
    "s2"
   ]
  },
  {
   "cell_type": "markdown",
   "metadata": {},
   "source": [
    "We can also use the `pop()` method to remove the item. Generally, the `pop()` method will always remove the last item but the set is unordered, we can't determine which element will be popped from set."
   ]
  },
  {
   "cell_type": "code",
   "execution_count": null,
   "metadata": {},
   "outputs": [],
   "source": [
    "Months = set([\"January\",\"February\", \"March\", \"April\", \"May\", \"June\"])    \n",
    "print(\"\\nprinting the original set ... \")    \n",
    "print(Months)    \n",
    "print(\"\\nRemoving some months from the set...\");    \n",
    "Months.pop();    \n",
    "Months.pop();    \n",
    "print(\"\\nPrinting the modified set...\");    \n",
    "print(Months)    "
   ]
  },
  {
   "cell_type": "markdown",
   "metadata": {},
   "source": [
    "In the above code, the last element of the Month set is `January` but the `pop()` method removed the `April` and `May` because the set is unordered and the pop() method could not determine the last element of the set.\n",
    "\n",
    "Python provides the clear() method to remove all the items from the set."
   ]
  },
  {
   "cell_type": "markdown",
   "metadata": {},
   "source": [
    "#### Python Set Operations\n",
    "Set can be performed mathematical operation such as `union`, `intersection`, `difference`, and `symmetric` difference. "
   ]
  },
  {
   "cell_type": "markdown",
   "metadata": {},
   "source": [
    "#### Union of two sets\n",
    "The union of two sets is calculated by using the pipe (`|`) operator. The union of the two sets contains all the items that are present in both the sets.\n",
    "![union](set-union.png)"
   ]
  },
  {
   "cell_type": "code",
   "execution_count": null,
   "metadata": {},
   "outputs": [],
   "source": [
    "Days1 = {\"Monday\",\"Tuesday\",\"Wednesday\",\"Thursday\", \"Sunday\"}    \n",
    "Days2 = {\"Friday\",\"Saturday\",\"Sunday\"}    \n",
    "print(Days1|Days2) #printing the union of the sets     "
   ]
  },
  {
   "cell_type": "markdown",
   "metadata": {},
   "source": [
    "Python also provides the `union()` method which can also be used to calculate the union of two sets."
   ]
  },
  {
   "cell_type": "code",
   "execution_count": null,
   "metadata": {},
   "outputs": [],
   "source": [
    "print(Days1.union(Days2))"
   ]
  },
  {
   "cell_type": "markdown",
   "metadata": {},
   "source": [
    "#### Intersection of two sets\n",
    "The intersection of two sets can be performed by the `and &` operator or the `intersection() function`. The intersection of the two sets is given as the set of the elements that common in both sets.\n",
    "![intersection](set-intersection.png)"
   ]
  },
  {
   "cell_type": "code",
   "execution_count": null,
   "metadata": {},
   "outputs": [],
   "source": [
    "# Using & operator\n",
    "Days1 = {\"Monday\",\"Tuesday\", \"Wednesday\", \"Thursday\"}    \n",
    "Days2 = {\"Monday\",\"Tuesday\",\"Sunday\", \"Friday\"}    \n",
    "print(Days1&Days2) #prints the intersection of the two sets "
   ]
  },
  {
   "cell_type": "code",
   "execution_count": null,
   "metadata": {},
   "outputs": [],
   "source": [
    "# using intersection method\n",
    "set1 = {\"Devansh\",\"John\", \"David\", \"Martin\"}    \n",
    "set2 = {\"Steve\", \"Milan\", \"David\", \"Martin\"}    \n",
    "print(set1.intersection(set2)) #prints the intersection of the two sets"
   ]
  },
  {
   "cell_type": "markdown",
   "metadata": {},
   "source": [
    "#### The intersection_update() method\n",
    "The `intersection_update()` method removes the items from the original set that are not present in both the sets (all the sets if more than one are specified).\n",
    "\n",
    "The `intersection_update()` method is different from the `intersection()` method since it modifies the original set by removing the unwanted items, on the other hand, the `intersection()` method returns a new set.\n",
    "![intersection](set-intersection.png)"
   ]
  },
  {
   "cell_type": "code",
   "execution_count": null,
   "metadata": {},
   "outputs": [],
   "source": [
    "a = {\"Devansh\", \"bob\", \"castle\"}    \n",
    "b = {\"castle\", \"dude\", \"emyway\"}    \n",
    "c = {\"fuson\", \"gaurav\", \"castle\"}    \n",
    "    \n",
    "a.intersection_update(b, c)    \n",
    "    \n",
    "print(a)    "
   ]
  },
  {
   "cell_type": "markdown",
   "metadata": {},
   "source": [
    "#### Difference between the two sets\n",
    "The difference of two sets can be calculated by using the subtraction (`-`) operator or `intersection()` method. Suppose there are two sets A and B, and the difference is A-B that denotes the resulting set will be obtained that element of A, which is not present in the set B.\n",
    "\n",
    "![difference](set-difference.png)"
   ]
  },
  {
   "cell_type": "code",
   "execution_count": null,
   "metadata": {},
   "outputs": [],
   "source": [
    "## Using subtraction (-) operator\n",
    "Days1 = {\"Monday\",  \"Tuesday\", \"Wednesday\", \"Thursday\"}    \n",
    "Days2 = {\"Monday\", \"Tuesday\", \"Sunday\"}    \n",
    "print(Days1-Days2) #{\"Wednesday\", \"Thursday\" will be printed}\n",
    "\n",
    "# Using difference(method)\n",
    "print(Days1.difference(Days2))"
   ]
  },
  {
   "cell_type": "markdown",
   "metadata": {},
   "source": [
    "#### Symmetric Difference of two sets\n",
    "The symmetric difference of two sets is calculated by `^` operator or `symmetric_difference()` method. Symmetric difference of sets, it removes that element which is present in both sets.\n",
    "![symmetric difference](set_symmetric_diff.png)"
   ]
  },
  {
   "cell_type": "code",
   "execution_count": null,
   "metadata": {},
   "outputs": [],
   "source": [
    "# Using ^ operator\n",
    "print(Days1^(Days2))\n",
    "\n",
    "# Using symmetric_difference method\n",
    "\n",
    "print(Days1.symmetric_difference(Days2))"
   ]
  },
  {
   "cell_type": "code",
   "execution_count": null,
   "metadata": {},
   "outputs": [],
   "source": [
    "# Using ^ operator\n",
    "a = {1,2,3,4,5,6}  \n",
    "b = {1,2,9,8,10}  \n",
    "c = a^b  \n",
    "print(c)\n",
    "\n",
    "# Using symmetric_difference method\n",
    "\n",
    "c = a.symmetric_difference(b)  \n",
    "print(c)  "
   ]
  },
  {
   "cell_type": "code",
   "execution_count": null,
   "metadata": {},
   "outputs": [],
   "source": []
  },
  {
   "cell_type": "markdown",
   "metadata": {},
   "source": [
    "### Methods\n",
    "\n",
    "The following methods can be used both on sets.  If the inputs are sets, then the output will be a set.\n",
    "\n",
    "\n",
    "| Method |   Action   | Descprition |\n",
    "|:---|:---|:---|\n",
    "|issubset()|x.issubset(y)| Checks whether every element in x is in y.Return True or False.|\n",
    "|issuperset()|x.issuperset(y)| Checks whether every element in y is in x.Return True or False.|\n",
    "|union()|x.union(y)| Returns a new set with elements from x and y|\n",
    "|intersection()|x.intersection(y)|Returns a new set with elements that are common to x and y|\n",
    "|intersection_update()|x.intersection_update(y)|Removes the items in this set that are not present in other, specified set(s)|\n",
    "|difference()|x.difference(y)| returns a new set with elements in x that are not in y|\n",
    "|clear()|x.clear()| will clear all elements from x|\n",
    "|update()|x.update(y)| updates x by adding elements from y|\n",
    "|remove()|x.remove(x1)| will remove x1 from x. If x1 is not in x, a KeyError exception will be raised.|\n",
    "|discard()|x.discard(y)| will remove y from x if it is present. If y is not present, the discard method does not throw any error|\n",
    "|add()|x.add(n)| will add n to x|\n",
    "|difference()|x.difference(y)|Returns a set containing the difference between two or more sets|\n",
    "|difference_update()|x.difference_update(y)|Removes the items in this set that are also included in another, specified set|\n"
   ]
  },
  {
   "cell_type": "markdown",
   "metadata": {},
   "source": [
    "#### Change Items\n",
    "Once a set is created, you cannot change its items, but you can add new items."
   ]
  },
  {
   "cell_type": "code",
   "execution_count": null,
   "metadata": {
    "ExecuteTime": {
     "end_time": "2020-06-11T05:45:59.583112Z",
     "start_time": "2020-06-11T05:45:59.560603Z"
    }
   },
   "outputs": [],
   "source": [
    "fruits = ['grapes','apple','grapes','oranges'] # A list\n",
    "print(fruits, type(fruits))"
   ]
  },
  {
   "cell_type": "code",
   "execution_count": null,
   "metadata": {
    "ExecuteTime": {
     "end_time": "2020-06-11T05:45:59.583112Z",
     "start_time": "2020-06-11T05:45:59.560603Z"
    }
   },
   "outputs": [],
   "source": [
    "fruits_set = set(fruits)\n",
    "# set command returns only unique items\n",
    "\n",
    "print(fruits_set, type(fruits_set))"
   ]
  },
  {
   "cell_type": "code",
   "execution_count": null,
   "metadata": {},
   "outputs": [],
   "source": [
    "fruits_list = list(fruits_set)\n",
    "fruits_list"
   ]
  },
  {
   "cell_type": "code",
   "execution_count": null,
   "metadata": {
    "ExecuteTime": {
     "end_time": "2020-06-11T05:47:50.301870Z",
     "start_time": "2020-06-11T05:47:50.294376Z"
    }
   },
   "outputs": [],
   "source": [
    "for item in fruits_set:\n",
    "    print(item)"
   ]
  },
  {
   "cell_type": "code",
   "execution_count": null,
   "metadata": {},
   "outputs": [],
   "source": [
    "fruits_set"
   ]
  },
  {
   "cell_type": "code",
   "execution_count": null,
   "metadata": {},
   "outputs": [],
   "source": [
    "dict2 = {0:'apple', 1:\"grapes\", 2:\"oranges\"}\n",
    "dict2"
   ]
  },
  {
   "cell_type": "code",
   "execution_count": null,
   "metadata": {},
   "outputs": [],
   "source": [
    "# Convert set to dictionary\n",
    "fruit = {}\n",
    "\n",
    "for i,item in enumerate(fruits_set):\n",
    "    print(i)\n",
    "    fruit[i] = item\n",
    "\n",
    "print(type(fruit))\n",
    "print(fruit)\n"
   ]
  },
  {
   "cell_type": "code",
   "execution_count": null,
   "metadata": {
    "ExecuteTime": {
     "end_time": "2020-06-11T05:47:57.262171Z",
     "start_time": "2020-06-11T05:47:57.248749Z"
    }
   },
   "outputs": [],
   "source": [
    "set_to_list = list(fruits_set)\n",
    "print(set_to_list, type(set_to_list))\n",
    "\n",
    "set_to_tuple = tuple(fruits_set)\n",
    "print(set_to_tuple, type(set_to_tuple))"
   ]
  },
  {
   "cell_type": "code",
   "execution_count": null,
   "metadata": {},
   "outputs": [],
   "source": [
    "print(len(fruits_set))"
   ]
  },
  {
   "cell_type": "code",
   "execution_count": null,
   "metadata": {},
   "outputs": [],
   "source": [
    "print('avocado' in fruits_set)"
   ]
  },
  {
   "cell_type": "code",
   "execution_count": null,
   "metadata": {},
   "outputs": [],
   "source": [
    "fruits_set"
   ]
  },
  {
   "cell_type": "code",
   "execution_count": null,
   "metadata": {},
   "outputs": [],
   "source": [
    "print('grapes' in fruits_set)"
   ]
  },
  {
   "cell_type": "code",
   "execution_count": null,
   "metadata": {
    "ExecuteTime": {
     "end_time": "2020-06-11T05:48:57.233411Z",
     "start_time": "2020-06-11T05:48:57.218513Z"
    }
   },
   "outputs": [],
   "source": [
    "set1 = {4, 5, 7}\n",
    "set2 = {5, 7}\n",
    "print(set2.issubset(set1))"
   ]
  },
  {
   "cell_type": "code",
   "execution_count": null,
   "metadata": {
    "ExecuteTime": {
     "end_time": "2020-06-11T05:49:16.668781Z",
     "start_time": "2020-06-11T05:49:16.662215Z"
    }
   },
   "outputs": [],
   "source": [
    "print(set1.issuperset(set2))"
   ]
  },
  {
   "cell_type": "code",
   "execution_count": null,
   "metadata": {
    "ExecuteTime": {
     "end_time": "2020-06-11T05:49:27.285240Z",
     "start_time": "2020-06-11T05:49:27.269468Z"
    }
   },
   "outputs": [],
   "source": [
    "print(set1.difference(set2))"
   ]
  },
  {
   "cell_type": "code",
   "execution_count": null,
   "metadata": {
    "ExecuteTime": {
     "end_time": "2020-06-11T05:49:41.020621Z",
     "start_time": "2020-06-11T05:49:41.007431Z"
    }
   },
   "outputs": [],
   "source": [
    "s1 = {3, 5, 7}\n",
    "s2 = {2, 4, 6}\n",
    "s1.update(s2)\n",
    "print(s1)"
   ]
  },
  {
   "cell_type": "code",
   "execution_count": null,
   "metadata": {
    "ExecuteTime": {
     "end_time": "2020-06-11T05:53:21.525781Z",
     "start_time": "2020-06-11T05:53:21.496743Z"
    }
   },
   "outputs": [],
   "source": [
    "s3 = {\"pg\", \"sg\", \"nm\"}\n",
    "s4 = {2, 4, 6}\n",
    "s4.update(s3)\n",
    "print(s4)"
   ]
  },
  {
   "cell_type": "code",
   "execution_count": null,
   "metadata": {},
   "outputs": [],
   "source": [
    "s1.clear()\n",
    "print(s1)"
   ]
  },
  {
   "cell_type": "markdown",
   "metadata": {},
   "source": [
    "### Set comprehension\n",
    "\n",
    "Set comprehension like list comprehension provides a convenient syntax fro creating a set from a collection of items. Set comprehension also uses curly brackets with an expression followed by for-loop with optional if statements.  \n",
    "\n",
    "Syntax is\n",
    "set1 = {a for a in list1}\n"
   ]
  },
  {
   "cell_type": "code",
   "execution_count": null,
   "metadata": {},
   "outputs": [],
   "source": [
    "s4 = {i**2 for i in range(5)}      \n",
    "print(s4)"
   ]
  },
  {
   "cell_type": "code",
   "execution_count": null,
   "metadata": {},
   "outputs": [],
   "source": [
    "s4 = {i for i in range(10) if i%2==0}      \n",
    "print(s4)"
   ]
  },
  {
   "cell_type": "markdown",
   "metadata": {},
   "source": [
    "#### When to use a Set Data structure?\n",
    "It is recommended to use a set data structure when there are any one of the following requirements.\n",
    "\n",
    "**Eliminating duplicate entries**: In case a set is initialized with multiple entries of the same value, then the duplicate entries will be dropped in the actual set. A set will store an item only once.\n",
    "\n",
    "**Membership Testing**: In case we need to check whether an item is present in our dataset or not, then a Set could be used as a container. Since a Set is implemented using Hashtable, it is swift to perform a lookup operation, i.e., for each item, one unique hash value will be calculated, and it will be stored like a key-value pair.\n",
    "So to search an item, we just have to compute that hash value and search the table for that key. So the speed of lookup is just O(1).\n",
    "\n",
    "**Performing arithmetic operations similar to Mathematical Sets**: All the arithmetic operations like union, Intersection, finding the difference that we perform on the elements of two sets could be performed on this data structure."
   ]
  }
 ],
 "metadata": {
  "kernelspec": {
   "display_name": "Python 3 (ipykernel)",
   "language": "python",
   "name": "python3"
  },
  "language_info": {
   "codemirror_mode": {
    "name": "ipython",
    "version": 3
   },
   "file_extension": ".py",
   "mimetype": "text/x-python",
   "name": "python",
   "nbconvert_exporter": "python",
   "pygments_lexer": "ipython3",
   "version": "3.11.4"
  },
  "widgets": {
   "state": {},
   "version": "1.1.2"
  }
 },
 "nbformat": 4,
 "nbformat_minor": 2
}

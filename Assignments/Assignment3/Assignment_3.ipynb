{
 "cells": [
  {
   "cell_type": "markdown",
   "id": "4fda94b0",
   "metadata": {},
   "source": [
    "#### Q 1 - Write a code to add item 7000 after 6000 in the following Python List\n",
    "#### Expected output:\n",
    "[10, 20, [300, 400, [5000, 6000, 7000], 500], 30, 40]"
   ]
  },
  {
   "cell_type": "code",
   "execution_count": 62,
   "id": "7549a2b3",
   "metadata": {},
   "outputs": [],
   "source": [
    "nums_list = [10, 20, [300, 400, [5000, 6000], 500], 30, 40]"
   ]
  },
  {
   "cell_type": "code",
   "execution_count": 63,
   "id": "d866654b",
   "metadata": {},
   "outputs": [
    {
     "name": "stdout",
     "output_type": "stream",
     "text": [
      "[10, 20, [300, 400, [5000, 6000, 7000], 500], 30, 40]\n"
     ]
    }
   ],
   "source": [
    "nums_list[2][2].insert(2, 7000)\n",
    "print(nums_list)"
   ]
  },
  {
   "cell_type": "markdown",
   "id": "f450708d",
   "metadata": {},
   "source": [
    "#### Q 2 - Remove all occurrences of a 20 item from a list.\n",
    "#### Expected output:\n",
    "[5, 15, 25, 50]"
   ]
  },
  {
   "cell_type": "code",
   "execution_count": 64,
   "id": "8620b98a",
   "metadata": {},
   "outputs": [],
   "source": [
    "nums_list2 = [5, 20, 15, 20, 25, 50, 20]"
   ]
  },
  {
   "cell_type": "code",
   "execution_count": 65,
   "id": "a587f01f",
   "metadata": {},
   "outputs": [
    {
     "name": "stdout",
     "output_type": "stream",
     "text": [
      "[5, 15, 25, 50]\n"
     ]
    }
   ],
   "source": [
    "nums_list2 = [num for num in nums_list2 if num != 20]\n",
    "print(nums_list2)"
   ]
  },
  {
   "cell_type": "markdown",
   "id": "8a0d54e1",
   "metadata": {},
   "source": [
    "#### Q 3 - Insert 1 at index 2 for list 'A' below."
   ]
  },
  {
   "cell_type": "code",
   "execution_count": 66,
   "id": "490006b9",
   "metadata": {},
   "outputs": [],
   "source": [
    "A = [4, 7, 5]"
   ]
  },
  {
   "cell_type": "code",
   "execution_count": 67,
   "id": "27c745e2",
   "metadata": {},
   "outputs": [
    {
     "name": "stdout",
     "output_type": "stream",
     "text": [
      "[4, 7, 1, 5]\n"
     ]
    }
   ],
   "source": [
    "A.insert(2, 1)\n",
    "print(A)"
   ]
  },
  {
   "cell_type": "markdown",
   "id": "3f769529",
   "metadata": {},
   "source": [
    "#### Q 4 - What is the difference between extend and append function? Explain giving a brief example."
   ]
  },
  {
   "cell_type": "code",
   "execution_count": 68,
   "id": "42311b07",
   "metadata": {},
   "outputs": [
    {
     "name": "stdout",
     "output_type": "stream",
     "text": [
      "[1, 2, 3, 4]\n",
      "[1, 2, 3, 4, 5, 6]\n"
     ]
    }
   ],
   "source": [
    "# 'append' adds its argument as a single element, while 'extend' adds the elements of its argument to the list.\n",
    "# append\n",
    "list1 = [1, 2, 3]\n",
    "list1.append(4)\n",
    "print(list1)\n",
    "\n",
    "# extend\n",
    "list2 = [1, 2, 3]\n",
    "list2.extend([4, 5, 6])\n",
    "print(list2)"
   ]
  },
  {
   "cell_type": "markdown",
   "id": "2a795fa4",
   "metadata": {},
   "source": [
    "#### Q 5 - Delete the last 2 elements of below list"
   ]
  },
  {
   "cell_type": "code",
   "execution_count": 69,
   "id": "7c50ea46",
   "metadata": {},
   "outputs": [],
   "source": [
    "B = [2, 4, 6, 8, 10, 12]"
   ]
  },
  {
   "cell_type": "code",
   "execution_count": 70,
   "id": "48467ce2",
   "metadata": {},
   "outputs": [
    {
     "name": "stdout",
     "output_type": "stream",
     "text": [
      "[2, 4, 6, 8]\n"
     ]
    }
   ],
   "source": [
    "B = B[:-2]\n",
    "print(B)"
   ]
  },
  {
   "cell_type": "markdown",
   "id": "259f34a2",
   "metadata": {},
   "source": [
    "#### Q - 6 Reverse the below tuple"
   ]
  },
  {
   "cell_type": "code",
   "execution_count": 71,
   "id": "4d5e8816",
   "metadata": {},
   "outputs": [],
   "source": [
    "nums = (10, 20, 30, 40, 50)"
   ]
  },
  {
   "cell_type": "code",
   "execution_count": 72,
   "id": "bab30fd8",
   "metadata": {},
   "outputs": [
    {
     "name": "stdout",
     "output_type": "stream",
     "text": [
      "(50, 40, 30, 20, 10)\n"
     ]
    }
   ],
   "source": [
    "nums = nums[::-1]\n",
    "print(nums)"
   ]
  },
  {
   "cell_type": "markdown",
   "id": "16dc8a06",
   "metadata": {},
   "source": [
    "#### Q - 7 Access value '6' from the tuple"
   ]
  },
  {
   "cell_type": "code",
   "execution_count": 73,
   "id": "66ae262f",
   "metadata": {},
   "outputs": [],
   "source": [
    "tup = (\"Red\", [5, 7, 9], (2, 6, 14))"
   ]
  },
  {
   "cell_type": "code",
   "execution_count": 74,
   "id": "cda57c00",
   "metadata": {},
   "outputs": [
    {
     "name": "stdout",
     "output_type": "stream",
     "text": [
      "6\n"
     ]
    }
   ],
   "source": [
    "print(tup[2][1])"
   ]
  },
  {
   "cell_type": "markdown",
   "id": "b996a507",
   "metadata": {},
   "source": [
    "#### Q 8 - Unpack the below tuple into 3 variables:"
   ]
  },
  {
   "cell_type": "code",
   "execution_count": 75,
   "id": "df8d9389",
   "metadata": {},
   "outputs": [],
   "source": [
    "x = \"New York\", 2022, \"Financial Hub\""
   ]
  },
  {
   "cell_type": "code",
   "execution_count": 76,
   "id": "90b06f29",
   "metadata": {},
   "outputs": [
    {
     "name": "stdout",
     "output_type": "stream",
     "text": [
      "City: New York\n",
      "Year: 2022\n",
      "Designation: Financial Hub\n"
     ]
    }
   ],
   "source": [
    "city, year, designation = x\n",
    "print(\"City:\", city)\n",
    "print(\"Year:\", year)\n",
    "print(\"Designation:\", designation)"
   ]
  },
  {
   "cell_type": "markdown",
   "id": "358b1d4a",
   "metadata": {},
   "source": [
    "#### Q 9 - Create a single variable tuple"
   ]
  },
  {
   "cell_type": "code",
   "execution_count": 77,
   "id": "baf19203",
   "metadata": {},
   "outputs": [
    {
     "name": "stdout",
     "output_type": "stream",
     "text": [
      "('first element',)\n"
     ]
    }
   ],
   "source": [
    "single_variable_tuple = ('first element',)\n",
    "print(single_variable_tuple)"
   ]
  },
  {
   "cell_type": "markdown",
   "id": "22a59cce",
   "metadata": {},
   "source": [
    "#### Q 10 - How many times did 99 occured in below tuple"
   ]
  },
  {
   "cell_type": "code",
   "execution_count": 78,
   "id": "89f0ca79",
   "metadata": {},
   "outputs": [],
   "source": [
    "nums_tuple = (10, 20, 99, 30, 99, 40, 60, 100)"
   ]
  },
  {
   "cell_type": "code",
   "execution_count": 79,
   "id": "a9cc5660",
   "metadata": {},
   "outputs": [
    {
     "name": "stdout",
     "output_type": "stream",
     "text": [
      "Number of occurrences of 99: 2\n"
     ]
    }
   ],
   "source": [
    "occurrences = nums_tuple.count(99)\n",
    "\n",
    "print(\"Number of occurrences of 99:\", occurrences)"
   ]
  },
  {
   "cell_type": "code",
   "execution_count": null,
   "id": "08fd39d1",
   "metadata": {},
   "outputs": [],
   "source": []
  }
 ],
 "metadata": {
  "kernelspec": {
   "display_name": "Python 3 (ipykernel)",
   "language": "python",
   "name": "python3"
  },
  "language_info": {
   "codemirror_mode": {
    "name": "ipython",
    "version": 3
   },
   "file_extension": ".py",
   "mimetype": "text/x-python",
   "name": "python",
   "nbconvert_exporter": "python",
   "pygments_lexer": "ipython3",
   "version": "3.11.4"
  }
 },
 "nbformat": 4,
 "nbformat_minor": 5
}

{
 "cells": [
  {
   "cell_type": "code",
   "execution_count": 131,
   "id": "caa232b7",
   "metadata": {},
   "outputs": [],
   "source": [
    "# Name: Xijing Zhang\n",
    "# Title: Assignment1.ipynb\n",
    "# Description: Assignment1\n",
    "# Date: Oct/12/2023"
   ]
  },
  {
   "cell_type": "code",
   "execution_count": 132,
   "id": "fda8b42e",
   "metadata": {},
   "outputs": [
    {
     "name": "stdout",
     "output_type": "stream",
     "text": [
      "Hello\n",
      "    World\n"
     ]
    }
   ],
   "source": [
    "'''\n",
    "Q1. Write a program that uses escape characters to print the following string: \n",
    "Hello on the first line, world indented by 4 spaces on the second line.\n",
    "\n",
    "output:\n",
    "Hello\n",
    "    World\n",
    "'''\n",
    "\n",
    "# Q1\n",
    "print(\"Hello\\n    World\")"
   ]
  },
  {
   "cell_type": "code",
   "execution_count": 133,
   "id": "04aa3a8c",
   "metadata": {},
   "outputs": [
    {
     "name": "stdout",
     "output_type": "stream",
     "text": [
      "Please enter your name: Xijing Zhang\n",
      "Hello Xijing Zhang\n"
     ]
    }
   ],
   "source": [
    "'''\n",
    "Q2. Write a program which asks user for his/her name and print greeting as follows\n",
    "\n",
    "Hello user_name\n",
    "'''\n",
    "\n",
    "# Q2\n",
    "user_name = input(\"Please enter your name: \")\n",
    "print(f\"Hello {user_name}\")"
   ]
  },
  {
   "cell_type": "code",
   "execution_count": 134,
   "id": "6a680f98",
   "metadata": {},
   "outputs": [
    {
     "name": "stdout",
     "output_type": "stream",
     "text": [
      "*\n",
      "**\n",
      "***\n",
      "****\n"
     ]
    }
   ],
   "source": [
    "'''\n",
    "Q3. There was a user who was bored with regular hello world program he wanted design as follows\n",
    "write a program to achieve the objective\n",
    "\n",
    "*\n",
    "**\n",
    "***\n",
    "****\n",
    "\n",
    "'''\n",
    "\n",
    "# Q3\n",
    "for i in range(1, 5):\n",
    "    for j in range(i):\n",
    "        print(\"*\", end = \"\")\n",
    "    print(\"\")"
   ]
  },
  {
   "cell_type": "code",
   "execution_count": 135,
   "id": "ac3822b2",
   "metadata": {},
   "outputs": [
    {
     "name": "stdout",
     "output_type": "stream",
     "text": [
      "Area of the field: 2000 acres\n",
      "Perimeter of the field: 240 acres\n"
     ]
    }
   ],
   "source": [
    "'''\n",
    "Q4. Mr Johnathen bought a field worth 2 billion the dimensions of his field is as follows\n",
    "length 100 acers\n",
    "breadth 20 acers\n",
    "Calculate area and perimeter of the same\n",
    "'''\n",
    "\n",
    "# Q4\n",
    "# Dimensions\n",
    "length = 100  # acres\n",
    "breadth = 20  # acres\n",
    "\n",
    "# Calculate the area\n",
    "area = length * breadth\n",
    "\n",
    "# Calculate the perimeter\n",
    "perimeter = 2 * (length + breadth)\n",
    "\n",
    "# Print the results\n",
    "print(f\"Area of the field: {area} acres\")\n",
    "print(f\"Perimeter of the field: {perimeter} acres\")"
   ]
  },
  {
   "cell_type": "code",
   "execution_count": 136,
   "id": "9476e3cc",
   "metadata": {},
   "outputs": [
    {
     "name": "stdout",
     "output_type": "stream",
     "text": [
      "Enter your name: Xijing Zhang\n",
      "Enter your age: 24\n",
      "Enter your school name: NEU\n",
      "Enter your phone number: 4801234567\n",
      "Enter your GPA: 4.0\n",
      "\n",
      "Enrollment Successful! Here are your details:\n",
      "Name: Xijing Zhang\n",
      "Age: 24\n",
      "School Name: NEU\n",
      "Phone Number: 4801234567\n",
      "GPA: 4.0\n",
      "\n",
      "Types of Variables:\n",
      "Type of Name: str\n",
      "Type of Age: int\n",
      "Type of School Name: str\n",
      "Type of Phone Number: int\n",
      "Type of GPA: float\n"
     ]
    }
   ],
   "source": [
    "'''\n",
    "Q5 In order to enroll for the quiz the following details has to be  filled\n",
    "\n",
    "Name\n",
    "Age\n",
    "School name\n",
    "Phone number\n",
    "GPA float\n",
    "the following are the conditions\n",
    "a) Name has to be string\n",
    "b) Age has to be a number\n",
    "c) School name has to be string\n",
    "d) Phone number has to be number\n",
    "e) GPA has to be float\n",
    "write a program to achieve the same\n",
    "'''\n",
    "\n",
    "# Q5\n",
    "def get_name():\n",
    "    while True:\n",
    "        name = input(\"Enter your name: \")\n",
    "        if all(char.isalpha() or char.isspace() for char in name):\n",
    "            return name\n",
    "        else:\n",
    "            print(\"Invalid input. Please enter your name again. Name must consist of alphabetic characters and spaces only.\")\n",
    "\n",
    "def get_age():\n",
    "    while True:\n",
    "        age = input(\"Enter your age: \")\n",
    "        if age.isdigit(): # True if all the characters in the string are digits from 0 to 9\n",
    "            return int(age)\n",
    "        else:\n",
    "            print(\"Invalid input. Age must be an integer number. Please enter your age again.\")\n",
    "\n",
    "def get_school_name():\n",
    "    while True:\n",
    "        school_name = input(\"Enter your school name: \")\n",
    "        if all(char.isalpha() or char.isspace() for char in school_name):\n",
    "            return school_name\n",
    "        else:\n",
    "            print(\"Invalid input. School name must be a string with alphabetic characters and spaces. Please enter your school name again.\")\n",
    "\n",
    "def get_phone_number():\n",
    "    while True:\n",
    "        phone_number = input(\"Enter your phone number: \")\n",
    "        if phone_number.isdigit():\n",
    "            return int(phone_number)\n",
    "        else:\n",
    "            print(\"Invalid input. Phone number must be a integer number. Please enter your phone number again.\")\n",
    "\n",
    "def get_gpa():\n",
    "    while True:\n",
    "        gpa = input(\"Enter your GPA: \")\n",
    "        try:\n",
    "            gpa = float(gpa)\n",
    "            return gpa\n",
    "        except ValueError:\n",
    "            print(\"Invalid input. GPA must be a float. Please enter your GPA again.\")\n",
    "\n",
    "name = get_name()\n",
    "age = get_age()\n",
    "school_name = get_school_name()\n",
    "phone_number = get_phone_number()\n",
    "gpa = get_gpa()\n",
    "\n",
    "# Enrollment information\n",
    "print(\"\\nEnrollment Successful! Here are your details:\")\n",
    "print(f\"Name: {name}\")\n",
    "print(f\"Age: {age}\")\n",
    "print(f\"School Name: {school_name}\")\n",
    "print(f\"Phone Number: {phone_number}\")\n",
    "print(f\"GPA: {gpa}\")\n",
    "\n",
    "# Types of variables\n",
    "print(\"\\nTypes of Variables:\")\n",
    "print(f\"Type of Name: {type(name).__name__}\")\n",
    "print(f\"Type of Age: {type(age).__name__}\")\n",
    "print(f\"Type of School Name: {type(school_name).__name__}\")\n",
    "print(f\"Type of Phone Number: {type(phone_number).__name__}\")\n",
    "print(f\"Type of GPA: {type(gpa).__name__}\")"
   ]
  },
  {
   "cell_type": "code",
   "execution_count": 137,
   "id": "8db99333",
   "metadata": {},
   "outputs": [
    {
     "name": "stdout",
     "output_type": "stream",
     "text": [
      "Enter your name: Xijing Zhang\n",
      "Name: Xijing Zhang\n",
      "<class 'str'>\n"
     ]
    }
   ],
   "source": [
    "# Test\n",
    "def get_name():\n",
    "    while True:\n",
    "        name = input(\"Enter your name: \")\n",
    "        if all(char.isalpha() or char.isspace() for char in name):\n",
    "            return name\n",
    "        else:\n",
    "            print(\"Invalid input. Please enter your name again. Name must consist of alphabetic characters and spaces only.\")\n",
    "\n",
    "name = get_name() \n",
    "print(f\"Name: {name}\")\n",
    "print(type(name))"
   ]
  },
  {
   "cell_type": "code",
   "execution_count": 138,
   "id": "6500f697",
   "metadata": {},
   "outputs": [
    {
     "name": "stdout",
     "output_type": "stream",
     "text": [
      "Enter your age: 24\n",
      "Age: 24\n",
      "<class 'int'>\n"
     ]
    }
   ],
   "source": [
    "# Test\n",
    "def get_age():\n",
    "    while True:\n",
    "        age = input(\"Enter your age: \")\n",
    "        if age.isdigit(): # True if all the characters in the string are digits from 0 to 9\n",
    "            return int(age)\n",
    "        else:\n",
    "            print(\"Invalid input. Age must be an integer number. Please enter your age again.\")\n",
    "\n",
    "age = get_age()\n",
    "print(f\"Age: {age}\")\n",
    "print(type(age))"
   ]
  },
  {
   "cell_type": "code",
   "execution_count": 139,
   "id": "a440f17c",
   "metadata": {},
   "outputs": [
    {
     "name": "stdout",
     "output_type": "stream",
     "text": [
      "Enter your school name: Northeastern University\n",
      "Northeastern University\n",
      "<class 'str'>\n"
     ]
    }
   ],
   "source": [
    "# Test\n",
    "def get_school_name():\n",
    "    while True:\n",
    "        school_name = input(\"Enter your school name: \")\n",
    "        if all(char.isalpha() or char.isspace() for char in school_name):\n",
    "            return school_name\n",
    "        else:\n",
    "            print(\"Invalid input. School name must be a string with alphabetic characters and spaces. Please enter your school name again.\")\n",
    "\n",
    "school_name = get_school_name()\n",
    "print(school_name)\n",
    "print(type(school_name))"
   ]
  },
  {
   "cell_type": "code",
   "execution_count": 140,
   "id": "e4d40438",
   "metadata": {},
   "outputs": [
    {
     "name": "stdout",
     "output_type": "stream",
     "text": [
      "Enter your phone number: 4809381234\n",
      "4809381234\n",
      "<class 'int'>\n"
     ]
    }
   ],
   "source": [
    "# Test\n",
    "def get_phone_number():\n",
    "    while True:\n",
    "        phone_number = input(\"Enter your phone number: \")\n",
    "        if phone_number.isdigit():\n",
    "            return int(phone_number)\n",
    "        else:\n",
    "            print(\"Invalid input. Phone number must be a integer number. Please enter your phone number again.\")\n",
    "\n",
    "phone_number = get_phone_number()\n",
    "print(phone_number)\n",
    "print(type(phone_number))"
   ]
  },
  {
   "cell_type": "code",
   "execution_count": 141,
   "id": "93da97a6",
   "metadata": {},
   "outputs": [
    {
     "name": "stdout",
     "output_type": "stream",
     "text": [
      "Enter your GPA: 3\n",
      "3.0\n",
      "<class 'float'>\n"
     ]
    }
   ],
   "source": [
    "# Test\n",
    "def get_gpa():\n",
    "    while True:\n",
    "        gpa = input(\"Enter your GPA: \")\n",
    "        try:\n",
    "            gpa = float(gpa)\n",
    "            return gpa\n",
    "        except ValueError:\n",
    "            print(\"Invalid input. GPA must be a float. Please enter your GPA again.\")\n",
    "            \n",
    "gpa = get_gpa()\n",
    "print(gpa)\n",
    "print(type(gpa))"
   ]
  }
 ],
 "metadata": {
  "kernelspec": {
   "display_name": "Python 3 (ipykernel)",
   "language": "python",
   "name": "python3"
  },
  "language_info": {
   "codemirror_mode": {
    "name": "ipython",
    "version": 3
   },
   "file_extension": ".py",
   "mimetype": "text/x-python",
   "name": "python",
   "nbconvert_exporter": "python",
   "pygments_lexer": "ipython3",
   "version": "3.11.4"
  }
 },
 "nbformat": 4,
 "nbformat_minor": 5
}

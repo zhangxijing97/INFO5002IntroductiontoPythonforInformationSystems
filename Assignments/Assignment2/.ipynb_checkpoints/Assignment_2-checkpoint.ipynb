{
 "cells": [
  {
   "cell_type": "code",
   "execution_count": null,
   "id": "b6cf853c",
   "metadata": {},
   "outputs": [],
   "source": [
    "# Name: Xijing Zhang\n",
    "# Title: Assignment2.ipynb\n",
    "# Description: Assignment2\n",
    "# Date: Nov/01/2023"
   ]
  },
  {
   "cell_type": "code",
   "execution_count": 14,
   "id": "397b0bae",
   "metadata": {},
   "outputs": [
    {
     "name": "stdout",
     "output_type": "stream",
     "text": [
      "20\n",
      "3.14\n",
      "<class 'int'>\n",
      "<class 'float'>\n",
      "20.0\n",
      "3\n",
      "<class 'float'>\n",
      "<class 'int'>\n"
     ]
    }
   ],
   "source": [
    "'''\n",
    "Q1. Assign b with the value 20 and c with the value 3.14. Print the values of b and c \n",
    "and their respective data types. Then, type cast b to float and c to int. \n",
    "Finally, print the updated values of b and c along with their new data types.\n",
    "'''\n",
    "b = 20\n",
    "c = 3.14\n",
    "\n",
    "# Print the values of b and c\n",
    "print(b)\n",
    "print(c)\n",
    "\n",
    "# Print the data types of b and c\n",
    "print(type(b))\n",
    "print(type(c))\n",
    "\n",
    "# type cast b to float and c to int\n",
    "b = float(b)\n",
    "c = int(c)\n",
    "\n",
    "# Print the values of b and c\n",
    "print(b)\n",
    "print(c)\n",
    "\n",
    "# Print the data types of b and c\n",
    "print(type(b))\n",
    "print(type(c))"
   ]
  },
  {
   "cell_type": "code",
   "execution_count": 15,
   "id": "f956ba4a",
   "metadata": {},
   "outputs": [
    {
     "name": "stdout",
     "output_type": "stream",
     "text": [
      "30\n"
     ]
    }
   ],
   "source": [
    "'''\n",
    "Q2. Access value 30 from the below tuple\n",
    "tuple1 = (\"Orange\", [10, 20, 30], (5, 15, 25))\n",
    "'''\n",
    "\n",
    "tuple1 = (\"Orange\", [10, 20, 30], (5, 15, 25))\n",
    "value = tuple1[1][2]\n",
    "print(value)"
   ]
  },
  {
   "cell_type": "code",
   "execution_count": 16,
   "id": "473fd24c",
   "metadata": {},
   "outputs": [
    {
     "name": "stdout",
     "output_type": "stream",
     "text": [
      "(44, 55)\n"
     ]
    }
   ],
   "source": [
    "'''\n",
    "Q3. Write a program to copy elements 44 and 55 from the following tuple into a new tuple.\n",
    "tuple1 = (11, 22, 33, 44, 55, 66)\n",
    "'''\n",
    "\n",
    "tuple1 = (11, 22, 33, 44, 55, 66)\n",
    "new_tuple = (tuple1[3], tuple1[4])\n",
    "print(new_tuple)"
   ]
  },
  {
   "cell_type": "code",
   "execution_count": 17,
   "id": "ac27c132",
   "metadata": {},
   "outputs": [
    {
     "name": "stdout",
     "output_type": "stream",
     "text": [
      "I AM LEARNING python\n"
     ]
    }
   ],
   "source": [
    "'''\n",
    "Q4. If A = 'I am learning' and B = 'Python'. Convert A into \n",
    "uppercase and B into lowercase and then concatenate them?\n",
    "'''\n",
    "\n",
    "A = 'I am learning'\n",
    "B = 'Python'\n",
    "\n",
    "# Convert A into uppercase\n",
    "A = A.upper()\n",
    "\n",
    "# Convert B into lowercase\n",
    "B = B.lower()\n",
    "\n",
    "# Concatenate A and B\n",
    "concatenate = A + ' ' + B\n",
    "print(concatenate)"
   ]
  },
  {
   "cell_type": "code",
   "execution_count": 18,
   "id": "24ff66ec",
   "metadata": {},
   "outputs": [
    {
     "name": "stdout",
     "output_type": "stream",
     "text": [
      "Enter your first name: Xijing\n",
      "Enter your last name: Zhang\n",
      "Full Name in Reverse Order: Zhang Xijing\n"
     ]
    }
   ],
   "source": [
    "'''\n",
    "Q5. Write a Python program which accepts the user's first \n",
    "and last name and print them in reverse order with a space between them\n",
    "'''\n",
    "# Accept the user's first and last names as input\n",
    "firstName = input(\"Enter your first name: \")\n",
    "lastName = input(\"Enter your last name: \")\n",
    "\n",
    "# Reverse the order and print\n",
    "print(\"Full Name in Reverse Order:\", lastName + ' ' + firstName)"
   ]
  },
  {
   "cell_type": "code",
   "execution_count": 19,
   "id": "d3a400c7",
   "metadata": {},
   "outputs": [
    {
     "name": "stdout",
     "output_type": "stream",
     "text": [
      "a equals b by way1\n"
     ]
    }
   ],
   "source": [
    "'''\n",
    "Q6. If a = 'California' and b = 'california', check if a equals b. \n",
    "If not can you make it equal in two ways\n",
    "'''\n",
    "\n",
    "a = 'California'\n",
    "b = 'california'\n",
    "\n",
    "\n",
    "if a == b:\n",
    "    print(\"a equals b\")\n",
    "elif a.lower() == b.lower():\n",
    "    print(\"a equals b by way1\")\n",
    "elif a.casefold() == b.casefold():\n",
    "    print(\"a equals b by way2\")\n",
    "elif a.capitalize() == b.capitalize():\n",
    "    print(\"a equals b by way3\")\n",
    "else:\n",
    "    print(\"a is not equal to b\")"
   ]
  },
  {
   "cell_type": "code",
   "execution_count": 20,
   "id": "1ad4fcf8",
   "metadata": {},
   "outputs": [
    {
     "name": "stdout",
     "output_type": "stream",
     "text": [
      "DM60\n"
     ]
    }
   ],
   "source": [
    "''' \n",
    "Q7. Print characters from a string that are present at an even index number.\n",
    "\n",
    "sample data: \"DAMG6105\"\n",
    "output: DM60\n",
    "\n",
    "Note: should only use slicing\n",
    "'''\n",
    "\n",
    "data = \"DAMG6105\"\n",
    "output = data[::2]\n",
    "print(output)"
   ]
  },
  {
   "cell_type": "code",
   "execution_count": 57,
   "id": "6092a417",
   "metadata": {},
   "outputs": [
    {
     "name": "stdout",
     "output_type": "stream",
     "text": [
      "[8, 45, 11]\n",
      "[12, 14, 23]\n",
      "[89, 45, 78]\n"
     ]
    }
   ],
   "source": [
    "'''\n",
    "Q8. Slice the below list into 3 equal parts, reverse each part and print it as 3 separate list.\n",
    "input = [11, 45, 8, 23, 14, 12, 78, 45, 89]\n",
    "\n",
    "Note: should only use slicing\n",
    "'''\n",
    "\n",
    "# Slice the below list into 3 equal parts\n",
    "input = [11, 45, 8, 23, 14, 12, 78, 45, 89]\n",
    "list1 = input[0:3]\n",
    "list2 = input[3:6]\n",
    "list3 = input[6:9]\n",
    "\n",
    "# Reverse each part\n",
    "list1.reverse()\n",
    "list2.reverse()\n",
    "list3.reverse()\n",
    "\n",
    "# Print it as 3 separate list\n",
    "print(list1)\n",
    "print(list2)\n",
    "print(list3)"
   ]
  },
  {
   "cell_type": "code",
   "execution_count": 23,
   "id": "2ed505a9",
   "metadata": {},
   "outputs": [
    {
     "name": "stdout",
     "output_type": "stream",
     "text": [
      "[54, 44, 79, 27, 91, 41, 79]\n"
     ]
    }
   ],
   "source": [
    "'''\n",
    "Q9. Write a program to remove the item present at index 3 and add it to the 2nd position and at the end of the list.\n",
    "\n",
    "sample_input = [54, 44, 27, 79, 91, 41]\n",
    "sample output = [54, 44, 79, 27, 91, 41, 79]\n",
    "'''\n",
    "\n",
    "def manipulate_list(input_list):\n",
    "    # Check if the list has at least 4 elements\n",
    "    if len(input_list) >= 4:\n",
    "        # Remove the item at index 3\n",
    "        item_at_index_3 = input_list.pop(3)\n",
    "\n",
    "        # Insert the removed item at the 2nd position\n",
    "        input_list.insert(2, item_at_index_3)\n",
    "\n",
    "        # Append the removed item to the end of the list\n",
    "        input_list.append(item_at_index_3)\n",
    "\n",
    "    return input_list\n",
    "\n",
    "sample_input = [54, 44, 27, 79, 91, 41]\n",
    "result = manipulate_list(sample_input)\n",
    "print(result)"
   ]
  },
  {
   "cell_type": "code",
   "execution_count": 22,
   "id": "d01de746",
   "metadata": {},
   "outputs": [
    {
     "name": "stdout",
     "output_type": "stream",
     "text": [
      "Enter a sequence of comma-separated numbers: 8, 24, 65, 3\n",
      "List: ['8', '24', '65', '3']\n",
      "Tuple: ('8', '24', '65', '3')\n"
     ]
    }
   ],
   "source": [
    "'''\n",
    "Q10. Write a Python program which accepts a sequence of comma-separated numbers from user and\n",
    "generate a list and a tuple with those numbers.\n",
    "\n",
    "Sample data : 8, 24, 65, 3\n",
    "Output :\n",
    "List : ['8', '24', '65', '3']\n",
    "Tuple : ('8', '24', '65', '3')\n",
    "'''\n",
    "\n",
    "def generate_list_and_tuple(input_string):\n",
    "    # Split the input string at commas to create a list of strings\n",
    "    numbers_list = input_string.split(', ')\n",
    "\n",
    "    # Create a tuple from the list\n",
    "    numbers_tuple = tuple(numbers_list)\n",
    "\n",
    "    return numbers_list, numbers_tuple\n",
    "\n",
    "# Accept a sequence of comma-separated numbers from the user\n",
    "user_input = input(\"Enter a sequence of comma-separated numbers: \")\n",
    "\n",
    "# Call the function to generate the list and tuple\n",
    "result_list, result_tuple = generate_list_and_tuple(user_input)\n",
    "\n",
    "print(\"List:\", result_list)\n",
    "print(\"Tuple:\", result_tuple)"
   ]
  }
 ],
 "metadata": {
  "kernelspec": {
   "display_name": "Python 3 (ipykernel)",
   "language": "python",
   "name": "python3"
  },
  "language_info": {
   "codemirror_mode": {
    "name": "ipython",
    "version": 3
   },
   "file_extension": ".py",
   "mimetype": "text/x-python",
   "name": "python",
   "nbconvert_exporter": "python",
   "pygments_lexer": "ipython3",
   "version": "3.11.4"
  },
  "varInspector": {
   "cols": {
    "lenName": 16,
    "lenType": 16,
    "lenVar": 40
   },
   "kernels_config": {
    "python": {
     "delete_cmd_postfix": "",
     "delete_cmd_prefix": "del ",
     "library": "var_list.py",
     "varRefreshCmd": "print(var_dic_list())"
    },
    "r": {
     "delete_cmd_postfix": ") ",
     "delete_cmd_prefix": "rm(",
     "library": "var_list.r",
     "varRefreshCmd": "cat(var_dic_list()) "
    }
   },
   "types_to_exclude": [
    "module",
    "function",
    "builtin_function_or_method",
    "instance",
    "_Feature"
   ],
   "window_display": false
  }
 },
 "nbformat": 4,
 "nbformat_minor": 5
}

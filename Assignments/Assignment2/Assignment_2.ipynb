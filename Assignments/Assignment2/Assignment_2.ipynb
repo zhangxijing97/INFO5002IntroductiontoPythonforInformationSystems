{
 "cells": [
  {
   "cell_type": "code",
   "execution_count": null,
   "id": "212eff92",
   "metadata": {},
   "outputs": [],
   "source": [
    "# Name: Xijing Zhang\n",
    "# Title: Assignment2.ipynb\n",
    "# Description: Assignment2\n",
    "# Date: Nov/01/2023"
   ]
  },
  {
   "cell_type": "code",
   "execution_count": 5,
   "id": "397b0bae",
   "metadata": {},
   "outputs": [
    {
     "name": "stdout",
     "output_type": "stream",
     "text": [
      "20\n",
      "3.14\n",
      "<class 'int'>\n",
      "<class 'float'>\n",
      "20.0\n",
      "3\n",
      "<class 'float'>\n",
      "<class 'int'>\n"
     ]
    }
   ],
   "source": [
    "'''\n",
    "Q1. Assign b with the value 20 and c with the value 3.14. Print the values of b and c \n",
    "and their respective data types. Then, type cast b to float and c to int. \n",
    "Finally, print the updated values of b and c along with their new data types.\n",
    "'''\n",
    "b = 20\n",
    "c = 3.14\n",
    "\n",
    "# Print the values of b and c\n",
    "print(b)\n",
    "print(c)\n",
    "\n",
    "# Print the data types of b and c\n",
    "print(type(b))\n",
    "print(type(c))\n",
    "\n",
    "# type cast b to float and c to int\n",
    "b = float(b)\n",
    "c = int(c)\n",
    "\n",
    "# Print the values of b and c\n",
    "print(b)\n",
    "print(c)\n",
    "\n",
    "# Print the data types of b and c\n",
    "print(type(b))\n",
    "print(type(c))"
   ]
  },
  {
   "cell_type": "code",
   "execution_count": null,
   "id": "f956ba4a",
   "metadata": {},
   "outputs": [],
   "source": [
    "'''\n",
    "Q2. Access value 30 from the below tuple\n",
    "tuple1 = (\"Orange\", [10, 20, 30], (5, 15, 25))\n",
    "'''"
   ]
  },
  {
   "cell_type": "code",
   "execution_count": null,
   "id": "473fd24c",
   "metadata": {},
   "outputs": [],
   "source": [
    "'''\n",
    "Q3. Write a program to copy elements 44 and 55 from the following tuple into a new tuple.\n",
    "tuple1 = (11, 22, 33, 44, 55, 66)\n",
    "'''"
   ]
  },
  {
   "cell_type": "code",
   "execution_count": null,
   "id": "ac27c132",
   "metadata": {},
   "outputs": [],
   "source": [
    "'''\n",
    "Q4. If A = 'I am learning' and B = 'Python'. Convert A into \n",
    "uppercase and B into lowercase and then concatenate them?\n",
    "'''\n"
   ]
  },
  {
   "cell_type": "code",
   "execution_count": null,
   "id": "24ff66ec",
   "metadata": {},
   "outputs": [],
   "source": [
    "'''\n",
    "Q5. Write a Python program which accepts the user's first \n",
    "and last name and print them in reverse order with a space between them\n",
    "'''"
   ]
  },
  {
   "cell_type": "code",
   "execution_count": null,
   "id": "d3a400c7",
   "metadata": {},
   "outputs": [],
   "source": [
    "'''\n",
    "Q6. If a = 'California' and b = 'california', check if a equals b. \n",
    "If not can you make it equal in two ways\n",
    "'''"
   ]
  },
  {
   "cell_type": "code",
   "execution_count": null,
   "id": "1ad4fcf8",
   "metadata": {},
   "outputs": [],
   "source": [
    "''' \n",
    "Q7. Print characters from a string that are present at an even index number.\n",
    "\n",
    "sample data: \"DAMG6105\"\n",
    "output: DM60\n",
    "\n",
    "Note: should only use slicing\n",
    "'''"
   ]
  },
  {
   "cell_type": "code",
   "execution_count": null,
   "id": "6092a417",
   "metadata": {},
   "outputs": [],
   "source": [
    "'''\n",
    "Q8. Slice the below list into 3 equal parts, reverse each part and print it as 3 separate list.\n",
    "input = [11, 45, 8, 23, 14, 12, 78, 45, 89]\n",
    "\n",
    "Note: should only use slicing\n",
    "'''"
   ]
  },
  {
   "cell_type": "code",
   "execution_count": null,
   "id": "2ed505a9",
   "metadata": {},
   "outputs": [],
   "source": [
    "'''\n",
    "Q9. Write a program to remove the item present at index 3 and add it to the 2nd position and at the end of the list.\n",
    "\n",
    "sample_input = [54, 44, 27, 79, 91, 41]\n",
    "sample output = [54, 44, 79, 27, 91, 41, 79]\n",
    "'''"
   ]
  },
  {
   "cell_type": "code",
   "execution_count": null,
   "id": "d01de746",
   "metadata": {},
   "outputs": [],
   "source": [
    "'''\n",
    "Q10. Write a Python program which accepts a sequence of comma-separated numbers from user and\n",
    "generate a list and a tuple with those numbers.\n",
    "\n",
    "Sample data : 8, 24, 65, 3\n",
    "Output :\n",
    "List : ['8', '24', '65', '3']\n",
    "Tuple : ('8', '24', '65', '3')\n",
    "'''"
   ]
  }
 ],
 "metadata": {
  "kernelspec": {
   "display_name": "Python 3 (ipykernel)",
   "language": "python",
   "name": "python3"
  },
  "language_info": {
   "codemirror_mode": {
    "name": "ipython",
    "version": 3
   },
   "file_extension": ".py",
   "mimetype": "text/x-python",
   "name": "python",
   "nbconvert_exporter": "python",
   "pygments_lexer": "ipython3",
   "version": "3.11.4"
  },
  "varInspector": {
   "cols": {
    "lenName": 16,
    "lenType": 16,
    "lenVar": 40
   },
   "kernels_config": {
    "python": {
     "delete_cmd_postfix": "",
     "delete_cmd_prefix": "del ",
     "library": "var_list.py",
     "varRefreshCmd": "print(var_dic_list())"
    },
    "r": {
     "delete_cmd_postfix": ") ",
     "delete_cmd_prefix": "rm(",
     "library": "var_list.r",
     "varRefreshCmd": "cat(var_dic_list()) "
    }
   },
   "types_to_exclude": [
    "module",
    "function",
    "builtin_function_or_method",
    "instance",
    "_Feature"
   ],
   "window_display": false
  }
 },
 "nbformat": 4,
 "nbformat_minor": 5
}
